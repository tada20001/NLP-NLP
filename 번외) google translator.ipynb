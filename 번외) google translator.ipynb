{
 "cells": [
  {
   "cell_type": "code",
   "execution_count": 1,
   "id": "617eace0",
   "metadata": {},
   "outputs": [],
   "source": [
    "import googletrans\n",
    "from googletrans import Translator\n",
    "\n",
    "text1 = \"Hello welcome to my website!\"\n",
    "text2 = \"안녕하세요! 환영합니다.\"\n",
    "text3 = '한글을 영어로 번역합니다.'"
   ]
  },
  {
   "cell_type": "code",
   "execution_count": 3,
   "id": "d0f166fa",
   "metadata": {},
   "outputs": [
    {
     "name": "stdout",
     "output_type": "stream",
     "text": [
      "Detected(lang=en, confidence=None)\n",
      "Detected(lang=ko, confidence=None)\n",
      "Detected(lang=ko, confidence=None)\n"
     ]
    }
   ],
   "source": [
    "translator = Translator()\n",
    "print(translator.detect(text1))\n",
    "print(translator.detect(text2))\n",
    "print(translator.detect(text3))"
   ]
  },
  {
   "cell_type": "code",
   "execution_count": 4,
   "id": "c88e74ad",
   "metadata": {},
   "outputs": [],
   "source": [
    "trans1 = translator.translate(text1, src='en', dest='ja')\n",
    "trans2 = translator.translate(text2, src='ko', dest='de')\n",
    "trans3 = translator.translate(text3, src='ko', dest='en')"
   ]
  },
  {
   "cell_type": "code",
   "execution_count": 6,
   "id": "75d4b42f",
   "metadata": {},
   "outputs": [
    {
     "data": {
      "text/plain": [
       "'こんにちは私のウェブサイトへようこそ！'"
      ]
     },
     "execution_count": 6,
     "metadata": {},
     "output_type": "execute_result"
    }
   ],
   "source": [
    "trans1.text"
   ]
  },
  {
   "cell_type": "code",
   "execution_count": 7,
   "id": "8e9bf815",
   "metadata": {},
   "outputs": [
    {
     "data": {
      "text/plain": [
       "'Hallo!willkommen.'"
      ]
     },
     "execution_count": 7,
     "metadata": {},
     "output_type": "execute_result"
    }
   ],
   "source": [
    "trans2.text"
   ]
  },
  {
   "cell_type": "code",
   "execution_count": 8,
   "id": "26d83399",
   "metadata": {},
   "outputs": [
    {
     "data": {
      "text/plain": [
       "'Translate Hangul in English.'"
      ]
     },
     "execution_count": 8,
     "metadata": {},
     "output_type": "execute_result"
    }
   ],
   "source": [
    "trans3.text"
   ]
  },
  {
   "cell_type": "code",
   "execution_count": 17,
   "id": "9324967d",
   "metadata": {},
   "outputs": [],
   "source": [
    "text = \"예를 들어서 '경마장에 있는 말이 뛰고 있다'와 '그의 말이 법이다'와 '가는 말이 고와야 오는 말이 곱다'라는 세 가지 문장이 있다고 해봅시다. 모델이 문맥을 학습할 수 있도록 전체 문장의 앞의 단어들을 전부 고려하여 학습하도록 데이터를 재구성한다면 아래와 같이 총 11개의 샘플이 구성됩니다..\""
   ]
  },
  {
   "cell_type": "code",
   "execution_count": 18,
   "id": "154f97ac",
   "metadata": {},
   "outputs": [
    {
     "data": {
      "text/plain": [
       "'For example, let\\'s say there are three sentences: \"The horse in the racetrack is playing\" and \\'His words\\' and \\'The word\\' and the word \\'is a word that\\'If the model reconstructs the data to learn all of the entire sentences in all of the entire sentences, a total of 11 samples are configured as shown below.'"
      ]
     },
     "execution_count": 18,
     "metadata": {},
     "output_type": "execute_result"
    }
   ],
   "source": [
    "translator.translate(text).text"
   ]
  },
  {
   "cell_type": "code",
   "execution_count": null,
   "id": "079fb367",
   "metadata": {},
   "outputs": [],
   "source": []
  }
 ],
 "metadata": {
  "kernelspec": {
   "display_name": "Python 3 (ipykernel)",
   "language": "python",
   "name": "python3"
  },
  "language_info": {
   "codemirror_mode": {
    "name": "ipython",
    "version": 3
   },
   "file_extension": ".py",
   "mimetype": "text/x-python",
   "name": "python",
   "nbconvert_exporter": "python",
   "pygments_lexer": "ipython3",
   "version": "3.8.8"
  }
 },
 "nbformat": 4,
 "nbformat_minor": 5
}
