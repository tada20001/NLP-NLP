{
 "cells": [
  {
   "cell_type": "markdown",
   "id": "f168cc06",
   "metadata": {},
   "source": [
    "* 문서간 동일한 단어 또는 비숫한 단어가 공통적으로 들어 있는지를 수치화\n",
    "* 문서간 단의 차이를 어떤 방법으로 계산하는지에 따라 방법이 다양할 수 있음\n",
    "\n",
    "### 1. 코사인 유사도\n",
    "* 두 벡터간 코사인 각도를 이용하여 두벡터의 유사도를 구함\n",
    "* 두 벡터가 방향이 동일하면 유사도는 1을 갖게 되고, 반대방향(-180도)이면 -1 값을 갖게 됨\n",
    "\n",
    "$$similarity=cos(Θ)=\\frac{A⋅B}{||A||\\ ||B||}=\\frac{\\sum_{i=1}^{n}{A_{i}×B_{i}}}{\\sqrt{\\sum_{i=1}^{n}(A_{i})^2}×\\sqrt{\\sum_{i=1}^{n}(B_{i})^2}}$$"
   ]
  },
  {
   "cell_type": "markdown",
   "id": "b08a0b3e",
   "metadata": {},
   "source": [
    "* 문서 단어 행렬이나 TF-IDF 행렬을 통해서 문서의 유사도를 구하는 경우, 각각의 특징벡터 A, B가 만들어짐."
   ]
  },
  {
   "cell_type": "code",
   "execution_count": 3,
   "id": "273996e0",
   "metadata": {},
   "outputs": [],
   "source": [
    "### 시뮬레이션\n",
    "def cos_sim(A, B):\n",
    "    return np.dot(A, B) / (np.linalg.norm(A) * np.linalg.norm(B))"
   ]
  },
  {
   "cell_type": "code",
   "execution_count": 4,
   "id": "4fb1fe2b",
   "metadata": {},
   "outputs": [
    {
     "name": "stdout",
     "output_type": "stream",
     "text": [
      "문서 1과 문서 2의 유사도:  0.6666666666666667\n",
      "문서 1과 문서 3의 유사도:  0.6666666666666667\n",
      "문서 2과 문서 3의 유사도:  1.0000000000000002\n"
     ]
    }
   ],
   "source": [
    "doc1 = np.array([0, 1, 1, 1])  # 저는 사과 좋아요\n",
    "doc2 = np.array([1, 0, 1, 1])  # 저는 바나나 좋아요\n",
    "doc3 = np.array([2, 0, 2, 2])  # 저는 바나나 좋아요 저는 바나나 좋아요\n",
    "\n",
    "print('문서 1과 문서 2의 유사도: ', cos_sim(doc1, doc2))\n",
    "print('문서 1과 문서 3의 유사도: ', cos_sim(doc1, doc3))\n",
    "print('문서 2과 문서 3의 유사도: ', cos_sim(doc2, doc3))"
   ]
  },
  {
   "cell_type": "markdown",
   "id": "db6f7583",
   "metadata": {},
   "source": [
    "* 주목할 점은 문서1과 문서3의 유사도와 문서1과 문서 3과의 유사도가 같다는 점\n",
    "* 그리고 문서2와 문서3은 유사도 1이라는 점... 문서의 길이가 차이가 나도 유사도 계산이 가능하다는 점을 시사함. 왜냐하면 벡터의 방향에 초점을 두고 있기 때문임\n",
    "* 따라서 코사인 유사도는 비교적 다른 상황에서 공정한 비교가 가능함\n",
    "\n",
    "### 2. 유사도를 이용한 추천시스템 구현하기\n",
    "\n",
    "* kaggle dataset : https://www.kaggle.com/rounakbanik/the-movies-dataset\n",
    "* movies_metadata.csv : 24개 컬럼을 가진 25,466개 샘플 영화정보 데이터"
   ]
  },
  {
   "cell_type": "code",
   "execution_count": 5,
   "id": "39e3cd1d",
   "metadata": {},
   "outputs": [],
   "source": [
    "from sklearn.feature_extraction.text import TfidfVectorizer\n",
    "from sklearn.metrics.pairwise import cosine_similarity"
   ]
  },
  {
   "cell_type": "code",
   "execution_count": 6,
   "id": "91209283",
   "metadata": {},
   "outputs": [
    {
     "data": {
      "text/html": [
       "<div>\n",
       "<style scoped>\n",
       "    .dataframe tbody tr th:only-of-type {\n",
       "        vertical-align: middle;\n",
       "    }\n",
       "\n",
       "    .dataframe tbody tr th {\n",
       "        vertical-align: top;\n",
       "    }\n",
       "\n",
       "    .dataframe thead th {\n",
       "        text-align: right;\n",
       "    }\n",
       "</style>\n",
       "<table border=\"1\" class=\"dataframe\">\n",
       "  <thead>\n",
       "    <tr style=\"text-align: right;\">\n",
       "      <th></th>\n",
       "      <th>adult</th>\n",
       "      <th>belongs_to_collection</th>\n",
       "      <th>budget</th>\n",
       "      <th>genres</th>\n",
       "      <th>homepage</th>\n",
       "      <th>id</th>\n",
       "      <th>imdb_id</th>\n",
       "      <th>original_language</th>\n",
       "      <th>original_title</th>\n",
       "      <th>overview</th>\n",
       "      <th>...</th>\n",
       "      <th>release_date</th>\n",
       "      <th>revenue</th>\n",
       "      <th>runtime</th>\n",
       "      <th>spoken_languages</th>\n",
       "      <th>status</th>\n",
       "      <th>tagline</th>\n",
       "      <th>title</th>\n",
       "      <th>video</th>\n",
       "      <th>vote_average</th>\n",
       "      <th>vote_count</th>\n",
       "    </tr>\n",
       "  </thead>\n",
       "  <tbody>\n",
       "    <tr>\n",
       "      <th>45464</th>\n",
       "      <td>False</td>\n",
       "      <td>NaN</td>\n",
       "      <td>0</td>\n",
       "      <td>[]</td>\n",
       "      <td>NaN</td>\n",
       "      <td>227506</td>\n",
       "      <td>tt0008536</td>\n",
       "      <td>en</td>\n",
       "      <td>Satana likuyushchiy</td>\n",
       "      <td>In a small town live two brothers, one a minis...</td>\n",
       "      <td>...</td>\n",
       "      <td>1917-10-21</td>\n",
       "      <td>0.0</td>\n",
       "      <td>87.0</td>\n",
       "      <td>[]</td>\n",
       "      <td>Released</td>\n",
       "      <td>NaN</td>\n",
       "      <td>Satan Triumphant</td>\n",
       "      <td>False</td>\n",
       "      <td>0.0</td>\n",
       "      <td>0.0</td>\n",
       "    </tr>\n",
       "    <tr>\n",
       "      <th>45465</th>\n",
       "      <td>False</td>\n",
       "      <td>NaN</td>\n",
       "      <td>0</td>\n",
       "      <td>[]</td>\n",
       "      <td>NaN</td>\n",
       "      <td>461257</td>\n",
       "      <td>tt6980792</td>\n",
       "      <td>en</td>\n",
       "      <td>Queerama</td>\n",
       "      <td>50 years after decriminalisation of homosexual...</td>\n",
       "      <td>...</td>\n",
       "      <td>2017-06-09</td>\n",
       "      <td>0.0</td>\n",
       "      <td>75.0</td>\n",
       "      <td>[{'iso_639_1': 'en', 'name': 'English'}]</td>\n",
       "      <td>Released</td>\n",
       "      <td>NaN</td>\n",
       "      <td>Queerama</td>\n",
       "      <td>False</td>\n",
       "      <td>0.0</td>\n",
       "      <td>0.0</td>\n",
       "    </tr>\n",
       "  </tbody>\n",
       "</table>\n",
       "<p>2 rows × 24 columns</p>\n",
       "</div>"
      ],
      "text/plain": [
       "       adult belongs_to_collection budget genres homepage      id    imdb_id  \\\n",
       "45464  False                   NaN      0     []      NaN  227506  tt0008536   \n",
       "45465  False                   NaN      0     []      NaN  461257  tt6980792   \n",
       "\n",
       "      original_language       original_title  \\\n",
       "45464                en  Satana likuyushchiy   \n",
       "45465                en             Queerama   \n",
       "\n",
       "                                                overview  ... release_date  \\\n",
       "45464  In a small town live two brothers, one a minis...  ...   1917-10-21   \n",
       "45465  50 years after decriminalisation of homosexual...  ...   2017-06-09   \n",
       "\n",
       "      revenue runtime                          spoken_languages    status  \\\n",
       "45464     0.0    87.0                                        []  Released   \n",
       "45465     0.0    75.0  [{'iso_639_1': 'en', 'name': 'English'}]  Released   \n",
       "\n",
       "       tagline             title  video vote_average vote_count  \n",
       "45464      NaN  Satan Triumphant  False          0.0        0.0  \n",
       "45465      NaN          Queerama  False          0.0        0.0  \n",
       "\n",
       "[2 rows x 24 columns]"
      ]
     },
     "execution_count": 6,
     "metadata": {},
     "output_type": "execute_result"
    }
   ],
   "source": [
    "data = pd.read_csv('movies_metadata.csv', low_memory=False)\n",
    "data.tail(2)"
   ]
  },
  {
   "cell_type": "code",
   "execution_count": 7,
   "id": "342a7308",
   "metadata": {},
   "outputs": [
    {
     "data": {
      "text/plain": [
       "Index(['adult', 'belongs_to_collection', 'budget', 'genres', 'homepage', 'id',\n",
       "       'imdb_id', 'original_language', 'original_title', 'overview',\n",
       "       'popularity', 'poster_path', 'production_companies',\n",
       "       'production_countries', 'release_date', 'revenue', 'runtime',\n",
       "       'spoken_languages', 'status', 'tagline', 'title', 'video',\n",
       "       'vote_average', 'vote_count'],\n",
       "      dtype='object')"
      ]
     },
     "execution_count": 7,
     "metadata": {},
     "output_type": "execute_result"
    }
   ],
   "source": [
    "data.columns"
   ]
  },
  {
   "cell_type": "markdown",
   "id": "ef4c0030",
   "metadata": {},
   "source": [
    "#### title과 overview 사용하여 유사한 줄거리의 영화를 찾아서 추천하는 시스템 만들기"
   ]
  },
  {
   "cell_type": "code",
   "execution_count": 8,
   "id": "cbda4137",
   "metadata": {},
   "outputs": [],
   "source": [
    "### 상위 20000개만 data에 저장\n",
    "data = data[:20000]"
   ]
  },
  {
   "cell_type": "code",
   "execution_count": 10,
   "id": "2773774f",
   "metadata": {},
   "outputs": [
    {
     "data": {
      "text/html": [
       "<div>\n",
       "<style scoped>\n",
       "    .dataframe tbody tr th:only-of-type {\n",
       "        vertical-align: middle;\n",
       "    }\n",
       "\n",
       "    .dataframe tbody tr th {\n",
       "        vertical-align: top;\n",
       "    }\n",
       "\n",
       "    .dataframe thead th {\n",
       "        text-align: right;\n",
       "    }\n",
       "</style>\n",
       "<table border=\"1\" class=\"dataframe\">\n",
       "  <thead>\n",
       "    <tr style=\"text-align: right;\">\n",
       "      <th></th>\n",
       "      <th>adult</th>\n",
       "      <th>belongs_to_collection</th>\n",
       "      <th>budget</th>\n",
       "      <th>genres</th>\n",
       "      <th>homepage</th>\n",
       "      <th>id</th>\n",
       "      <th>imdb_id</th>\n",
       "      <th>original_language</th>\n",
       "      <th>original_title</th>\n",
       "      <th>overview</th>\n",
       "      <th>...</th>\n",
       "      <th>release_date</th>\n",
       "      <th>revenue</th>\n",
       "      <th>runtime</th>\n",
       "      <th>spoken_languages</th>\n",
       "      <th>status</th>\n",
       "      <th>tagline</th>\n",
       "      <th>title</th>\n",
       "      <th>video</th>\n",
       "      <th>vote_average</th>\n",
       "      <th>vote_count</th>\n",
       "    </tr>\n",
       "  </thead>\n",
       "  <tbody>\n",
       "    <tr>\n",
       "      <th>19998</th>\n",
       "      <td>False</td>\n",
       "      <td>NaN</td>\n",
       "      <td>0</td>\n",
       "      <td>[]</td>\n",
       "      <td>NaN</td>\n",
       "      <td>197723</td>\n",
       "      <td>tt0471239</td>\n",
       "      <td>en</td>\n",
       "      <td>Lotte Reiniger: Homage to the Inventor of the ...</td>\n",
       "      <td>Follows the life and work of animator Lotte Re...</td>\n",
       "      <td>...</td>\n",
       "      <td>2001-11-19</td>\n",
       "      <td>0.0</td>\n",
       "      <td>0.0</td>\n",
       "      <td>[]</td>\n",
       "      <td>Released</td>\n",
       "      <td>NaN</td>\n",
       "      <td>Lotte Reiniger: Homage to the Inventor of the ...</td>\n",
       "      <td>False</td>\n",
       "      <td>0.0</td>\n",
       "      <td>0.0</td>\n",
       "    </tr>\n",
       "    <tr>\n",
       "      <th>19999</th>\n",
       "      <td>False</td>\n",
       "      <td>NaN</td>\n",
       "      <td>0</td>\n",
       "      <td>[]</td>\n",
       "      <td>NaN</td>\n",
       "      <td>269797</td>\n",
       "      <td>tt0492337</td>\n",
       "      <td>en</td>\n",
       "      <td>RKO Production 601: The Making of 'Kong, the E...</td>\n",
       "      <td>An in-depth look at the genesis, production, a...</td>\n",
       "      <td>...</td>\n",
       "      <td>2005-10-23</td>\n",
       "      <td>0.0</td>\n",
       "      <td>0.0</td>\n",
       "      <td>[]</td>\n",
       "      <td>Released</td>\n",
       "      <td>NaN</td>\n",
       "      <td>RKO Production 601: The Making of 'Kong, the E...</td>\n",
       "      <td>False</td>\n",
       "      <td>8.0</td>\n",
       "      <td>1.0</td>\n",
       "    </tr>\n",
       "  </tbody>\n",
       "</table>\n",
       "<p>2 rows × 24 columns</p>\n",
       "</div>"
      ],
      "text/plain": [
       "       adult belongs_to_collection budget genres homepage      id    imdb_id  \\\n",
       "19998  False                   NaN      0     []      NaN  197723  tt0471239   \n",
       "19999  False                   NaN      0     []      NaN  269797  tt0492337   \n",
       "\n",
       "      original_language                                     original_title  \\\n",
       "19998                en  Lotte Reiniger: Homage to the Inventor of the ...   \n",
       "19999                en  RKO Production 601: The Making of 'Kong, the E...   \n",
       "\n",
       "                                                overview  ... release_date  \\\n",
       "19998  Follows the life and work of animator Lotte Re...  ...   2001-11-19   \n",
       "19999  An in-depth look at the genesis, production, a...  ...   2005-10-23   \n",
       "\n",
       "      revenue runtime spoken_languages    status  tagline  \\\n",
       "19998     0.0     0.0               []  Released      NaN   \n",
       "19999     0.0     0.0               []  Released      NaN   \n",
       "\n",
       "                                                   title  video vote_average  \\\n",
       "19998  Lotte Reiniger: Homage to the Inventor of the ...  False          0.0   \n",
       "19999  RKO Production 601: The Making of 'Kong, the E...  False          8.0   \n",
       "\n",
       "      vote_count  \n",
       "19998        0.0  \n",
       "19999        1.0  \n",
       "\n",
       "[2 rows x 24 columns]"
      ]
     },
     "execution_count": 10,
     "metadata": {},
     "output_type": "execute_result"
    }
   ],
   "source": [
    "data.tail(2)"
   ]
  },
  {
   "cell_type": "code",
   "execution_count": 11,
   "id": "58e80110",
   "metadata": {},
   "outputs": [
    {
     "name": "stdout",
     "output_type": "stream",
     "text": [
      "overview 열의 결측값 수: 135\n"
     ]
    }
   ],
   "source": [
    "### 결측값 처리\n",
    "print('overview 열의 결측값 수:', data.overview.isnull().sum())"
   ]
  },
  {
   "cell_type": "code",
   "execution_count": 12,
   "id": "dcdc0c69",
   "metadata": {},
   "outputs": [],
   "source": [
    "data.overview = data.overview.fillna('')  # Null 값을 빈값으로 대체"
   ]
  },
  {
   "cell_type": "code",
   "execution_count": 13,
   "id": "c594d8d6",
   "metadata": {},
   "outputs": [
    {
     "name": "stdout",
     "output_type": "stream",
     "text": [
      "overview 열의 결측값 수: 0\n"
     ]
    }
   ],
   "source": [
    "print('overview 열의 결측값 수:', data.overview.isnull().sum())"
   ]
  },
  {
   "cell_type": "code",
   "execution_count": 14,
   "id": "22dbfcb1",
   "metadata": {},
   "outputs": [],
   "source": [
    "### TF-IDF 행렬 구하기\n",
    "\n",
    "tfidf = TfidfVectorizer(stop_words='english')\n",
    "tfidf_matrix = tfidf.fit_transform(data.overview)"
   ]
  },
  {
   "cell_type": "code",
   "execution_count": 15,
   "id": "94792c5b",
   "metadata": {},
   "outputs": [
    {
     "name": "stdout",
     "output_type": "stream",
     "text": [
      "TF-IDF 행렬 크기: (20000, 47487)\n"
     ]
    }
   ],
   "source": [
    "print('TF-IDF 행렬 크기:', tfidf_matrix.shape)  ## 47,487개 단어가 사용됨"
   ]
  },
  {
   "cell_type": "code",
   "execution_count": 18,
   "id": "50504beb",
   "metadata": {},
   "outputs": [
    {
     "data": {
      "text/plain": [
       "(1, 47487)"
      ]
     },
     "execution_count": 18,
     "metadata": {},
     "output_type": "execute_result"
    }
   ],
   "source": [
    "tfidf_matrix[0].toarray().shape"
   ]
  },
  {
   "cell_type": "code",
   "execution_count": 21,
   "id": "05a8fc5f",
   "metadata": {},
   "outputs": [
    {
     "name": "stdout",
     "output_type": "stream",
     "text": [
      "코사인 유사도 연산결과:  (20000, 20000)\n"
     ]
    }
   ],
   "source": [
    "cosine_sim = cosine_similarity(tfidf_matrix, tfidf_matrix)\n",
    "print('코사인 유사도 연산결과: ', cosine_sim.shape)  # 2만개 문서간 비교이기 때문에 행렬크기가 이렇게 바뀜"
   ]
  },
  {
   "cell_type": "markdown",
   "id": "03bfa91a",
   "metadata": {},
   "source": [
    "#### 영화의 타이틀을 key, 영화의 인덱스를 value로 하는 딕셔너리 title_to_index 만들기"
   ]
  },
  {
   "cell_type": "code",
   "execution_count": 22,
   "id": "e62eb193",
   "metadata": {},
   "outputs": [],
   "source": [
    "title_to_index = dict(zip(data['title'], data.index))"
   ]
  },
  {
   "cell_type": "code",
   "execution_count": 23,
   "id": "7047ee4b",
   "metadata": {},
   "outputs": [
    {
     "data": {
      "text/plain": [
       "<zip at 0x1239cbcfd00>"
      ]
     },
     "execution_count": 23,
     "metadata": {},
     "output_type": "execute_result"
    }
   ],
   "source": [
    "zip(data['title'], data.index)"
   ]
  },
  {
   "cell_type": "code",
   "execution_count": 24,
   "id": "c1655d89",
   "metadata": {},
   "outputs": [
    {
     "data": {
      "text/plain": [
       "RangeIndex(start=0, stop=20000, step=1)"
      ]
     },
     "execution_count": 24,
     "metadata": {},
     "output_type": "execute_result"
    }
   ],
   "source": [
    "data.index"
   ]
  },
  {
   "cell_type": "code",
   "execution_count": 26,
   "id": "52c31ed0",
   "metadata": {},
   "outputs": [
    {
     "data": {
      "text/plain": [
       "4"
      ]
     },
     "execution_count": 26,
     "metadata": {},
     "output_type": "execute_result"
    }
   ],
   "source": [
    "title_to_index['Father of the Bride Part II']"
   ]
  },
  {
   "cell_type": "code",
   "execution_count": 27,
   "id": "bc900c0c",
   "metadata": {},
   "outputs": [
    {
     "data": {
      "text/plain": [
       "array([0.        , 0.        , 0.02500492, ..., 0.        , 0.        ,\n",
       "       0.        ])"
      ]
     },
     "execution_count": 27,
     "metadata": {},
     "output_type": "execute_result"
    }
   ],
   "source": [
    "cosine_sim[4]"
   ]
  },
  {
   "cell_type": "code",
   "execution_count": 43,
   "id": "daa191de",
   "metadata": {},
   "outputs": [
    {
     "name": "stdout",
     "output_type": "stream",
     "text": [
      "Father of the Bride\n",
      "Kuffs\n",
      "North to Alaska\n",
      "Babbitt\n",
      "Wendigo\n",
      "The Magic of Méliès\n",
      "The Out of Towners\n",
      "It's a Wonderful Life\n",
      "Funny People\n",
      "All Night Long\n"
     ]
    }
   ],
   "source": [
    "sim_scores = list(enumerate(cosine_sim[4]))\n",
    "sim_scores = sorted(sim_scores, key=lambda x: x[1], reverse=True)\n",
    "for idx, sim in sim_scores[1:11]:\n",
    "    print(data['title'].iloc[idx])"
   ]
  },
  {
   "cell_type": "code",
   "execution_count": 45,
   "id": "a6568c22",
   "metadata": {},
   "outputs": [],
   "source": [
    "### 영화 제목을 입력하면 코사인 유사도를 통해 가장 overview가 유사한 10개의 영화를 찾아내는 함수\n",
    "def get_recommendations(title, cosine_sim=cosine_sim):\n",
    "    idx = title_to_index[title]\n",
    "    \n",
    "    # 해당 영화와 모든 영화와의 유사도 가져오기\n",
    "    sim_scores = list(enumerate(cosine_sim[idx]))\n",
    "    \n",
    "    # 유사도가 높은 순으로 정렬\n",
    "    sim_scores = sorted(sim_scores, key=lambda x:x[1], reverse=True)\n",
    "    \n",
    "    # 가장 유사한 10개의 영화 유사도 받아오기\n",
    "    sim_scores = sim_scores[1:11]\n",
    "    \n",
    "    # 가장 유사한 10개영화 인덱스 얻기\n",
    "    movie_indices = [idx[0] for idx in sim_scores]\n",
    "    \n",
    "    return data['title'].iloc[movie_indices]"
   ]
  },
  {
   "cell_type": "code",
   "execution_count": 46,
   "id": "445f30f8",
   "metadata": {},
   "outputs": [
    {
     "data": {
      "text/plain": [
       "12481                            The Dark Knight\n",
       "150                               Batman Forever\n",
       "1328                              Batman Returns\n",
       "15511                 Batman: Under the Red Hood\n",
       "585                                       Batman\n",
       "9230          Batman Beyond: Return of the Joker\n",
       "18035                           Batman: Year One\n",
       "19792    Batman: The Dark Knight Returns, Part 1\n",
       "3095                Batman: Mask of the Phantasm\n",
       "10122                              Batman Begins\n",
       "Name: title, dtype: object"
      ]
     },
     "execution_count": 46,
     "metadata": {},
     "output_type": "execute_result"
    }
   ],
   "source": [
    "get_recommendations('The Dark Knight Rises')"
   ]
  },
  {
   "cell_type": "code",
   "execution_count": 53,
   "id": "e1aa79fc",
   "metadata": {},
   "outputs": [
    {
     "data": {
      "text/plain": [
       "404"
      ]
     },
     "execution_count": 53,
     "metadata": {},
     "output_type": "execute_result"
    }
   ],
   "source": [
    "### 유사도가 0.1보다 큰 영화는 90개\n",
    "\n",
    "count = 0\n",
    "for idx, sim in sim_scores:\n",
    "    if sim > 0.05:\n",
    "        count += 1\n",
    "        \n",
    "count"
   ]
  },
  {
   "cell_type": "code",
   "execution_count": 49,
   "id": "55bd61e1",
   "metadata": {},
   "outputs": [
    {
     "data": {
      "text/plain": [
       "20000"
      ]
     },
     "execution_count": 49,
     "metadata": {},
     "output_type": "execute_result"
    }
   ],
   "source": [
    "len(sim_scores)"
   ]
  },
  {
   "cell_type": "code",
   "execution_count": null,
   "id": "92596f6a",
   "metadata": {},
   "outputs": [],
   "source": []
  }
 ],
 "metadata": {
  "kernelspec": {
   "display_name": "Python 3 (ipykernel)",
   "language": "python",
   "name": "python3"
  },
  "language_info": {
   "codemirror_mode": {
    "name": "ipython",
    "version": 3
   },
   "file_extension": ".py",
   "mimetype": "text/x-python",
   "name": "python",
   "nbconvert_exporter": "python",
   "pygments_lexer": "ipython3",
   "version": "3.8.8"
  }
 },
 "nbformat": 4,
 "nbformat_minor": 5
}
