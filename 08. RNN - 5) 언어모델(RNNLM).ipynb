{
 "cells": [
  {
   "cell_type": "markdown",
   "id": "81fd5250",
   "metadata": {},
   "source": [
    "* n-gram과 NNLM은 고정된 갯수의 단어만을 입력으로 받아야 하는 단점이 있음\n",
    "* 그러나 시점(timestep)이라는 개념이 도입된 RNN으로 언어모델을 만든다면 입력의 길이를 고정 안해도 됨\n",
    "\n",
    "\n",
    "### 1. RNN 언어모델\n",
    "* RNNLM은 기본적으로 예측과정에서 이전 시점의 출력을 현재 시점의 입력\n",
    "* 훈련과정에서는 이전 시점의 예측 결과를 다음 시점의 입력으로 넣으면서 예측하는 것이 아니라(테스트 과정에만 적용), 'what will the fact cat sit on' 이라는 학습샘플이 있다면, 'what will the fact cat sit' 시퀀스를 모델의 입력으로 넣으면, 'will the fact cat sit on'을 예측하도록 훈련함\n",
    "* 이러한 방법을 **teacher forcing**이라고 하는데, 학습시 이 방법을 사용할 경우 모델이 t 시점에서 예측한 값을 t+1 시점에 입력으로 사용하지 않고, t 시점의 레이블, 즉 실제 알고 있는 정답을 t+1 시점의 입력으로 사용함\n",
    "* 이렇게 하는 이유는 이전 시점의 출력 예측이 잘 못되면 뒤의 예측까지 영향을 미치기 때문임\n",
    "----\n",
    "* 학습 과정 동안 출력층에서 사용하는 활성화 함수는 **softmax** 함수임\n",
    "* 손실함수는 'cross entropy' 함수 사용\n",
    "\n",
    "----\n",
    "#### RNNLM 구조 정리\n",
    "* 총 4개의 층으로 구성\n",
    "    * input layer : 현 시점의 입력 단어의 원-핫 벡터\n",
    "    * Embedding layer(linear) : 단어 집합 크기가 V이고 임베딩 벡터의 크기를 M으로 설정하면 각 입력단어의 임베딩 층은 V x M 크기의 행렬 곱이 됨\n",
    "    * Hidden layer(non-linear) : $h_{t} = tanh(W_{x} e_{t} + W_{h}h_{t−1} + b)$ 계산\n",
    "    * Output layer : $\\hat{y_{t}} = softmax(W_{y}h_{t} + b)$ 계산\n",
    "    \n",
    "    \n",
    "* 룩업 테이블의 대상이 되는 테이블인 임베딩 행렬을 $E$라고 하였을 때, 결과적으로 RNNLM에서 학습 과정에서 학습되는 가중치 행렬은 다음의 $E$, $W_x$, $W_h$, $W_y$ 4개임"
   ]
  },
  {
   "cell_type": "markdown",
   "id": "d72e1f78",
   "metadata": {},
   "source": [
    "### 2. RNN을 이용한 텍스트 생성(Text Generation using RNN)\n",
    "\n",
    "* 다대일 구조(many-to-one)의 RNN을 사용하여 텍스트 생성기 모델 만들기\n",
    "\n",
    "#### 1) 데이터 이해 및 전처리"
   ]
  },
  {
   "cell_type": "code",
   "execution_count": 1,
   "id": "93d4ac20",
   "metadata": {},
   "outputs": [],
   "source": [
    "from tensorflow.keras.preprocessing.text import Tokenizer\n",
    "from tensorflow.keras.preprocessing.sequence import pad_sequences\n",
    "from tensorflow.keras.utils import to_categorical\n",
    "\n",
    "text = \"\"\"경마장에 있는 말이 뛰고 있다\\n\n",
    "그의 말이 법이다\\n\n",
    "가는 말이 고와야 오는 말이 곱다\\n\"\"\""
   ]
  },
  {
   "cell_type": "code",
   "execution_count": 2,
   "id": "51551f28",
   "metadata": {},
   "outputs": [
    {
     "name": "stdout",
     "output_type": "stream",
     "text": [
      "단어 집합 크기: 12\n"
     ]
    }
   ],
   "source": [
    "tokenizer = Tokenizer()\n",
    "tokenizer.fit_on_texts([text])\n",
    "vocab_size = len(tokenizer.index_word) + 1\n",
    "print(\"단어 집합 크기: %d\" % vocab_size)"
   ]
  },
  {
   "cell_type": "code",
   "execution_count": 3,
   "id": "842363ac",
   "metadata": {},
   "outputs": [
    {
     "name": "stdout",
     "output_type": "stream",
     "text": [
      "{1: '말이', 2: '경마장에', 3: '있는', 4: '뛰고', 5: '있다', 6: '그의', 7: '법이다', 8: '가는', 9: '고와야', 10: '오는', 11: '곱다'}\n"
     ]
    }
   ],
   "source": [
    "print(tokenizer.index_word)"
   ]
  },
  {
   "cell_type": "code",
   "execution_count": 12,
   "id": "355e3029",
   "metadata": {},
   "outputs": [
    {
     "name": "stdout",
     "output_type": "stream",
     "text": [
      "학습에 사용할 샘플수: 11\n"
     ]
    }
   ],
   "source": [
    "### 학습데이터 만들기\n",
    "sequences = list()\n",
    "for line in text.split('\\n'):\n",
    "    encoded = tokenizer.texts_to_sequences([line])[0]  # 단어별로 인덱스 부여\n",
    "    #print(len(encoded))\n",
    "    for i in range(1, len(encoded)): \n",
    "        sequence = encoded[:i+1]  \n",
    "        sequences.append(sequence)\n",
    "        \n",
    "print('학습에 사용할 샘플수: %d' % len(sequences))"
   ]
  },
  {
   "cell_type": "code",
   "execution_count": 13,
   "id": "ad180210",
   "metadata": {},
   "outputs": [
    {
     "name": "stdout",
     "output_type": "stream",
     "text": [
      "[[2, 3], [2, 3, 1], [2, 3, 1, 4], [2, 3, 1, 4, 5], [6, 1], [6, 1, 7], [8, 1], [8, 1, 9], [8, 1, 9, 10], [8, 1, 9, 10, 1], [8, 1, 9, 10, 1, 11]]\n"
     ]
    }
   ],
   "source": [
    "print(sequences)"
   ]
  },
  {
   "cell_type": "code",
   "execution_count": 19,
   "id": "48903085",
   "metadata": {},
   "outputs": [
    {
     "name": "stdout",
     "output_type": "stream",
     "text": [
      "샘플의 최대 길이: 6\n"
     ]
    }
   ],
   "source": [
    "## 크기가 다 다르기 때문에 샘플 길이를 가장 긴 샘플을 기준으로 통일\n",
    "max_len = max(len(l) for l in sequences)\n",
    "\n",
    "print('샘플의 최대 길이: {}'.format(max_len))"
   ]
  },
  {
   "cell_type": "code",
   "execution_count": 20,
   "id": "6e9b7f8a",
   "metadata": {},
   "outputs": [
    {
     "data": {
      "text/plain": [
       "array([[ 0,  0,  0,  0,  2,  3],\n",
       "       [ 0,  0,  0,  2,  3,  1],\n",
       "       [ 0,  0,  2,  3,  1,  4],\n",
       "       [ 0,  2,  3,  1,  4,  5],\n",
       "       [ 0,  0,  0,  0,  6,  1],\n",
       "       [ 0,  0,  0,  6,  1,  7],\n",
       "       [ 0,  0,  0,  0,  8,  1],\n",
       "       [ 0,  0,  0,  8,  1,  9],\n",
       "       [ 0,  0,  8,  1,  9, 10],\n",
       "       [ 0,  8,  1,  9, 10,  1],\n",
       "       [ 8,  1,  9, 10,  1, 11]])"
      ]
     },
     "execution_count": 20,
     "metadata": {},
     "output_type": "execute_result"
    }
   ],
   "source": [
    "sequences = pad_sequences(sequences, maxlen=max_len, padding='pre')\n",
    "sequences"
   ]
  },
  {
   "cell_type": "code",
   "execution_count": 21,
   "id": "60b521af",
   "metadata": {},
   "outputs": [
    {
     "data": {
      "text/plain": [
       "(array([[ 0,  0,  0,  0,  2],\n",
       "        [ 0,  0,  0,  2,  3],\n",
       "        [ 0,  0,  2,  3,  1],\n",
       "        [ 0,  2,  3,  1,  4],\n",
       "        [ 0,  0,  0,  0,  6],\n",
       "        [ 0,  0,  0,  6,  1],\n",
       "        [ 0,  0,  0,  0,  8],\n",
       "        [ 0,  0,  0,  8,  1],\n",
       "        [ 0,  0,  8,  1,  9],\n",
       "        [ 0,  8,  1,  9, 10],\n",
       "        [ 8,  1,  9, 10,  1]]),\n",
       " array([ 3,  1,  4,  5,  1,  7,  1,  9, 10,  1, 11]))"
      ]
     },
     "execution_count": 21,
     "metadata": {},
     "output_type": "execute_result"
    }
   ],
   "source": [
    "## X 데이터와 y 데이터 분리\n",
    "X = sequences[:, :-1]\n",
    "y = sequences[:, -1]\n",
    "X, y"
   ]
  },
  {
   "cell_type": "code",
   "execution_count": 22,
   "id": "ad04b8cb",
   "metadata": {},
   "outputs": [
    {
     "data": {
      "text/plain": [
       "array([[0., 0., 0., 1., 0., 0., 0., 0., 0., 0., 0., 0.],\n",
       "       [0., 1., 0., 0., 0., 0., 0., 0., 0., 0., 0., 0.],\n",
       "       [0., 0., 0., 0., 1., 0., 0., 0., 0., 0., 0., 0.],\n",
       "       [0., 0., 0., 0., 0., 1., 0., 0., 0., 0., 0., 0.],\n",
       "       [0., 1., 0., 0., 0., 0., 0., 0., 0., 0., 0., 0.],\n",
       "       [0., 0., 0., 0., 0., 0., 0., 1., 0., 0., 0., 0.],\n",
       "       [0., 1., 0., 0., 0., 0., 0., 0., 0., 0., 0., 0.],\n",
       "       [0., 0., 0., 0., 0., 0., 0., 0., 0., 1., 0., 0.],\n",
       "       [0., 0., 0., 0., 0., 0., 0., 0., 0., 0., 1., 0.],\n",
       "       [0., 1., 0., 0., 0., 0., 0., 0., 0., 0., 0., 0.],\n",
       "       [0., 0., 0., 0., 0., 0., 0., 0., 0., 0., 0., 1.]], dtype=float32)"
      ]
     },
     "execution_count": 22,
     "metadata": {},
     "output_type": "execute_result"
    }
   ],
   "source": [
    "### one-hot encoding\n",
    "y = to_categorical(y, num_classes=vocab_size)\n",
    "y"
   ]
  },
  {
   "cell_type": "code",
   "execution_count": 24,
   "id": "57505b77",
   "metadata": {},
   "outputs": [
    {
     "data": {
      "text/plain": [
       "((11, 12), (11, 5))"
      ]
     },
     "execution_count": 24,
     "metadata": {},
     "output_type": "execute_result"
    }
   ],
   "source": [
    "y.shape, X.shape # y = 샘플수 * 단어집합 갯수(토큰수), "
   ]
  },
  {
   "cell_type": "markdown",
   "id": "4a63b1fc",
   "metadata": {},
   "source": [
    "#### 2) 모델 설계 및 학습"
   ]
  },
  {
   "cell_type": "code",
   "execution_count": 25,
   "id": "65975d9d",
   "metadata": {},
   "outputs": [],
   "source": [
    "from tensorflow.keras.models import Sequential\n",
    "from tensorflow.keras.layers import Embedding, Dense, SimpleRNN"
   ]
  },
  {
   "cell_type": "code",
   "execution_count": 26,
   "id": "2fab91c6",
   "metadata": {},
   "outputs": [
    {
     "name": "stdout",
     "output_type": "stream",
     "text": [
      "Epoch 1/200\n",
      "1/1 - 2s - loss: 2.5026 - accuracy: 0.0000e+00 - 2s/epoch - 2s/step\n",
      "Epoch 2/200\n",
      "1/1 - 0s - loss: 2.4910 - accuracy: 0.0000e+00 - 7ms/epoch - 7ms/step\n",
      "Epoch 3/200\n",
      "1/1 - 0s - loss: 2.4796 - accuracy: 0.0909 - 5ms/epoch - 5ms/step\n",
      "Epoch 4/200\n",
      "1/1 - 0s - loss: 2.4682 - accuracy: 0.0909 - 7ms/epoch - 7ms/step\n",
      "Epoch 5/200\n",
      "1/1 - 0s - loss: 2.4567 - accuracy: 0.0909 - 4ms/epoch - 4ms/step\n",
      "Epoch 6/200\n",
      "1/1 - 0s - loss: 2.4450 - accuracy: 0.1818 - 4ms/epoch - 4ms/step\n",
      "Epoch 7/200\n",
      "1/1 - 0s - loss: 2.4332 - accuracy: 0.1818 - 7ms/epoch - 7ms/step\n",
      "Epoch 8/200\n",
      "1/1 - 0s - loss: 2.4210 - accuracy: 0.1818 - 3ms/epoch - 3ms/step\n",
      "Epoch 9/200\n",
      "1/1 - 0s - loss: 2.4085 - accuracy: 0.2727 - 6ms/epoch - 6ms/step\n",
      "Epoch 10/200\n",
      "1/1 - 0s - loss: 2.3955 - accuracy: 0.2727 - 3ms/epoch - 3ms/step\n",
      "Epoch 11/200\n",
      "1/1 - 0s - loss: 2.3820 - accuracy: 0.2727 - 7ms/epoch - 7ms/step\n",
      "Epoch 12/200\n",
      "1/1 - 0s - loss: 2.3679 - accuracy: 0.2727 - 4ms/epoch - 4ms/step\n",
      "Epoch 13/200\n",
      "1/1 - 0s - loss: 2.3533 - accuracy: 0.3636 - 7ms/epoch - 7ms/step\n",
      "Epoch 14/200\n",
      "1/1 - 0s - loss: 2.3379 - accuracy: 0.3636 - 3ms/epoch - 3ms/step\n",
      "Epoch 15/200\n",
      "1/1 - 0s - loss: 2.3218 - accuracy: 0.3636 - 3ms/epoch - 3ms/step\n",
      "Epoch 16/200\n",
      "1/1 - 0s - loss: 2.3049 - accuracy: 0.3636 - 4ms/epoch - 4ms/step\n",
      "Epoch 17/200\n",
      "1/1 - 0s - loss: 2.2872 - accuracy: 0.3636 - 3ms/epoch - 3ms/step\n",
      "Epoch 18/200\n",
      "1/1 - 0s - loss: 2.2686 - accuracy: 0.3636 - 8ms/epoch - 8ms/step\n",
      "Epoch 19/200\n",
      "1/1 - 0s - loss: 2.2492 - accuracy: 0.3636 - 3ms/epoch - 3ms/step\n",
      "Epoch 20/200\n",
      "1/1 - 0s - loss: 2.2290 - accuracy: 0.3636 - 6ms/epoch - 6ms/step\n",
      "Epoch 21/200\n",
      "1/1 - 0s - loss: 2.2078 - accuracy: 0.3636 - 4ms/epoch - 4ms/step\n",
      "Epoch 22/200\n",
      "1/1 - 0s - loss: 2.1859 - accuracy: 0.3636 - 6ms/epoch - 6ms/step\n",
      "Epoch 23/200\n",
      "1/1 - 0s - loss: 2.1631 - accuracy: 0.3636 - 4ms/epoch - 4ms/step\n",
      "Epoch 24/200\n",
      "1/1 - 0s - loss: 2.1397 - accuracy: 0.3636 - 5ms/epoch - 5ms/step\n",
      "Epoch 25/200\n",
      "1/1 - 0s - loss: 2.1157 - accuracy: 0.3636 - 4ms/epoch - 4ms/step\n",
      "Epoch 26/200\n",
      "1/1 - 0s - loss: 2.0912 - accuracy: 0.3636 - 5ms/epoch - 5ms/step\n",
      "Epoch 27/200\n",
      "1/1 - 0s - loss: 2.0664 - accuracy: 0.3636 - 5ms/epoch - 5ms/step\n",
      "Epoch 28/200\n",
      "1/1 - 0s - loss: 2.0415 - accuracy: 0.3636 - 3ms/epoch - 3ms/step\n",
      "Epoch 29/200\n",
      "1/1 - 0s - loss: 2.0166 - accuracy: 0.3636 - 4ms/epoch - 4ms/step\n",
      "Epoch 30/200\n",
      "1/1 - 0s - loss: 1.9920 - accuracy: 0.3636 - 4ms/epoch - 4ms/step\n",
      "Epoch 31/200\n",
      "1/1 - 0s - loss: 1.9680 - accuracy: 0.3636 - 7ms/epoch - 7ms/step\n",
      "Epoch 32/200\n",
      "1/1 - 0s - loss: 1.9445 - accuracy: 0.3636 - 3ms/epoch - 3ms/step\n",
      "Epoch 33/200\n",
      "1/1 - 0s - loss: 1.9219 - accuracy: 0.3636 - 7ms/epoch - 7ms/step\n",
      "Epoch 34/200\n",
      "1/1 - 0s - loss: 1.9002 - accuracy: 0.3636 - 4ms/epoch - 4ms/step\n",
      "Epoch 35/200\n",
      "1/1 - 0s - loss: 1.8793 - accuracy: 0.3636 - 4ms/epoch - 4ms/step\n",
      "Epoch 36/200\n",
      "1/1 - 0s - loss: 1.8593 - accuracy: 0.3636 - 4ms/epoch - 4ms/step\n",
      "Epoch 37/200\n",
      "1/1 - 0s - loss: 1.8400 - accuracy: 0.3636 - 5ms/epoch - 5ms/step\n",
      "Epoch 38/200\n",
      "1/1 - 0s - loss: 1.8211 - accuracy: 0.3636 - 4ms/epoch - 4ms/step\n",
      "Epoch 39/200\n",
      "1/1 - 0s - loss: 1.8024 - accuracy: 0.3636 - 4ms/epoch - 4ms/step\n",
      "Epoch 40/200\n",
      "1/1 - 0s - loss: 1.7838 - accuracy: 0.3636 - 6ms/epoch - 6ms/step\n",
      "Epoch 41/200\n",
      "1/1 - 0s - loss: 1.7649 - accuracy: 0.3636 - 3ms/epoch - 3ms/step\n",
      "Epoch 42/200\n",
      "1/1 - 0s - loss: 1.7455 - accuracy: 0.3636 - 4ms/epoch - 4ms/step\n",
      "Epoch 43/200\n",
      "1/1 - 0s - loss: 1.7257 - accuracy: 0.3636 - 4ms/epoch - 4ms/step\n",
      "Epoch 44/200\n",
      "1/1 - 0s - loss: 1.7052 - accuracy: 0.3636 - 5ms/epoch - 5ms/step\n",
      "Epoch 45/200\n",
      "1/1 - 0s - loss: 1.6842 - accuracy: 0.4545 - 3ms/epoch - 3ms/step\n",
      "Epoch 46/200\n",
      "1/1 - 0s - loss: 1.6627 - accuracy: 0.4545 - 4ms/epoch - 4ms/step\n",
      "Epoch 47/200\n",
      "1/1 - 0s - loss: 1.6408 - accuracy: 0.4545 - 3ms/epoch - 3ms/step\n",
      "Epoch 48/200\n",
      "1/1 - 0s - loss: 1.6186 - accuracy: 0.4545 - 4ms/epoch - 4ms/step\n",
      "Epoch 49/200\n",
      "1/1 - 0s - loss: 1.5962 - accuracy: 0.4545 - 5ms/epoch - 5ms/step\n",
      "Epoch 50/200\n",
      "1/1 - 0s - loss: 1.5738 - accuracy: 0.4545 - 4ms/epoch - 4ms/step\n",
      "Epoch 51/200\n",
      "1/1 - 0s - loss: 1.5514 - accuracy: 0.4545 - 4ms/epoch - 4ms/step\n",
      "Epoch 52/200\n",
      "1/1 - 0s - loss: 1.5290 - accuracy: 0.5455 - 3ms/epoch - 3ms/step\n",
      "Epoch 53/200\n",
      "1/1 - 0s - loss: 1.5067 - accuracy: 0.5455 - 3ms/epoch - 3ms/step\n",
      "Epoch 54/200\n",
      "1/1 - 0s - loss: 1.4844 - accuracy: 0.5455 - 6ms/epoch - 6ms/step\n",
      "Epoch 55/200\n",
      "1/1 - 0s - loss: 1.4623 - accuracy: 0.5455 - 4ms/epoch - 4ms/step\n",
      "Epoch 56/200\n",
      "1/1 - 0s - loss: 1.4402 - accuracy: 0.6364 - 4ms/epoch - 4ms/step\n",
      "Epoch 57/200\n",
      "1/1 - 0s - loss: 1.4181 - accuracy: 0.6364 - 5ms/epoch - 5ms/step\n",
      "Epoch 58/200\n",
      "1/1 - 0s - loss: 1.3961 - accuracy: 0.6364 - 4ms/epoch - 4ms/step\n",
      "Epoch 59/200\n",
      "1/1 - 0s - loss: 1.3742 - accuracy: 0.6364 - 7ms/epoch - 7ms/step\n",
      "Epoch 60/200\n",
      "1/1 - 0s - loss: 1.3524 - accuracy: 0.6364 - 4ms/epoch - 4ms/step\n",
      "Epoch 61/200\n",
      "1/1 - 0s - loss: 1.3309 - accuracy: 0.6364 - 5ms/epoch - 5ms/step\n",
      "Epoch 62/200\n",
      "1/1 - 0s - loss: 1.3095 - accuracy: 0.6364 - 4ms/epoch - 4ms/step\n",
      "Epoch 63/200\n",
      "1/1 - 0s - loss: 1.2885 - accuracy: 0.6364 - 6ms/epoch - 6ms/step\n",
      "Epoch 64/200\n",
      "1/1 - 0s - loss: 1.2678 - accuracy: 0.6364 - 6ms/epoch - 6ms/step\n",
      "Epoch 65/200\n",
      "1/1 - 0s - loss: 1.2475 - accuracy: 0.6364 - 9ms/epoch - 9ms/step\n",
      "Epoch 66/200\n",
      "1/1 - 0s - loss: 1.2277 - accuracy: 0.6364 - 7ms/epoch - 7ms/step\n",
      "Epoch 67/200\n",
      "1/1 - 0s - loss: 1.2083 - accuracy: 0.6364 - 5ms/epoch - 5ms/step\n",
      "Epoch 68/200\n",
      "1/1 - 0s - loss: 1.1894 - accuracy: 0.6364 - 7ms/epoch - 7ms/step\n",
      "Epoch 69/200\n",
      "1/1 - 0s - loss: 1.1709 - accuracy: 0.6364 - 4ms/epoch - 4ms/step\n",
      "Epoch 70/200\n",
      "1/1 - 0s - loss: 1.1529 - accuracy: 0.6364 - 4ms/epoch - 4ms/step\n",
      "Epoch 71/200\n",
      "1/1 - 0s - loss: 1.1352 - accuracy: 0.6364 - 4ms/epoch - 4ms/step\n",
      "Epoch 72/200\n",
      "1/1 - 0s - loss: 1.1180 - accuracy: 0.6364 - 5ms/epoch - 5ms/step\n",
      "Epoch 73/200\n",
      "1/1 - 0s - loss: 1.1011 - accuracy: 0.6364 - 4ms/epoch - 4ms/step\n",
      "Epoch 74/200\n",
      "1/1 - 0s - loss: 1.0846 - accuracy: 0.6364 - 5ms/epoch - 5ms/step\n",
      "Epoch 75/200\n",
      "1/1 - 0s - loss: 1.0684 - accuracy: 0.6364 - 4ms/epoch - 4ms/step\n",
      "Epoch 76/200\n",
      "1/1 - 0s - loss: 1.0525 - accuracy: 0.6364 - 6ms/epoch - 6ms/step\n",
      "Epoch 77/200\n",
      "1/1 - 0s - loss: 1.0369 - accuracy: 0.6364 - 9ms/epoch - 9ms/step\n",
      "Epoch 78/200\n",
      "1/1 - 0s - loss: 1.0217 - accuracy: 0.6364 - 7ms/epoch - 7ms/step\n",
      "Epoch 79/200\n",
      "1/1 - 0s - loss: 1.0067 - accuracy: 0.6364 - 7ms/epoch - 7ms/step\n",
      "Epoch 80/200\n",
      "1/1 - 0s - loss: 0.9920 - accuracy: 0.6364 - 7ms/epoch - 7ms/step\n",
      "Epoch 81/200\n",
      "1/1 - 0s - loss: 0.9776 - accuracy: 0.7273 - 6ms/epoch - 6ms/step\n",
      "Epoch 82/200\n",
      "1/1 - 0s - loss: 0.9634 - accuracy: 0.7273 - 3ms/epoch - 3ms/step\n",
      "Epoch 83/200\n",
      "1/1 - 0s - loss: 0.9494 - accuracy: 0.7273 - 7ms/epoch - 7ms/step\n",
      "Epoch 84/200\n",
      "1/1 - 0s - loss: 0.9356 - accuracy: 0.7273 - 4ms/epoch - 4ms/step\n",
      "Epoch 85/200\n",
      "1/1 - 0s - loss: 0.9220 - accuracy: 0.7273 - 4ms/epoch - 4ms/step\n",
      "Epoch 86/200\n",
      "1/1 - 0s - loss: 0.9085 - accuracy: 0.7273 - 3ms/epoch - 3ms/step\n",
      "Epoch 87/200\n",
      "1/1 - 0s - loss: 0.8952 - accuracy: 0.7273 - 3ms/epoch - 3ms/step\n",
      "Epoch 88/200\n",
      "1/1 - 0s - loss: 0.8821 - accuracy: 0.7273 - 9ms/epoch - 9ms/step\n",
      "Epoch 89/200\n",
      "1/1 - 0s - loss: 0.8690 - accuracy: 0.7273 - 4ms/epoch - 4ms/step\n",
      "Epoch 90/200\n",
      "1/1 - 0s - loss: 0.8562 - accuracy: 0.7273 - 5ms/epoch - 5ms/step\n",
      "Epoch 91/200\n",
      "1/1 - 0s - loss: 0.8434 - accuracy: 0.7273 - 4ms/epoch - 4ms/step\n",
      "Epoch 92/200\n",
      "1/1 - 0s - loss: 0.8307 - accuracy: 0.7273 - 3ms/epoch - 3ms/step\n",
      "Epoch 93/200\n",
      "1/1 - 0s - loss: 0.8182 - accuracy: 0.7273 - 6ms/epoch - 6ms/step\n",
      "Epoch 94/200\n",
      "1/1 - 0s - loss: 0.8057 - accuracy: 0.7273 - 3ms/epoch - 3ms/step\n",
      "Epoch 95/200\n",
      "1/1 - 0s - loss: 0.7934 - accuracy: 0.7273 - 4ms/epoch - 4ms/step\n",
      "Epoch 96/200\n",
      "1/1 - 0s - loss: 0.7811 - accuracy: 0.7273 - 3ms/epoch - 3ms/step\n",
      "Epoch 97/200\n",
      "1/1 - 0s - loss: 0.7690 - accuracy: 0.7273 - 3ms/epoch - 3ms/step\n",
      "Epoch 98/200\n",
      "1/1 - 0s - loss: 0.7569 - accuracy: 0.7273 - 7ms/epoch - 7ms/step\n",
      "Epoch 99/200\n",
      "1/1 - 0s - loss: 0.7449 - accuracy: 0.7273 - 4ms/epoch - 4ms/step\n",
      "Epoch 100/200\n",
      "1/1 - 0s - loss: 0.7331 - accuracy: 0.7273 - 5ms/epoch - 5ms/step\n",
      "Epoch 101/200\n",
      "1/1 - 0s - loss: 0.7213 - accuracy: 0.7273 - 4ms/epoch - 4ms/step\n",
      "Epoch 102/200\n",
      "1/1 - 0s - loss: 0.7096 - accuracy: 0.7273 - 4ms/epoch - 4ms/step\n",
      "Epoch 103/200\n",
      "1/1 - 0s - loss: 0.6980 - accuracy: 0.7273 - 5ms/epoch - 5ms/step\n",
      "Epoch 104/200\n",
      "1/1 - 0s - loss: 0.6865 - accuracy: 0.7273 - 4ms/epoch - 4ms/step\n"
     ]
    },
    {
     "name": "stdout",
     "output_type": "stream",
     "text": [
      "Epoch 105/200\n",
      "1/1 - 0s - loss: 0.6751 - accuracy: 0.7273 - 5ms/epoch - 5ms/step\n",
      "Epoch 106/200\n",
      "1/1 - 0s - loss: 0.6639 - accuracy: 0.7273 - 4ms/epoch - 4ms/step\n",
      "Epoch 107/200\n",
      "1/1 - 0s - loss: 0.6527 - accuracy: 0.7273 - 8ms/epoch - 8ms/step\n",
      "Epoch 108/200\n",
      "1/1 - 0s - loss: 0.6416 - accuracy: 0.7273 - 5ms/epoch - 5ms/step\n",
      "Epoch 109/200\n",
      "1/1 - 0s - loss: 0.6307 - accuracy: 0.7273 - 6ms/epoch - 6ms/step\n",
      "Epoch 110/200\n",
      "1/1 - 0s - loss: 0.6198 - accuracy: 0.7273 - 6ms/epoch - 6ms/step\n",
      "Epoch 111/200\n",
      "1/1 - 0s - loss: 0.6091 - accuracy: 0.7273 - 6ms/epoch - 6ms/step\n",
      "Epoch 112/200\n",
      "1/1 - 0s - loss: 0.5985 - accuracy: 0.8182 - 6ms/epoch - 6ms/step\n",
      "Epoch 113/200\n",
      "1/1 - 0s - loss: 0.5880 - accuracy: 0.8182 - 5ms/epoch - 5ms/step\n",
      "Epoch 114/200\n",
      "1/1 - 0s - loss: 0.5776 - accuracy: 0.8182 - 7ms/epoch - 7ms/step\n",
      "Epoch 115/200\n",
      "1/1 - 0s - loss: 0.5673 - accuracy: 0.8182 - 8ms/epoch - 8ms/step\n",
      "Epoch 116/200\n",
      "1/1 - 0s - loss: 0.5572 - accuracy: 0.9091 - 5ms/epoch - 5ms/step\n",
      "Epoch 117/200\n",
      "1/1 - 0s - loss: 0.5472 - accuracy: 0.9091 - 6ms/epoch - 6ms/step\n",
      "Epoch 118/200\n",
      "1/1 - 0s - loss: 0.5374 - accuracy: 0.9091 - 7ms/epoch - 7ms/step\n",
      "Epoch 119/200\n",
      "1/1 - 0s - loss: 0.5276 - accuracy: 0.9091 - 5ms/epoch - 5ms/step\n",
      "Epoch 120/200\n",
      "1/1 - 0s - loss: 0.5180 - accuracy: 0.9091 - 7ms/epoch - 7ms/step\n",
      "Epoch 121/200\n",
      "1/1 - 0s - loss: 0.5086 - accuracy: 0.9091 - 7ms/epoch - 7ms/step\n",
      "Epoch 122/200\n",
      "1/1 - 0s - loss: 0.4993 - accuracy: 0.9091 - 5ms/epoch - 5ms/step\n",
      "Epoch 123/200\n",
      "1/1 - 0s - loss: 0.4901 - accuracy: 0.9091 - 5ms/epoch - 5ms/step\n",
      "Epoch 124/200\n",
      "1/1 - 0s - loss: 0.4810 - accuracy: 0.9091 - 4ms/epoch - 4ms/step\n",
      "Epoch 125/200\n",
      "1/1 - 0s - loss: 0.4721 - accuracy: 0.9091 - 5ms/epoch - 5ms/step\n",
      "Epoch 126/200\n",
      "1/1 - 0s - loss: 0.4633 - accuracy: 0.9091 - 4ms/epoch - 4ms/step\n",
      "Epoch 127/200\n",
      "1/1 - 0s - loss: 0.4547 - accuracy: 0.9091 - 4ms/epoch - 4ms/step\n",
      "Epoch 128/200\n",
      "1/1 - 0s - loss: 0.4462 - accuracy: 0.9091 - 6ms/epoch - 6ms/step\n",
      "Epoch 129/200\n",
      "1/1 - 0s - loss: 0.4379 - accuracy: 0.9091 - 4ms/epoch - 4ms/step\n",
      "Epoch 130/200\n",
      "1/1 - 0s - loss: 0.4296 - accuracy: 0.9091 - 5ms/epoch - 5ms/step\n",
      "Epoch 131/200\n",
      "1/1 - 0s - loss: 0.4216 - accuracy: 0.9091 - 4ms/epoch - 4ms/step\n",
      "Epoch 132/200\n",
      "1/1 - 0s - loss: 0.4136 - accuracy: 0.9091 - 7ms/epoch - 7ms/step\n",
      "Epoch 133/200\n",
      "1/1 - 0s - loss: 0.4058 - accuracy: 0.9091 - 6ms/epoch - 6ms/step\n",
      "Epoch 134/200\n",
      "1/1 - 0s - loss: 0.3982 - accuracy: 0.9091 - 6ms/epoch - 6ms/step\n",
      "Epoch 135/200\n",
      "1/1 - 0s - loss: 0.3906 - accuracy: 0.9091 - 5ms/epoch - 5ms/step\n",
      "Epoch 136/200\n",
      "1/1 - 0s - loss: 0.3832 - accuracy: 0.9091 - 6ms/epoch - 6ms/step\n",
      "Epoch 137/200\n",
      "1/1 - 0s - loss: 0.3759 - accuracy: 0.9091 - 8ms/epoch - 8ms/step\n",
      "Epoch 138/200\n",
      "1/1 - 0s - loss: 0.3688 - accuracy: 0.9091 - 7ms/epoch - 7ms/step\n",
      "Epoch 139/200\n",
      "1/1 - 0s - loss: 0.3618 - accuracy: 0.9091 - 8ms/epoch - 8ms/step\n",
      "Epoch 140/200\n",
      "1/1 - 0s - loss: 0.3549 - accuracy: 0.9091 - 7ms/epoch - 7ms/step\n",
      "Epoch 141/200\n",
      "1/1 - 0s - loss: 0.3481 - accuracy: 0.9091 - 5ms/epoch - 5ms/step\n",
      "Epoch 142/200\n",
      "1/1 - 0s - loss: 0.3415 - accuracy: 0.9091 - 7ms/epoch - 7ms/step\n",
      "Epoch 143/200\n",
      "1/1 - 0s - loss: 0.3350 - accuracy: 0.9091 - 7ms/epoch - 7ms/step\n",
      "Epoch 144/200\n",
      "1/1 - 0s - loss: 0.3286 - accuracy: 0.9091 - 6ms/epoch - 6ms/step\n",
      "Epoch 145/200\n",
      "1/1 - 0s - loss: 0.3223 - accuracy: 0.9091 - 8ms/epoch - 8ms/step\n",
      "Epoch 146/200\n",
      "1/1 - 0s - loss: 0.3162 - accuracy: 0.9091 - 6ms/epoch - 6ms/step\n",
      "Epoch 147/200\n",
      "1/1 - 0s - loss: 0.3101 - accuracy: 0.9091 - 6ms/epoch - 6ms/step\n",
      "Epoch 148/200\n",
      "1/1 - 0s - loss: 0.3042 - accuracy: 0.9091 - 8ms/epoch - 8ms/step\n",
      "Epoch 149/200\n",
      "1/1 - 0s - loss: 0.2984 - accuracy: 0.9091 - 5ms/epoch - 5ms/step\n",
      "Epoch 150/200\n",
      "1/1 - 0s - loss: 0.2927 - accuracy: 0.9091 - 6ms/epoch - 6ms/step\n",
      "Epoch 151/200\n",
      "1/1 - 0s - loss: 0.2871 - accuracy: 0.9091 - 6ms/epoch - 6ms/step\n",
      "Epoch 152/200\n",
      "1/1 - 0s - loss: 0.2816 - accuracy: 0.9091 - 4ms/epoch - 4ms/step\n",
      "Epoch 153/200\n",
      "1/1 - 0s - loss: 0.2762 - accuracy: 0.9091 - 6ms/epoch - 6ms/step\n",
      "Epoch 154/200\n",
      "1/1 - 0s - loss: 0.2709 - accuracy: 0.9091 - 4ms/epoch - 4ms/step\n",
      "Epoch 155/200\n",
      "1/1 - 0s - loss: 0.2657 - accuracy: 0.9091 - 4ms/epoch - 4ms/step\n",
      "Epoch 156/200\n",
      "1/1 - 0s - loss: 0.2606 - accuracy: 1.0000 - 6ms/epoch - 6ms/step\n",
      "Epoch 157/200\n",
      "1/1 - 0s - loss: 0.2556 - accuracy: 1.0000 - 4ms/epoch - 4ms/step\n",
      "Epoch 158/200\n",
      "1/1 - 0s - loss: 0.2507 - accuracy: 1.0000 - 4ms/epoch - 4ms/step\n",
      "Epoch 159/200\n",
      "1/1 - 0s - loss: 0.2459 - accuracy: 1.0000 - 3ms/epoch - 3ms/step\n",
      "Epoch 160/200\n",
      "1/1 - 0s - loss: 0.2412 - accuracy: 1.0000 - 3ms/epoch - 3ms/step\n",
      "Epoch 161/200\n",
      "1/1 - 0s - loss: 0.2366 - accuracy: 1.0000 - 6ms/epoch - 6ms/step\n",
      "Epoch 162/200\n",
      "1/1 - 0s - loss: 0.2320 - accuracy: 1.0000 - 4ms/epoch - 4ms/step\n",
      "Epoch 163/200\n",
      "1/1 - 0s - loss: 0.2276 - accuracy: 1.0000 - 5ms/epoch - 5ms/step\n",
      "Epoch 164/200\n",
      "1/1 - 0s - loss: 0.2232 - accuracy: 1.0000 - 3ms/epoch - 3ms/step\n",
      "Epoch 165/200\n",
      "1/1 - 0s - loss: 0.2190 - accuracy: 1.0000 - 3ms/epoch - 3ms/step\n",
      "Epoch 166/200\n",
      "1/1 - 0s - loss: 0.2148 - accuracy: 1.0000 - 5ms/epoch - 5ms/step\n",
      "Epoch 167/200\n",
      "1/1 - 0s - loss: 0.2107 - accuracy: 1.0000 - 3ms/epoch - 3ms/step\n",
      "Epoch 168/200\n",
      "1/1 - 0s - loss: 0.2067 - accuracy: 1.0000 - 5ms/epoch - 5ms/step\n",
      "Epoch 169/200\n",
      "1/1 - 0s - loss: 0.2028 - accuracy: 1.0000 - 3ms/epoch - 3ms/step\n",
      "Epoch 170/200\n",
      "1/1 - 0s - loss: 0.1990 - accuracy: 1.0000 - 4ms/epoch - 4ms/step\n",
      "Epoch 171/200\n",
      "1/1 - 0s - loss: 0.1952 - accuracy: 1.0000 - 6ms/epoch - 6ms/step\n",
      "Epoch 172/200\n",
      "1/1 - 0s - loss: 0.1915 - accuracy: 1.0000 - 3ms/epoch - 3ms/step\n",
      "Epoch 173/200\n",
      "1/1 - 0s - loss: 0.1879 - accuracy: 1.0000 - 6ms/epoch - 6ms/step\n",
      "Epoch 174/200\n",
      "1/1 - 0s - loss: 0.1844 - accuracy: 1.0000 - 6ms/epoch - 6ms/step\n",
      "Epoch 175/200\n",
      "1/1 - 0s - loss: 0.1810 - accuracy: 1.0000 - 9ms/epoch - 9ms/step\n",
      "Epoch 176/200\n",
      "1/1 - 0s - loss: 0.1776 - accuracy: 1.0000 - 10ms/epoch - 10ms/step\n",
      "Epoch 177/200\n",
      "1/1 - 0s - loss: 0.1743 - accuracy: 1.0000 - 7ms/epoch - 7ms/step\n",
      "Epoch 178/200\n",
      "1/1 - 0s - loss: 0.1711 - accuracy: 1.0000 - 6ms/epoch - 6ms/step\n",
      "Epoch 179/200\n",
      "1/1 - 0s - loss: 0.1680 - accuracy: 1.0000 - 6ms/epoch - 6ms/step\n",
      "Epoch 180/200\n",
      "1/1 - 0s - loss: 0.1649 - accuracy: 1.0000 - 9ms/epoch - 9ms/step\n",
      "Epoch 181/200\n",
      "1/1 - 0s - loss: 0.1619 - accuracy: 1.0000 - 6ms/epoch - 6ms/step\n",
      "Epoch 182/200\n",
      "1/1 - 0s - loss: 0.1589 - accuracy: 1.0000 - 4ms/epoch - 4ms/step\n",
      "Epoch 183/200\n",
      "1/1 - 0s - loss: 0.1561 - accuracy: 1.0000 - 5ms/epoch - 5ms/step\n",
      "Epoch 184/200\n",
      "1/1 - 0s - loss: 0.1533 - accuracy: 1.0000 - 4ms/epoch - 4ms/step\n",
      "Epoch 185/200\n",
      "1/1 - 0s - loss: 0.1505 - accuracy: 1.0000 - 4ms/epoch - 4ms/step\n",
      "Epoch 186/200\n",
      "1/1 - 0s - loss: 0.1478 - accuracy: 1.0000 - 3ms/epoch - 3ms/step\n",
      "Epoch 187/200\n",
      "1/1 - 0s - loss: 0.1452 - accuracy: 1.0000 - 3ms/epoch - 3ms/step\n",
      "Epoch 188/200\n",
      "1/1 - 0s - loss: 0.1426 - accuracy: 1.0000 - 4ms/epoch - 4ms/step\n",
      "Epoch 189/200\n",
      "1/1 - 0s - loss: 0.1401 - accuracy: 1.0000 - 4ms/epoch - 4ms/step\n",
      "Epoch 190/200\n",
      "1/1 - 0s - loss: 0.1377 - accuracy: 1.0000 - 3ms/epoch - 3ms/step\n",
      "Epoch 191/200\n",
      "1/1 - 0s - loss: 0.1353 - accuracy: 1.0000 - 4ms/epoch - 4ms/step\n",
      "Epoch 192/200\n",
      "1/1 - 0s - loss: 0.1330 - accuracy: 1.0000 - 3ms/epoch - 3ms/step\n",
      "Epoch 193/200\n",
      "1/1 - 0s - loss: 0.1307 - accuracy: 1.0000 - 7ms/epoch - 7ms/step\n",
      "Epoch 194/200\n",
      "1/1 - 0s - loss: 0.1285 - accuracy: 1.0000 - 4ms/epoch - 4ms/step\n",
      "Epoch 195/200\n",
      "1/1 - 0s - loss: 0.1263 - accuracy: 1.0000 - 5ms/epoch - 5ms/step\n",
      "Epoch 196/200\n",
      "1/1 - 0s - loss: 0.1242 - accuracy: 1.0000 - 4ms/epoch - 4ms/step\n",
      "Epoch 197/200\n",
      "1/1 - 0s - loss: 0.1221 - accuracy: 1.0000 - 4ms/epoch - 4ms/step\n",
      "Epoch 198/200\n",
      "1/1 - 0s - loss: 0.1200 - accuracy: 1.0000 - 6ms/epoch - 6ms/step\n",
      "Epoch 199/200\n",
      "1/1 - 0s - loss: 0.1181 - accuracy: 1.0000 - 3ms/epoch - 3ms/step\n",
      "Epoch 200/200\n",
      "1/1 - 0s - loss: 0.1161 - accuracy: 1.0000 - 4ms/epoch - 4ms/step\n"
     ]
    },
    {
     "data": {
      "text/plain": [
       "<keras.callbacks.History at 0x1c395e22280>"
      ]
     },
     "execution_count": 26,
     "metadata": {},
     "output_type": "execute_result"
    }
   ],
   "source": [
    "# 임베딩 차원, 은닉상태 크기 설정, Fully Connected Layer\n",
    "embedding_dim = 10\n",
    "hidden_units = 32\n",
    "\n",
    "model = Sequential()\n",
    "model.add(Embedding(vocab_size, embedding_dim))  # 12 * 10\n",
    "model.add(SimpleRNN(hidden_units))  # hidden layer\n",
    "model.add(Dense(vocab_size, activation='softmax')) # 활성화 함수 통과\n",
    "model.compile(loss='categorical_crossentropy', optimizer='adam', metrics=['accuracy']) # y layer\n",
    "model.fit(X, y, epochs=200, verbose=2)"
   ]
  },
  {
   "cell_type": "code",
   "execution_count": 32,
   "id": "8bd1819f",
   "metadata": {},
   "outputs": [],
   "source": [
    "### 모델이 정확하게 예측하고 있는지 문장 생성 함수 만들기\n",
    "def sentence_generation(model, tokenizer, current_word, max_len, n):\n",
    "    \n",
    "    init_word = current_word\n",
    "    sentence = \"\"\n",
    "    \n",
    "    # n번 반복 : 반복횟수에 따라 예측 문장 길이가 달라짐\n",
    "    for _ in range(n):\n",
    "        # 전처리\n",
    "        encoded = tokenizer.texts_to_sequences([current_word])[0]\n",
    "        encoded = pad_sequences([encoded], maxlen=max_len, padding='pre')\n",
    "        \n",
    "        # 예측\n",
    "        result = model.predict(encoded, verbose=0)\n",
    "        result = np.argmax(result, axis=1)\n",
    "        \n",
    "        # 예측한 인덱스에 대한 단어 추출\n",
    "        for word, index in tokenizer.word_index.items():\n",
    "            if index == result:  # result 값이 인덱스와 동일하다면 stop\n",
    "                break\n",
    "        \n",
    "            # 현재 단어와 ' ' + 예측단어를 현재 단어로 변경\n",
    "        current_word = current_word + ' ' + word\n",
    "            \n",
    "            # 예측단어를 문장에 저장\n",
    "        sentence = sentence + ' ' + word\n",
    "    \n",
    "    sentence = init_word + sentence\n",
    "    return sentence"
   ]
  },
  {
   "cell_type": "code",
   "execution_count": 33,
   "id": "c0840eca",
   "metadata": {},
   "outputs": [
    {
     "name": "stdout",
     "output_type": "stream",
     "text": [
      "경마장에 있는 말이 뛰고 있다\n"
     ]
    }
   ],
   "source": [
    "print(sentence_generation(model, tokenizer, '경마장에', 5, 4))"
   ]
  },
  {
   "cell_type": "code",
   "execution_count": 35,
   "id": "9c87adc5",
   "metadata": {},
   "outputs": [
    {
     "name": "stdout",
     "output_type": "stream",
     "text": [
      "그의 말이 법이다\n"
     ]
    }
   ],
   "source": [
    "print(sentence_generation(model, tokenizer, '그의', 5, 2))"
   ]
  },
  {
   "cell_type": "code",
   "execution_count": 36,
   "id": "4c94f97e",
   "metadata": {},
   "outputs": [
    {
     "name": "stdout",
     "output_type": "stream",
     "text": [
      "가는 말이 고와야 오는 말이 곱다\n"
     ]
    }
   ],
   "source": [
    "print(sentence_generation(model, tokenizer, '가는', 5, 5))  "
   ]
  },
  {
   "cell_type": "markdown",
   "id": "c174a0a2",
   "metadata": {},
   "source": [
    "### 3. LSTM을 이용하여 텍스트 생성하기\n",
    "\n",
    "#### 1) 데이터에 대한 이해와 전처리\n",
    "\n",
    "* 뉴욕타임즈 기사 제목 \n",
    "https://www.kaggle.com/aashita/nyt-comments"
   ]
  },
  {
   "cell_type": "code",
   "execution_count": 37,
   "id": "9533a274",
   "metadata": {},
   "outputs": [],
   "source": [
    "from string import punctuation\n",
    "from tensorflow.keras.preprocessing.text import Tokenizer\n",
    "from tensorflow.keras.preprocessing.sequence import pad_sequences\n",
    "from tensorflow.keras.utils import to_categorical"
   ]
  },
  {
   "cell_type": "code",
   "execution_count": 38,
   "id": "4716c3ec",
   "metadata": {},
   "outputs": [
    {
     "data": {
      "text/html": [
       "<div>\n",
       "<style scoped>\n",
       "    .dataframe tbody tr th:only-of-type {\n",
       "        vertical-align: middle;\n",
       "    }\n",
       "\n",
       "    .dataframe tbody tr th {\n",
       "        vertical-align: top;\n",
       "    }\n",
       "\n",
       "    .dataframe thead th {\n",
       "        text-align: right;\n",
       "    }\n",
       "</style>\n",
       "<table border=\"1\" class=\"dataframe\">\n",
       "  <thead>\n",
       "    <tr style=\"text-align: right;\">\n",
       "      <th></th>\n",
       "      <th>articleID</th>\n",
       "      <th>articleWordCount</th>\n",
       "      <th>byline</th>\n",
       "      <th>documentType</th>\n",
       "      <th>headline</th>\n",
       "      <th>keywords</th>\n",
       "      <th>multimedia</th>\n",
       "      <th>newDesk</th>\n",
       "      <th>printPage</th>\n",
       "      <th>pubDate</th>\n",
       "      <th>sectionName</th>\n",
       "      <th>snippet</th>\n",
       "      <th>source</th>\n",
       "      <th>typeOfMaterial</th>\n",
       "      <th>webURL</th>\n",
       "    </tr>\n",
       "  </thead>\n",
       "  <tbody>\n",
       "    <tr>\n",
       "      <th>1319</th>\n",
       "      <td>5ae82c93068401528a2ab969</td>\n",
       "      <td>1004</td>\n",
       "      <td>By CLAIRE CAIN MILLER</td>\n",
       "      <td>article</td>\n",
       "      <td>This Common Question Reinforces the Gender Pay...</td>\n",
       "      <td>['Discrimination', 'Wages and Salaries', 'Labo...</td>\n",
       "      <td>68</td>\n",
       "      <td>Upshot</td>\n",
       "      <td>3</td>\n",
       "      <td>2018-05-01 09:00:01</td>\n",
       "      <td>Unknown</td>\n",
       "      <td>Several states and cities have ordered employe...</td>\n",
       "      <td>The New York Times</td>\n",
       "      <td>News</td>\n",
       "      <td>https://www.nytimes.com/2018/05/01/upshot/how-...</td>\n",
       "    </tr>\n",
       "    <tr>\n",
       "      <th>1320</th>\n",
       "      <td>5ae82c95068401528a2ab96b</td>\n",
       "      <td>1043</td>\n",
       "      <td>By TRACY J. GATES</td>\n",
       "      <td>article</td>\n",
       "      <td>Anna, Llama and Me</td>\n",
       "      <td>['Friendship', 'Dewdney, Anna', 'Writing and W...</td>\n",
       "      <td>65</td>\n",
       "      <td>Well</td>\n",
       "      <td>0</td>\n",
       "      <td>2018-05-01 09:00:02</td>\n",
       "      <td>Family</td>\n",
       "      <td>The beginning, middle and end of a picture boo...</td>\n",
       "      <td>The New York Times</td>\n",
       "      <td>News</td>\n",
       "      <td>https://www.nytimes.com/2018/05/01/well/family...</td>\n",
       "    </tr>\n",
       "    <tr>\n",
       "      <th>1321</th>\n",
       "      <td>5ae82c9d068401528a2ab96d</td>\n",
       "      <td>659</td>\n",
       "      <td>Interview by AUDIE CORNISH</td>\n",
       "      <td>article</td>\n",
       "      <td>Gen. Michael Hayden Has One Regret: Russia</td>\n",
       "      <td>['Classified Information and State Secrets', '...</td>\n",
       "      <td>66</td>\n",
       "      <td>Magazine</td>\n",
       "      <td>70</td>\n",
       "      <td>2018-05-01 09:00:06</td>\n",
       "      <td>Unknown</td>\n",
       "      <td>The former N.S.A. and C.I.A. chief on Trump, S...</td>\n",
       "      <td>The New York Times</td>\n",
       "      <td>News</td>\n",
       "      <td>https://www.nytimes.com/2018/05/01/magazine/ge...</td>\n",
       "    </tr>\n",
       "    <tr>\n",
       "      <th>1322</th>\n",
       "      <td>5ae82c9f068401528a2ab96f</td>\n",
       "      <td>1155</td>\n",
       "      <td>By JASON ROBERT BROWN</td>\n",
       "      <td>article</td>\n",
       "      <td>There Is Nothin’ Like a Tune</td>\n",
       "      <td>['Books and Literature', 'Purdum, Todd S', 'Th...</td>\n",
       "      <td>68</td>\n",
       "      <td>BookReview</td>\n",
       "      <td>17</td>\n",
       "      <td>2018-05-01 09:00:07</td>\n",
       "      <td>Book Review</td>\n",
       "      <td>In “Something Wonderful,” Todd S. Purdum analy...</td>\n",
       "      <td>The New York Times</td>\n",
       "      <td>Review</td>\n",
       "      <td>https://www.nytimes.com/2018/05/01/books/revie...</td>\n",
       "    </tr>\n",
       "    <tr>\n",
       "      <th>1323</th>\n",
       "      <td>5ae82ca3068401528a2ab97a</td>\n",
       "      <td>2055</td>\n",
       "      <td>By MICHAEL PAULSON</td>\n",
       "      <td>article</td>\n",
       "      <td>Unknown</td>\n",
       "      <td>['Theater', 'Tony Awards (Theater Awards)', 'A...</td>\n",
       "      <td>68</td>\n",
       "      <td>Culture</td>\n",
       "      <td>0</td>\n",
       "      <td>2018-05-01 09:00:09</td>\n",
       "      <td>Unknown</td>\n",
       "      <td>A pair of two-part productions, “Harry Potter ...</td>\n",
       "      <td>The New York Times</td>\n",
       "      <td>News</td>\n",
       "      <td>https://www.nytimes.com/2018/05/01/theater/ton...</td>\n",
       "    </tr>\n",
       "  </tbody>\n",
       "</table>\n",
       "</div>"
      ],
      "text/plain": [
       "                     articleID  articleWordCount                      byline  \\\n",
       "1319  5ae82c93068401528a2ab969              1004       By CLAIRE CAIN MILLER   \n",
       "1320  5ae82c95068401528a2ab96b              1043           By TRACY J. GATES   \n",
       "1321  5ae82c9d068401528a2ab96d               659  Interview by AUDIE CORNISH   \n",
       "1322  5ae82c9f068401528a2ab96f              1155       By JASON ROBERT BROWN   \n",
       "1323  5ae82ca3068401528a2ab97a              2055          By MICHAEL PAULSON   \n",
       "\n",
       "     documentType                                           headline  \\\n",
       "1319      article  This Common Question Reinforces the Gender Pay...   \n",
       "1320      article                                 Anna, Llama and Me   \n",
       "1321      article         Gen. Michael Hayden Has One Regret: Russia   \n",
       "1322      article                       There Is Nothin’ Like a Tune   \n",
       "1323      article                                            Unknown   \n",
       "\n",
       "                                               keywords  multimedia  \\\n",
       "1319  ['Discrimination', 'Wages and Salaries', 'Labo...          68   \n",
       "1320  ['Friendship', 'Dewdney, Anna', 'Writing and W...          65   \n",
       "1321  ['Classified Information and State Secrets', '...          66   \n",
       "1322  ['Books and Literature', 'Purdum, Todd S', 'Th...          68   \n",
       "1323  ['Theater', 'Tony Awards (Theater Awards)', 'A...          68   \n",
       "\n",
       "         newDesk  printPage              pubDate  sectionName  \\\n",
       "1319      Upshot          3  2018-05-01 09:00:01      Unknown   \n",
       "1320        Well          0  2018-05-01 09:00:02       Family   \n",
       "1321    Magazine         70  2018-05-01 09:00:06      Unknown   \n",
       "1322  BookReview         17  2018-05-01 09:00:07  Book Review   \n",
       "1323     Culture          0  2018-05-01 09:00:09      Unknown   \n",
       "\n",
       "                                                snippet              source  \\\n",
       "1319  Several states and cities have ordered employe...  The New York Times   \n",
       "1320  The beginning, middle and end of a picture boo...  The New York Times   \n",
       "1321  The former N.S.A. and C.I.A. chief on Trump, S...  The New York Times   \n",
       "1322  In “Something Wonderful,” Todd S. Purdum analy...  The New York Times   \n",
       "1323  A pair of two-part productions, “Harry Potter ...  The New York Times   \n",
       "\n",
       "     typeOfMaterial                                             webURL  \n",
       "1319           News  https://www.nytimes.com/2018/05/01/upshot/how-...  \n",
       "1320           News  https://www.nytimes.com/2018/05/01/well/family...  \n",
       "1321           News  https://www.nytimes.com/2018/05/01/magazine/ge...  \n",
       "1322         Review  https://www.nytimes.com/2018/05/01/books/revie...  \n",
       "1323           News  https://www.nytimes.com/2018/05/01/theater/ton...  "
      ]
     },
     "execution_count": 38,
     "metadata": {},
     "output_type": "execute_result"
    }
   ],
   "source": [
    "df = pd.read_csv('ArticlesApril2018.csv')\n",
    "df.tail()"
   ]
  },
  {
   "cell_type": "code",
   "execution_count": 39,
   "id": "d5027d04",
   "metadata": {},
   "outputs": [
    {
     "data": {
      "text/plain": [
       "Index(['articleID', 'articleWordCount', 'byline', 'documentType', 'headline',\n",
       "       'keywords', 'multimedia', 'newDesk', 'printPage', 'pubDate',\n",
       "       'sectionName', 'snippet', 'source', 'typeOfMaterial', 'webURL'],\n",
       "      dtype='object')"
      ]
     },
     "execution_count": 39,
     "metadata": {},
     "output_type": "execute_result"
    }
   ],
   "source": [
    "df.columns"
   ]
  },
  {
   "cell_type": "code",
   "execution_count": 40,
   "id": "1bb5847d",
   "metadata": {},
   "outputs": [
    {
     "data": {
      "text/plain": [
       "(1324, 15)"
      ]
     },
     "execution_count": 40,
     "metadata": {},
     "output_type": "execute_result"
    }
   ],
   "source": [
    "df.shape"
   ]
  },
  {
   "cell_type": "code",
   "execution_count": 41,
   "id": "0f672905",
   "metadata": {},
   "outputs": [
    {
     "name": "stdout",
     "output_type": "stream",
     "text": [
      "0\n"
     ]
    }
   ],
   "source": [
    "### headline 사용, null 값 확인\n",
    "print(df.headline.isnull().sum())"
   ]
  },
  {
   "cell_type": "code",
   "execution_count": 45,
   "id": "61e7aaa7",
   "metadata": {},
   "outputs": [
    {
     "data": {
      "text/plain": [
       "['Former N.F.L. Cheerleaders’ Settlement Offer: $1 and a Meeting With Goodell',\n",
       " 'E.P.A. to Unveil a New Rule. Its Effect: Less Science in Policymaking.',\n",
       " 'The New Noma, Explained',\n",
       " 'Unknown',\n",
       " 'Unknown']"
      ]
     },
     "execution_count": 45,
     "metadata": {},
     "output_type": "execute_result"
    }
   ],
   "source": [
    "## 헤드라인 리스트 작성\n",
    "headlines = list(df.headline.values)\n",
    "headlines[:5]"
   ]
  },
  {
   "cell_type": "code",
   "execution_count": 46,
   "id": "ddd7550c",
   "metadata": {},
   "outputs": [
    {
     "data": {
      "text/plain": [
       "['Former N.F.L. Cheerleaders’ Settlement Offer: $1 and a Meeting With Goodell',\n",
       " 'E.P.A. to Unveil a New Rule. Its Effect: Less Science in Policymaking.',\n",
       " 'The New Noma, Explained',\n",
       " 'How a Bag of Texas Dirt  Became a Times Tradition',\n",
       " 'Is School a Place for Self-Expression?']"
      ]
     },
     "execution_count": 46,
     "metadata": {},
     "output_type": "execute_result"
    }
   ],
   "source": [
    "### Unknown 샘플 제거\n",
    "headlines = [line for line in headlines if line != 'Unknown']\n",
    "headlines[:5]"
   ]
  },
  {
   "cell_type": "code",
   "execution_count": 47,
   "id": "704f5a99",
   "metadata": {},
   "outputs": [
    {
     "data": {
      "text/plain": [
       "1214"
      ]
     },
     "execution_count": 47,
     "metadata": {},
     "output_type": "execute_result"
    }
   ],
   "source": [
    "len(headlines)"
   ]
  },
  {
   "cell_type": "code",
   "execution_count": 50,
   "id": "fbf53b81",
   "metadata": {},
   "outputs": [],
   "source": [
    "    # 구두점 제거, 소문자 변환\n",
    "def repreprocessing(raw_sentence):\n",
    "    preprocessed_sentence = raw_sentence.encode('utf8').decode('ascii', 'ignore')\n",
    "    return ''.join(word for word in preprocessed_sentence if word not in punctuation).lower()"
   ]
  },
  {
   "cell_type": "code",
   "execution_count": 51,
   "id": "9301bb56",
   "metadata": {},
   "outputs": [
    {
     "data": {
      "text/plain": [
       "['former nfl cheerleaders settlement offer 1 and a meeting with goodell',\n",
       " 'epa to unveil a new rule its effect less science in policymaking',\n",
       " 'the new noma explained',\n",
       " 'how a bag of texas dirt  became a times tradition',\n",
       " 'is school a place for selfexpression']"
      ]
     },
     "execution_count": 51,
     "metadata": {},
     "output_type": "execute_result"
    }
   ],
   "source": [
    "preprocessed_headlines = [repreprocessing(line) for line in headlines]\n",
    "preprocessed_headlines[:5]"
   ]
  },
  {
   "cell_type": "code",
   "execution_count": 52,
   "id": "9ba3fbd2",
   "metadata": {},
   "outputs": [
    {
     "name": "stdout",
     "output_type": "stream",
     "text": [
      "토큰 크기: 3494\n"
     ]
    }
   ],
   "source": [
    "### 토큰 만들기\n",
    "tokenizer = Tokenizer()\n",
    "tokenizer.fit_on_texts(preprocessed_headlines)\n",
    "vocab_size = len(tokenizer.word_index) + 1\n",
    "print('토큰 크기: %d' % vocab_size)"
   ]
  },
  {
   "cell_type": "code",
   "execution_count": 57,
   "id": "78bd46bd",
   "metadata": {},
   "outputs": [
    {
     "data": {
      "text/plain": [
       "[[99, 269],\n",
       " [99, 269, 371],\n",
       " [99, 269, 371, 1115],\n",
       " [99, 269, 371, 1115, 582],\n",
       " [99, 269, 371, 1115, 582, 52],\n",
       " [99, 269, 371, 1115, 582, 52, 7],\n",
       " [99, 269, 371, 1115, 582, 52, 7, 2],\n",
       " [99, 269, 371, 1115, 582, 52, 7, 2, 372],\n",
       " [99, 269, 371, 1115, 582, 52, 7, 2, 372, 10],\n",
       " [99, 269, 371, 1115, 582, 52, 7, 2, 372, 10, 1116],\n",
       " [100, 3]]"
      ]
     },
     "execution_count": 57,
     "metadata": {},
     "output_type": "execute_result"
    }
   ],
   "source": [
    "### 정수인코딩 + 학습데이터 생성 : 모든 헤드라인에 대해 각 단어가 각 시점(time step)마다 하나씩 추가적으로 등장하는형태로 만듦\n",
    "seqences = []\n",
    "\n",
    "i = 0\n",
    "for sequence in preprocessed_headlines:\n",
    "    #print(sequence)\n",
    "    encoded = tokenizer.texts_to_sequences([sequence])[0]\n",
    "    #print(encoded)\n",
    "    for j in range(1, len(encoded)):\n",
    "        sequence = encoded[:j+1]\n",
    "        #print(sequence)\n",
    "        seqences.append(sequence)\n",
    "        \n",
    "seqences[:11]  # 첫번째 문장에 대한 정수인코딩 결과와 두번째 문장 시작"
   ]
  },
  {
   "cell_type": "code",
   "execution_count": 61,
   "id": "35319e9b",
   "metadata": {},
   "outputs": [
    {
     "data": {
      "text/plain": [
       "11"
      ]
     },
     "execution_count": 61,
     "metadata": {},
     "output_type": "execute_result"
    }
   ],
   "source": [
    "len(preprocessed_headlines[0].split(' '))"
   ]
  },
  {
   "cell_type": "code",
   "execution_count": 62,
   "id": "7e6a7ecf",
   "metadata": {},
   "outputs": [
    {
     "name": "stdout",
     "output_type": "stream",
     "text": [
      "빈도수 상위 582번 단어 : offer\n"
     ]
    }
   ],
   "source": [
    "# 예측단어에 대해서도 정수인코딩\n",
    "\n",
    "# index를 단어로 바꾸기\n",
    "index_to_word = {}\n",
    "for key, value in tokenizer.word_index.items():\n",
    "    index_to_word[value] = key\n",
    "    \n",
    "print('빈도수 상위 582번 단어 : {}'.format(index_to_word[582]))"
   ]
  },
  {
   "cell_type": "code",
   "execution_count": 64,
   "id": "96859b16",
   "metadata": {},
   "outputs": [
    {
     "name": "stdout",
     "output_type": "stream",
     "text": [
      "빈도수 상위 10번 단어 : with\n"
     ]
    }
   ],
   "source": [
    "print('빈도수 상위 10번 단어 : {}'.format(index_to_word[10]))"
   ]
  },
  {
   "cell_type": "code",
   "execution_count": 75,
   "id": "e605bdb5",
   "metadata": {},
   "outputs": [
    {
     "name": "stdout",
     "output_type": "stream",
     "text": [
      "[[   0    0    0    0    0    0    0    0    0    0    0    0    0    0\n",
      "     0    0    0    0    0    0    0    0   99  269]\n",
      " [   0    0    0    0    0    0    0    0    0    0    0    0    0    0\n",
      "     0    0    0    0    0    0    0   99  269  371]\n",
      " [   0    0    0    0    0    0    0    0    0    0    0    0    0    0\n",
      "     0    0    0    0    0    0   99  269  371 1115]]\n"
     ]
    }
   ],
   "source": [
    "## 샘플 최대길이로 패딩 전처리\n",
    "max_len = max(len(word) for word in seqences)  # 24\n",
    "sequences = pad_sequences(seqences, maxlen=max_len, padding='pre')\n",
    "print(sequences[:3])"
   ]
  },
  {
   "cell_type": "code",
   "execution_count": 76,
   "id": "b577701a",
   "metadata": {},
   "outputs": [
    {
     "data": {
      "text/plain": [
       "array([[  0,   0,   0,   0,   0,   0,   0,   0,   0,   0,   0,   0,   0,\n",
       "          0,   0,   0,   0,   0,   0,   0,   0,   0,  99],\n",
       "       [  0,   0,   0,   0,   0,   0,   0,   0,   0,   0,   0,   0,   0,\n",
       "          0,   0,   0,   0,   0,   0,   0,   0,  99, 269],\n",
       "       [  0,   0,   0,   0,   0,   0,   0,   0,   0,   0,   0,   0,   0,\n",
       "          0,   0,   0,   0,   0,   0,   0,  99, 269, 371]])"
      ]
     },
     "execution_count": 76,
     "metadata": {},
     "output_type": "execute_result"
    }
   ],
   "source": [
    "### X, y 데이터 분리\n",
    "X = np.array(sequences)[:, :-1]\n",
    "y = np.array(sequences)[:, -1]\n",
    "X[:3]"
   ]
  },
  {
   "cell_type": "code",
   "execution_count": 77,
   "id": "b16c1245",
   "metadata": {},
   "outputs": [
    {
     "data": {
      "text/plain": [
       "array([ 269,  371, 1115])"
      ]
     },
     "execution_count": 77,
     "metadata": {},
     "output_type": "execute_result"
    }
   ],
   "source": [
    "y[:3]"
   ]
  },
  {
   "cell_type": "code",
   "execution_count": 78,
   "id": "a6c8d57f",
   "metadata": {},
   "outputs": [
    {
     "data": {
      "text/plain": [
       "array([0., 0., 0., ..., 0., 0., 0.], dtype=float32)"
      ]
     },
     "execution_count": 78,
     "metadata": {},
     "output_type": "execute_result"
    }
   ],
   "source": [
    "y = to_categorical(y, num_classes=vocab_size)\n",
    "\n",
    "y[0]"
   ]
  },
  {
   "cell_type": "markdown",
   "id": "79aaee74",
   "metadata": {},
   "source": [
    "#### 2) 모델 설계하기"
   ]
  },
  {
   "cell_type": "code",
   "execution_count": 79,
   "id": "37c46bd7",
   "metadata": {},
   "outputs": [],
   "source": [
    "from tensorflow.keras.models import Sequential\n",
    "from tensorflow.keras.layers import Embedding, Dense, LSTM"
   ]
  },
  {
   "cell_type": "code",
   "execution_count": 82,
   "id": "70e11087",
   "metadata": {},
   "outputs": [
    {
     "name": "stdout",
     "output_type": "stream",
     "text": [
      "Epoch 1/200\n",
      "244/244 - 6s - loss: 7.6595 - accuracy: 0.0296 - 6s/epoch - 24ms/step\n",
      "Epoch 2/200\n",
      "244/244 - 4s - loss: 7.1170 - accuracy: 0.0308 - 4s/epoch - 17ms/step\n",
      "Epoch 3/200\n",
      "244/244 - 4s - loss: 6.9762 - accuracy: 0.0354 - 4s/epoch - 17ms/step\n",
      "Epoch 4/200\n",
      "244/244 - 4s - loss: 6.8463 - accuracy: 0.0415 - 4s/epoch - 17ms/step\n",
      "Epoch 5/200\n",
      "244/244 - 4s - loss: 6.6984 - accuracy: 0.0451 - 4s/epoch - 17ms/step\n",
      "Epoch 6/200\n",
      "244/244 - 4s - loss: 6.5354 - accuracy: 0.0486 - 4s/epoch - 18ms/step\n",
      "Epoch 7/200\n",
      "244/244 - 4s - loss: 6.3457 - accuracy: 0.0510 - 4s/epoch - 17ms/step\n",
      "Epoch 8/200\n",
      "244/244 - 4s - loss: 6.1409 - accuracy: 0.0563 - 4s/epoch - 17ms/step\n",
      "Epoch 9/200\n",
      "244/244 - 4s - loss: 5.9372 - accuracy: 0.0605 - 4s/epoch - 18ms/step\n",
      "Epoch 10/200\n",
      "244/244 - 4s - loss: 5.7447 - accuracy: 0.0687 - 4s/epoch - 17ms/step\n",
      "Epoch 11/200\n",
      "244/244 - 4s - loss: 5.5663 - accuracy: 0.0727 - 4s/epoch - 17ms/step\n",
      "Epoch 12/200\n",
      "244/244 - 4s - loss: 5.4006 - accuracy: 0.0764 - 4s/epoch - 17ms/step\n",
      "Epoch 13/200\n",
      "244/244 - 4s - loss: 5.2422 - accuracy: 0.0816 - 4s/epoch - 17ms/step\n",
      "Epoch 14/200\n",
      "244/244 - 4s - loss: 5.0917 - accuracy: 0.0906 - 4s/epoch - 17ms/step\n",
      "Epoch 15/200\n",
      "244/244 - 4s - loss: 4.9488 - accuracy: 0.0945 - 4s/epoch - 17ms/step\n",
      "Epoch 16/200\n",
      "244/244 - 4s - loss: 4.8136 - accuracy: 0.1077 - 4s/epoch - 17ms/step\n",
      "Epoch 17/200\n",
      "244/244 - 4s - loss: 4.6808 - accuracy: 0.1202 - 4s/epoch - 17ms/step\n",
      "Epoch 18/200\n",
      "244/244 - 4s - loss: 4.5518 - accuracy: 0.1339 - 4s/epoch - 17ms/step\n",
      "Epoch 19/200\n",
      "244/244 - 4s - loss: 4.4264 - accuracy: 0.1493 - 4s/epoch - 17ms/step\n",
      "Epoch 20/200\n",
      "244/244 - 4s - loss: 4.3063 - accuracy: 0.1674 - 4s/epoch - 17ms/step\n",
      "Epoch 21/200\n",
      "244/244 - 4s - loss: 4.1879 - accuracy: 0.1833 - 4s/epoch - 17ms/step\n",
      "Epoch 22/200\n",
      "244/244 - 4s - loss: 4.0745 - accuracy: 0.2015 - 4s/epoch - 17ms/step\n",
      "Epoch 23/200\n",
      "244/244 - 4s - loss: 3.9660 - accuracy: 0.2148 - 4s/epoch - 17ms/step\n",
      "Epoch 24/200\n",
      "244/244 - 4s - loss: 3.8544 - accuracy: 0.2371 - 4s/epoch - 17ms/step\n",
      "Epoch 25/200\n",
      "244/244 - 4s - loss: 3.7497 - accuracy: 0.2511 - 4s/epoch - 17ms/step\n",
      "Epoch 26/200\n",
      "244/244 - 4s - loss: 3.6483 - accuracy: 0.2689 - 4s/epoch - 17ms/step\n",
      "Epoch 27/200\n",
      "244/244 - 4s - loss: 3.5528 - accuracy: 0.2904 - 4s/epoch - 17ms/step\n",
      "Epoch 28/200\n",
      "244/244 - 4s - loss: 3.4564 - accuracy: 0.3069 - 4s/epoch - 17ms/step\n",
      "Epoch 29/200\n",
      "244/244 - 4s - loss: 3.3646 - accuracy: 0.3241 - 4s/epoch - 17ms/step\n",
      "Epoch 30/200\n",
      "244/244 - 4s - loss: 3.2749 - accuracy: 0.3414 - 4s/epoch - 17ms/step\n",
      "Epoch 31/200\n",
      "244/244 - 4s - loss: 3.1885 - accuracy: 0.3619 - 4s/epoch - 17ms/step\n",
      "Epoch 32/200\n",
      "244/244 - 4s - loss: 3.1047 - accuracy: 0.3683 - 4s/epoch - 17ms/step\n",
      "Epoch 33/200\n",
      "244/244 - 4s - loss: 3.0237 - accuracy: 0.3834 - 4s/epoch - 17ms/step\n",
      "Epoch 34/200\n",
      "244/244 - 4s - loss: 2.9438 - accuracy: 0.4016 - 4s/epoch - 17ms/step\n",
      "Epoch 35/200\n",
      "244/244 - 4s - loss: 2.8667 - accuracy: 0.4138 - 4s/epoch - 17ms/step\n",
      "Epoch 36/200\n",
      "244/244 - 4s - loss: 2.7959 - accuracy: 0.4283 - 4s/epoch - 17ms/step\n",
      "Epoch 37/200\n",
      "244/244 - 4s - loss: 2.7252 - accuracy: 0.4462 - 4s/epoch - 17ms/step\n",
      "Epoch 38/200\n",
      "244/244 - 4s - loss: 2.6533 - accuracy: 0.4571 - 4s/epoch - 17ms/step\n",
      "Epoch 39/200\n",
      "244/244 - 4s - loss: 2.5919 - accuracy: 0.4671 - 4s/epoch - 17ms/step\n",
      "Epoch 40/200\n",
      "244/244 - 4s - loss: 2.5256 - accuracy: 0.4819 - 4s/epoch - 17ms/step\n",
      "Epoch 41/200\n",
      "244/244 - 4s - loss: 2.4630 - accuracy: 0.4920 - 4s/epoch - 17ms/step\n",
      "Epoch 42/200\n",
      "244/244 - 4s - loss: 2.4014 - accuracy: 0.5051 - 4s/epoch - 17ms/step\n",
      "Epoch 43/200\n",
      "244/244 - 4s - loss: 2.3449 - accuracy: 0.5212 - 4s/epoch - 17ms/step\n",
      "Epoch 44/200\n",
      "244/244 - 4s - loss: 2.2864 - accuracy: 0.5325 - 4s/epoch - 17ms/step\n",
      "Epoch 45/200\n",
      "244/244 - 4s - loss: 2.2307 - accuracy: 0.5425 - 4s/epoch - 17ms/step\n",
      "Epoch 46/200\n",
      "244/244 - 5s - loss: 2.1784 - accuracy: 0.5556 - 5s/epoch - 19ms/step\n",
      "Epoch 47/200\n",
      "244/244 - 4s - loss: 2.1263 - accuracy: 0.5653 - 4s/epoch - 18ms/step\n",
      "Epoch 48/200\n",
      "244/244 - 4s - loss: 2.0754 - accuracy: 0.5766 - 4s/epoch - 17ms/step\n",
      "Epoch 49/200\n",
      "244/244 - 4s - loss: 2.0272 - accuracy: 0.5839 - 4s/epoch - 18ms/step\n",
      "Epoch 50/200\n",
      "244/244 - 4s - loss: 1.9770 - accuracy: 0.5971 - 4s/epoch - 17ms/step\n",
      "Epoch 51/200\n",
      "244/244 - 4s - loss: 1.9300 - accuracy: 0.6078 - 4s/epoch - 17ms/step\n",
      "Epoch 52/200\n",
      "244/244 - 4s - loss: 1.8845 - accuracy: 0.6135 - 4s/epoch - 17ms/step\n",
      "Epoch 53/200\n",
      "244/244 - 4s - loss: 1.8429 - accuracy: 0.6275 - 4s/epoch - 17ms/step\n",
      "Epoch 54/200\n",
      "244/244 - 4s - loss: 1.7987 - accuracy: 0.6377 - 4s/epoch - 18ms/step\n",
      "Epoch 55/200\n",
      "244/244 - 4s - loss: 1.7555 - accuracy: 0.6462 - 4s/epoch - 17ms/step\n",
      "Epoch 56/200\n",
      "244/244 - 4s - loss: 1.7164 - accuracy: 0.6544 - 4s/epoch - 17ms/step\n",
      "Epoch 57/200\n",
      "244/244 - 4s - loss: 1.6723 - accuracy: 0.6617 - 4s/epoch - 17ms/step\n",
      "Epoch 58/200\n",
      "244/244 - 4s - loss: 1.6334 - accuracy: 0.6728 - 4s/epoch - 17ms/step\n",
      "Epoch 59/200\n",
      "244/244 - 4s - loss: 1.5955 - accuracy: 0.6803 - 4s/epoch - 18ms/step\n",
      "Epoch 60/200\n",
      "244/244 - 4s - loss: 1.5584 - accuracy: 0.6865 - 4s/epoch - 17ms/step\n",
      "Epoch 61/200\n",
      "244/244 - 4s - loss: 1.5241 - accuracy: 0.6951 - 4s/epoch - 17ms/step\n",
      "Epoch 62/200\n",
      "244/244 - 4s - loss: 1.4888 - accuracy: 0.7018 - 4s/epoch - 17ms/step\n",
      "Epoch 63/200\n",
      "244/244 - 4s - loss: 1.4523 - accuracy: 0.7086 - 4s/epoch - 17ms/step\n",
      "Epoch 64/200\n",
      "244/244 - 4s - loss: 1.4171 - accuracy: 0.7182 - 4s/epoch - 17ms/step\n",
      "Epoch 65/200\n",
      "244/244 - 4s - loss: 1.3852 - accuracy: 0.7245 - 4s/epoch - 17ms/step\n",
      "Epoch 66/200\n",
      "244/244 - 4s - loss: 1.3541 - accuracy: 0.7300 - 4s/epoch - 17ms/step\n",
      "Epoch 67/200\n",
      "244/244 - 4s - loss: 1.3234 - accuracy: 0.7389 - 4s/epoch - 17ms/step\n",
      "Epoch 68/200\n",
      "244/244 - 4s - loss: 1.2931 - accuracy: 0.7420 - 4s/epoch - 18ms/step\n",
      "Epoch 69/200\n",
      "244/244 - 4s - loss: 1.2623 - accuracy: 0.7515 - 4s/epoch - 18ms/step\n",
      "Epoch 70/200\n",
      "244/244 - 4s - loss: 1.2327 - accuracy: 0.7561 - 4s/epoch - 17ms/step\n",
      "Epoch 71/200\n",
      "244/244 - 4s - loss: 1.2062 - accuracy: 0.7619 - 4s/epoch - 18ms/step\n",
      "Epoch 72/200\n",
      "244/244 - 4s - loss: 1.1788 - accuracy: 0.7670 - 4s/epoch - 17ms/step\n",
      "Epoch 73/200\n",
      "244/244 - 4s - loss: 1.1532 - accuracy: 0.7716 - 4s/epoch - 17ms/step\n",
      "Epoch 74/200\n",
      "244/244 - 4s - loss: 1.1244 - accuracy: 0.7789 - 4s/epoch - 17ms/step\n",
      "Epoch 75/200\n",
      "244/244 - 4s - loss: 1.0977 - accuracy: 0.7859 - 4s/epoch - 17ms/step\n",
      "Epoch 76/200\n",
      "244/244 - 4s - loss: 1.0745 - accuracy: 0.7884 - 4s/epoch - 17ms/step\n",
      "Epoch 77/200\n",
      "244/244 - 4s - loss: 1.0505 - accuracy: 0.7967 - 4s/epoch - 17ms/step\n",
      "Epoch 78/200\n",
      "244/244 - 4s - loss: 1.0260 - accuracy: 0.7991 - 4s/epoch - 18ms/step\n",
      "Epoch 79/200\n",
      "244/244 - 4s - loss: 1.0041 - accuracy: 0.8038 - 4s/epoch - 17ms/step\n",
      "Epoch 80/200\n",
      "244/244 - 4s - loss: 0.9830 - accuracy: 0.8065 - 4s/epoch - 17ms/step\n",
      "Epoch 81/200\n",
      "244/244 - 4s - loss: 0.9584 - accuracy: 0.8087 - 4s/epoch - 17ms/step\n",
      "Epoch 82/200\n",
      "244/244 - 4s - loss: 0.9360 - accuracy: 0.8169 - 4s/epoch - 17ms/step\n",
      "Epoch 83/200\n",
      "244/244 - 4s - loss: 0.9157 - accuracy: 0.8202 - 4s/epoch - 18ms/step\n",
      "Epoch 84/200\n",
      "244/244 - 4s - loss: 0.8974 - accuracy: 0.8219 - 4s/epoch - 17ms/step\n",
      "Epoch 85/200\n",
      "244/244 - 4s - loss: 0.8764 - accuracy: 0.8267 - 4s/epoch - 17ms/step\n",
      "Epoch 86/200\n",
      "244/244 - 4s - loss: 0.8558 - accuracy: 0.8337 - 4s/epoch - 17ms/step\n",
      "Epoch 87/200\n",
      "244/244 - 4s - loss: 0.8377 - accuracy: 0.8325 - 4s/epoch - 17ms/step\n",
      "Epoch 88/200\n",
      "244/244 - 4s - loss: 0.8224 - accuracy: 0.8365 - 4s/epoch - 17ms/step\n",
      "Epoch 89/200\n",
      "244/244 - 4s - loss: 0.8025 - accuracy: 0.8415 - 4s/epoch - 17ms/step\n",
      "Epoch 90/200\n",
      "244/244 - 4s - loss: 0.7827 - accuracy: 0.8454 - 4s/epoch - 17ms/step\n",
      "Epoch 91/200\n",
      "244/244 - 4s - loss: 0.7648 - accuracy: 0.8470 - 4s/epoch - 18ms/step\n",
      "Epoch 92/200\n",
      "244/244 - 4s - loss: 0.7497 - accuracy: 0.8517 - 4s/epoch - 17ms/step\n",
      "Epoch 93/200\n",
      "244/244 - 4s - loss: 0.7329 - accuracy: 0.8503 - 4s/epoch - 18ms/step\n",
      "Epoch 94/200\n",
      "244/244 - 4s - loss: 0.7155 - accuracy: 0.8592 - 4s/epoch - 17ms/step\n",
      "Epoch 95/200\n",
      "244/244 - 4s - loss: 0.7044 - accuracy: 0.8611 - 4s/epoch - 17ms/step\n",
      "Epoch 96/200\n",
      "244/244 - 4s - loss: 0.6859 - accuracy: 0.8621 - 4s/epoch - 18ms/step\n",
      "Epoch 97/200\n",
      "244/244 - 4s - loss: 0.6701 - accuracy: 0.8666 - 4s/epoch - 18ms/step\n",
      "Epoch 98/200\n",
      "244/244 - 4s - loss: 0.6550 - accuracy: 0.8703 - 4s/epoch - 18ms/step\n",
      "Epoch 99/200\n",
      "244/244 - 4s - loss: 0.6422 - accuracy: 0.8725 - 4s/epoch - 18ms/step\n"
     ]
    },
    {
     "name": "stdout",
     "output_type": "stream",
     "text": [
      "Epoch 100/200\n",
      "244/244 - 4s - loss: 0.6295 - accuracy: 0.8765 - 4s/epoch - 17ms/step\n",
      "Epoch 101/200\n",
      "244/244 - 4s - loss: 0.6160 - accuracy: 0.8749 - 4s/epoch - 17ms/step\n",
      "Epoch 102/200\n",
      "244/244 - 4s - loss: 0.6019 - accuracy: 0.8813 - 4s/epoch - 17ms/step\n",
      "Epoch 103/200\n",
      "244/244 - 4s - loss: 0.5895 - accuracy: 0.8824 - 4s/epoch - 18ms/step\n",
      "Epoch 104/200\n",
      "244/244 - 4s - loss: 0.5783 - accuracy: 0.8847 - 4s/epoch - 17ms/step\n",
      "Epoch 105/200\n",
      "244/244 - 4s - loss: 0.5659 - accuracy: 0.8870 - 4s/epoch - 17ms/step\n",
      "Epoch 106/200\n",
      "244/244 - 4s - loss: 0.5545 - accuracy: 0.8872 - 4s/epoch - 18ms/step\n",
      "Epoch 107/200\n",
      "244/244 - 4s - loss: 0.5433 - accuracy: 0.8879 - 4s/epoch - 17ms/step\n",
      "Epoch 108/200\n",
      "244/244 - 4s - loss: 0.5348 - accuracy: 0.8904 - 4s/epoch - 18ms/step\n",
      "Epoch 109/200\n",
      "244/244 - 4s - loss: 0.5220 - accuracy: 0.8944 - 4s/epoch - 18ms/step\n",
      "Epoch 110/200\n",
      "244/244 - 4s - loss: 0.5126 - accuracy: 0.8947 - 4s/epoch - 18ms/step\n",
      "Epoch 111/200\n",
      "244/244 - 4s - loss: 0.5051 - accuracy: 0.8971 - 4s/epoch - 18ms/step\n",
      "Epoch 112/200\n",
      "244/244 - 4s - loss: 0.4907 - accuracy: 0.8997 - 4s/epoch - 18ms/step\n",
      "Epoch 113/200\n",
      "244/244 - 4s - loss: 0.4839 - accuracy: 0.8979 - 4s/epoch - 18ms/step\n",
      "Epoch 114/200\n",
      "244/244 - 4s - loss: 0.4732 - accuracy: 0.9006 - 4s/epoch - 18ms/step\n",
      "Epoch 115/200\n",
      "244/244 - 4s - loss: 0.4661 - accuracy: 0.9002 - 4s/epoch - 17ms/step\n",
      "Epoch 116/200\n",
      "244/244 - 4s - loss: 0.4572 - accuracy: 0.9047 - 4s/epoch - 18ms/step\n",
      "Epoch 117/200\n",
      "244/244 - 4s - loss: 0.4502 - accuracy: 0.9043 - 4s/epoch - 18ms/step\n",
      "Epoch 118/200\n",
      "244/244 - 4s - loss: 0.4423 - accuracy: 0.9053 - 4s/epoch - 18ms/step\n",
      "Epoch 119/200\n",
      "244/244 - 4s - loss: 0.4356 - accuracy: 0.9041 - 4s/epoch - 17ms/step\n",
      "Epoch 120/200\n",
      "244/244 - 4s - loss: 0.4265 - accuracy: 0.9061 - 4s/epoch - 17ms/step\n",
      "Epoch 121/200\n",
      "244/244 - 4s - loss: 0.4199 - accuracy: 0.9067 - 4s/epoch - 18ms/step\n",
      "Epoch 122/200\n",
      "244/244 - 4s - loss: 0.4117 - accuracy: 0.9084 - 4s/epoch - 17ms/step\n",
      "Epoch 123/200\n",
      "244/244 - 4s - loss: 0.4059 - accuracy: 0.9088 - 4s/epoch - 17ms/step\n",
      "Epoch 124/200\n",
      "244/244 - 4s - loss: 0.4017 - accuracy: 0.9099 - 4s/epoch - 17ms/step\n",
      "Epoch 125/200\n",
      "244/244 - 4s - loss: 0.4004 - accuracy: 0.9088 - 4s/epoch - 17ms/step\n",
      "Epoch 126/200\n",
      "244/244 - 4s - loss: 0.3906 - accuracy: 0.9086 - 4s/epoch - 17ms/step\n",
      "Epoch 127/200\n",
      "244/244 - 4s - loss: 0.3834 - accuracy: 0.9116 - 4s/epoch - 17ms/step\n",
      "Epoch 128/200\n",
      "244/244 - 4s - loss: 0.3787 - accuracy: 0.9122 - 4s/epoch - 17ms/step\n",
      "Epoch 129/200\n",
      "244/244 - 4s - loss: 0.3722 - accuracy: 0.9141 - 4s/epoch - 17ms/step\n",
      "Epoch 130/200\n",
      "244/244 - 4s - loss: 0.3665 - accuracy: 0.9122 - 4s/epoch - 17ms/step\n",
      "Epoch 131/200\n",
      "244/244 - 4s - loss: 0.3625 - accuracy: 0.9125 - 4s/epoch - 17ms/step\n",
      "Epoch 132/200\n",
      "244/244 - 4s - loss: 0.3578 - accuracy: 0.9139 - 4s/epoch - 17ms/step\n",
      "Epoch 133/200\n",
      "244/244 - 4s - loss: 0.3533 - accuracy: 0.9149 - 4s/epoch - 17ms/step\n",
      "Epoch 134/200\n",
      "244/244 - 4s - loss: 0.3678 - accuracy: 0.9105 - 4s/epoch - 17ms/step\n",
      "Epoch 135/200\n",
      "244/244 - 4s - loss: 0.4352 - accuracy: 0.8968 - 4s/epoch - 17ms/step\n",
      "Epoch 136/200\n",
      "244/244 - 4s - loss: 0.3745 - accuracy: 0.9117 - 4s/epoch - 18ms/step\n",
      "Epoch 137/200\n",
      "244/244 - 4s - loss: 0.3421 - accuracy: 0.9164 - 4s/epoch - 18ms/step\n",
      "Epoch 138/200\n",
      "244/244 - 5s - loss: 0.3348 - accuracy: 0.9148 - 5s/epoch - 19ms/step\n",
      "Epoch 139/200\n",
      "244/244 - 4s - loss: 0.3313 - accuracy: 0.9141 - 4s/epoch - 18ms/step\n",
      "Epoch 140/200\n",
      "244/244 - 4s - loss: 0.3278 - accuracy: 0.9152 - 4s/epoch - 18ms/step\n",
      "Epoch 141/200\n",
      "244/244 - 4s - loss: 0.3247 - accuracy: 0.9158 - 4s/epoch - 18ms/step\n",
      "Epoch 142/200\n",
      "244/244 - 4s - loss: 0.3228 - accuracy: 0.9167 - 4s/epoch - 18ms/step\n",
      "Epoch 143/200\n",
      "244/244 - 4s - loss: 0.3201 - accuracy: 0.9166 - 4s/epoch - 18ms/step\n",
      "Epoch 144/200\n",
      "244/244 - 4s - loss: 0.3180 - accuracy: 0.9162 - 4s/epoch - 18ms/step\n",
      "Epoch 145/200\n",
      "244/244 - 4s - loss: 0.3162 - accuracy: 0.9157 - 4s/epoch - 17ms/step\n",
      "Epoch 146/200\n",
      "244/244 - 4s - loss: 0.3140 - accuracy: 0.9148 - 4s/epoch - 17ms/step\n",
      "Epoch 147/200\n",
      "244/244 - 4s - loss: 0.3117 - accuracy: 0.9170 - 4s/epoch - 18ms/step\n",
      "Epoch 148/200\n",
      "244/244 - 4s - loss: 0.3093 - accuracy: 0.9187 - 4s/epoch - 18ms/step\n",
      "Epoch 149/200\n",
      "244/244 - 5s - loss: 0.3074 - accuracy: 0.9171 - 5s/epoch - 20ms/step\n",
      "Epoch 150/200\n",
      "244/244 - 5s - loss: 0.3049 - accuracy: 0.9185 - 5s/epoch - 20ms/step\n",
      "Epoch 151/200\n",
      "244/244 - 5s - loss: 0.3032 - accuracy: 0.9173 - 5s/epoch - 19ms/step\n",
      "Epoch 152/200\n",
      "244/244 - 4s - loss: 0.3023 - accuracy: 0.9168 - 4s/epoch - 18ms/step\n",
      "Epoch 153/200\n",
      "244/244 - 4s - loss: 0.2993 - accuracy: 0.9164 - 4s/epoch - 18ms/step\n",
      "Epoch 154/200\n",
      "244/244 - 4s - loss: 0.2980 - accuracy: 0.9162 - 4s/epoch - 18ms/step\n",
      "Epoch 155/200\n",
      "244/244 - 4s - loss: 0.2972 - accuracy: 0.9161 - 4s/epoch - 17ms/step\n",
      "Epoch 156/200\n",
      "244/244 - 4s - loss: 0.3006 - accuracy: 0.9152 - 4s/epoch - 18ms/step\n",
      "Epoch 157/200\n",
      "244/244 - 4s - loss: 0.3086 - accuracy: 0.9150 - 4s/epoch - 17ms/step\n",
      "Epoch 158/200\n",
      "244/244 - 4s - loss: 0.3093 - accuracy: 0.9152 - 4s/epoch - 17ms/step\n",
      "Epoch 159/200\n",
      "244/244 - 4s - loss: 0.2986 - accuracy: 0.9152 - 4s/epoch - 17ms/step\n",
      "Epoch 160/200\n",
      "244/244 - 4s - loss: 0.2929 - accuracy: 0.9164 - 4s/epoch - 17ms/step\n",
      "Epoch 161/200\n",
      "244/244 - 4s - loss: 0.2869 - accuracy: 0.9166 - 4s/epoch - 18ms/step\n",
      "Epoch 162/200\n",
      "244/244 - 4s - loss: 0.2859 - accuracy: 0.9166 - 4s/epoch - 17ms/step\n",
      "Epoch 163/200\n",
      "244/244 - 4s - loss: 0.2844 - accuracy: 0.9161 - 4s/epoch - 17ms/step\n",
      "Epoch 164/200\n",
      "244/244 - 4s - loss: 0.2825 - accuracy: 0.9177 - 4s/epoch - 17ms/step\n",
      "Epoch 165/200\n",
      "244/244 - 4s - loss: 0.2828 - accuracy: 0.9161 - 4s/epoch - 18ms/step\n",
      "Epoch 166/200\n",
      "244/244 - 4s - loss: 0.2834 - accuracy: 0.9166 - 4s/epoch - 17ms/step\n",
      "Epoch 167/200\n",
      "244/244 - 4s - loss: 0.2805 - accuracy: 0.9170 - 4s/epoch - 18ms/step\n",
      "Epoch 168/200\n",
      "244/244 - 4s - loss: 0.2805 - accuracy: 0.9162 - 4s/epoch - 18ms/step\n",
      "Epoch 169/200\n",
      "244/244 - 4s - loss: 0.2790 - accuracy: 0.9164 - 4s/epoch - 17ms/step\n",
      "Epoch 170/200\n",
      "244/244 - 4s - loss: 0.2806 - accuracy: 0.9166 - 4s/epoch - 17ms/step\n",
      "Epoch 171/200\n",
      "244/244 - 4s - loss: 0.2803 - accuracy: 0.9163 - 4s/epoch - 18ms/step\n",
      "Epoch 172/200\n",
      "244/244 - 4s - loss: 0.2772 - accuracy: 0.9170 - 4s/epoch - 17ms/step\n",
      "Epoch 173/200\n",
      "244/244 - 4s - loss: 0.2751 - accuracy: 0.9172 - 4s/epoch - 17ms/step\n",
      "Epoch 174/200\n",
      "244/244 - 4s - loss: 0.2758 - accuracy: 0.9158 - 4s/epoch - 18ms/step\n",
      "Epoch 175/200\n",
      "244/244 - 4s - loss: 0.2748 - accuracy: 0.9159 - 4s/epoch - 17ms/step\n",
      "Epoch 176/200\n",
      "244/244 - 4s - loss: 0.2752 - accuracy: 0.9172 - 4s/epoch - 17ms/step\n",
      "Epoch 177/200\n",
      "244/244 - 4s - loss: 0.2726 - accuracy: 0.9168 - 4s/epoch - 18ms/step\n",
      "Epoch 178/200\n",
      "244/244 - 4s - loss: 0.2714 - accuracy: 0.9167 - 4s/epoch - 17ms/step\n",
      "Epoch 179/200\n",
      "244/244 - 4s - loss: 0.2711 - accuracy: 0.9171 - 4s/epoch - 17ms/step\n",
      "Epoch 180/200\n",
      "244/244 - 4s - loss: 0.2708 - accuracy: 0.9162 - 4s/epoch - 18ms/step\n",
      "Epoch 181/200\n",
      "244/244 - 4s - loss: 0.2709 - accuracy: 0.9158 - 4s/epoch - 18ms/step\n",
      "Epoch 182/200\n",
      "244/244 - 5s - loss: 0.2694 - accuracy: 0.9180 - 5s/epoch - 19ms/step\n",
      "Epoch 183/200\n",
      "244/244 - 4s - loss: 0.2690 - accuracy: 0.9166 - 4s/epoch - 18ms/step\n",
      "Epoch 184/200\n",
      "244/244 - 4s - loss: 0.2683 - accuracy: 0.9167 - 4s/epoch - 18ms/step\n",
      "Epoch 185/200\n",
      "244/244 - 4s - loss: 0.2750 - accuracy: 0.9162 - 4s/epoch - 18ms/step\n",
      "Epoch 186/200\n",
      "244/244 - 4s - loss: 0.2837 - accuracy: 0.9143 - 4s/epoch - 18ms/step\n",
      "Epoch 187/200\n",
      "244/244 - 5s - loss: 0.2776 - accuracy: 0.9148 - 5s/epoch - 19ms/step\n",
      "Epoch 188/200\n",
      "244/244 - 4s - loss: 0.2704 - accuracy: 0.9158 - 4s/epoch - 18ms/step\n",
      "Epoch 189/200\n",
      "244/244 - 4s - loss: 0.2685 - accuracy: 0.9154 - 4s/epoch - 18ms/step\n",
      "Epoch 190/200\n",
      "244/244 - 4s - loss: 0.2653 - accuracy: 0.9172 - 4s/epoch - 18ms/step\n",
      "Epoch 191/200\n",
      "244/244 - 4s - loss: 0.2653 - accuracy: 0.9166 - 4s/epoch - 18ms/step\n",
      "Epoch 192/200\n",
      "244/244 - 4s - loss: 0.2638 - accuracy: 0.9171 - 4s/epoch - 18ms/step\n",
      "Epoch 193/200\n",
      "244/244 - 4s - loss: 0.2639 - accuracy: 0.9173 - 4s/epoch - 18ms/step\n",
      "Epoch 194/200\n",
      "244/244 - 4s - loss: 0.2640 - accuracy: 0.9161 - 4s/epoch - 18ms/step\n",
      "Epoch 195/200\n",
      "244/244 - 5s - loss: 0.2639 - accuracy: 0.9158 - 5s/epoch - 20ms/step\n",
      "Epoch 196/200\n",
      "244/244 - 5s - loss: 0.2637 - accuracy: 0.9175 - 5s/epoch - 21ms/step\n",
      "Epoch 197/200\n",
      "244/244 - 5s - loss: 0.2629 - accuracy: 0.9162 - 5s/epoch - 19ms/step\n"
     ]
    },
    {
     "name": "stdout",
     "output_type": "stream",
     "text": [
      "Epoch 198/200\n",
      "244/244 - 5s - loss: 0.2628 - accuracy: 0.9161 - 5s/epoch - 19ms/step\n",
      "Epoch 199/200\n",
      "244/244 - 5s - loss: 0.2623 - accuracy: 0.9163 - 5s/epoch - 19ms/step\n",
      "Epoch 200/200\n",
      "244/244 - 5s - loss: 0.2648 - accuracy: 0.9155 - 5s/epoch - 21ms/step\n"
     ]
    },
    {
     "data": {
      "text/plain": [
       "<keras.callbacks.History at 0x1c3a587e190>"
      ]
     },
     "execution_count": 82,
     "metadata": {},
     "output_type": "execute_result"
    }
   ],
   "source": [
    "## 임베딩 벡터 차원은 10, 은닉상태 크기는 128, Fully Connected Layer을 출력층으로 하는 모델 설계\n",
    "embedding_dim = 10\n",
    "hidden_units = 128\n",
    "\n",
    "model = Sequential()\n",
    "model.add(Embedding(vocab_size, embedding_dim))  # 3494 * 10\n",
    "model.add(LSTM(hidden_units))\n",
    "model.add(Dense(vocab_size, activation='softmax'))\n",
    "\n",
    "model.compile(loss='categorical_crossentropy', optimizer='adam', metrics=['accuracy'])\n",
    "model.fit(X, y, epochs=200, verbose=2)"
   ]
  },
  {
   "cell_type": "code",
   "execution_count": 81,
   "id": "90291049",
   "metadata": {},
   "outputs": [
    {
     "data": {
      "text/plain": [
       "3494"
      ]
     },
     "execution_count": 81,
     "metadata": {},
     "output_type": "execute_result"
    }
   ],
   "source": [
    "vocab_size"
   ]
  },
  {
   "cell_type": "code",
   "execution_count": 83,
   "id": "f5e80b7a",
   "metadata": {},
   "outputs": [],
   "source": [
    "def sentence_generation(model, tokenizer, current_word, n):\n",
    "    init_word = current_word\n",
    "    sentence = \"\"\n",
    "    \n",
    "    # n번 반복\n",
    "    for _ in range(n):\n",
    "        encoded = tokenizer.texts_to_sequences([current_word])[0]\n",
    "        encoded = pad_sequences([encoded], maxlen=max_len-1, padding='pre')\n",
    "        \n",
    "        # 예측\n",
    "        result = model.predict(encoded, verbose=0)\n",
    "        result = np.argmax(result, axis=1)\n",
    "        \n",
    "        for word, index in tokenizer.word_index.items():\n",
    "            if index == result:\n",
    "                break\n",
    "                \n",
    "        current_word = current_word + ' ' + word\n",
    "        sentence = sentence + ' ' + word\n",
    "        \n",
    "    sentence = init_word + sentence\n",
    "    return sentence"
   ]
  },
  {
   "cell_type": "code",
   "execution_count": 85,
   "id": "d2225780",
   "metadata": {},
   "outputs": [
    {
     "name": "stdout",
     "output_type": "stream",
     "text": [
      "i cant jump ship from facebook yet russia into the wild\n"
     ]
    }
   ],
   "source": [
    "print(sentence_generation(model, tokenizer, 'i', 10))  # 10개 단어까지 예측"
   ]
  },
  {
   "cell_type": "code",
   "execution_count": 86,
   "id": "212e41db",
   "metadata": {},
   "outputs": [
    {
     "name": "stdout",
     "output_type": "stream",
     "text": [
      "how to make a crossword puzzle law in a bear and\n"
     ]
    }
   ],
   "source": [
    "print(sentence_generation(model, tokenizer, 'how', 10)) "
   ]
  },
  {
   "cell_type": "code",
   "execution_count": null,
   "id": "311002c9",
   "metadata": {},
   "outputs": [],
   "source": []
  }
 ],
 "metadata": {
  "kernelspec": {
   "display_name": "Python 3 (ipykernel)",
   "language": "python",
   "name": "python3"
  },
  "language_info": {
   "codemirror_mode": {
    "name": "ipython",
    "version": 3
   },
   "file_extension": ".py",
   "mimetype": "text/x-python",
   "name": "python",
   "nbconvert_exporter": "python",
   "pygments_lexer": "ipython3",
   "version": "3.8.8"
  }
 },
 "nbformat": 4,
 "nbformat_minor": 5
}
