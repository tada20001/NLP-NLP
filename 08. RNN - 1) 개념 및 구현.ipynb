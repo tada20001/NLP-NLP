{
 "cells": [
  {
   "cell_type": "markdown",
   "id": "1f71e05b",
   "metadata": {},
   "source": [
    "### 1. 순환 신경망(Recurrent Neural Network, RNN)\n",
    "\n",
    "* 은닉층의 노드에서 활성화함수를 통해 나온 결과값을 출력층 방향으로도 보내면서, 다시 은닉층 노드의 다음 계산의 입력으로 보내는 특징을 갖고 있음\n",
    "\n",
    "* RNN에서는 은닉층에서 활성화함수를 통해 결과를 내보내는 역할을 하는 모드를 셀(cell)이라고 함\n",
    "* 이 셀은 이전의 값을 기억하는 일종의 메모리 역할을 수행하여 메모리 셀 또는 RNN 셀이라고 함\n",
    "\n",
    "* 은닉층의 메모리 셀은 각각의 시점(time step)에서 바로 이전 시점에서의 은닉층 메모리 셀에서 나온 값을 자신의 입력으로 사용하는 재귀적 활동을 하고 있음\n",
    "* 현재 시점 t에서의 메모리 셀이 갖고 있는 값은 과거의 메모리 셀들의 값에 영향을 받은 것임을 의미함\n",
    "* 이 메모리 셀이 출력층 방향 또는 다음 시점인 t+1의 자신에게 보내는 값을 은닉상태(hidden state)라고 함\n",
    "* 즉, t 시점의 메모리 셀은 t-1 시점의 메모리 셀이 보낸 은닉상태값을 t 시점의 은닉상태 계산을 위해 입력값으로 사용\n",
    "-----\n",
    "\n",
    "* RNN은 입력과 출력의 길이를 다르게 설계할 수 있어 다양한 용도로 사용 가능\n",
    "* 하나의 입력에 대해 여러개의 출력을 의미하는 일대다(one-to-many) 구조모델은 하나의 이미지 입력에 대해 사진의 제목을 출력하는 이미지 캡셔닝 작업에 사용 가능\n",
    "* 다대일(many-to-one) 구조의 모델은 입력문서가 긍정적인지 부정적인지 판별하는 감성분류(sentiment classification) 또는 스팸메일 구분 등에 사용 가능\n",
    "* 다대다 (many-to-many) 구조의 모델의 경우, 사용자가 문자을 입력하면 대답 문장을 출력하는 챗봇, 번역기, 태깅작업 등에 사용\n",
    "\n",
    "\n",
    "----\n",
    "* 은닉층에서 주로 사용하는 활성화함수는 하이퍼볼릭탄젠트 함수(tahn)가 사용됨\n",
    "\n",
    "\n",
    "### 2. Keras로 RNN 구현"
   ]
  },
  {
   "cell_type": "raw",
   "id": "892b9bc7",
   "metadata": {},
   "source": [
    "from tensorflow.keras.layers import SimpleRNN\n",
    "from tensorflow.keras.models import Sequential\n",
    "\n",
    "model = Sequential()\n",
    "\n",
    "model.add(SimpleRNN(hidden_units))"
   ]
  },
  {
   "cell_type": "raw",
   "id": "bb085118",
   "metadata": {},
   "source": [
    "# 추가 인자를 사용할 때\n",
    "model.add(SimpleRNN(hidden_units, input_shape=(timesteps, input_dim)))\n",
    "\n",
    "# 다른 표기\n",
    "model.add(SimpleRNN(hidden_units, input_length=M, input_dim=N))"
   ]
  },
  {
   "cell_type": "markdown",
   "id": "75de9791",
   "metadata": {},
   "source": [
    "* hidden_units : 은닉상태의 크기 정의. 메모리 셀이 다음 시점의 메모리셀과 출력층으로 보내는 값의 크기(output_dim)과도 동일. 중소형 모델의 경우 128, 256, 512, 1024 등의 값을 가짐\n",
    "\n",
    "* timesteps = 입력 시퀀스의 길이라고 표현. 시점의 수\n",
    "* input_dim = 입력의 크기"
   ]
  },
  {
   "cell_type": "code",
   "execution_count": 1,
   "id": "84894882",
   "metadata": {},
   "outputs": [
    {
     "name": "stdout",
     "output_type": "stream",
     "text": [
      "Model: \"sequential\"\n",
      "_________________________________________________________________\n",
      " Layer (type)                Output Shape              Param #   \n",
      "=================================================================\n",
      " simple_rnn (SimpleRNN)      (None, 3)                 42        \n",
      "                                                                 \n",
      "=================================================================\n",
      "Total params: 42\n",
      "Trainable params: 42\n",
      "Non-trainable params: 0\n",
      "_________________________________________________________________\n"
     ]
    }
   ],
   "source": [
    "from tensorflow.keras.models import Sequential\n",
    "from tensorflow.keras.layers import SimpleRNN\n",
    "\n",
    "model = Sequential()\n",
    "model.add(SimpleRNN(3, input_shape=(2, 10)))  \n",
    "model.summary()"
   ]
  },
  {
   "cell_type": "markdown",
   "id": "c93c78f1",
   "metadata": {},
   "source": [
    "* 출력값이 (batch_size, output_dim)의 2D 텐서일 경우, output_dim은 hidden_units 값인 3임\n",
    "* 이 경우, batch_size를 현단계에서 알수 없으므로 (None, 3)이 되며, 다음 예제는 batch_size를 정해본다."
   ]
  },
  {
   "cell_type": "code",
   "execution_count": 3,
   "id": "f1e9bf64",
   "metadata": {},
   "outputs": [
    {
     "name": "stdout",
     "output_type": "stream",
     "text": [
      "Model: \"sequential_1\"\n",
      "_________________________________________________________________\n",
      " Layer (type)                Output Shape              Param #   \n",
      "=================================================================\n",
      " simple_rnn_1 (SimpleRNN)    (8, 3)                    42        \n",
      "                                                                 \n",
      "=================================================================\n",
      "Total params: 42\n",
      "Trainable params: 42\n",
      "Non-trainable params: 0\n",
      "_________________________________________________________________\n"
     ]
    }
   ],
   "source": [
    "model = Sequential()\n",
    "model.add(SimpleRNN(3, batch_input_shape=(8, 2, 10)))\n",
    "model.summary()"
   ]
  },
  {
   "cell_type": "markdown",
   "id": "1ee39ffe",
   "metadata": {},
   "source": [
    "* batch_size를 8로 기재하면 출력의 크기가 (8, 3)이 됨. return_sequences 매개 변수에 True를 기재하여 출력값으로 (batch_size, timesteps, output_dim) 크기의 3D 텐서를 리턴하도록 모델을 만들어 봄."
   ]
  },
  {
   "cell_type": "code",
   "execution_count": 4,
   "id": "d29f57be",
   "metadata": {},
   "outputs": [
    {
     "name": "stdout",
     "output_type": "stream",
     "text": [
      "Model: \"sequential_2\"\n",
      "_________________________________________________________________\n",
      " Layer (type)                Output Shape              Param #   \n",
      "=================================================================\n",
      " simple_rnn_2 (SimpleRNN)    (8, 2, 3)                 42        \n",
      "                                                                 \n",
      "=================================================================\n",
      "Total params: 42\n",
      "Trainable params: 42\n",
      "Non-trainable params: 0\n",
      "_________________________________________________________________\n"
     ]
    }
   ],
   "source": [
    "model = Sequential()\n",
    "model.add(SimpleRNN(3, batch_input_shape=(8, 2, 10), return_sequences=True))\n",
    "model.summary()"
   ]
  },
  {
   "cell_type": "markdown",
   "id": "39571001",
   "metadata": {},
   "source": [
    "* 모든 은닉층 값 리턴"
   ]
  },
  {
   "cell_type": "markdown",
   "id": "ec665340",
   "metadata": {},
   "source": [
    "### 3. 파이썬으로 RNN 구현하기\n",
    "\n",
    "* 은닉상태를 계산하는 식부터 \n",
    "$$h_{t} = tanh(W_{x}X_{t} + W_{h}h_{t−1} + b)$$\n",
    "\n",
    "##### 가상코드"
   ]
  },
  {
   "cell_type": "raw",
   "id": "7dd2459a",
   "metadata": {},
   "source": [
    "hidden_state_t = 0 # 초기화\n",
    "\n",
    "for input_t in input_length: # 각 시점마다 입력\n",
    "    output_t = tanh(input_t, hidden_state_t) # 각 시점에 대해서 입력과 은닉 상태를 가지고 연산\n",
    "    hidden_state_t = output_t # 계산 결과는 현재 시점의 은닉 상태"
   ]
  },
  {
   "cell_type": "code",
   "execution_count": 6,
   "id": "0930f41f",
   "metadata": {},
   "outputs": [
    {
     "data": {
      "text/plain": [
       "(10, 4)"
      ]
     },
     "execution_count": 6,
     "metadata": {},
     "output_type": "execute_result"
    }
   ],
   "source": [
    "timesteps = 10\n",
    "input_dim = 4\n",
    "hidden_units = 8\n",
    "\n",
    "# 입력에 해당하는 2D 텐서\n",
    "inputs = np.random.random((timesteps, input_dim))\n",
    "inputs.shape"
   ]
  },
  {
   "cell_type": "code",
   "execution_count": 8,
   "id": "78ed752e",
   "metadata": {},
   "outputs": [
    {
     "data": {
      "text/plain": [
       "array([0., 0., 0., 0., 0., 0., 0., 0.])"
      ]
     },
     "execution_count": 8,
     "metadata": {},
     "output_type": "execute_result"
    }
   ],
   "source": [
    "## 초기 은닉상태 초기화 :  은닉상태의 크기를 8로 설정\n",
    "hidden_state_t = np.zeros((hidden_units,))\n",
    "hidden_state_t"
   ]
  },
  {
   "cell_type": "markdown",
   "id": "c407374c",
   "metadata": {},
   "source": [
    "* 가중치와 편향을 각 크기에 맞게 정의하고 크기를 출력"
   ]
  },
  {
   "cell_type": "code",
   "execution_count": 10,
   "id": "871ad5d7",
   "metadata": {},
   "outputs": [
    {
     "name": "stdout",
     "output_type": "stream",
     "text": [
      "가중치 Wx의 크기(shape) : (8, 4)\n",
      "가중치 Wh의 크기(shape) : (8, 8)\n",
      "편향의 크기(shape) : (8,)\n"
     ]
    }
   ],
   "source": [
    "Wx = np.random.random((hidden_units, input_dim))  # (8, 4) 크기의 2D 텐서. 입력에 대한 가중치\n",
    "Wh = np.random.random((hidden_units, hidden_units)) # (8, 8) 크기의 2D 텐서. 은낙상태 대한 가중치\n",
    "b = np.random.random((hidden_units,)) # (8, )크기의 1D 텐서. 편향 값\n",
    "\n",
    "print('가중치 Wx의 크기(shape) :',np.shape(Wx))\n",
    "print('가중치 Wh의 크기(shape) :',np.shape(Wh))\n",
    "print('편향의 크기(shape) :',np.shape(b))"
   ]
  },
  {
   "cell_type": "code",
   "execution_count": 15,
   "id": "9637e77b",
   "metadata": {},
   "outputs": [
    {
     "data": {
      "text/plain": [
       "([0.9999831451045942,\n",
       "  0.9998963184915816,\n",
       "  0.9999914196010343,\n",
       "  0.9992991178246589,\n",
       "  0.9999856683036175,\n",
       "  0.9999663510622909,\n",
       "  0.9999274860149827,\n",
       "  0.9998078974427353],\n",
       " 10)"
      ]
     },
     "execution_count": 15,
     "metadata": {},
     "output_type": "execute_result"
    }
   ],
   "source": [
    "total_hidden_states = []\n",
    "\n",
    "# 각 시점별 입력값\n",
    "for input_t in inputs:  ## inputs (10, 4)에 대해 10개 시점 구분\n",
    "    output_t = np.tanh(np.dot(Wx, input_t) + np.dot(Wh, hidden_state_t) + b)\n",
    "    total_hidden_states.append(list(output_t))  # list 형태로 저장\n",
    "    hidden_state_t = output_t\n",
    "    \n",
    "total_hidden_states[0], len(total_hidden_states)"
   ]
  },
  {
   "cell_type": "code",
   "execution_count": 16,
   "id": "b3bfa141",
   "metadata": {},
   "outputs": [
    {
     "data": {
      "text/plain": [
       "(10, 8)"
      ]
     },
     "execution_count": 16,
     "metadata": {},
     "output_type": "execute_result"
    }
   ],
   "source": [
    "# (timesteps, output_dim) ('모든 은닉시점의 은닉상태')\n",
    "total_hidden_states = np.stack(total_hidden_states, axis=0)\n",
    "total_hidden_states.shape"
   ]
  },
  {
   "cell_type": "code",
   "execution_count": 17,
   "id": "391f2d81",
   "metadata": {},
   "outputs": [
    {
     "data": {
      "text/plain": [
       "array([0.99998315, 0.99989632, 0.99999142, 0.99929912, 0.99998567,\n",
       "       0.99996635, 0.99992749, 0.9998079 ])"
      ]
     },
     "execution_count": 17,
     "metadata": {},
     "output_type": "execute_result"
    }
   ],
   "source": [
    "total_hidden_states[0]"
   ]
  },
  {
   "cell_type": "markdown",
   "id": "271f311d",
   "metadata": {},
   "source": [
    "### 4. 깊은 순환 신경망(Deep Recurrent Neural Network)\n",
    "\n",
    "* 은닉층을 2개 이상 추가하는 경우"
   ]
  },
  {
   "cell_type": "code",
   "execution_count": 18,
   "id": "95c0c231",
   "metadata": {},
   "outputs": [],
   "source": [
    "model = Sequential()\n",
    "model.add(SimpleRNN(hidden_units, input_length=10, input_dim=5, return_sequences=True))\n",
    "model.add(SimpleRNN(hidden_units, return_sequences=True))"
   ]
  },
  {
   "cell_type": "code",
   "execution_count": 19,
   "id": "56c54691",
   "metadata": {},
   "outputs": [
    {
     "name": "stdout",
     "output_type": "stream",
     "text": [
      "Model: \"sequential_3\"\n",
      "_________________________________________________________________\n",
      " Layer (type)                Output Shape              Param #   \n",
      "=================================================================\n",
      " simple_rnn_3 (SimpleRNN)    (None, 10, 8)             112       \n",
      "                                                                 \n",
      " simple_rnn_4 (SimpleRNN)    (None, 10, 8)             136       \n",
      "                                                                 \n",
      "=================================================================\n",
      "Total params: 248\n",
      "Trainable params: 248\n",
      "Non-trainable params: 0\n",
      "_________________________________________________________________\n"
     ]
    }
   ],
   "source": [
    "model.summary()"
   ]
  },
  {
   "cell_type": "markdown",
   "id": "4c89fc96",
   "metadata": {},
   "source": [
    "### 5. 양방향 순환 신경망(Bidirectional Recurrent Neurual Network)\n",
    "\n",
    "* 양방향 순환 신경망은 시점 t에서의 출력값을 예측할 때 이전 시점의 입력뿐만 아니라, 이후 시점의 입력 또한 예측에 기여할 수 있다는 아이디어에 기반\n",
    "\n",
    "* RNN이 풀고자 하는 문제 중에서는 과거 시점의 입력 뿐만 아니라 미래 시점의 입력에 힌트가 있는 경우도 많음. 그래서 이전과 이후의 시점 모두를 고려해서 현재 시점의 예측을 더욱 정확하게 할 수 있도록 고안된 것이 양방향 RNN임\n",
    "\n",
    "---\n",
    "* 따라서 하나의 출력값을 예측할 때 기본적으로 두개의 메모리 셀을 사용\n",
    "* 첫번째 메모리셀은 앞서 나온 이전 시점의 은닉상태(Forward States)를 전달받아 현재의 은닉상태를 계산\n",
    "* 두번째 메모리셀은 이후의 시점의 은닉상태(Backward States)를 전달받아 현재의 은닉상태를 계산. 입력시퀀스를 반대방향으로 읽어냄\n",
    "* 이 두개의 값 모두가 현재 시점의 출력층에서 출력값을 예측하기 위해 사용됨"
   ]
  },
  {
   "cell_type": "code",
   "execution_count": 20,
   "id": "f3f57125",
   "metadata": {},
   "outputs": [],
   "source": [
    "from tensorflow.keras.layers import Bidirectional\n",
    "\n",
    "timesteps = 10\n",
    "input_dim = 5\n",
    "\n",
    "model = Sequential()\n",
    "model.add(Bidirectional(SimpleRNN(hidden_units, return_sequences=True), input_shape=(timesteps, input_dim)))"
   ]
  },
  {
   "cell_type": "code",
   "execution_count": 21,
   "id": "b23a7bf6",
   "metadata": {},
   "outputs": [
    {
     "name": "stdout",
     "output_type": "stream",
     "text": [
      "Model: \"sequential_4\"\n",
      "_________________________________________________________________\n",
      " Layer (type)                Output Shape              Param #   \n",
      "=================================================================\n",
      " bidirectional (Bidirectiona  (None, 10, 16)           224       \n",
      " l)                                                              \n",
      "                                                                 \n",
      "=================================================================\n",
      "Total params: 224\n",
      "Trainable params: 224\n",
      "Non-trainable params: 0\n",
      "_________________________________________________________________\n"
     ]
    }
   ],
   "source": [
    "model.summary()"
   ]
  },
  {
   "cell_type": "markdown",
   "id": "b1d5bf42",
   "metadata": {},
   "source": [
    "* 은닉층을 추가한다고 해서 모델 성능이 좋아지는 것이 아님. 은닉층을 추가하면 학습량이 많아지지만, 그만큼 데이터도 필요"
   ]
  },
  {
   "cell_type": "code",
   "execution_count": 23,
   "id": "5d417718",
   "metadata": {},
   "outputs": [],
   "source": [
    "model = Sequential()\n",
    "model.add(Bidirectional(SimpleRNN(hidden_units, return_sequences=True), input_shape=(timesteps, input_dim)))\n",
    "model.add(Bidirectional(SimpleRNN(hidden_units, return_sequences=True)))\n",
    "model.add(Bidirectional(SimpleRNN(hidden_units, return_sequences=True)))\n",
    "model.add(Bidirectional(SimpleRNN(hidden_units, return_sequences=True)))"
   ]
  },
  {
   "cell_type": "code",
   "execution_count": 24,
   "id": "2560ffdb",
   "metadata": {},
   "outputs": [
    {
     "name": "stdout",
     "output_type": "stream",
     "text": [
      "Model: \"sequential_6\"\n",
      "_________________________________________________________________\n",
      " Layer (type)                Output Shape              Param #   \n",
      "=================================================================\n",
      " bidirectional_1 (Bidirectio  (None, 10, 16)           224       \n",
      " nal)                                                            \n",
      "                                                                 \n",
      " bidirectional_2 (Bidirectio  (None, 10, 16)           400       \n",
      " nal)                                                            \n",
      "                                                                 \n",
      " bidirectional_3 (Bidirectio  (None, 10, 16)           400       \n",
      " nal)                                                            \n",
      "                                                                 \n",
      " bidirectional_4 (Bidirectio  (None, 10, 16)           400       \n",
      " nal)                                                            \n",
      "                                                                 \n",
      "=================================================================\n",
      "Total params: 1,424\n",
      "Trainable params: 1,424\n",
      "Non-trainable params: 0\n",
      "_________________________________________________________________\n"
     ]
    }
   ],
   "source": [
    "model.summary()"
   ]
  },
  {
   "cell_type": "code",
   "execution_count": null,
   "id": "67288a68",
   "metadata": {},
   "outputs": [],
   "source": []
  }
 ],
 "metadata": {
  "kernelspec": {
   "display_name": "Python 3 (ipykernel)",
   "language": "python",
   "name": "python3"
  },
  "language_info": {
   "codemirror_mode": {
    "name": "ipython",
    "version": 3
   },
   "file_extension": ".py",
   "mimetype": "text/x-python",
   "name": "python",
   "nbconvert_exporter": "python",
   "pygments_lexer": "ipython3",
   "version": "3.8.8"
  }
 },
 "nbformat": 4,
 "nbformat_minor": 5
}
