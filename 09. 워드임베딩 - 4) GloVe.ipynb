{
 "cells": [
  {
   "cell_type": "markdown",
   "id": "3416bc40",
   "metadata": {},
   "source": [
    "### 1. GloVe training\n",
    "* 영어와 한국어 word2Vec 학습에서 사용한 영어 데이터 재사용\n",
    "* 모든 동일한 전처리를 마치고 이전과 동일하게 result에 결과가 저장되어 있다고 가정"
   ]
  },
  {
   "cell_type": "code",
   "execution_count": 3,
   "id": "302a4a23",
   "metadata": {},
   "outputs": [],
   "source": [
    "## 전처리하고 result 만들기\n",
    "import re\n",
    "import urllib.request\n",
    "import zipfile\n",
    "from lxml import etree\n",
    "from nltk.tokenize import word_tokenize, sent_tokenize"
   ]
  },
  {
   "cell_type": "code",
   "execution_count": 4,
   "id": "08233196",
   "metadata": {},
   "outputs": [
    {
     "data": {
      "text/plain": [
       "('ted_en-20160408.xml', <http.client.HTTPMessage at 0x2b108ccb790>)"
      ]
     },
     "execution_count": 4,
     "metadata": {},
     "output_type": "execute_result"
    }
   ],
   "source": [
    "## 데이터 다운로드 \n",
    "urllib.request.urlretrieve(\"https://raw.githubusercontent.com/ukairia777/tensorflow-nlp-tutorial/main/09.%20Word%20Embedding/dataset/ted_en-20160408.xml\", filename=\"ted_en-20160408.xml\")"
   ]
  },
  {
   "cell_type": "code",
   "execution_count": 5,
   "id": "c0e65592",
   "metadata": {},
   "outputs": [],
   "source": [
    "# <content> </content> 사이 데이터만 가져오기\n",
    "targetXML = open('ted_en-20160408.xml', 'r', encoding='utf8')\n",
    "target_text = etree.parse(targetXML)\n",
    "\n",
    "parse_text = \"\\n\".join(target_text.xpath('//content/text()'))"
   ]
  },
  {
   "cell_type": "code",
   "execution_count": 13,
   "id": "e5e39be1",
   "metadata": {},
   "outputs": [
    {
     "data": {
      "text/plain": [
       "\"Here are two reasons companies fail: they only do more of the same, or they only do what's new.\\nTo me the real, real solution to quality growth is figuring out the balance between two activities: exploration and exploitation. Both are necessary, but it can be too much of a good thing.\\nConsider Facit. I'm actually old enough to remember them. Facit was a fantastic company. They were born deep in the Swedish forest, and they made the best mechanical calculators in the world. Everybody used them. And what did Facit do when the electronic calculator came along? They continued doing exactly the same. In six months, they went from maximum revenue ... and they were gone. Gone.\\nTo me, the irony about the Facit story is hearing about the Facit engineers, who had bought cheap, small electronic calculators in Japan that they used to double-check their calculators.\\n(Laughter)\\nFacit did too much exploitation. But exploration can go wild, too.\\nA few years back, I worked closely alongside a European \""
      ]
     },
     "execution_count": 13,
     "metadata": {},
     "output_type": "execute_result"
    }
   ],
   "source": [
    "parse_text[:1000]"
   ]
  },
  {
   "cell_type": "code",
   "execution_count": 10,
   "id": "820167ab",
   "metadata": {},
   "outputs": [],
   "source": [
    "### () 단어 제거\n",
    "content_text = re.sub(r'\\([^)]*\\)', '', parse_text)"
   ]
  },
  {
   "cell_type": "code",
   "execution_count": 14,
   "id": "381d37f5",
   "metadata": {},
   "outputs": [
    {
     "data": {
      "text/plain": [
       "\"Here are two reasons companies fail: they only do more of the same, or they only do what's new.\\nTo me the real, real solution to quality growth is figuring out the balance between two activities: exploration and exploitation. Both are necessary, but it can be too much of a good thing.\\nConsider Facit. I'm actually old enough to remember them. Facit was a fantastic company. They were born deep in the Swedish forest, and they made the best mechanical calculators in the world. Everybody used them. And what did Facit do when the electronic calculator came along? They continued doing exactly the same. In six months, they went from maximum revenue ... and they were gone. Gone.\\nTo me, the irony about the Facit story is hearing about the Facit engineers, who had bought cheap, small electronic calculators in Japan that they used to double-check their calculators.\\n\\nFacit did too much exploitation. But exploration can go wild, too.\\nA few years back, I worked closely alongside a European biotech co\""
      ]
     },
     "execution_count": 14,
     "metadata": {},
     "output_type": "execute_result"
    }
   ],
   "source": [
    "content_text[:1000]"
   ]
  },
  {
   "cell_type": "code",
   "execution_count": 16,
   "id": "850e158e",
   "metadata": {},
   "outputs": [
    {
     "data": {
      "text/plain": [
       "[\"Here are two reasons companies fail: they only do more of the same, or they only do what's new.\",\n",
       " 'To me the real, real solution to quality growth is figuring out the balance between two activities: exploration and exploitation.',\n",
       " 'Both are necessary, but it can be too much of a good thing.',\n",
       " 'Consider Facit.',\n",
       " \"I'm actually old enough to remember them.\",\n",
       " 'Facit was a fantastic company.',\n",
       " 'They were born deep in the Swedish forest, and they made the best mechanical calculators in the world.',\n",
       " 'Everybody used them.',\n",
       " 'And what did Facit do when the electronic calculator came along?',\n",
       " 'They continued doing exactly the same.']"
      ]
     },
     "execution_count": 16,
     "metadata": {},
     "output_type": "execute_result"
    }
   ],
   "source": [
    "## 문장 토큰화 실시\n",
    "\n",
    "sent_text = sent_tokenize(content_text)\n",
    "sent_text[:10]"
   ]
  },
  {
   "cell_type": "code",
   "execution_count": 17,
   "id": "b7c8622f",
   "metadata": {},
   "outputs": [],
   "source": [
    "normalized_text = []\n",
    "for string in sent_text:\n",
    "    tokens = re.sub(r'[^a-z0-9]+', \" \", string.lower())  # 소문자로 변환, 문자, 숫자가 아닌 것은 공백으로\n",
    "    normalized_text.append(tokens)"
   ]
  },
  {
   "cell_type": "code",
   "execution_count": 19,
   "id": "e9cf4569",
   "metadata": {},
   "outputs": [
    {
     "data": {
      "text/plain": [
       "['here are two reasons companies fail they only do more of the same or they only do what s new ',\n",
       " 'to me the real real solution to quality growth is figuring out the balance between two activities exploration and exploitation ',\n",
       " 'both are necessary but it can be too much of a good thing ',\n",
       " 'consider facit ',\n",
       " 'i m actually old enough to remember them ',\n",
       " 'facit was a fantastic company ',\n",
       " 'they were born deep in the swedish forest and they made the best mechanical calculators in the world ',\n",
       " 'everybody used them ',\n",
       " 'and what did facit do when the electronic calculator came along ',\n",
       " 'they continued doing exactly the same ']"
      ]
     },
     "execution_count": 19,
     "metadata": {},
     "output_type": "execute_result"
    }
   ],
   "source": [
    "normalized_text[:10]"
   ]
  },
  {
   "cell_type": "code",
   "execution_count": 20,
   "id": "3545bb18",
   "metadata": {},
   "outputs": [],
   "source": [
    "result = [word_tokenize(sentence) for sentence in normalized_text]"
   ]
  },
  {
   "cell_type": "code",
   "execution_count": 21,
   "id": "1a8c747b",
   "metadata": {},
   "outputs": [
    {
     "data": {
      "text/plain": [
       "273424"
      ]
     },
     "execution_count": 21,
     "metadata": {},
     "output_type": "execute_result"
    }
   ],
   "source": [
    "len(result)"
   ]
  },
  {
   "cell_type": "code",
   "execution_count": 1,
   "id": "536b0cd0",
   "metadata": {},
   "outputs": [],
   "source": [
    "from glove import Corpus, Glove"
   ]
  },
  {
   "cell_type": "code",
   "execution_count": 22,
   "id": "7052b771",
   "metadata": {},
   "outputs": [],
   "source": [
    "corpus = Corpus()\n",
    "\n",
    "### 학습데이터로부터 GloVe에서 사용할 동시발생행렬 생성\n",
    "corpus.fit(result, window=5)"
   ]
  },
  {
   "cell_type": "code",
   "execution_count": 23,
   "id": "9e8ac49b",
   "metadata": {},
   "outputs": [],
   "source": [
    "glove = Glove(no_components=100, learning_rate=0.05)"
   ]
  },
  {
   "cell_type": "code",
   "execution_count": 25,
   "id": "6c90027c",
   "metadata": {},
   "outputs": [
    {
     "data": {
      "text/plain": [
       "54775"
      ]
     },
     "execution_count": 25,
     "metadata": {},
     "output_type": "execute_result"
    }
   ],
   "source": [
    "len(corpus.dictionary)"
   ]
  },
  {
   "cell_type": "code",
   "execution_count": 26,
   "id": "afc90321",
   "metadata": {},
   "outputs": [
    {
     "name": "stdout",
     "output_type": "stream",
     "text": [
      "Performing 20 training epochs with 4 threads\n",
      "Epoch 0\n",
      "Epoch 1\n",
      "Epoch 2\n",
      "Epoch 3\n",
      "Epoch 4\n",
      "Epoch 5\n",
      "Epoch 6\n",
      "Epoch 7\n",
      "Epoch 8\n",
      "Epoch 9\n",
      "Epoch 10\n",
      "Epoch 11\n",
      "Epoch 12\n",
      "Epoch 13\n",
      "Epoch 14\n",
      "Epoch 15\n",
      "Epoch 16\n",
      "Epoch 17\n",
      "Epoch 18\n",
      "Epoch 19\n"
     ]
    }
   ],
   "source": [
    "# 학습에 이용한 쓰레드 갯수를 4로 설정, 에포크는 20\n",
    "glove.fit(corpus.matrix, epochs=20, no_threads=4, verbose=True)\n",
    "glove.add_dictionary(corpus.dictionary)"
   ]
  },
  {
   "cell_type": "code",
   "execution_count": 27,
   "id": "c7ce7fc5",
   "metadata": {},
   "outputs": [
    {
     "name": "stdout",
     "output_type": "stream",
     "text": [
      "[('woman', 0.9670028055891261), ('guy', 0.8956495491232932), ('girl', 0.8585354659980821), ('young', 0.8567492036858457)]\n"
     ]
    }
   ],
   "source": [
    "print(glove.most_similar('man'))"
   ]
  },
  {
   "cell_type": "code",
   "execution_count": 28,
   "id": "806dc2cd",
   "metadata": {},
   "outputs": [
    {
     "name": "stdout",
     "output_type": "stream",
     "text": [
      "[('harvard', 0.8820661474525139), ('mit', 0.8472272505579834), ('stanford', 0.8428039481838339), ('cambridge', 0.8302789079032129)]\n"
     ]
    }
   ],
   "source": [
    "print(glove.most_similar('university'))"
   ]
  },
  {
   "cell_type": "code",
   "execution_count": 31,
   "id": "5964aead",
   "metadata": {},
   "outputs": [
    {
     "name": "stdout",
     "output_type": "stream",
     "text": [
      "[('intelligence', 0.87710114225248), ('electric', 0.8598712500388953), ('electrical', 0.8563744919440548), ('electronic', 0.848367870522238)]\n"
     ]
    }
   ],
   "source": [
    "print(glove.most_similar('artificial'))"
   ]
  },
  {
   "cell_type": "code",
   "execution_count": 32,
   "id": "28496fba",
   "metadata": {},
   "outputs": [
    {
     "name": "stdout",
     "output_type": "stream",
     "text": [
      "[('design', 0.8555588217258701), ('information', 0.8319960452586143), ('power', 0.8284188775965895), ('material', 0.8247348768742808)]\n"
     ]
    }
   ],
   "source": [
    "print(glove.most_similar('technology'))"
   ]
  },
  {
   "cell_type": "code",
   "execution_count": 33,
   "id": "1dbda774",
   "metadata": {},
   "outputs": [
    {
     "name": "stdout",
     "output_type": "stream",
     "text": [
      "[('world', 0.8145812368890084), ('ii', 0.8044471639913833), ('modern', 0.7755755214615346), ('western', 0.7518448035624175)]\n"
     ]
    }
   ],
   "source": [
    "print(glove.most_similar('war'))"
   ]
  },
  {
   "cell_type": "code",
   "execution_count": 34,
   "id": "10b59710",
   "metadata": {},
   "outputs": [
    {
     "name": "stdout",
     "output_type": "stream",
     "text": [
      "[('clean', 0.8540012870115609), ('air', 0.8415245804059791), ('fresh', 0.8229850034001619), ('food', 0.802786521148359)]\n"
     ]
    }
   ],
   "source": [
    "print(glove.most_similar('water'))"
   ]
  },
  {
   "cell_type": "code",
   "execution_count": 35,
   "id": "4e59a32c",
   "metadata": {},
   "outputs": [
    {
     "name": "stdout",
     "output_type": "stream",
     "text": [
      "[('chemistry', 0.8964628608735887), ('economics', 0.8818017866301264), ('mathematics', 0.8655383153588303), ('beauty', 0.8646286286033729)]\n"
     ]
    }
   ],
   "source": [
    "print(glove.most_similar('physics'))"
   ]
  },
  {
   "cell_type": "code",
   "execution_count": 36,
   "id": "e99cb6ba",
   "metadata": {},
   "outputs": [
    {
     "name": "stdout",
     "output_type": "stream",
     "text": [
      "[('fresh', 0.8546075079192427), ('water', 0.8540012870115611), ('heat', 0.8307387859799972), ('wind', 0.8195151336054225)]\n"
     ]
    }
   ],
   "source": [
    "print(glove.most_similar('clean'))"
   ]
  },
  {
   "cell_type": "code",
   "execution_count": 37,
   "id": "74e7d5dc",
   "metadata": {},
   "outputs": [
    {
     "name": "stdout",
     "output_type": "stream",
     "text": [
      "[('drinking', 0.8556368367641413), ('clean', 0.8546075079192424), ('water', 0.8229850034001619), ('supply', 0.7683332437350548)]\n"
     ]
    }
   ],
   "source": [
    "print(glove.most_similar('fresh'))"
   ]
  },
  {
   "cell_type": "code",
   "execution_count": null,
   "id": "4a1a596e",
   "metadata": {},
   "outputs": [],
   "source": []
  }
 ],
 "metadata": {
  "kernelspec": {
   "display_name": "Python 3 (ipykernel)",
   "language": "python",
   "name": "python3"
  },
  "language_info": {
   "codemirror_mode": {
    "name": "ipython",
    "version": 3
   },
   "file_extension": ".py",
   "mimetype": "text/x-python",
   "name": "python",
   "nbconvert_exporter": "python",
   "pygments_lexer": "ipython3",
   "version": "3.8.8"
  }
 },
 "nbformat": 4,
 "nbformat_minor": 5
}
