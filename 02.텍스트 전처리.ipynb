{
 "cells": [
  {
   "cell_type": "code",
   "execution_count": 1,
   "id": "51cd908c",
   "metadata": {},
   "outputs": [],
   "source": [
    "import re\n",
    "text = \"I was wondering if anyone out there could enlighten me on this car.\""
   ]
  },
  {
   "cell_type": "code",
   "execution_count": 2,
   "id": "57d29020",
   "metadata": {},
   "outputs": [
    {
     "name": "stdout",
     "output_type": "stream",
     "text": [
      " was wondering  anyone out there could enlighten   this car.\n"
     ]
    }
   ],
   "source": [
    "shortword = re.compile(r'\\w*\\b\\w{1,2}\\b')\n",
    "print(shortword.sub('', text))"
   ]
  },
  {
   "cell_type": "code",
   "execution_count": 4,
   "id": "866b2e43",
   "metadata": {},
   "outputs": [
    {
     "name": "stdout",
     "output_type": "stream",
     "text": [
      "  경우 fox, dog, car  길이가 3인 명사들이 제거 되기시작하므로 사용하고자 하는 데이터에서 해당 방법을 사용해도 되는지에 대한 고민이 필요합니다.\n"
     ]
    }
   ],
   "source": [
    "text1 = \" 이 경우 fox, dog, car 등 길이가 3인 명사들이 제거 되기시작하므로 사용하고자 하는 데이터에서 해당 방법을 사용해도 되는지에 대한 고민이 필요합니다.\"\n",
    "shortword1 = re.compile(r'\\w*\\b\\w{1}\\b')\n",
    "print(shortword1.sub('', text1))"
   ]
  },
  {
   "cell_type": "markdown",
   "id": "d5b8b511",
   "metadata": {},
   "source": [
    "### 2. 어간 추출(Stemming)과 표제어 추출(Lemmatization)"
   ]
  },
  {
   "cell_type": "code",
   "execution_count": 5,
   "id": "c8201598",
   "metadata": {},
   "outputs": [],
   "source": [
    "from nltk.stem import WordNetLemmatizer"
   ]
  },
  {
   "cell_type": "code",
   "execution_count": 6,
   "id": "ec05b449",
   "metadata": {},
   "outputs": [],
   "source": [
    "lenmmatizer = WordNetLemmatizer()\n",
    "words = ['policy', 'doing', 'organization', 'have', 'going', 'love', 'lives', 'fly', 'dies', 'watched', 'has', 'starting']"
   ]
  },
  {
   "cell_type": "code",
   "execution_count": 7,
   "id": "19d1aace",
   "metadata": {},
   "outputs": [
    {
     "name": "stdout",
     "output_type": "stream",
     "text": [
      "표제어 추출전:  ['policy', 'doing', 'organization', 'have', 'going', 'love', 'lives', 'fly', 'dies', 'watched', 'has', 'starting']\n",
      "표제어 추출후:  ['policy', 'doing', 'organization', 'have', 'going', 'love', 'life', 'fly', 'dy', 'watched', 'ha', 'starting']\n"
     ]
    }
   ],
   "source": [
    "print(\"표제어 추출전: \", words)\n",
    "print(\"표제어 추출후: \", [lenmmatizer.lemmatize(word) for word in words])"
   ]
  },
  {
   "cell_type": "markdown",
   "id": "86b31e7d",
   "metadata": {},
   "source": [
    "* 표제어 추출은 어간 추출과는 달리 단어의 형태가 적절히 보존되는 양상을 보임\n",
    "* 그러나, dy 또는 ha와 같은 의미없는 단어 출력\n",
    "* 표제어 추출기가 본래 단어의 품사정보를 알아야만 정확한 결과를 얻을 수 있기 때문임\n",
    "* WordNetLemmatizer 입력단어가 동사 품사라는 사실을 알려줄 수 있음"
   ]
  },
  {
   "cell_type": "code",
   "execution_count": 8,
   "id": "e967ac90",
   "metadata": {},
   "outputs": [
    {
     "data": {
      "text/plain": [
       "'die'"
      ]
     },
     "execution_count": 8,
     "metadata": {},
     "output_type": "execute_result"
    }
   ],
   "source": [
    "lenmmatizer.lemmatize('dies', 'v')"
   ]
  },
  {
   "cell_type": "code",
   "execution_count": 11,
   "id": "bc80bde5",
   "metadata": {},
   "outputs": [
    {
     "name": "stdout",
     "output_type": "stream",
     "text": [
      "['policy', 'do', 'organization', 'have', 'go', 'love', 'live', 'fly', 'die', 'watch', 'have', 'start']\n"
     ]
    }
   ],
   "source": [
    "print([lenmmatizer.lemmatize(word, 'v') for word in words])"
   ]
  },
  {
   "cell_type": "markdown",
   "id": "a31f3438",
   "metadata": {},
   "source": [
    "* 표제어 추출은 품사정보를 보존하지만, 어간추출 결과는 품사정보가 보존되지 않음\n",
    "* 따라서 어간 추출 결과는 사전에 존재하지 않는 단어일 경우가 많음"
   ]
  },
  {
   "cell_type": "code",
   "execution_count": 12,
   "id": "998dab93",
   "metadata": {},
   "outputs": [],
   "source": [
    "from nltk.stem import PorterStemmer\n",
    "from nltk.tokenize import word_tokenize"
   ]
  },
  {
   "cell_type": "code",
   "execution_count": 13,
   "id": "80a2d8df",
   "metadata": {},
   "outputs": [],
   "source": [
    "stemmer = PorterStemmer()\n",
    "\n",
    "sentence = \"This was not the map we found in Billy Bones's chest, but an accurate copy, complete in all things--names and heights and soundings--with the single exception of the red crosses and the written notes.\""
   ]
  },
  {
   "cell_type": "code",
   "execution_count": 14,
   "id": "586ef92d",
   "metadata": {},
   "outputs": [],
   "source": [
    "tokenized_sentence = word_tokenize(sentence)"
   ]
  },
  {
   "cell_type": "code",
   "execution_count": 15,
   "id": "68858d34",
   "metadata": {},
   "outputs": [
    {
     "name": "stdout",
     "output_type": "stream",
     "text": [
      "어간 추출전: ['This', 'was', 'not', 'the', 'map', 'we', 'found', 'in', 'Billy', 'Bones', \"'s\", 'chest', ',', 'but', 'an', 'accurate', 'copy', ',', 'complete', 'in', 'all', 'things', '--', 'names', 'and', 'heights', 'and', 'soundings', '--', 'with', 'the', 'single', 'exception', 'of', 'the', 'red', 'crosses', 'and', 'the', 'written', 'notes', '.']\n",
      "어간 추출후: ['thi', 'wa', 'not', 'the', 'map', 'we', 'found', 'in', 'billi', 'bone', \"'s\", 'chest', ',', 'but', 'an', 'accur', 'copi', ',', 'complet', 'in', 'all', 'thing', '--', 'name', 'and', 'height', 'and', 'sound', '--', 'with', 'the', 'singl', 'except', 'of', 'the', 'red', 'cross', 'and', 'the', 'written', 'note', '.']\n"
     ]
    }
   ],
   "source": [
    "print('어간 추출전:', tokenized_sentence)\n",
    "print('어간 추출후:', [stemmer.stem(word) for word in tokenized_sentence])"
   ]
  },
  {
   "cell_type": "code",
   "execution_count": 16,
   "id": "823da2fc",
   "metadata": {},
   "outputs": [
    {
     "name": "stdout",
     "output_type": "stream",
     "text": [
      "어간 추출전: ['formalize', 'allowance', 'electricical']\n",
      "어간 추출후: ['formal', 'allow', 'electric']\n"
     ]
    }
   ],
   "source": [
    "words = ['formalize', 'allowance', 'electricical']\n",
    "\n",
    "print('어간 추출전:', words)\n",
    "print('어간 추출후:', [stemmer.stem(word) for word in words])"
   ]
  },
  {
   "cell_type": "markdown",
   "id": "1c9e4b3a",
   "metadata": {},
   "source": [
    "* 어간 추출은 정확도가 떨어지지만 속도가 빠른게 장점. 상황에 따라 선택해서 사용해야 함"
   ]
  },
  {
   "cell_type": "code",
   "execution_count": 17,
   "id": "d3c9f10d",
   "metadata": {},
   "outputs": [],
   "source": [
    "from nltk.stem import PorterStemmer\n",
    "from nltk.stem import LancasterStemmer\n",
    "\n",
    "porter_stemmer = PorterStemmer()\n",
    "lancester_stemmer = LancasterStemmer()"
   ]
  },
  {
   "cell_type": "code",
   "execution_count": 18,
   "id": "b418a26f",
   "metadata": {},
   "outputs": [],
   "source": [
    "words = ['policy', 'doing', 'organization', 'have', 'going', 'love', 'lives', 'fly', 'dies', 'watched', 'has', 'starting']"
   ]
  },
  {
   "cell_type": "code",
   "execution_count": 19,
   "id": "9f6bc1d9",
   "metadata": {},
   "outputs": [
    {
     "name": "stdout",
     "output_type": "stream",
     "text": [
      "어간 추출전: ['policy', 'doing', 'organization', 'have', 'going', 'love', 'lives', 'fly', 'dies', 'watched', 'has', 'starting']\n",
      "어간 추출후: ['polici', 'do', 'organ', 'have', 'go', 'love', 'live', 'fli', 'die', 'watch', 'ha', 'start']\n",
      "어간 추출후: ['policy', 'doing', 'org', 'hav', 'going', 'lov', 'liv', 'fly', 'die', 'watch', 'has', 'start']\n"
     ]
    }
   ],
   "source": [
    "print('어간 추출전:', words)\n",
    "print('어간 추출후:', [porter_stemmer.stem(word) for word in words])\n",
    "print('어간 추출후:', [lancester_stemmer.stem(word) for word in words])"
   ]
  },
  {
   "cell_type": "markdown",
   "id": "57968b77",
   "metadata": {},
   "source": [
    "### 3. 불용어(stopwords)"
   ]
  },
  {
   "cell_type": "code",
   "execution_count": 20,
   "id": "a8737f4b",
   "metadata": {},
   "outputs": [],
   "source": [
    "from nltk.corpus import stopwords\n",
    "from nltk.tokenize import word_tokenize\n",
    "from konlpy.tag import Okt"
   ]
  },
  {
   "cell_type": "code",
   "execution_count": 22,
   "id": "8d560028",
   "metadata": {},
   "outputs": [
    {
     "name": "stdout",
     "output_type": "stream",
     "text": [
      "불용어 개수:  179\n",
      "불용어 10개 출력: ['i', 'me', 'my', 'myself', 'we', 'our', 'ours', 'ourselves', 'you', \"you're\"]\n"
     ]
    }
   ],
   "source": [
    "stop_words_list = stopwords.words('english')\n",
    "print('불용어 개수: ', len(stop_words_list))\n",
    "print('불용어 10개 출력:', stop_words_list[:10])"
   ]
  },
  {
   "cell_type": "code",
   "execution_count": 23,
   "id": "53ae4646",
   "metadata": {},
   "outputs": [],
   "source": [
    "### 불용어 제거\n",
    "example = \"Family is not an important thing. It's everything.\"\n",
    "stop_words = set(stopwords.words('english'))\n",
    "word_tokens = word_tokenize(example)"
   ]
  },
  {
   "cell_type": "code",
   "execution_count": 24,
   "id": "a7587a91",
   "metadata": {},
   "outputs": [
    {
     "name": "stdout",
     "output_type": "stream",
     "text": [
      "불용어 제거전:  ['Family', 'is', 'not', 'an', 'important', 'thing', '.', 'It', \"'s\", 'everything', '.']\n",
      "불용어 제거후:  ['Family', 'important', 'thing', '.', 'It', \"'s\", 'everything', '.']\n"
     ]
    }
   ],
   "source": [
    "result = []\n",
    "for word in word_tokens:\n",
    "    if word not in stop_words:\n",
    "        result.append(word)\n",
    "        \n",
    "print('불용어 제거전: ', word_tokens)\n",
    "print(\"불용어 제거후: \", result)"
   ]
  },
  {
   "cell_type": "code",
   "execution_count": 25,
   "id": "c8a57200",
   "metadata": {},
   "outputs": [],
   "source": [
    "### 한국어 불용어 제거\n",
    "okt = Okt()\n",
    "example = \"고기를 아무렇게나 구우려고 하면 안 돼. 고기라고 다 같은 게 아니거든. 예컨대 삼겹살을 구울 때는 중요한 게 있지.\"\n",
    "stop_words = \"를 아무렇게나 구 우려 고 안 돼 같은 게 구울 때 는\""
   ]
  },
  {
   "cell_type": "code",
   "execution_count": 26,
   "id": "3d230194",
   "metadata": {},
   "outputs": [
    {
     "data": {
      "text/plain": [
       "{'같은', '게', '고', '구', '구울', '는', '돼', '때', '를', '아무렇게나', '안', '우려'}"
      ]
     },
     "execution_count": 26,
     "metadata": {},
     "output_type": "execute_result"
    }
   ],
   "source": [
    "stop_words = set(stop_words.split(' '))\n",
    "stop_words"
   ]
  },
  {
   "cell_type": "code",
   "execution_count": 27,
   "id": "bf8b22b4",
   "metadata": {},
   "outputs": [],
   "source": [
    "word_tokens = okt.morphs(example)\n",
    "\n",
    "result = [word for word in word_tokens if not word in stop_words]"
   ]
  },
  {
   "cell_type": "code",
   "execution_count": 28,
   "id": "19ad38e9",
   "metadata": {},
   "outputs": [
    {
     "name": "stdout",
     "output_type": "stream",
     "text": [
      "불용어 제거전:  ['고기', '를', '아무렇게나', '구', '우려', '고', '하면', '안', '돼', '.', '고기', '라고', '다', '같은', '게', '아니거든', '.', '예컨대', '삼겹살', '을', '구울', '때', '는', '중요한', '게', '있지', '.']\n",
      "불용어 제거후:  ['고기', '하면', '.', '고기', '라고', '다', '아니거든', '.', '예컨대', '삼겹살', '을', '중요한', '있지', '.']\n"
     ]
    }
   ],
   "source": [
    "print(\"불용어 제거전: \", word_tokens)\n",
    "print(\"불용어 제거후: \", result)"
   ]
  },
  {
   "cell_type": "markdown",
   "id": "4fb9330b",
   "metadata": {},
   "source": [
    "* 한국어 불용어 참고: https://www.ranks.nl/stopwords/korean"
   ]
  },
  {
   "cell_type": "code",
   "execution_count": 31,
   "id": "b097e41f",
   "metadata": {},
   "outputs": [],
   "source": [
    "file = open('한국어불용어100.txt', 'r', encoding='utf-8')\n",
    "text = file.read()"
   ]
  },
  {
   "cell_type": "code",
   "execution_count": 52,
   "id": "6796bb3e",
   "metadata": {},
   "outputs": [],
   "source": [
    "stop_words = []\n",
    "with open('한국어불용어100.txt', 'r', encoding='utf-8') as file: \n",
    "    for text in file:\n",
    "        stop_words.append(text.split('\\t')[0])"
   ]
  },
  {
   "cell_type": "code",
   "execution_count": 53,
   "id": "2c8d9189",
   "metadata": {},
   "outputs": [
    {
     "data": {
      "text/plain": [
       "100"
      ]
     },
     "execution_count": 53,
     "metadata": {},
     "output_type": "execute_result"
    }
   ],
   "source": [
    "len(stop_words)"
   ]
  },
  {
   "cell_type": "code",
   "execution_count": 54,
   "id": "156ecf04",
   "metadata": {},
   "outputs": [],
   "source": [
    "result = [word for word in word_tokens if not word in stop_words]"
   ]
  },
  {
   "cell_type": "code",
   "execution_count": 56,
   "id": "dce58eee",
   "metadata": {},
   "outputs": [
    {
     "name": "stdout",
     "output_type": "stream",
     "text": [
      "불용어 제거전:  ['고기', '를', '아무렇게나', '구', '우려', '고', '하면', '안', '돼', '.', '고기', '라고', '다', '같은', '게', '아니거든', '.', '예컨대', '삼겹살', '을', '구울', '때', '는', '중요한', '게', '있지', '.']\n",
      "불용어 제거후:  ['고기', '를', '아무렇게나', '구', '우려', '고', '하면', '돼', '.', '고기', '라고', '다', '같은', '게', '아니거든', '.', '예컨대', '삼겹살', '을', '구울', '는', '중요한', '게', '있지', '.']\n"
     ]
    }
   ],
   "source": [
    "print(\"불용어 제거전: \", word_tokens)\n",
    "print(\"불용어 제거후: \", result)"
   ]
  },
  {
   "cell_type": "markdown",
   "id": "82a54111",
   "metadata": {},
   "source": [
    "### 4. 정규표현식"
   ]
  },
  {
   "cell_type": "code",
   "execution_count": 57,
   "id": "6cbff0e4",
   "metadata": {},
   "outputs": [],
   "source": [
    "import re"
   ]
  },
  {
   "cell_type": "code",
   "execution_count": 58,
   "id": "fdf899b2",
   "metadata": {},
   "outputs": [],
   "source": [
    "r = re.compile('a.c')  # a와 c 사이에 어떤 1개의 문자도 올 수가 있음 \n",
    "r.search('kkk')  # 패턴 매치가 되는지 찾아줌"
   ]
  },
  {
   "cell_type": "code",
   "execution_count": 59,
   "id": "ad2ed76e",
   "metadata": {},
   "outputs": [
    {
     "data": {
      "text/plain": [
       "<re.Match object; span=(0, 3), match='abc'>"
      ]
     },
     "execution_count": 59,
     "metadata": {},
     "output_type": "execute_result"
    }
   ],
   "source": [
    "r.search('abc')"
   ]
  },
  {
   "cell_type": "code",
   "execution_count": 60,
   "id": "549555a6",
   "metadata": {},
   "outputs": [],
   "source": [
    "r = re.compile('ab?c')  # ?앞의 문자가 존재할 수도 있고 존재하지 않을 수도 있는 경우\n",
    "r.search('abbc')"
   ]
  },
  {
   "cell_type": "code",
   "execution_count": 61,
   "id": "f777c557",
   "metadata": {},
   "outputs": [
    {
     "data": {
      "text/plain": [
       "<re.Match object; span=(0, 3), match='abc'>"
      ]
     },
     "execution_count": 61,
     "metadata": {},
     "output_type": "execute_result"
    }
   ],
   "source": [
    "r.search('abc')"
   ]
  },
  {
   "cell_type": "code",
   "execution_count": 62,
   "id": "6c09f34a",
   "metadata": {},
   "outputs": [
    {
     "data": {
      "text/plain": [
       "<re.Match object; span=(0, 2), match='ac'>"
      ]
     },
     "execution_count": 62,
     "metadata": {},
     "output_type": "execute_result"
    }
   ],
   "source": [
    "r.search('ac')"
   ]
  },
  {
   "cell_type": "code",
   "execution_count": 64,
   "id": "c968ba4c",
   "metadata": {},
   "outputs": [
    {
     "data": {
      "text/plain": [
       "<re.Match object; span=(0, 2), match='ac'>"
      ]
     },
     "execution_count": 64,
     "metadata": {},
     "output_type": "execute_result"
    }
   ],
   "source": [
    "r.search('acc')"
   ]
  },
  {
   "cell_type": "code",
   "execution_count": 65,
   "id": "cbe488f9",
   "metadata": {},
   "outputs": [],
   "source": [
    "r = re.compile(\"ab*c\")  # *은 바로 앞의 문자가 0개 이상일 경우를 나타냄.. ac, abc, abbc, abbbc\n",
    "r.search(\"a\")"
   ]
  },
  {
   "cell_type": "code",
   "execution_count": 66,
   "id": "2e663041",
   "metadata": {},
   "outputs": [
    {
     "data": {
      "text/plain": [
       "<re.Match object; span=(0, 2), match='ac'>"
      ]
     },
     "execution_count": 66,
     "metadata": {},
     "output_type": "execute_result"
    }
   ],
   "source": [
    "r.search('ac')"
   ]
  },
  {
   "cell_type": "code",
   "execution_count": 67,
   "id": "45f96317",
   "metadata": {},
   "outputs": [
    {
     "data": {
      "text/plain": [
       "<re.Match object; span=(0, 3), match='abc'>"
      ]
     },
     "execution_count": 67,
     "metadata": {},
     "output_type": "execute_result"
    }
   ],
   "source": [
    "r.search('abc')"
   ]
  },
  {
   "cell_type": "code",
   "execution_count": 68,
   "id": "bd48c148",
   "metadata": {},
   "outputs": [
    {
     "data": {
      "text/plain": [
       "<re.Match object; span=(0, 4), match='abbc'>"
      ]
     },
     "execution_count": 68,
     "metadata": {},
     "output_type": "execute_result"
    }
   ],
   "source": [
    "r.search('abbc')"
   ]
  },
  {
   "cell_type": "code",
   "execution_count": 69,
   "id": "3b8e632a",
   "metadata": {},
   "outputs": [],
   "source": [
    "r = re.compile(\"ab+c\") # +은 앞의 문자가 최소 1개 이상이어야 함. ..ab+c --> abc, abbc, abbbc...\n",
    "r.search('ac')"
   ]
  },
  {
   "cell_type": "code",
   "execution_count": 70,
   "id": "003d6dbf",
   "metadata": {},
   "outputs": [
    {
     "data": {
      "text/plain": [
       "<re.Match object; span=(0, 3), match='abc'>"
      ]
     },
     "execution_count": 70,
     "metadata": {},
     "output_type": "execute_result"
    }
   ],
   "source": [
    "r.search('abc')"
   ]
  },
  {
   "cell_type": "code",
   "execution_count": 71,
   "id": "86591d69",
   "metadata": {},
   "outputs": [
    {
     "data": {
      "text/plain": [
       "<re.Match object; span=(0, 4), match='abbc'>"
      ]
     },
     "execution_count": 71,
     "metadata": {},
     "output_type": "execute_result"
    }
   ],
   "source": [
    "r.search('abbc')"
   ]
  },
  {
   "cell_type": "code",
   "execution_count": 72,
   "id": "f103ae93",
   "metadata": {},
   "outputs": [],
   "source": [
    "r = re.compile('^ab')  # ^은 시작되는 문자열을 지정.. ^ab --> ab로 시작하는 문자열과 매치\n",
    "r.search('bbc')"
   ]
  },
  {
   "cell_type": "code",
   "execution_count": 73,
   "id": "d6c28dd5",
   "metadata": {},
   "outputs": [],
   "source": [
    "r.search('zab')"
   ]
  },
  {
   "cell_type": "code",
   "execution_count": 74,
   "id": "74d58891",
   "metadata": {},
   "outputs": [
    {
     "data": {
      "text/plain": [
       "<re.Match object; span=(0, 2), match='ab'>"
      ]
     },
     "execution_count": 74,
     "metadata": {},
     "output_type": "execute_result"
    }
   ],
   "source": [
    "r.search('abz')"
   ]
  },
  {
   "cell_type": "code",
   "execution_count": 75,
   "id": "e16fb6ee",
   "metadata": {},
   "outputs": [],
   "source": [
    "r = re.compile('ab{2}c')  # 문자에 해당 기호를 붙이면, 해당 문자를 숫자만큼 반복\n",
    "r.search('ac')"
   ]
  },
  {
   "cell_type": "code",
   "execution_count": 76,
   "id": "3f788ac5",
   "metadata": {},
   "outputs": [],
   "source": [
    "r.search('abc')"
   ]
  },
  {
   "cell_type": "code",
   "execution_count": 77,
   "id": "6c491f3b",
   "metadata": {},
   "outputs": [
    {
     "data": {
      "text/plain": [
       "<re.Match object; span=(0, 4), match='abbc'>"
      ]
     },
     "execution_count": 77,
     "metadata": {},
     "output_type": "execute_result"
    }
   ],
   "source": [
    "r.search('abbc')"
   ]
  },
  {
   "cell_type": "code",
   "execution_count": 78,
   "id": "73ad2be5",
   "metadata": {},
   "outputs": [],
   "source": [
    "r.search('abbbbc')"
   ]
  },
  {
   "cell_type": "code",
   "execution_count": 79,
   "id": "93db802f",
   "metadata": {},
   "outputs": [],
   "source": [
    "r = re.compile(\"ab{2,8}c\")  # 숫자2 이상 숫자 8 이하만큼 반복\n",
    "r.search('ac')"
   ]
  },
  {
   "cell_type": "code",
   "execution_count": 80,
   "id": "69d20c42",
   "metadata": {},
   "outputs": [],
   "source": [
    "r.search('abc')"
   ]
  },
  {
   "cell_type": "code",
   "execution_count": 81,
   "id": "fe68d99f",
   "metadata": {},
   "outputs": [
    {
     "data": {
      "text/plain": [
       "<re.Match object; span=(0, 4), match='abbc'>"
      ]
     },
     "execution_count": 81,
     "metadata": {},
     "output_type": "execute_result"
    }
   ],
   "source": [
    "r.search('abbc')"
   ]
  },
  {
   "cell_type": "code",
   "execution_count": 83,
   "id": "f1fe5362",
   "metadata": {},
   "outputs": [],
   "source": [
    "r.search('abbbbbbbbbc')"
   ]
  },
  {
   "cell_type": "code",
   "execution_count": 84,
   "id": "44b4c163",
   "metadata": {},
   "outputs": [],
   "source": [
    "r = re.compile('a{2,}bc') # 해당문자를 숫자 이상만큼 반복\n",
    "r.search('bc')"
   ]
  },
  {
   "cell_type": "code",
   "execution_count": 85,
   "id": "e8722e83",
   "metadata": {},
   "outputs": [
    {
     "data": {
      "text/plain": [
       "<re.Match object; span=(0, 4), match='aabc'>"
      ]
     },
     "execution_count": 85,
     "metadata": {},
     "output_type": "execute_result"
    }
   ],
   "source": [
    "r.search('aabc')"
   ]
  },
  {
   "cell_type": "code",
   "execution_count": 86,
   "id": "cf11a070",
   "metadata": {},
   "outputs": [],
   "source": [
    "r.search('abc')"
   ]
  },
  {
   "cell_type": "code",
   "execution_count": 87,
   "id": "53b9017a",
   "metadata": {},
   "outputs": [],
   "source": [
    "r = re.compile(\"[abc]\")  # 문자들을 넢으면 그 문자들 중 한개의 문자와 매치라는 의미를 가짐\n",
    "r.search(\"zzz\")"
   ]
  },
  {
   "cell_type": "code",
   "execution_count": 88,
   "id": "a7af5bc0",
   "metadata": {},
   "outputs": [
    {
     "data": {
      "text/plain": [
       "<re.Match object; span=(0, 1), match='a'>"
      ]
     },
     "execution_count": 88,
     "metadata": {},
     "output_type": "execute_result"
    }
   ],
   "source": [
    "r.search('a')"
   ]
  },
  {
   "cell_type": "code",
   "execution_count": 89,
   "id": "23ac1f62",
   "metadata": {},
   "outputs": [
    {
     "data": {
      "text/plain": [
       "<re.Match object; span=(0, 1), match='a'>"
      ]
     },
     "execution_count": 89,
     "metadata": {},
     "output_type": "execute_result"
    }
   ],
   "source": [
    "r.search('aaaaa')"
   ]
  },
  {
   "cell_type": "code",
   "execution_count": 90,
   "id": "af023d52",
   "metadata": {},
   "outputs": [
    {
     "data": {
      "text/plain": [
       "<re.Match object; span=(0, 1), match='b'>"
      ]
     },
     "execution_count": 90,
     "metadata": {},
     "output_type": "execute_result"
    }
   ],
   "source": [
    "r.search('bac')"
   ]
  },
  {
   "cell_type": "code",
   "execution_count": 91,
   "id": "60c2f76a",
   "metadata": {},
   "outputs": [],
   "source": [
    "r = re.compile('[a-z]') # 알파벳 소문자 하나만 있어도 가능\n",
    "r.search('AAA')"
   ]
  },
  {
   "cell_type": "code",
   "execution_count": 92,
   "id": "b920d877",
   "metadata": {},
   "outputs": [],
   "source": [
    "r.search('111')"
   ]
  },
  {
   "cell_type": "code",
   "execution_count": 93,
   "id": "73281896",
   "metadata": {},
   "outputs": [
    {
     "data": {
      "text/plain": [
       "<re.Match object; span=(0, 1), match='a'>"
      ]
     },
     "execution_count": 93,
     "metadata": {},
     "output_type": "execute_result"
    }
   ],
   "source": [
    "r.search('aBc')"
   ]
  },
  {
   "cell_type": "code",
   "execution_count": 94,
   "id": "f4eca8c2",
   "metadata": {},
   "outputs": [],
   "source": [
    "r = re.compile(\"[^abc]\") # ^ 기호뒤에 붙은 문자들을 제외한 모든 문자 매치\n",
    "r.search('ab')"
   ]
  },
  {
   "cell_type": "code",
   "execution_count": 95,
   "id": "910bccee",
   "metadata": {},
   "outputs": [
    {
     "data": {
      "text/plain": [
       "<re.Match object; span=(3, 4), match='d'>"
      ]
     },
     "execution_count": 95,
     "metadata": {},
     "output_type": "execute_result"
    }
   ],
   "source": [
    "r.search('abcd')"
   ]
  },
  {
   "cell_type": "code",
   "execution_count": 96,
   "id": "2e1c323f",
   "metadata": {},
   "outputs": [],
   "source": [
    "r.search('b')"
   ]
  },
  {
   "cell_type": "code",
   "execution_count": 97,
   "id": "fde00420",
   "metadata": {},
   "outputs": [
    {
     "data": {
      "text/plain": [
       "<re.Match object; span=(0, 1), match='1'>"
      ]
     },
     "execution_count": 97,
     "metadata": {},
     "output_type": "execute_result"
    }
   ],
   "source": [
    "r.search('1')"
   ]
  },
  {
   "cell_type": "markdown",
   "id": "146c9b67",
   "metadata": {},
   "source": [
    "#### 4-1. 정규모현식 모듈 함수 \n",
    "* re.match() : 문자열의 첫부분부터 정규표현식과 일치한지 확인\n",
    "* re.search() : 정규표현식 전체에 대해 문자열이 일치하는지 확인"
   ]
  },
  {
   "cell_type": "code",
   "execution_count": 98,
   "id": "d5601527",
   "metadata": {},
   "outputs": [],
   "source": [
    "r = re.compile('ab.')\n",
    "r.match('kkkabc')"
   ]
  },
  {
   "cell_type": "code",
   "execution_count": 99,
   "id": "246b62dc",
   "metadata": {},
   "outputs": [
    {
     "data": {
      "text/plain": [
       "<re.Match object; span=(3, 6), match='abc'>"
      ]
     },
     "execution_count": 99,
     "metadata": {},
     "output_type": "execute_result"
    }
   ],
   "source": [
    "r.search('kkkabc') # 중간부터 같아도 상관없음"
   ]
  },
  {
   "cell_type": "code",
   "execution_count": 100,
   "id": "532defdc",
   "metadata": {},
   "outputs": [
    {
     "data": {
      "text/plain": [
       "<re.Match object; span=(0, 3), match='abc'>"
      ]
     },
     "execution_count": 100,
     "metadata": {},
     "output_type": "execute_result"
    }
   ],
   "source": [
    "r.match('abc') # 첫부분부터 같아야 함"
   ]
  },
  {
   "cell_type": "code",
   "execution_count": 101,
   "id": "00818fb7",
   "metadata": {},
   "outputs": [
    {
     "data": {
      "text/plain": [
       "<re.Match object; span=(0, 3), match='abc'>"
      ]
     },
     "execution_count": 101,
     "metadata": {},
     "output_type": "execute_result"
    }
   ],
   "source": [
    "r.search('abc')"
   ]
  },
  {
   "cell_type": "markdown",
   "id": "fbb14304",
   "metadata": {},
   "source": [
    "* re.split() : 정규표현식을 기준으로 문자열 분리"
   ]
  },
  {
   "cell_type": "code",
   "execution_count": 102,
   "id": "6754a9a7",
   "metadata": {},
   "outputs": [
    {
     "data": {
      "text/plain": [
       "['사과', '딸기', '수박', '메론', '바나나']"
      ]
     },
     "execution_count": 102,
     "metadata": {},
     "output_type": "execute_result"
    }
   ],
   "source": [
    "text = \"사과 딸기 수박 메론 바나나\"\n",
    "re.split(\" \", text)"
   ]
  },
  {
   "cell_type": "code",
   "execution_count": 103,
   "id": "3d6f88a7",
   "metadata": {},
   "outputs": [
    {
     "data": {
      "text/plain": [
       "['사과', '딸기', '수박', '메론', '바나나']"
      ]
     },
     "execution_count": 103,
     "metadata": {},
     "output_type": "execute_result"
    }
   ],
   "source": [
    "text = \"\"\"사과\n",
    "딸기\n",
    "수박\n",
    "메론\n",
    "바나나\"\"\"\n",
    "\n",
    "re.split(\"\\n\", text)"
   ]
  },
  {
   "cell_type": "code",
   "execution_count": 105,
   "id": "0816e91c",
   "metadata": {},
   "outputs": [
    {
     "data": {
      "text/plain": [
       "['사과', '딸기', '수박', '메론', '바나나']"
      ]
     },
     "execution_count": 105,
     "metadata": {},
     "output_type": "execute_result"
    }
   ],
   "source": [
    "text = \"사과+딸기+수박+메론+바나나\"\n",
    "re.split(\"\\+\", text)"
   ]
  },
  {
   "cell_type": "markdown",
   "id": "58d0341f",
   "metadata": {},
   "source": [
    "* re.findall() : 정규 표현식과 매치되는 모든 문자열을 리스트로 리턴"
   ]
  },
  {
   "cell_type": "code",
   "execution_count": 106,
   "id": "b16cba2e",
   "metadata": {},
   "outputs": [
    {
     "data": {
      "text/plain": [
       "['010', '1234', '1234', '30']"
      ]
     },
     "execution_count": 106,
     "metadata": {},
     "output_type": "execute_result"
    }
   ],
   "source": [
    "text = \"\"\"이름 : 김철수\n",
    "전화번호 : 010 - 1234 - 1234\n",
    "나이 : 30\n",
    "성별 : 남\"\"\"\n",
    "\n",
    "re.findall('\\d+', text)  # 숫자 한개이상인 것만 뽑기"
   ]
  },
  {
   "cell_type": "code",
   "execution_count": 107,
   "id": "e032dcac",
   "metadata": {},
   "outputs": [
    {
     "data": {
      "text/plain": [
       "[]"
      ]
     },
     "execution_count": 107,
     "metadata": {},
     "output_type": "execute_result"
    }
   ],
   "source": [
    "re.findall(\"\\d+\", \"문자열입니다.\")"
   ]
  },
  {
   "cell_type": "markdown",
   "id": "8a54f940",
   "metadata": {},
   "source": [
    "* re.sub() :  정규 표현식 패턴과 일치하는 문자열을 찾아 다른 문자열로 대체할 수 있음\n",
    "* 주로 정제작업에 많이 사용"
   ]
  },
  {
   "cell_type": "code",
   "execution_count": 108,
   "id": "baf4cc37",
   "metadata": {},
   "outputs": [],
   "source": [
    "text = \"Regular expression : A regular expression, regex or \\\n",
    "        regexp[1] (sometimes called a rational expression)[2][3]\\\n",
    "        is, in theoretical computer science and formal language theory,\\\n",
    "        a sequence of characters that define a search pattern.\""
   ]
  },
  {
   "cell_type": "code",
   "execution_count": 109,
   "id": "57f58a91",
   "metadata": {},
   "outputs": [
    {
     "name": "stdout",
     "output_type": "stream",
     "text": [
      "Regular expression   A regular expression  regex or regexp     sometimes called a rational expression        is  in theoretical computer science and formal language theory  a sequence of characters that define a search pattern \n"
     ]
    }
   ],
   "source": [
    "preprocessing_text = re.sub(\"[^a-zA-Z]\", ' ', text)\n",
    "print(preprocessing_text)"
   ]
  },
  {
   "cell_type": "code",
   "execution_count": 113,
   "id": "ed832fd8",
   "metadata": {},
   "outputs": [
    {
     "name": "stdout",
     "output_type": "stream",
     "text": [
      "                                                           1                                           2  3                                                                                                                        \n"
     ]
    }
   ],
   "source": [
    "preprocessing_text = re.sub(\"[^\\d+]\", ' ', text)\n",
    "print(preprocessing_text)"
   ]
  },
  {
   "cell_type": "markdown",
   "id": "538ba63f",
   "metadata": {},
   "source": [
    "#### 4-2. 정규 표현식 텍스트 전처리 예제"
   ]
  },
  {
   "cell_type": "code",
   "execution_count": 114,
   "id": "d7af5081",
   "metadata": {},
   "outputs": [
    {
     "data": {
      "text/plain": [
       "'100 John    PROF\\n101 James   STUD\\n102 Mac   STUD'"
      ]
     },
     "execution_count": 114,
     "metadata": {},
     "output_type": "execute_result"
    }
   ],
   "source": [
    "text = \"\"\"100 John    PROF\n",
    "101 James   STUD\n",
    "102 Mac   STUD\"\"\"\n",
    "text"
   ]
  },
  {
   "cell_type": "code",
   "execution_count": 115,
   "id": "22bf6a03",
   "metadata": {},
   "outputs": [
    {
     "data": {
      "text/plain": [
       "['100', 'John', 'PROF', '101', 'James', 'STUD', '102', 'Mac', 'STUD']"
      ]
     },
     "execution_count": 115,
     "metadata": {},
     "output_type": "execute_result"
    }
   ],
   "source": [
    "re.split(\"\\s+\", text)  # 공백을 찾아 분리"
   ]
  },
  {
   "cell_type": "code",
   "execution_count": 116,
   "id": "9dbef936",
   "metadata": {},
   "outputs": [
    {
     "data": {
      "text/plain": [
       "['100', '101', '102']"
      ]
     },
     "execution_count": 116,
     "metadata": {},
     "output_type": "execute_result"
    }
   ],
   "source": [
    "re.findall('\\d+', text)"
   ]
  },
  {
   "cell_type": "code",
   "execution_count": 117,
   "id": "d502d159",
   "metadata": {},
   "outputs": [
    {
     "data": {
      "text/plain": [
       "'100 John    PROF\\n101 James   STUD\\n102 Mac   STUD'"
      ]
     },
     "execution_count": 117,
     "metadata": {},
     "output_type": "execute_result"
    }
   ],
   "source": [
    "text"
   ]
  },
  {
   "cell_type": "code",
   "execution_count": 119,
   "id": "d754ddd8",
   "metadata": {},
   "outputs": [
    {
     "data": {
      "text/plain": [
       "['J', 'PROF', 'J', 'STUD', 'M', 'STUD']"
      ]
     },
     "execution_count": 119,
     "metadata": {},
     "output_type": "execute_result"
    }
   ],
   "source": [
    "re.findall('[A-Z]+', text)"
   ]
  },
  {
   "cell_type": "code",
   "execution_count": 120,
   "id": "a8164817",
   "metadata": {},
   "outputs": [
    {
     "data": {
      "text/plain": [
       "['J', 'P', 'R', 'O', 'F', 'J', 'S', 'T', 'U', 'D', 'M', 'S', 'T', 'U', 'D']"
      ]
     },
     "execution_count": 120,
     "metadata": {},
     "output_type": "execute_result"
    }
   ],
   "source": [
    "re.findall('[A-Z]', text)"
   ]
  },
  {
   "cell_type": "code",
   "execution_count": 121,
   "id": "df0b8a12",
   "metadata": {},
   "outputs": [
    {
     "data": {
      "text/plain": [
       "['PROF', 'STUD', 'STUD']"
      ]
     },
     "execution_count": 121,
     "metadata": {},
     "output_type": "execute_result"
    }
   ],
   "source": [
    "re.findall('[A-Z]{4}', text)"
   ]
  },
  {
   "cell_type": "code",
   "execution_count": 122,
   "id": "c2cc5350",
   "metadata": {},
   "outputs": [
    {
     "data": {
      "text/plain": [
       "['John', 'James', 'Mac']"
      ]
     },
     "execution_count": 122,
     "metadata": {},
     "output_type": "execute_result"
    }
   ],
   "source": [
    "re.findall('[A-Z][a-z]+', text)"
   ]
  },
  {
   "cell_type": "markdown",
   "id": "4bf626ad",
   "metadata": {},
   "source": [
    "#### 4-3. 정규 표현식을 이용한 토큰화\n",
    "* RegexpTokenizer() : "
   ]
  },
  {
   "cell_type": "code",
   "execution_count": 123,
   "id": "02c0ea42",
   "metadata": {},
   "outputs": [],
   "source": [
    "from nltk.tokenize import RegexpTokenizer"
   ]
  },
  {
   "cell_type": "code",
   "execution_count": 124,
   "id": "df8b3fe3",
   "metadata": {},
   "outputs": [],
   "source": [
    "text = \"Don't be fooled by the dark sounding name, Mr. Jone's Orphanage is as cheery as cheery goes for a pastry shop\"\n",
    "tokenizer1 = RegexpTokenizer(\"[\\w]+\")  # 문자 또는 숫자 1개 이상인 경우 의미\n",
    "tokenizer2 = RegexpTokenizer(\"\\s+\", gaps=True) # 공백으로 분리"
   ]
  },
  {
   "cell_type": "code",
   "execution_count": 125,
   "id": "801bbb32",
   "metadata": {},
   "outputs": [
    {
     "name": "stdout",
     "output_type": "stream",
     "text": [
      "['Don', 't', 'be', 'fooled', 'by', 'the', 'dark', 'sounding', 'name', 'Mr', 'Jone', 's', 'Orphanage', 'is', 'as', 'cheery', 'as', 'cheery', 'goes', 'for', 'a', 'pastry', 'shop']\n",
      "[\"Don't\", 'be', 'fooled', 'by', 'the', 'dark', 'sounding', 'name,', 'Mr.', \"Jone's\", 'Orphanage', 'is', 'as', 'cheery', 'as', 'cheery', 'goes', 'for', 'a', 'pastry', 'shop']\n"
     ]
    }
   ],
   "source": [
    "print(tokenizer1.tokenize(text))\n",
    "print(tokenizer2.tokenize(text))"
   ]
  },
  {
   "cell_type": "code",
   "execution_count": null,
   "id": "4a3a1e72",
   "metadata": {},
   "outputs": [],
   "source": []
  }
 ],
 "metadata": {
  "kernelspec": {
   "display_name": "Python 3 (ipykernel)",
   "language": "python",
   "name": "python3"
  },
  "language_info": {
   "codemirror_mode": {
    "name": "ipython",
    "version": 3
   },
   "file_extension": ".py",
   "mimetype": "text/x-python",
   "name": "python",
   "nbconvert_exporter": "python",
   "pygments_lexer": "ipython3",
   "version": "3.8.8"
  }
 },
 "nbformat": 4,
 "nbformat_minor": 5
}
