{
 "cells": [
  {
   "cell_type": "markdown",
   "id": "7cf85bde",
   "metadata": {},
   "source": [
    "* 지금까지는 단어 벡터에 대한 RNN이지만, 입출력 단위를 문자 레벨로 변경 가능\n",
    "* 일반적으로 다대일(Many-to-One) 구조와 다대다(Many-to-Many) 구조로 구현할 수 있음\n",
    "\n",
    "### 1. 문자 단위 RNN 언어 모델(Char RNNLM)\n",
    "* 이전 시점의 예측문자를 다음 시점의 입력으로 사용하는 문자 단위 RNN 언어 모델\n",
    "* 문자단위를 입/출력으로 사용하므로 임베딩층(embedding layer)을 사용하지 않음\n",
    "* '이상한 나라의 앨리스(Alice’s Adventures in Wonderland) 다운로드 : http://www.gutenberg.org/files/11/11-0.txt\n",
    "\n",
    "#### 1) 데이터 이해 및 전처리"
   ]
  },
  {
   "cell_type": "code",
   "execution_count": 1,
   "id": "15299adb",
   "metadata": {},
   "outputs": [],
   "source": [
    "import urllib.request\n",
    "from tensorflow.keras.utils import to_categorical"
   ]
  },
  {
   "cell_type": "code",
   "execution_count": 2,
   "id": "487396eb",
   "metadata": {},
   "outputs": [
    {
     "data": {
      "text/plain": [
       "('11-0.txt', <http.client.HTTPMessage at 0x1ec79048df0>)"
      ]
     },
     "execution_count": 2,
     "metadata": {},
     "output_type": "execute_result"
    }
   ],
   "source": [
    "### 데이터 로드\n",
    "urllib.request.urlretrieve('https://www.gutenberg.org/files/11/11-0.txt', filename=\"11-0.txt\")"
   ]
  },
  {
   "cell_type": "code",
   "execution_count": 3,
   "id": "3655011e",
   "metadata": {},
   "outputs": [],
   "source": [
    "f = open('11-0.txt', 'rb')\n",
    "sentences = []\n",
    "for sentence in f:\n",
    "    sentence = sentence.strip()  # \\r. \\n 제거\n",
    "    sentence = sentence.lower() # 소문자화\n",
    "    sentence = sentence.decode('ascii', 'ignore') # \\xe2\\x80\\x99 등 바이트 열 제거\n",
    "    \n",
    "    if len(sentence) > 0:\n",
    "        sentences.append(sentence)\n",
    "f.close()"
   ]
  },
  {
   "cell_type": "code",
   "execution_count": 4,
   "id": "c30cdea3",
   "metadata": {},
   "outputs": [
    {
     "data": {
      "text/plain": [
       "['the project gutenberg ebook of alices adventures in wonderland, by lewis carroll',\n",
       " 'this ebook is for the use of anyone anywhere in the united states and',\n",
       " 'most other parts of the world at no cost and with almost no restrictions',\n",
       " 'whatsoever. you may copy it, give it away or re-use it under the terms',\n",
       " 'of the project gutenberg license included with this ebook or online at']"
      ]
     },
     "execution_count": 4,
     "metadata": {},
     "output_type": "execute_result"
    }
   ],
   "source": [
    "sentences[:5]"
   ]
  },
  {
   "cell_type": "code",
   "execution_count": 6,
   "id": "686631a6",
   "metadata": {},
   "outputs": [
    {
     "name": "stdout",
     "output_type": "stream",
     "text": [
      "문자열 길이 또는 총 문자의 갯수: 159484\n"
     ]
    }
   ],
   "source": [
    "total_data = ' '.join(sentences)\n",
    "print('문자열 길이 또는 총 문자의 갯수: %d' % len(total_data))"
   ]
  },
  {
   "cell_type": "code",
   "execution_count": 7,
   "id": "2a27d8d1",
   "metadata": {},
   "outputs": [
    {
     "name": "stdout",
     "output_type": "stream",
     "text": [
      "the project gutenberg ebook of alices adventures in wonderland, by lewis carroll this ebook is for the use of anyone anywhere in the united states and most other parts of the world at no cost and with\n"
     ]
    }
   ],
   "source": [
    "print(total_data[:200])"
   ]
  },
  {
   "cell_type": "code",
   "execution_count": 8,
   "id": "59a9a85d",
   "metadata": {},
   "outputs": [
    {
     "name": "stdout",
     "output_type": "stream",
     "text": [
      "문자 집합의 크기 : 56\n"
     ]
    }
   ],
   "source": [
    "## 문자 토큰 만들기\n",
    "char_vocab = sorted(list(set(total_data)))\n",
    "vocab_size = len(char_vocab)\n",
    "print('문자 집합의 크기 : {}'.format(vocab_size))"
   ]
  },
  {
   "cell_type": "code",
   "execution_count": 10,
   "id": "eab01048",
   "metadata": {},
   "outputs": [
    {
     "name": "stdout",
     "output_type": "stream",
     "text": [
      "[' ', '!', '\"', '#', '$', '%', \"'\", '(', ')', '*', ',', '-', '.', '/', '0', '1', '2', '3', '4', '5', '6', '7', '8', '9', ':', ';', '?', '[', ']', '_', 'a', 'b', 'c', 'd', 'e', 'f', 'g', 'h', 'i', 'j', 'k', 'l', 'm', 'n', 'o', 'p', 'q', 'r', 's', 't', 'u', 'v', 'w', 'x', 'y', 'z']\n"
     ]
    }
   ],
   "source": [
    "print(char_vocab)"
   ]
  },
  {
   "cell_type": "code",
   "execution_count": 11,
   "id": "8001d291",
   "metadata": {},
   "outputs": [
    {
     "name": "stdout",
     "output_type": "stream",
     "text": [
      "문자집합 :  {' ': 0, '!': 1, '\"': 2, '#': 3, '$': 4, '%': 5, \"'\": 6, '(': 7, ')': 8, '*': 9, ',': 10, '-': 11, '.': 12, '/': 13, '0': 14, '1': 15, '2': 16, '3': 17, '4': 18, '5': 19, '6': 20, '7': 21, '8': 22, '9': 23, ':': 24, ';': 25, '?': 26, '[': 27, ']': 28, '_': 29, 'a': 30, 'b': 31, 'c': 32, 'd': 33, 'e': 34, 'f': 35, 'g': 36, 'h': 37, 'i': 38, 'j': 39, 'k': 40, 'l': 41, 'm': 42, 'n': 43, 'o': 44, 'p': 45, 'q': 46, 'r': 47, 's': 48, 't': 49, 'u': 50, 'v': 51, 'w': 52, 'x': 53, 'y': 54, 'z': 55}\n"
     ]
    }
   ],
   "source": [
    "char_to_index = dict((char, index) for index, char in enumerate(char_vocab))\n",
    "print('문자집합 : ', char_to_index)"
   ]
  },
  {
   "cell_type": "markdown",
   "id": "01f1ebdb",
   "metadata": {},
   "source": [
    "* 28까지는 공백을 포함한 각종 구두점, 특수문자 등이 존재.. 반대로 정수로부터 문자를 리턴하는 index_to_char 만듦"
   ]
  },
  {
   "cell_type": "code",
   "execution_count": 12,
   "id": "384f95c5",
   "metadata": {},
   "outputs": [],
   "source": [
    "index_to_char = {}\n",
    "\n",
    "for key, value in char_to_index.items():\n",
    "    index_to_char[value] = key"
   ]
  },
  {
   "cell_type": "code",
   "execution_count": 13,
   "id": "1421984a",
   "metadata": {},
   "outputs": [
    {
     "name": "stdout",
     "output_type": "stream",
     "text": [
      "{0: ' ', 1: '!', 2: '\"', 3: '#', 4: '$', 5: '%', 6: \"'\", 7: '(', 8: ')', 9: '*', 10: ',', 11: '-', 12: '.', 13: '/', 14: '0', 15: '1', 16: '2', 17: '3', 18: '4', 19: '5', 20: '6', 21: '7', 22: '8', 23: '9', 24: ':', 25: ';', 26: '?', 27: '[', 28: ']', 29: '_', 30: 'a', 31: 'b', 32: 'c', 33: 'd', 34: 'e', 35: 'f', 36: 'g', 37: 'h', 38: 'i', 39: 'j', 40: 'k', 41: 'l', 42: 'm', 43: 'n', 44: 'o', 45: 'p', 46: 'q', 47: 'r', 48: 's', 49: 't', 50: 'u', 51: 'v', 52: 'w', 53: 'x', 54: 'y', 55: 'z'}\n"
     ]
    }
   ],
   "source": [
    "print(index_to_char)"
   ]
  },
  {
   "cell_type": "code",
   "execution_count": 14,
   "id": "13d42b16",
   "metadata": {},
   "outputs": [],
   "source": [
    "### 입력길이 4, 출력 시퀀스 길이 4인 모델 \n",
    "# 총 네번의 시점(time step)을 가질 수 있다는 의미\n",
    "# appl (입력 시퀀스) -> pple (예측해야하는 시퀀스)\n",
    "\n",
    "train_X = 'appl'\n",
    "train_y = 'pple'\n"
   ]
  },
  {
   "cell_type": "code",
   "execution_count": 15,
   "id": "bcb6ecdf",
   "metadata": {},
   "outputs": [
    {
     "data": {
      "text/plain": [
       "2658"
      ]
     },
     "execution_count": 15,
     "metadata": {},
     "output_type": "execute_result"
    }
   ],
   "source": [
    "### 앞 데이터를 이용하여 다수의 샘플 만들기\n",
    "## 1) 문장 샘플 길이 정하고, 2) 해당 길이만큼 문자열 전체를 등분, \n",
    "### 여기에서는 문장의 길이를 60으로 정하고, 샘플 수 는 15900 / 60\n",
    "\n",
    "seq_length = 60\n",
    "n_samples = int(np.floor((len(total_data) - 1) / seq_length))\n",
    "n_samples"
   ]
  },
  {
   "cell_type": "code",
   "execution_count": 26,
   "id": "bb50709b",
   "metadata": {},
   "outputs": [],
   "source": [
    "### 전처리 진행\n",
    "train_X = []\n",
    "train_y = []\n",
    "\n",
    "for i in range(n_samples):\n",
    "    # 0:60 -> 60:120 -> 120:180로 loop를 돌면서 문장 샘플을 1개씩 pick.\n",
    "    X_sample = total_data[i * seq_length: (i+1) * seq_length]\n",
    "    \n",
    "    ## 정수 인코딩\n",
    "    X_encoded = [char_to_index[c] for c in X_sample]\n",
    "    train_X.append(X_encoded)\n",
    "    \n",
    "    ## 오른쪽으로 1칸 쉬프트\n",
    "    y_sample = total_data[i*seq_length + 1: (i+1) * seq_length + 1]\n",
    "    y_encoded = [char_to_index[c] for c in y_sample]\n",
    "    train_y.append(y_encoded)\n",
    "  "
   ]
  },
  {
   "cell_type": "code",
   "execution_count": 20,
   "id": "f0eab09a",
   "metadata": {},
   "outputs": [
    {
     "data": {
      "text/plain": [
       "'nd, by lewis carroll this ebook is for the use of anyone any'"
      ]
     },
     "execution_count": 20,
     "metadata": {},
     "output_type": "execute_result"
    }
   ],
   "source": [
    "total_data[60:120]"
   ]
  },
  {
   "cell_type": "code",
   "execution_count": 29,
   "id": "4bb7f45e",
   "metadata": {},
   "outputs": [
    {
     "name": "stdout",
     "output_type": "stream",
     "text": [
      "X 데이터의 첫번째 샘플 : [49, 37, 34, 0, 45, 47, 44, 39, 34, 32, 49, 0, 36, 50, 49, 34, 43, 31, 34, 47, 36, 0, 34, 31, 44, 44, 40, 0, 44, 35, 0, 30, 41, 38, 32, 34, 48, 0, 30, 33, 51, 34, 43, 49, 50, 47, 34, 48, 0, 38, 43, 0, 52, 44, 43, 33, 34, 47, 41, 30]\n",
      "y 데이터의 첫번째 샘플 : [37, 34, 0, 45, 47, 44, 39, 34, 32, 49, 0, 36, 50, 49, 34, 43, 31, 34, 47, 36, 0, 34, 31, 44, 44, 40, 0, 44, 35, 0, 30, 41, 38, 32, 34, 48, 0, 30, 33, 51, 34, 43, 49, 50, 47, 34, 48, 0, 38, 43, 0, 52, 44, 43, 33, 34, 47, 41, 30, 43]\n",
      "--------------------------------------------------\n",
      "X 데이터의 첫번째 샘플 디코딩 : ['n', 'd', ',', ' ', 'b', 'y', ' ', 'l', 'e', 'w', 'i', 's', ' ', 'c', 'a', 'r', 'r', 'o', 'l', 'l', ' ', 't', 'h', 'i', 's', ' ', 'e', 'b', 'o', 'o', 'k', ' ', 'i', 's', ' ', 'f', 'o', 'r', ' ', 't', 'h', 'e', ' ', 'u', 's', 'e', ' ', 'o', 'f', ' ', 'a', 'n', 'y', 'o', 'n', 'e', ' ', 'a', 'n', 'y']\n",
      "y 데이터의 첫번째 샘플 디코딩 : ['d', ',', ' ', 'b', 'y', ' ', 'l', 'e', 'w', 'i', 's', ' ', 'c', 'a', 'r', 'r', 'o', 'l', 'l', ' ', 't', 'h', 'i', 's', ' ', 'e', 'b', 'o', 'o', 'k', ' ', 'i', 's', ' ', 'f', 'o', 'r', ' ', 't', 'h', 'e', ' ', 'u', 's', 'e', ' ', 'o', 'f', ' ', 'a', 'n', 'y', 'o', 'n', 'e', ' ', 'a', 'n', 'y', 'w']\n"
     ]
    }
   ],
   "source": [
    "print('X 데이터의 첫번째 샘플 :',train_X[0])\n",
    "print('y 데이터의 첫번째 샘플 :',train_y[0])\n",
    "print('-'*50)\n",
    "print('X 데이터의 첫번째 샘플 디코딩 :',[index_to_char[i] for i in train_X[1]])\n",
    "print('y 데이터의 첫번째 샘플 디코딩 :',[index_to_char[i] for i in train_y[1]])"
   ]
  },
  {
   "cell_type": "code",
   "execution_count": 30,
   "id": "a039a591",
   "metadata": {},
   "outputs": [
    {
     "name": "stdout",
     "output_type": "stream",
     "text": [
      "train_X의 크기(shape) : (2658, 60, 56)\n",
      "train_y의 크기(shape) : (2658, 60, 56)\n"
     ]
    }
   ],
   "source": [
    "## train_X와 train_y에 대해서 원-핫 인코딩\n",
    "train_X = to_categorical(train_X)\n",
    "train_y = to_categorical(train_y)\n",
    "\n",
    "print('train_X의 크기(shape) : {}'.format(train_X.shape))  # batch_size * input_length * input_dim(56)\n",
    "print('train_y의 크기(shape) : {}'.format(train_y.shape))"
   ]
  },
  {
   "cell_type": "code",
   "execution_count": 32,
   "id": "7c4dbe12",
   "metadata": {},
   "outputs": [
    {
     "data": {
      "text/plain": [
       "(60, 56)"
      ]
     },
     "execution_count": 32,
     "metadata": {},
     "output_type": "execute_result"
    }
   ],
   "source": [
    "train_X[0].shape"
   ]
  },
  {
   "cell_type": "markdown",
   "id": "07253a83",
   "metadata": {},
   "source": [
    "#### 2) 모델 설계\n",
    "* 은닉상태는 256, 모델은 다대다 구조의 LSTM을 사용, LSTM 은닉층은 두개 사용, 전결합층"
   ]
  },
  {
   "cell_type": "code",
   "execution_count": 33,
   "id": "c7ee4cb5",
   "metadata": {},
   "outputs": [],
   "source": [
    "from tensorflow.keras.models import Sequential\n",
    "from tensorflow.keras.layers import Dense, LSTM, TimeDistributed\n",
    "\n",
    "hidden_units = 256"
   ]
  },
  {
   "cell_type": "code",
   "execution_count": 35,
   "id": "fe5c7f4c",
   "metadata": {},
   "outputs": [],
   "source": [
    "model = Sequential()\n",
    "model.add(LSTM(hidden_units, input_shape=(None, train_X.shape[2]), return_sequences=True))\n",
    "model.add(LSTM(hidden_units, return_sequences=True))\n",
    "model.add(TimeDistributed(Dense(vocab_size, activation='softmax')))\n",
    "model.compile(loss='categorical_crossentropy', optimizer='adam', metrics=['accuracy'])"
   ]
  },
  {
   "cell_type": "code",
   "execution_count": 36,
   "id": "38971808",
   "metadata": {},
   "outputs": [
    {
     "name": "stdout",
     "output_type": "stream",
     "text": [
      "Epoch 1/80\n",
      "84/84 - 36s - loss: 3.0689 - accuracy: 0.1817 - 36s/epoch - 424ms/step\n",
      "Epoch 2/80\n",
      "84/84 - 28s - loss: 2.7873 - accuracy: 0.2377 - 28s/epoch - 338ms/step\n",
      "Epoch 3/80\n",
      "84/84 - 28s - loss: 2.4230 - accuracy: 0.3268 - 28s/epoch - 338ms/step\n",
      "Epoch 4/80\n",
      "84/84 - 28s - loss: 2.2626 - accuracy: 0.3608 - 28s/epoch - 334ms/step\n",
      "Epoch 5/80\n",
      "84/84 - 28s - loss: 2.1518 - accuracy: 0.3867 - 28s/epoch - 335ms/step\n",
      "Epoch 6/80\n",
      "84/84 - 28s - loss: 2.0634 - accuracy: 0.4077 - 28s/epoch - 334ms/step\n",
      "Epoch 7/80\n",
      "84/84 - 28s - loss: 1.9885 - accuracy: 0.4270 - 28s/epoch - 336ms/step\n",
      "Epoch 8/80\n",
      "84/84 - 28s - loss: 1.9298 - accuracy: 0.4420 - 28s/epoch - 335ms/step\n",
      "Epoch 9/80\n",
      "84/84 - 28s - loss: 1.8735 - accuracy: 0.4565 - 28s/epoch - 330ms/step\n",
      "Epoch 10/80\n",
      "84/84 - 28s - loss: 1.8234 - accuracy: 0.4715 - 28s/epoch - 332ms/step\n",
      "Epoch 11/80\n",
      "84/84 - 28s - loss: 1.7806 - accuracy: 0.4836 - 28s/epoch - 335ms/step\n",
      "Epoch 12/80\n",
      "84/84 - 28s - loss: 1.7374 - accuracy: 0.4949 - 28s/epoch - 338ms/step\n",
      "Epoch 13/80\n",
      "84/84 - 28s - loss: 1.7024 - accuracy: 0.5032 - 28s/epoch - 338ms/step\n",
      "Epoch 14/80\n",
      "84/84 - 28s - loss: 1.6648 - accuracy: 0.5134 - 28s/epoch - 336ms/step\n",
      "Epoch 15/80\n",
      "84/84 - 29s - loss: 1.6328 - accuracy: 0.5217 - 29s/epoch - 340ms/step\n",
      "Epoch 16/80\n",
      "84/84 - 28s - loss: 1.5986 - accuracy: 0.5303 - 28s/epoch - 337ms/step\n",
      "Epoch 17/80\n",
      "84/84 - 28s - loss: 1.5690 - accuracy: 0.5384 - 28s/epoch - 336ms/step\n",
      "Epoch 18/80\n",
      "84/84 - 29s - loss: 1.5388 - accuracy: 0.5465 - 29s/epoch - 341ms/step\n",
      "Epoch 19/80\n",
      "84/84 - 28s - loss: 1.5079 - accuracy: 0.5550 - 28s/epoch - 331ms/step\n",
      "Epoch 20/80\n",
      "84/84 - 28s - loss: 1.4801 - accuracy: 0.5634 - 28s/epoch - 328ms/step\n",
      "Epoch 21/80\n",
      "84/84 - 28s - loss: 1.4528 - accuracy: 0.5707 - 28s/epoch - 330ms/step\n",
      "Epoch 22/80\n",
      "84/84 - 27s - loss: 1.4262 - accuracy: 0.5776 - 27s/epoch - 325ms/step\n",
      "Epoch 23/80\n",
      "84/84 - 29s - loss: 1.3968 - accuracy: 0.5861 - 29s/epoch - 342ms/step\n",
      "Epoch 24/80\n",
      "84/84 - 29s - loss: 1.3704 - accuracy: 0.5935 - 29s/epoch - 345ms/step\n",
      "Epoch 25/80\n",
      "84/84 - 24s - loss: 1.3438 - accuracy: 0.6005 - 24s/epoch - 290ms/step\n",
      "Epoch 26/80\n",
      "84/84 - 20s - loss: 1.3179 - accuracy: 0.6080 - 20s/epoch - 244ms/step\n",
      "Epoch 27/80\n",
      "84/84 - 20s - loss: 1.2903 - accuracy: 0.6165 - 20s/epoch - 244ms/step\n",
      "Epoch 28/80\n",
      "84/84 - 21s - loss: 1.2632 - accuracy: 0.6238 - 21s/epoch - 245ms/step\n",
      "Epoch 29/80\n",
      "84/84 - 21s - loss: 1.2423 - accuracy: 0.6293 - 21s/epoch - 245ms/step\n",
      "Epoch 30/80\n",
      "84/84 - 21s - loss: 1.2191 - accuracy: 0.6355 - 21s/epoch - 245ms/step\n",
      "Epoch 31/80\n",
      "84/84 - 21s - loss: 1.1911 - accuracy: 0.6441 - 21s/epoch - 244ms/step\n",
      "Epoch 32/80\n",
      "84/84 - 21s - loss: 1.1613 - accuracy: 0.6525 - 21s/epoch - 245ms/step\n",
      "Epoch 33/80\n",
      "84/84 - 21s - loss: 1.1362 - accuracy: 0.6601 - 21s/epoch - 245ms/step\n",
      "Epoch 34/80\n",
      "84/84 - 21s - loss: 1.1102 - accuracy: 0.6688 - 21s/epoch - 256ms/step\n",
      "Epoch 35/80\n",
      "84/84 - 21s - loss: 1.0836 - accuracy: 0.6750 - 21s/epoch - 249ms/step\n",
      "Epoch 36/80\n",
      "84/84 - 21s - loss: 1.0621 - accuracy: 0.6825 - 21s/epoch - 252ms/step\n",
      "Epoch 37/80\n",
      "84/84 - 22s - loss: 1.0324 - accuracy: 0.6910 - 22s/epoch - 264ms/step\n",
      "Epoch 38/80\n",
      "84/84 - 22s - loss: 1.0030 - accuracy: 0.7011 - 22s/epoch - 256ms/step\n",
      "Epoch 39/80\n",
      "84/84 - 21s - loss: 0.9738 - accuracy: 0.7094 - 21s/epoch - 248ms/step\n",
      "Epoch 40/80\n",
      "84/84 - 21s - loss: 0.9642 - accuracy: 0.7123 - 21s/epoch - 247ms/step\n",
      "Epoch 41/80\n",
      "84/84 - 21s - loss: 0.9259 - accuracy: 0.7248 - 21s/epoch - 247ms/step\n",
      "Epoch 42/80\n",
      "84/84 - 21s - loss: 0.9021 - accuracy: 0.7320 - 21s/epoch - 247ms/step\n",
      "Epoch 43/80\n",
      "84/84 - 21s - loss: 0.8762 - accuracy: 0.7392 - 21s/epoch - 247ms/step\n",
      "Epoch 44/80\n",
      "84/84 - 21s - loss: 0.8585 - accuracy: 0.7451 - 21s/epoch - 246ms/step\n",
      "Epoch 45/80\n",
      "84/84 - 21s - loss: 0.8279 - accuracy: 0.7547 - 21s/epoch - 246ms/step\n",
      "Epoch 46/80\n",
      "84/84 - 21s - loss: 0.7965 - accuracy: 0.7640 - 21s/epoch - 247ms/step\n",
      "Epoch 47/80\n",
      "84/84 - 21s - loss: 0.7686 - accuracy: 0.7744 - 21s/epoch - 245ms/step\n",
      "Epoch 48/80\n",
      "84/84 - 20s - loss: 0.7683 - accuracy: 0.7729 - 20s/epoch - 244ms/step\n",
      "Epoch 49/80\n",
      "84/84 - 20s - loss: 0.7408 - accuracy: 0.7807 - 20s/epoch - 243ms/step\n",
      "Epoch 50/80\n",
      "84/84 - 21s - loss: 0.7030 - accuracy: 0.7949 - 21s/epoch - 244ms/step\n",
      "Epoch 51/80\n",
      "84/84 - 21s - loss: 0.6772 - accuracy: 0.8022 - 21s/epoch - 247ms/step\n",
      "Epoch 52/80\n",
      "84/84 - 21s - loss: 0.6589 - accuracy: 0.8089 - 21s/epoch - 246ms/step\n",
      "Epoch 53/80\n",
      "84/84 - 21s - loss: 0.6448 - accuracy: 0.8122 - 21s/epoch - 245ms/step\n",
      "Epoch 54/80\n",
      "84/84 - 21s - loss: 0.6138 - accuracy: 0.8238 - 21s/epoch - 244ms/step\n",
      "Epoch 55/80\n",
      "84/84 - 21s - loss: 0.6014 - accuracy: 0.8262 - 21s/epoch - 246ms/step\n",
      "Epoch 56/80\n",
      "84/84 - 21s - loss: 0.5698 - accuracy: 0.8374 - 21s/epoch - 246ms/step\n",
      "Epoch 57/80\n",
      "84/84 - 21s - loss: 0.5501 - accuracy: 0.8440 - 21s/epoch - 248ms/step\n",
      "Epoch 58/80\n",
      "84/84 - 21s - loss: 0.5314 - accuracy: 0.8500 - 21s/epoch - 246ms/step\n",
      "Epoch 59/80\n",
      "84/84 - 21s - loss: 0.5161 - accuracy: 0.8546 - 21s/epoch - 247ms/step\n",
      "Epoch 60/80\n",
      "84/84 - 21s - loss: 0.4989 - accuracy: 0.8599 - 21s/epoch - 246ms/step\n",
      "Epoch 61/80\n",
      "84/84 - 21s - loss: 0.4827 - accuracy: 0.8645 - 21s/epoch - 246ms/step\n",
      "Epoch 62/80\n",
      "84/84 - 20s - loss: 0.4572 - accuracy: 0.8738 - 20s/epoch - 244ms/step\n",
      "Epoch 63/80\n",
      "84/84 - 21s - loss: 0.4499 - accuracy: 0.8750 - 21s/epoch - 247ms/step\n",
      "Epoch 64/80\n",
      "84/84 - 21s - loss: 0.4314 - accuracy: 0.8815 - 21s/epoch - 245ms/step\n",
      "Epoch 65/80\n",
      "84/84 - 20s - loss: 0.4176 - accuracy: 0.8854 - 20s/epoch - 244ms/step\n",
      "Epoch 66/80\n",
      "84/84 - 21s - loss: 0.4012 - accuracy: 0.8916 - 21s/epoch - 244ms/step\n",
      "Epoch 67/80\n",
      "84/84 - 20s - loss: 0.3713 - accuracy: 0.9030 - 20s/epoch - 243ms/step\n",
      "Epoch 68/80\n",
      "84/84 - 21s - loss: 0.3648 - accuracy: 0.9037 - 21s/epoch - 245ms/step\n",
      "Epoch 69/80\n",
      "84/84 - 21s - loss: 0.3466 - accuracy: 0.9091 - 21s/epoch - 246ms/step\n",
      "Epoch 70/80\n",
      "84/84 - 21s - loss: 0.3616 - accuracy: 0.9015 - 21s/epoch - 245ms/step\n",
      "Epoch 71/80\n",
      "84/84 - 20s - loss: 0.3289 - accuracy: 0.9142 - 20s/epoch - 244ms/step\n",
      "Epoch 72/80\n",
      "84/84 - 21s - loss: 0.3098 - accuracy: 0.9214 - 21s/epoch - 247ms/step\n",
      "Epoch 73/80\n",
      "84/84 - 21s - loss: 0.2917 - accuracy: 0.9280 - 21s/epoch - 248ms/step\n",
      "Epoch 74/80\n",
      "84/84 - 21s - loss: 0.2899 - accuracy: 0.9270 - 21s/epoch - 246ms/step\n",
      "Epoch 75/80\n",
      "84/84 - 21s - loss: 0.2704 - accuracy: 0.9335 - 21s/epoch - 246ms/step\n",
      "Epoch 76/80\n",
      "84/84 - 21s - loss: 0.2707 - accuracy: 0.9328 - 21s/epoch - 246ms/step\n",
      "Epoch 77/80\n",
      "84/84 - 21s - loss: 0.2659 - accuracy: 0.9331 - 21s/epoch - 247ms/step\n",
      "Epoch 78/80\n",
      "84/84 - 21s - loss: 0.2528 - accuracy: 0.9377 - 21s/epoch - 247ms/step\n",
      "Epoch 79/80\n",
      "84/84 - 21s - loss: 0.2402 - accuracy: 0.9414 - 21s/epoch - 248ms/step\n",
      "Epoch 80/80\n",
      "84/84 - 21s - loss: 0.2367 - accuracy: 0.9423 - 21s/epoch - 247ms/step\n"
     ]
    },
    {
     "data": {
      "text/plain": [
       "<keras.callbacks.History at 0x1ec00047520>"
      ]
     },
     "execution_count": 36,
     "metadata": {},
     "output_type": "execute_result"
    }
   ],
   "source": [
    "model.fit(train_X, train_y, epochs=80, verbose=2)"
   ]
  },
  {
   "cell_type": "code",
   "execution_count": 37,
   "id": "c1fd558f",
   "metadata": {},
   "outputs": [],
   "source": [
    "def sentence_generation(model, length):\n",
    "    ## 문자에 대한 랜덤한 정수 생성\n",
    "    ix = [np.random.randint(vocab_size)]\n",
    "    \n",
    "    ## 생성한 정수 맵핑한 문자 생성\n",
    "    y_char = [index_to_char[ix[-1]]]\n",
    "    print(ix[-1], '번 문자', y_char[-1], '로 예측을 시작!')\n",
    "    \n",
    "    ## (1, length, 55) 크기의 x 생성. 즉, LSTM의 입력 시퀀스 생성\n",
    "    X = np.zeros((1, length, vocab_size))\n",
    "    \n",
    "    for i in range(length):\n",
    "        X[0][i][ix[-1]] = 1\n",
    "        print(index_to_char[ix[-1]], end=\"\")\n",
    "        ix = np.argmax(model.predict(X[:, :i+1, :])[0], 1)\n",
    "        y_char.append(index_to_char[ix[-1]])\n",
    "    return ('').join(y_char)"
   ]
  },
  {
   "cell_type": "code",
   "execution_count": 38,
   "id": "c8087b64",
   "metadata": {},
   "outputs": [
    {
     "name": "stdout",
     "output_type": "stream",
     "text": [
      "37 번 문자 h 로 예측을 시작!\n",
      "he mock turtle, suddenly dropping his voice; and the two creatures would mently remarked. the mock the mock turtle, suddenly dropping his voice; and the two creatures would mently remarked. the mock tu\n"
     ]
    }
   ],
   "source": [
    "result = sentence_generation(model, 100)\n",
    "print(result)"
   ]
  },
  {
   "cell_type": "markdown",
   "id": "4bc85e44",
   "metadata": {},
   "source": [
    "### 2. 문자 단위 RNN(Char RNN)으로 텍스트 생성하기\n",
    "\n",
    "* 다대일구조 RNN"
   ]
  },
  {
   "cell_type": "code",
   "execution_count": 39,
   "id": "f8d8bf93",
   "metadata": {},
   "outputs": [],
   "source": [
    "from tensorflow.keras.utils import to_categorical"
   ]
  },
  {
   "cell_type": "code",
   "execution_count": 40,
   "id": "87a27f7d",
   "metadata": {},
   "outputs": [],
   "source": [
    "raw_text = '''\n",
    "I get on with life as a programmer,\n",
    "I like to contemplate beer.\n",
    "But when I start to daydream,\n",
    "My mind turns straight to wine.\n",
    "\n",
    "Do I love wine more than beer?\n",
    "\n",
    "I like to use words about beer.\n",
    "But when I stop my talking,\n",
    "My mind turns straight to wine.\n",
    "\n",
    "I hate bugs and errors.\n",
    "But I just think back to wine,\n",
    "And I'm happy once again.\n",
    "\n",
    "I like to hang out with programming and deep learning.\n",
    "But when left alone,\n",
    "My mind turns straight to wine.\n",
    "'''"
   ]
  },
  {
   "cell_type": "code",
   "execution_count": 42,
   "id": "2075fc02",
   "metadata": {},
   "outputs": [
    {
     "data": {
      "text/plain": [
       "\"I get on with life as a programmer, I like to contemplate beer. But when I start to daydream, My mind turns straight to wine. Do I love wine more than beer? I like to use words about beer. But when I stop my talking, My mind turns straight to wine. I hate bugs and errors. But I just think back to wine, And I'm happy once again. I like to hang out with programming and deep learning. But when left alone, My mind turns straight to wine.\""
      ]
     },
     "execution_count": 42,
     "metadata": {},
     "output_type": "execute_result"
    }
   ],
   "source": [
    "## 단락 구분 없애고 하나의 문자열로 재저장\n",
    "tokens = raw_text.split()\n",
    "raw_text = ' '.join(tokens)\n",
    "raw_text"
   ]
  },
  {
   "cell_type": "code",
   "execution_count": 43,
   "id": "8057d0c5",
   "metadata": {},
   "outputs": [
    {
     "name": "stdout",
     "output_type": "stream",
     "text": [
      "문자 집합: [' ', \"'\", ',', '.', '?', 'A', 'B', 'D', 'I', 'M', 'a', 'b', 'c', 'd', 'e', 'f', 'g', 'h', 'i', 'j', 'k', 'l', 'm', 'n', 'o', 'p', 'r', 's', 't', 'u', 'v', 'w', 'y']\n",
      "문자 집합의 크기: 33\n"
     ]
    }
   ],
   "source": [
    "## retoken\n",
    "char_vocab = sorted(list(set(raw_text)))\n",
    "vocab_size = len(char_vocab)\n",
    "print('문자 집합:', char_vocab)\n",
    "print('문자 집합의 크기: {}'.format(vocab_size))"
   ]
  },
  {
   "cell_type": "code",
   "execution_count": 44,
   "id": "6a835858",
   "metadata": {},
   "outputs": [
    {
     "name": "stdout",
     "output_type": "stream",
     "text": [
      "{' ': 0, \"'\": 1, ',': 2, '.': 3, '?': 4, 'A': 5, 'B': 6, 'D': 7, 'I': 8, 'M': 9, 'a': 10, 'b': 11, 'c': 12, 'd': 13, 'e': 14, 'f': 15, 'g': 16, 'h': 17, 'i': 18, 'j': 19, 'k': 20, 'l': 21, 'm': 22, 'n': 23, 'o': 24, 'p': 25, 'r': 26, 's': 27, 't': 28, 'u': 29, 'v': 30, 'w': 31, 'y': 32}\n"
     ]
    }
   ],
   "source": [
    "char_to_index = dict((char, index) for index, char in enumerate(char_vocab))\n",
    "print(char_to_index)"
   ]
  },
  {
   "cell_type": "code",
   "execution_count": 45,
   "id": "9d73aa18",
   "metadata": {},
   "outputs": [
    {
     "name": "stdout",
     "output_type": "stream",
     "text": [
      "총 훈련 샘플의 수: 426\n"
     ]
    }
   ],
   "source": [
    "### 이번에는 대소문자 구분, 구두점, 공백 포함\n",
    "## 5개의 입력 문자 시퀀스로부터 다음 문자 시퀀스를 예측. 즉, RNN의 시점(timesteps)은 5번.\n",
    "## stude -> n\n",
    "## tuden -> t\n",
    "\n",
    "length = 11\n",
    "sequences = []\n",
    "\n",
    "for i in range(length, len(raw_text)):\n",
    "    seq = raw_text[i-length: i]\n",
    "    sequences.append(seq)\n",
    "    \n",
    "print('총 훈련 샘플의 수: %d' % len(sequences))"
   ]
  },
  {
   "cell_type": "code",
   "execution_count": 46,
   "id": "df2e0fb7",
   "metadata": {},
   "outputs": [
    {
     "data": {
      "text/plain": [
       "['I get on wi',\n",
       " ' get on wit',\n",
       " 'get on with',\n",
       " 'et on with ',\n",
       " 't on with l',\n",
       " ' on with li',\n",
       " 'on with lif',\n",
       " 'n with life',\n",
       " ' with life ',\n",
       " 'with life a']"
      ]
     },
     "execution_count": 46,
     "metadata": {},
     "output_type": "execute_result"
    }
   ],
   "source": [
    "sequences[:10]"
   ]
  },
  {
   "cell_type": "code",
   "execution_count": 47,
   "id": "845419a7",
   "metadata": {},
   "outputs": [],
   "source": [
    "## 정수 인코딩\n",
    "encoded_sequences = []\n",
    "for sequence in sequences:\n",
    "    encoded_sequence = [char_to_index[char] for char in sequence]\n",
    "    encoded_sequences.append(encoded_sequence)"
   ]
  },
  {
   "cell_type": "code",
   "execution_count": 48,
   "id": "e724cd0f",
   "metadata": {},
   "outputs": [
    {
     "data": {
      "text/plain": [
       "[[8, 0, 16, 14, 28, 0, 24, 23, 0, 31, 18],\n",
       " [0, 16, 14, 28, 0, 24, 23, 0, 31, 18, 28],\n",
       " [16, 14, 28, 0, 24, 23, 0, 31, 18, 28, 17],\n",
       " [14, 28, 0, 24, 23, 0, 31, 18, 28, 17, 0],\n",
       " [28, 0, 24, 23, 0, 31, 18, 28, 17, 0, 21]]"
      ]
     },
     "execution_count": 48,
     "metadata": {},
     "output_type": "execute_result"
    }
   ],
   "source": [
    "encoded_sequences[:5]"
   ]
  },
  {
   "cell_type": "code",
   "execution_count": 49,
   "id": "43356323",
   "metadata": {},
   "outputs": [],
   "source": [
    "## 샘플 문장에 대해서 마지막 문자를 분리하여 마지막 문자가 분리된 샘플은 X_data 저장, 마지막문자는 y_data 저장\n",
    "encoded_sequences = np.array(encoded_sequences)\n",
    "\n",
    "X_data = encoded_sequences[:, :-1]\n",
    "y_data = encoded_sequences[:, -1]"
   ]
  },
  {
   "cell_type": "code",
   "execution_count": 50,
   "id": "cab3d1bd",
   "metadata": {},
   "outputs": [
    {
     "name": "stdout",
     "output_type": "stream",
     "text": [
      "[[ 8  0 16 14 28  0 24 23  0 31]\n",
      " [ 0 16 14 28  0 24 23  0 31 18]\n",
      " [16 14 28  0 24 23  0 31 18 28]\n",
      " [14 28  0 24 23  0 31 18 28 17]\n",
      " [28  0 24 23  0 31 18 28 17  0]]\n",
      "[18 28 17  0 21]\n"
     ]
    }
   ],
   "source": [
    "print(X_data[:5])\n",
    "print(y_data[:5])"
   ]
  },
  {
   "cell_type": "code",
   "execution_count": 54,
   "id": "73223537",
   "metadata": {},
   "outputs": [
    {
     "data": {
      "text/plain": [
       "((426, 10, 33), (426, 33))"
      ]
     },
     "execution_count": 54,
     "metadata": {},
     "output_type": "execute_result"
    }
   ],
   "source": [
    "## 원핫 인코딩\n",
    "X_data_one_hot = [to_categorical(encoded, num_classes=vocab_size) for encoded in X_data]\n",
    "X_data_one_hot = np.array(X_data_one_hot)\n",
    "y_data_one_hot = to_categorical(y_data, num_classes=vocab_size)\n",
    "X_data_one_hot.shape, y_data_one_hot.shape"
   ]
  },
  {
   "cell_type": "markdown",
   "id": "3d4869fe",
   "metadata": {},
   "source": [
    "X_data_one_hot : batch_size(샘플 수) * input_length(시퀀스 길이) * input_dim\n",
    "\n",
    "#### 2) 모델 설계\n",
    "* 은닉상태 64로 설정하고 다대일 구조의 LSTM 사용"
   ]
  },
  {
   "cell_type": "code",
   "execution_count": 55,
   "id": "67db909d",
   "metadata": {},
   "outputs": [],
   "source": [
    "from tensorflow.keras.models import Sequential\n",
    "from tensorflow.keras.layers import Dense, LSTM\n",
    "from tensorflow.keras.preprocessing.sequence import pad_sequences"
   ]
  },
  {
   "cell_type": "code",
   "execution_count": 56,
   "id": "48b17146",
   "metadata": {},
   "outputs": [
    {
     "name": "stdout",
     "output_type": "stream",
     "text": [
      "Epoch 1/100\n",
      "14/14 - 3s - loss: 3.4770 - accuracy: 0.0540 - 3s/epoch - 237ms/step\n",
      "Epoch 2/100\n",
      "14/14 - 0s - loss: 3.3813 - accuracy: 0.1854 - 114ms/epoch - 8ms/step\n",
      "Epoch 3/100\n",
      "14/14 - 0s - loss: 3.1421 - accuracy: 0.1972 - 125ms/epoch - 9ms/step\n",
      "Epoch 4/100\n",
      "14/14 - 0s - loss: 3.0316 - accuracy: 0.1972 - 127ms/epoch - 9ms/step\n",
      "Epoch 5/100\n",
      "14/14 - 0s - loss: 2.9828 - accuracy: 0.1972 - 127ms/epoch - 9ms/step\n",
      "Epoch 6/100\n",
      "14/14 - 0s - loss: 2.9474 - accuracy: 0.1972 - 122ms/epoch - 9ms/step\n",
      "Epoch 7/100\n",
      "14/14 - 0s - loss: 2.9260 - accuracy: 0.1972 - 123ms/epoch - 9ms/step\n",
      "Epoch 8/100\n",
      "14/14 - 0s - loss: 2.9088 - accuracy: 0.1972 - 125ms/epoch - 9ms/step\n",
      "Epoch 9/100\n",
      "14/14 - 0s - loss: 2.8910 - accuracy: 0.1972 - 124ms/epoch - 9ms/step\n",
      "Epoch 10/100\n",
      "14/14 - 0s - loss: 2.8665 - accuracy: 0.1972 - 122ms/epoch - 9ms/step\n",
      "Epoch 11/100\n",
      "14/14 - 0s - loss: 2.8415 - accuracy: 0.1972 - 125ms/epoch - 9ms/step\n",
      "Epoch 12/100\n",
      "14/14 - 0s - loss: 2.8137 - accuracy: 0.1972 - 125ms/epoch - 9ms/step\n",
      "Epoch 13/100\n",
      "14/14 - 0s - loss: 2.7733 - accuracy: 0.2136 - 123ms/epoch - 9ms/step\n",
      "Epoch 14/100\n",
      "14/14 - 0s - loss: 2.7321 - accuracy: 0.2113 - 125ms/epoch - 9ms/step\n",
      "Epoch 15/100\n",
      "14/14 - 0s - loss: 2.6890 - accuracy: 0.2230 - 120ms/epoch - 9ms/step\n",
      "Epoch 16/100\n",
      "14/14 - 0s - loss: 2.6411 - accuracy: 0.2347 - 121ms/epoch - 9ms/step\n",
      "Epoch 17/100\n",
      "14/14 - 0s - loss: 2.5859 - accuracy: 0.2676 - 126ms/epoch - 9ms/step\n",
      "Epoch 18/100\n",
      "14/14 - 0s - loss: 2.5487 - accuracy: 0.2723 - 122ms/epoch - 9ms/step\n",
      "Epoch 19/100\n",
      "14/14 - 0s - loss: 2.5144 - accuracy: 0.2700 - 123ms/epoch - 9ms/step\n",
      "Epoch 20/100\n",
      "14/14 - 0s - loss: 2.4571 - accuracy: 0.3380 - 123ms/epoch - 9ms/step\n",
      "Epoch 21/100\n",
      "14/14 - 0s - loss: 2.4142 - accuracy: 0.3005 - 123ms/epoch - 9ms/step\n",
      "Epoch 22/100\n",
      "14/14 - 0s - loss: 2.3750 - accuracy: 0.3592 - 125ms/epoch - 9ms/step\n",
      "Epoch 23/100\n",
      "14/14 - 0s - loss: 2.3378 - accuracy: 0.3310 - 124ms/epoch - 9ms/step\n",
      "Epoch 24/100\n",
      "14/14 - 0s - loss: 2.2933 - accuracy: 0.3474 - 126ms/epoch - 9ms/step\n",
      "Epoch 25/100\n",
      "14/14 - 0s - loss: 2.2539 - accuracy: 0.3662 - 125ms/epoch - 9ms/step\n",
      "Epoch 26/100\n",
      "14/14 - 0s - loss: 2.2104 - accuracy: 0.3779 - 125ms/epoch - 9ms/step\n",
      "Epoch 27/100\n",
      "14/14 - 0s - loss: 2.2112 - accuracy: 0.3826 - 111ms/epoch - 8ms/step\n",
      "Epoch 28/100\n",
      "14/14 - 0s - loss: 2.1608 - accuracy: 0.3897 - 126ms/epoch - 9ms/step\n",
      "Epoch 29/100\n",
      "14/14 - 0s - loss: 2.1097 - accuracy: 0.3897 - 123ms/epoch - 9ms/step\n",
      "Epoch 30/100\n",
      "14/14 - 0s - loss: 2.0524 - accuracy: 0.4225 - 125ms/epoch - 9ms/step\n",
      "Epoch 31/100\n",
      "14/14 - 0s - loss: 2.0213 - accuracy: 0.4155 - 121ms/epoch - 9ms/step\n",
      "Epoch 32/100\n",
      "14/14 - 0s - loss: 1.9851 - accuracy: 0.4178 - 122ms/epoch - 9ms/step\n",
      "Epoch 33/100\n",
      "14/14 - 0s - loss: 1.9373 - accuracy: 0.4437 - 123ms/epoch - 9ms/step\n",
      "Epoch 34/100\n",
      "14/14 - 0s - loss: 1.9051 - accuracy: 0.4742 - 124ms/epoch - 9ms/step\n",
      "Epoch 35/100\n",
      "14/14 - 0s - loss: 1.8487 - accuracy: 0.4765 - 122ms/epoch - 9ms/step\n",
      "Epoch 36/100\n",
      "14/14 - 0s - loss: 1.8042 - accuracy: 0.4977 - 125ms/epoch - 9ms/step\n",
      "Epoch 37/100\n",
      "14/14 - 0s - loss: 1.7767 - accuracy: 0.5329 - 125ms/epoch - 9ms/step\n",
      "Epoch 38/100\n",
      "14/14 - 0s - loss: 1.7244 - accuracy: 0.5352 - 121ms/epoch - 9ms/step\n",
      "Epoch 39/100\n",
      "14/14 - 0s - loss: 1.7139 - accuracy: 0.5188 - 123ms/epoch - 9ms/step\n",
      "Epoch 40/100\n",
      "14/14 - 0s - loss: 1.6626 - accuracy: 0.5258 - 124ms/epoch - 9ms/step\n",
      "Epoch 41/100\n",
      "14/14 - 0s - loss: 1.6136 - accuracy: 0.5657 - 124ms/epoch - 9ms/step\n",
      "Epoch 42/100\n",
      "14/14 - 0s - loss: 1.5973 - accuracy: 0.5775 - 125ms/epoch - 9ms/step\n",
      "Epoch 43/100\n",
      "14/14 - 0s - loss: 1.5652 - accuracy: 0.5962 - 122ms/epoch - 9ms/step\n",
      "Epoch 44/100\n",
      "14/14 - 0s - loss: 1.4862 - accuracy: 0.6338 - 125ms/epoch - 9ms/step\n",
      "Epoch 45/100\n",
      "14/14 - 0s - loss: 1.4545 - accuracy: 0.6033 - 123ms/epoch - 9ms/step\n",
      "Epoch 46/100\n",
      "14/14 - 0s - loss: 1.4234 - accuracy: 0.6056 - 123ms/epoch - 9ms/step\n",
      "Epoch 47/100\n",
      "14/14 - 0s - loss: 1.4101 - accuracy: 0.6315 - 125ms/epoch - 9ms/step\n",
      "Epoch 48/100\n",
      "14/14 - 0s - loss: 1.3661 - accuracy: 0.6432 - 121ms/epoch - 9ms/step\n",
      "Epoch 49/100\n",
      "14/14 - 0s - loss: 1.3406 - accuracy: 0.6643 - 123ms/epoch - 9ms/step\n",
      "Epoch 50/100\n",
      "14/14 - 0s - loss: 1.2896 - accuracy: 0.6854 - 124ms/epoch - 9ms/step\n",
      "Epoch 51/100\n",
      "14/14 - 0s - loss: 1.2339 - accuracy: 0.6854 - 125ms/epoch - 9ms/step\n",
      "Epoch 52/100\n",
      "14/14 - 0s - loss: 1.2110 - accuracy: 0.6901 - 119ms/epoch - 9ms/step\n",
      "Epoch 53/100\n",
      "14/14 - 0s - loss: 1.1712 - accuracy: 0.7183 - 122ms/epoch - 9ms/step\n",
      "Epoch 54/100\n",
      "14/14 - 0s - loss: 1.1397 - accuracy: 0.7019 - 122ms/epoch - 9ms/step\n",
      "Epoch 55/100\n",
      "14/14 - 0s - loss: 1.1058 - accuracy: 0.7277 - 121ms/epoch - 9ms/step\n",
      "Epoch 56/100\n",
      "14/14 - 0s - loss: 1.0834 - accuracy: 0.7300 - 122ms/epoch - 9ms/step\n",
      "Epoch 57/100\n",
      "14/14 - 0s - loss: 1.0598 - accuracy: 0.7441 - 120ms/epoch - 9ms/step\n",
      "Epoch 58/100\n",
      "14/14 - 0s - loss: 1.0237 - accuracy: 0.7770 - 122ms/epoch - 9ms/step\n",
      "Epoch 59/100\n",
      "14/14 - 0s - loss: 0.9886 - accuracy: 0.7817 - 122ms/epoch - 9ms/step\n",
      "Epoch 60/100\n",
      "14/14 - 0s - loss: 0.9589 - accuracy: 0.7793 - 122ms/epoch - 9ms/step\n",
      "Epoch 61/100\n",
      "14/14 - 0s - loss: 0.9498 - accuracy: 0.7840 - 120ms/epoch - 9ms/step\n",
      "Epoch 62/100\n",
      "14/14 - 0s - loss: 0.9102 - accuracy: 0.8005 - 118ms/epoch - 8ms/step\n",
      "Epoch 63/100\n",
      "14/14 - 0s - loss: 0.8843 - accuracy: 0.8169 - 121ms/epoch - 9ms/step\n",
      "Epoch 64/100\n",
      "14/14 - 0s - loss: 0.8475 - accuracy: 0.8286 - 122ms/epoch - 9ms/step\n",
      "Epoch 65/100\n",
      "14/14 - 0s - loss: 0.8364 - accuracy: 0.8286 - 121ms/epoch - 9ms/step\n",
      "Epoch 66/100\n",
      "14/14 - 0s - loss: 0.8071 - accuracy: 0.8239 - 121ms/epoch - 9ms/step\n",
      "Epoch 67/100\n",
      "14/14 - 0s - loss: 0.7753 - accuracy: 0.8474 - 122ms/epoch - 9ms/step\n",
      "Epoch 68/100\n",
      "14/14 - 0s - loss: 0.7509 - accuracy: 0.8474 - 122ms/epoch - 9ms/step\n",
      "Epoch 69/100\n",
      "14/14 - 0s - loss: 0.7392 - accuracy: 0.8451 - 120ms/epoch - 9ms/step\n",
      "Epoch 70/100\n",
      "14/14 - 0s - loss: 0.7129 - accuracy: 0.8521 - 120ms/epoch - 9ms/step\n",
      "Epoch 71/100\n",
      "14/14 - 0s - loss: 0.6781 - accuracy: 0.8521 - 122ms/epoch - 9ms/step\n",
      "Epoch 72/100\n",
      "14/14 - 0s - loss: 0.6512 - accuracy: 0.8873 - 121ms/epoch - 9ms/step\n",
      "Epoch 73/100\n",
      "14/14 - 0s - loss: 0.6356 - accuracy: 0.8779 - 153ms/epoch - 11ms/step\n",
      "Epoch 74/100\n",
      "14/14 - 0s - loss: 0.6174 - accuracy: 0.8920 - 113ms/epoch - 8ms/step\n",
      "Epoch 75/100\n",
      "14/14 - 0s - loss: 0.5963 - accuracy: 0.8826 - 125ms/epoch - 9ms/step\n",
      "Epoch 76/100\n",
      "14/14 - 0s - loss: 0.5871 - accuracy: 0.8991 - 123ms/epoch - 9ms/step\n",
      "Epoch 77/100\n",
      "14/14 - 0s - loss: 0.5590 - accuracy: 0.8991 - 121ms/epoch - 9ms/step\n",
      "Epoch 78/100\n",
      "14/14 - 0s - loss: 0.5429 - accuracy: 0.9085 - 118ms/epoch - 8ms/step\n",
      "Epoch 79/100\n",
      "14/14 - 0s - loss: 0.5190 - accuracy: 0.9131 - 124ms/epoch - 9ms/step\n",
      "Epoch 80/100\n",
      "14/14 - 0s - loss: 0.5035 - accuracy: 0.9202 - 122ms/epoch - 9ms/step\n",
      "Epoch 81/100\n",
      "14/14 - 0s - loss: 0.4834 - accuracy: 0.9249 - 123ms/epoch - 9ms/step\n",
      "Epoch 82/100\n",
      "14/14 - 0s - loss: 0.4704 - accuracy: 0.9131 - 121ms/epoch - 9ms/step\n",
      "Epoch 83/100\n",
      "14/14 - 0s - loss: 0.4597 - accuracy: 0.9272 - 119ms/epoch - 8ms/step\n",
      "Epoch 84/100\n",
      "14/14 - 0s - loss: 0.4491 - accuracy: 0.9366 - 121ms/epoch - 9ms/step\n",
      "Epoch 85/100\n",
      "14/14 - 0s - loss: 0.4346 - accuracy: 0.9366 - 120ms/epoch - 9ms/step\n",
      "Epoch 86/100\n",
      "14/14 - 0s - loss: 0.4204 - accuracy: 0.9437 - 121ms/epoch - 9ms/step\n",
      "Epoch 87/100\n",
      "14/14 - 0s - loss: 0.4114 - accuracy: 0.9413 - 121ms/epoch - 9ms/step\n",
      "Epoch 88/100\n",
      "14/14 - 0s - loss: 0.3989 - accuracy: 0.9484 - 120ms/epoch - 9ms/step\n",
      "Epoch 89/100\n",
      "14/14 - 0s - loss: 0.3852 - accuracy: 0.9577 - 120ms/epoch - 9ms/step\n",
      "Epoch 90/100\n",
      "14/14 - 0s - loss: 0.3706 - accuracy: 0.9554 - 120ms/epoch - 9ms/step\n",
      "Epoch 91/100\n",
      "14/14 - 0s - loss: 0.3606 - accuracy: 0.9507 - 121ms/epoch - 9ms/step\n",
      "Epoch 92/100\n",
      "14/14 - 0s - loss: 0.3496 - accuracy: 0.9624 - 121ms/epoch - 9ms/step\n",
      "Epoch 93/100\n",
      "14/14 - 0s - loss: 0.3380 - accuracy: 0.9648 - 121ms/epoch - 9ms/step\n",
      "Epoch 94/100\n",
      "14/14 - 0s - loss: 0.3307 - accuracy: 0.9601 - 120ms/epoch - 9ms/step\n",
      "Epoch 95/100\n",
      "14/14 - 0s - loss: 0.3267 - accuracy: 0.9742 - 124ms/epoch - 9ms/step\n",
      "Epoch 96/100\n",
      "14/14 - 0s - loss: 0.3112 - accuracy: 0.9648 - 120ms/epoch - 9ms/step\n",
      "Epoch 97/100\n",
      "14/14 - 0s - loss: 0.3099 - accuracy: 0.9671 - 118ms/epoch - 8ms/step\n",
      "Epoch 98/100\n",
      "14/14 - 0s - loss: 0.2992 - accuracy: 0.9695 - 120ms/epoch - 9ms/step\n",
      "Epoch 99/100\n",
      "14/14 - 0s - loss: 0.2829 - accuracy: 0.9695 - 119ms/epoch - 9ms/step\n"
     ]
    },
    {
     "name": "stdout",
     "output_type": "stream",
     "text": [
      "Epoch 100/100\n",
      "14/14 - 0s - loss: 0.2755 - accuracy: 0.9765 - 129ms/epoch - 9ms/step\n"
     ]
    },
    {
     "data": {
      "text/plain": [
       "<keras.callbacks.History at 0x1ec0bfbae80>"
      ]
     },
     "execution_count": 56,
     "metadata": {},
     "output_type": "execute_result"
    }
   ],
   "source": [
    "hidden_units = 64\n",
    "\n",
    "model = Sequential()\n",
    "model.add(LSTM(hidden_units, input_shape=(X_data_one_hot.shape[1], X_data_one_hot.shape[2])))\n",
    "model.add(Dense(vocab_size, activation='softmax'))\n",
    "\n",
    "model.compile(loss='categorical_crossentropy', optimizer='adam', metrics=['accuracy'])\n",
    "model.fit(X_data_one_hot, y_data_one_hot, epochs=100, verbose=2)"
   ]
  },
  {
   "cell_type": "code",
   "execution_count": 63,
   "id": "b27fc707",
   "metadata": {},
   "outputs": [],
   "source": [
    "def sentence_generation(model, char_to_index, seq_length, seed_text, n):\n",
    "    ## 초기 시퀀스\n",
    "    init_text = seed_text\n",
    "    sentence = ''\n",
    "    \n",
    "    # 다음 문자 예측은 총 n번만 반복\n",
    "    for _ in range(n):\n",
    "        encoded = [char_to_index[char] for char in seed_text]\n",
    "        encoded = pad_sequences([encoded], maxlen=seq_length, padding='pre')\n",
    "        encoded = to_categorical(encoded, num_classes=len(char_to_index))\n",
    "        \n",
    "        result = model.predict(encoded, verbose=0)\n",
    "        result = np.argmax(result, axis=1)\n",
    "        \n",
    "        for char, index in char_to_index.items():\n",
    "            if index == result:\n",
    "                break\n",
    "                \n",
    "        # 현재 시퀀스 + 예측 문자를 현재 시퀀스로 변경\n",
    "        seed_text = seed_text + char\n",
    "        # 예측 문자를 문장에 저장\n",
    "        sentence = sentence + char\n",
    "        \n",
    "    # n번의 다음 문자 예측이 끝나면 최종 완성된 문장\n",
    "    sentence = init_text + sentence\n",
    "    return sentence"
   ]
  },
  {
   "cell_type": "code",
   "execution_count": 64,
   "id": "8c9563a6",
   "metadata": {},
   "outputs": [
    {
     "name": "stdout",
     "output_type": "stream",
     "text": [
      "I get on with life as a programmer, I like to use words about beer. But when I stort mhttb\n"
     ]
    }
   ],
   "source": [
    "print(sentence_generation(model, char_to_index, 10, 'I get on w', 80))"
   ]
  },
  {
   "cell_type": "code",
   "execution_count": 62,
   "id": "a4a1146f",
   "metadata": {},
   "outputs": [
    {
     "data": {
      "text/plain": [
       "60"
      ]
     },
     "execution_count": 62,
     "metadata": {},
     "output_type": "execute_result"
    }
   ],
   "source": [
    "seq_length"
   ]
  },
  {
   "cell_type": "code",
   "execution_count": null,
   "id": "64cf0e2f",
   "metadata": {},
   "outputs": [],
   "source": []
  }
 ],
 "metadata": {
  "kernelspec": {
   "display_name": "Python 3 (ipykernel)",
   "language": "python",
   "name": "python3"
  },
  "language_info": {
   "codemirror_mode": {
    "name": "ipython",
    "version": 3
   },
   "file_extension": ".py",
   "mimetype": "text/x-python",
   "name": "python",
   "nbconvert_exporter": "python",
   "pygments_lexer": "ipython3",
   "version": "3.8.8"
  }
 },
 "nbformat": 4,
 "nbformat_minor": 5
}
