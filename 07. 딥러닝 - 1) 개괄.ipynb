{
 "cells": [
  {
   "cell_type": "markdown",
   "id": "b30e4b80",
   "metadata": {},
   "source": [
    "### 1. 단층 퍼셉트론 \n",
    "* 입력 단계와 출력 단계로만 구성\n",
    "* 어떤 일이 가능하고 한계가 무엇인지 검토 : AND, NAND, OR 게이트는 구현 가능하나, XOR 문제는.."
   ]
  },
  {
   "cell_type": "code",
   "execution_count": 1,
   "id": "254278a7",
   "metadata": {},
   "outputs": [],
   "source": [
    "### AND 게이트 문제 : x1, x2 각 0 또는 1의 값을 갖는데 모두 1인 경우에만 y값이 1이 나오는 구조\n",
    "def AND_gate(x1, x2):\n",
    "    w1 = 0.5\n",
    "    w2 = 0.5\n",
    "    b = -0.7\n",
    "    result = x1 * w1 + x2 * w2 + b\n",
    "    if result <= 0:\n",
    "        return 0\n",
    "    else:\n",
    "        return 1"
   ]
  },
  {
   "cell_type": "code",
   "execution_count": 2,
   "id": "573561f9",
   "metadata": {},
   "outputs": [
    {
     "data": {
      "text/plain": [
       "(0, 0, 0, 1)"
      ]
     },
     "execution_count": 2,
     "metadata": {},
     "output_type": "execute_result"
    }
   ],
   "source": [
    "AND_gate(0, 0), AND_gate(0, 1), AND_gate(1, 0), AND_gate(1, 1)"
   ]
  },
  {
   "cell_type": "code",
   "execution_count": 3,
   "id": "fe2a048e",
   "metadata": {},
   "outputs": [],
   "source": [
    "### NAND 게이트 문제 : x1, x2 각 0 또는 1의 값을 갖는데 둘 중 하나가 0이어야 y값이 1이 나오는 구조\n",
    "def NAND_gate(x1, x2):\n",
    "    w1 = -0.5\n",
    "    w2 = -0.5\n",
    "    b = 0.7\n",
    "    result = x1*w1 + x2*w2 + b\n",
    "    \n",
    "    if result <= 0:\n",
    "        return 0\n",
    "    else:\n",
    "        return 1\n"
   ]
  },
  {
   "cell_type": "code",
   "execution_count": 4,
   "id": "7d361585",
   "metadata": {},
   "outputs": [
    {
     "data": {
      "text/plain": [
       "(1, 1, 1, 0)"
      ]
     },
     "execution_count": 4,
     "metadata": {},
     "output_type": "execute_result"
    }
   ],
   "source": [
    "NAND_gate(0, 0), NAND_gate(0, 1), NAND_gate(1, 0), NAND_gate(1, 1)"
   ]
  },
  {
   "cell_type": "code",
   "execution_count": 5,
   "id": "cb11d4c0",
   "metadata": {},
   "outputs": [],
   "source": [
    "### OR 게이트 문제 : x1, x2 각 0 또는 1의 값을 갖는데 둘 중 하나만 1이어여도 y값이 1이 나오는 구조\n",
    "def OR_gate(x1, x2):\n",
    "    w1 = 0.6\n",
    "    w2 = 0.6\n",
    "    b = -0.5\n",
    "    result = x1*w1 + x2*w2 + b\n",
    "    if result <= 0:\n",
    "        return 0\n",
    "    else:\n",
    "        return 1"
   ]
  },
  {
   "cell_type": "code",
   "execution_count": 6,
   "id": "e6578c8e",
   "metadata": {},
   "outputs": [
    {
     "data": {
      "text/plain": [
       "(0, 1, 1, 1)"
      ]
     },
     "execution_count": 6,
     "metadata": {},
     "output_type": "execute_result"
    }
   ],
   "source": [
    "OR_gate(0, 0), OR_gate(0, 1), OR_gate(1, 0), OR_gate(1, 1)"
   ]
  },
  {
   "cell_type": "markdown",
   "id": "b3333031",
   "metadata": {},
   "source": [
    "그러나 XOR 문제(서로 다른 값을 가질 때만 1을 출력하는 문제)는 단층 퍼셉트론으로는 구현할 수 없다. 왜냐하면, 단층 퍼셉트론은 직선 하나로 두 영역을 나눌 수 있는 문제만 다루기 때문이다.\n",
    "\n",
    "---\n",
    "따라서 **다층 퍼셉트론(MltiLayer Perceptron, MLP)**이 고안되었다."
   ]
  },
  {
   "cell_type": "code",
   "execution_count": 24,
   "id": "c9cc1df3",
   "metadata": {},
   "outputs": [],
   "source": [
    "def XOR_gate(x1, x2):\n",
    "    if x1 == x2 :\n",
    "        return 0\n",
    "    else:\n",
    "        return 1"
   ]
  },
  {
   "cell_type": "code",
   "execution_count": 25,
   "id": "b9601f92",
   "metadata": {},
   "outputs": [
    {
     "data": {
      "text/plain": [
       "(0, 1, 1, 0)"
      ]
     },
     "execution_count": 25,
     "metadata": {},
     "output_type": "execute_result"
    }
   ],
   "source": [
    "XOR_gate(0, 0), XOR_gate(0, 1), XOR_gate(1, 0), XOR_gate(1, 1)"
   ]
  },
  {
   "cell_type": "markdown",
   "id": "f2be0b48",
   "metadata": {},
   "source": [
    "### 2. 인공신경망 개관\n",
    "\n",
    "1. 피드포워드 신경망(Feed-Forward Neural Network, FFNN) \n",
    "* 입력층에서 출력층 방향으로 연산이 전개되는 신경망\n",
    "* 은닉층(hidden layer)의 출력값을 출력층으로 보내기도 하고, 다시 은닉층으로 보내 입력으로 다시 사용함\n",
    "\n",
    "2. 전결합층(Fully-connected layer, FC, Dense layer)\n",
    "* 은닉층, 출력층 모두 연결된 경우\n",
    "* 케라스에서 이를 구현할 때 Dense() 메소드를 활용\n",
    "\n",
    "3. 활성화 함수(Activation Function)\n",
    "* 은닉층 또는 출력층(단층일 경우)의 뉴런에서 출력값을 결정하는 함수\n"
   ]
  },
  {
   "cell_type": "code",
   "execution_count": 26,
   "id": "a3248e3c",
   "metadata": {},
   "outputs": [],
   "source": [
    "### 활성화 함수 시각화\n",
    "def step(x):\n",
    "    return np.array(x > 0, dtype=np.int)\n",
    "\n",
    "x = np.arange(-5.0, 5.0, 0.1)\n",
    "y = step(x)"
   ]
  },
  {
   "cell_type": "code",
   "execution_count": 27,
   "id": "6b07c84d",
   "metadata": {},
   "outputs": [
    {
     "data": {
      "image/png": "[encoded data removed]",
      "text/plain": [
       "<Figure size 432x288 with 1 Axes>"
      ]
     },
     "metadata": {
      "needs_background": "light"
     },
     "output_type": "display_data"
    }
   ],
   "source": [
    "%matplotlib inline\n",
    "plt.plot(x, y)\n",
    "plt.title('Step Function')\n",
    "plt.grid(False)\n",
    "plt.show()"
   ]
  },
  {
   "cell_type": "markdown",
   "id": "ff0a58cf",
   "metadata": {},
   "source": [
    "### 3. 시그모이드 함수(Sigmoid function)와 기울기 소실문제\n",
    "* 순전파(forwad propagation) 연산을 하고 난후, 예측값과 실제값의 오차를 손실함수를 통해 계산하는데 이를 손실 또는 오차라고 부름\n",
    "* 이 과정에서 미분을 통해 기술기를 구하고 가중치와 편향을 업데이트하기 위해 역전파(back propagation)를 수행함\n",
    "* 미분을 해서 기울기를 구할 때 문제가 발생"
   ]
  },
  {
   "cell_type": "code",
   "execution_count": 28,
   "id": "126740ad",
   "metadata": {},
   "outputs": [],
   "source": [
    "def sigmoid(x):\n",
    "    return 1 / (1 + np.exp(-x))"
   ]
  },
  {
   "cell_type": "code",
   "execution_count": 29,
   "id": "f4051f19",
   "metadata": {},
   "outputs": [
    {
     "data": {
      "image/png": "[encoded data removed]",
      "text/plain": [
       "<Figure size 432x288 with 1 Axes>"
      ]
     },
     "metadata": {
      "needs_background": "light"
     },
     "output_type": "display_data"
    }
   ],
   "source": [
    "x = np.arange(-5.0, 5.0, 0.1)\n",
    "y = sigmoid(x)\n",
    "\n",
    "plt.plot(x, y)\n",
    "plt.plot([0, 0], [1.0, 0], ':')\n",
    "plt.title('Sigmoid Function')\n",
    "plt.grid(False)\n",
    "plt.show()"
   ]
  },
  {
   "cell_type": "markdown",
   "id": "ceeb140f",
   "metadata": {},
   "source": [
    "* 시그모이드 함수의 값이 0, 1에 가까워질 수록 완만해 지는 것을 볼 수 있는데, 이렇게 되면 미분 값이 0에 가까운 작은 값이 되어버림\n",
    "* 즉, 시그모이드 함수를 활성화함수로 이용한다면 가중치와 편향을 업데이트하는 과정인 역전파 과정에서 0에 가까운 값이 누적해서 곱해져 기울기가 잘 전달되지 않음\n",
    "* 이 현상을 **기울기 소실(Vanishing Gradient)** 문제라고 함\n",
    "\n",
    "---\n",
    "* 따라서 시그모이드 함수는 주로 이진분류를 위해 출력층에서 사용되고 은닉층에서의 사용은 지양됨"
   ]
  },
  {
   "cell_type": "markdown",
   "id": "1348668a",
   "metadata": {},
   "source": [
    "### 4. 하이퍼볼릭탄젠트 함수(Hyperbolic tangent function)\n",
    "\n",
    "* 이 함수는 입력값을 -1과 1 사이의 값으로 변환하여 출력"
   ]
  },
  {
   "cell_type": "code",
   "execution_count": 30,
   "id": "448cdf6c",
   "metadata": {},
   "outputs": [],
   "source": [
    "x = np.arange(-5.0, 5.0, 0.1)\n",
    "y = np.tanh(x)"
   ]
  },
  {
   "cell_type": "code",
   "execution_count": 31,
   "id": "96eadf75",
   "metadata": {},
   "outputs": [
    {
     "data": {
      "image/png": "[encoded data removed]",
      "text/plain": [
       "<Figure size 432x288 with 1 Axes>"
      ]
     },
     "metadata": {
      "needs_background": "light"
     },
     "output_type": "display_data"
    }
   ],
   "source": [
    "plt.plot(x, y)\n",
    "plt.plot([0, 0], [1, -1], ':')\n",
    "plt.grid(False)\n",
    "plt.axhline(y=0, color='orange', linestyle='--')\n",
    "plt.title(\"Tanh Function\")\n",
    "plt.show()"
   ]
  },
  {
   "cell_type": "markdown",
   "id": "01086437",
   "metadata": {},
   "source": [
    "* 마찬가지로 끝에 가서는 시그모이드 함수와 같은 현상이 발생\n",
    "* 그러나 시그모이드 함수와 달리 0을 중심으로 하고 있어 미분했을 경우 시그모이드 함수보다 큰 값이 나옴\n",
    "* 따라서 시그모이드 함수보다 기울기 소실이 적어 보다 선호됨"
   ]
  },
  {
   "cell_type": "markdown",
   "id": "7a1a5e11",
   "metadata": {},
   "source": [
    "### 5. ReLU 함수\n",
    "* 가장 인기 있는 함수로 $f(x) = max(0, x)$로 간단"
   ]
  },
  {
   "cell_type": "code",
   "execution_count": 32,
   "id": "f67916a7",
   "metadata": {},
   "outputs": [],
   "source": [
    "def relu(x):\n",
    "    return np.maximum(0, x)"
   ]
  },
  {
   "cell_type": "code",
   "execution_count": 35,
   "id": "c4147a81",
   "metadata": {},
   "outputs": [
    {
     "data": {
      "image/png": "[encoded data removed]",
      "text/plain": [
       "<Figure size 432x288 with 1 Axes>"
      ]
     },
     "metadata": {
      "needs_background": "light"
     },
     "output_type": "display_data"
    }
   ],
   "source": [
    "x = np.arange(-5.0, 5.0, 0.1)\n",
    "y = relu(x)\n",
    "\n",
    "plt.plot(x, y)\n",
    "plt.plot([0, 0], [5, 0], ':')\n",
    "plt.grid(False)\n",
    "plt.title(\"ReLU Function\")\n",
    "plt.show()\n"
   ]
  },
  {
   "cell_type": "markdown",
   "id": "2a80f943",
   "metadata": {},
   "source": [
    "* 렐루함수는 음수를 입력하면 0을 출력하고, 양수를 입력하면 입력값을 그대로 반환\n",
    "* 특징이 특정 양수값에 수렴하지 않는다는 것이고, 0 이상의 입력값에서는 미분값이 항상 1임\n",
    "* 위의 함수들과 달리 어떤 연산이 필요하지 않고, 단순 임계값만 설정하므로 계산이 빠름\n",
    "\n",
    "----\n",
    "* 하지만 여전히 문제점이 존재하는데 입력값이 음수이면 미분값이 0이 되기 때문에, 뉴런 회생이 어려움. 이를 죽은 렐루(dying ReLU)라고 함"
   ]
  },
  {
   "cell_type": "markdown",
   "id": "06425d7e",
   "metadata": {},
   "source": [
    "### 6. 리키 렐루(Leaky ReLU)\n",
    "* 위의 렐루함수를 보완하기 위해 등장\n",
    "* 입력값이 음수일 경우 0이 아니라 0.001과 같은 아주 작은 수를 반환하도록 되어 있음\n",
    "* 수식 : $f(x) = max(ax, x)$로 아주 간단하고, $a$는 하이퍼파라미터로 Leaky(새는 정도)를 결정\n",
    "    * 일반적으로 0.01값을 가짐. 입력값이 음수일 경우 기울기 비유"
   ]
  },
  {
   "cell_type": "code",
   "execution_count": 36,
   "id": "be832703",
   "metadata": {},
   "outputs": [],
   "source": [
    "a = 0.1\n",
    "\n",
    "def leaky_relu(x):\n",
    "    return np.maximum(a*x, x)"
   ]
  },
  {
   "cell_type": "code",
   "execution_count": 37,
   "id": "17df6764",
   "metadata": {},
   "outputs": [
    {
     "data": {
      "image/png": "[encoded data removed]",
      "text/plain": [
       "<Figure size 432x288 with 1 Axes>"
      ]
     },
     "metadata": {
      "needs_background": "light"
     },
     "output_type": "display_data"
    }
   ],
   "source": [
    "x = np.arange(-5.0, 5.0, 0.1)\n",
    "y = leaky_relu(x)\n",
    "\n",
    "plt.plot(x, y)\n",
    "plt.plot([0, 0], [5, 0], ':')\n",
    "plt.grid(False)\n",
    "plt.title(\"Leaky ReLU Function\")\n",
    "plt.show()"
   ]
  },
  {
   "cell_type": "markdown",
   "id": "e675eff8",
   "metadata": {},
   "source": [
    "* 입력값이 음수라도 기울기가 0이 되지 않으면 ReLU는 죽지 않음\n",
    "\n",
    "### 7. 소프트맥스 함수(Softmax function)\n",
    "* 은닉층에서는 ReLU 또는 ReLU 변형함수를 사용하는 것이 일반적임\n",
    "* 그러나 출력층에서는 소프트맥스 함수가 주로 사용됨\n",
    "* 시그모니드 함수가 이진분류에 사용되고, 소프트맥스 함수는 다중클래스 분류에 사용\n",
    "* 즉 이진분류시에는 출력층에 앞서 배운 로지스틱 회귀를 사용하고, 다중 클래스분류에서는 소프트맥스 회귀를 사용"
   ]
  },
  {
   "cell_type": "code",
   "execution_count": 38,
   "id": "bff036b9",
   "metadata": {},
   "outputs": [],
   "source": [
    "x = np.arange(-5.0, 5.0, 0.1)\n",
    "y = np.exp(x) / np.sum(np.exp(x))"
   ]
  },
  {
   "cell_type": "code",
   "execution_count": 39,
   "id": "03943b05",
   "metadata": {},
   "outputs": [
    {
     "data": {
      "image/png": "[encoded data removed]",
      "text/plain": [
       "<Figure size 432x288 with 1 Axes>"
      ]
     },
     "metadata": {
      "needs_background": "light"
     },
     "output_type": "display_data"
    }
   ],
   "source": [
    "plt.plot(x, y)\n",
    "plt.title('Softmax function')\n",
    "plt.grid(False)\n",
    "plt.show()"
   ]
  },
  {
   "cell_type": "code",
   "execution_count": null,
   "id": "7d62d8ed",
   "metadata": {},
   "outputs": [],
   "source": []
  }
 ],
 "metadata": {
  "kernelspec": {
   "display_name": "Python 3 (ipykernel)",
   "language": "python",
   "name": "python3"
  },
  "language_info": {
   "codemirror_mode": {
    "name": "ipython",
    "version": 3
   },
   "file_extension": ".py",
   "mimetype": "text/x-python",
   "name": "python",
   "nbconvert_exporter": "python",
   "pygments_lexer": "ipython3",
   "version": "3.8.8"
  }
 },
 "nbformat": 4,
 "nbformat_minor": 5
}
