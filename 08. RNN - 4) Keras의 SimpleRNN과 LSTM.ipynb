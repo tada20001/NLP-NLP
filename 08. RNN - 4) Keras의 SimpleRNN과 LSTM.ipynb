{
 "cells": [
  {
   "cell_type": "markdown",
   "id": "6900bd8e",
   "metadata": {},
   "source": [
    "### 1. 임의의 입력 생성하기"
   ]
  },
  {
   "cell_type": "code",
   "execution_count": 1,
   "id": "a92b76aa",
   "metadata": {},
   "outputs": [],
   "source": [
    "import tensorflow as tf\n",
    "from tensorflow.keras.layers import SimpleRNN, LSTM, Bidirectional"
   ]
  },
  {
   "cell_type": "code",
   "execution_count": 2,
   "id": "57f924ab",
   "metadata": {},
   "outputs": [
    {
     "name": "stdout",
     "output_type": "stream",
     "text": [
      "(4, 5)\n"
     ]
    }
   ],
   "source": [
    "train_X = [[0.1, 4.2, 1.5, 1.1, 2.8], [1.0, 3.1, 2.5, 0.7, 1.1], [0.3, 2.1, 1.5, 2.1, 0.1], [2.2, 1.4, 0.5, 0.9, 1.1]]\n",
    "print(np.shape(train_X))"
   ]
  },
  {
   "cell_type": "markdown",
   "id": "6ada8c5e",
   "metadata": {},
   "source": [
    "* 입력 단어 벡터의 차원은 5(전체 단어갯수)이고, 문장의 길이(sequence)가 4인 경우\n",
    "* 4번의 시점(timesteps)이 존재하고, 각 시점마다 5차원의 단어 벡터가 입력으로 사용됨\n",
    "\n",
    "* 그러나 RNN에서는 2D 텐서가 아니라 3D 텐서를 입력 받는다고 했으므로 변경이 필요한데, 배치크기 1을 추가하여 가능"
   ]
  },
  {
   "cell_type": "code",
   "execution_count": 3,
   "id": "56659bf1",
   "metadata": {},
   "outputs": [
    {
     "name": "stdout",
     "output_type": "stream",
     "text": [
      "(1, 4, 5)\n"
     ]
    }
   ],
   "source": [
    "train_X = [[[0.1, 4.2, 1.5, 1.1, 2.8], [1.0, 3.1, 2.5, 0.7, 1.1], [0.3, 2.1, 1.5, 2.1, 0.1], [2.2, 1.4, 0.5, 0.9, 1.1]]]\n",
    "train_X = np.array(train_X, dtype=np.float32)\n",
    "print(train_X.shape)"
   ]
  },
  {
   "cell_type": "markdown",
   "id": "bd0da854",
   "metadata": {},
   "source": [
    "* (batch_size, timesteps, input_dim)에 해당하는 (1, 4, 5) 크기의 3D 텐서가 생성됨\n",
    "* batch_size는 샘플 수. RNN이 학습할때 한번에 사용하는 데이터의 양을 말함. 여기에서는 1개 밖에 없음\n",
    "\n",
    "### 2. SimpleRNN 이해\n",
    "* 출력값에 대한 이해 \n",
    "    * return_sequences : 기본값 False. \n",
    "    * return_stats : 기본값 False."
   ]
  },
  {
   "cell_type": "code",
   "execution_count": 4,
   "id": "0459bc89",
   "metadata": {},
   "outputs": [
    {
     "name": "stdout",
     "output_type": "stream",
     "text": [
      "hidden state : [[-0.99000776  0.7790885  -0.64224684]], shape: (1, 3)\n"
     ]
    }
   ],
   "source": [
    "### 은닉상태(hidden state) 크기를 3으로 지정하고 두 인자의 값이 False일 때 출력 값\n",
    "rnn = SimpleRNN(3)\n",
    "hidden_state = rnn(train_X)\n",
    "\n",
    "print('hidden state : {}, shape: {}'.format(hidden_state, hidden_state.shape))"
   ]
  },
  {
   "cell_type": "markdown",
   "id": "a63911c2",
   "metadata": {},
   "source": [
    "* 은닉상태는 (1, 3) 크기의 텐서로, return_sequences가 False인 경우에는 SimpleRNN은 마지막 은닉상태만 출력\n",
    "* 만약 return_sequences를 True로 지정하면 모든 시점의 은닉상태 출력함"
   ]
  },
  {
   "cell_type": "code",
   "execution_count": 5,
   "id": "5acb6d5c",
   "metadata": {},
   "outputs": [
    {
     "name": "stdout",
     "output_type": "stream",
     "text": [
      "hidden state : [[[ 0.9999315  -0.34034526  0.998872  ]\n",
      "  [ 0.9965539  -0.8557468   0.9934113 ]\n",
      "  [ 0.9865772   0.68204737 -0.15192412]\n",
      "  [ 0.9954842  -0.9691426   0.9843184 ]]], shape: (1, 4, 3)\n"
     ]
    }
   ],
   "source": [
    "rnn = SimpleRNN(3, return_sequences=True)\n",
    "hidden_state = rnn(train_X)\n",
    "\n",
    "print('hidden state : {}, shape: {}'.format(hidden_state, hidden_state.shape))"
   ]
  },
  {
   "cell_type": "markdown",
   "id": "1e179bb9",
   "metadata": {},
   "source": [
    "* timesteps가 4이므로 모든 시점에 대해 은닉상태의 값을 출력해서 (1, 4, 3)의 텐서를 출력하게 됨\n",
    "\n",
    "---\n",
    "* return_state가 True일 경우, return_sequences가 True/False 여부와 상관없이 마지막 시점의 은닉상태를 출력함. 예를 들어, return_sequences=True이고 return_state=True일 경우, SimpleRNN은 두개 출력을 리턴함"
   ]
  },
  {
   "cell_type": "code",
   "execution_count": 6,
   "id": "e01d48c3",
   "metadata": {},
   "outputs": [
    {
     "name": "stdout",
     "output_type": "stream",
     "text": [
      "hidden states: [[[ 0.9142155   0.9667713   0.46622247]\n",
      "  [ 0.70616555  0.89581203  0.5108151 ]\n",
      "  [-0.9114635   0.30078605 -0.73716146]\n",
      "  [ 0.9933788   0.83736104  0.19713785]]], shape: (1, 4, 3)\n",
      "last state: [[0.9933788  0.83736104 0.19713785]], shape: (1, 3)\n"
     ]
    }
   ],
   "source": [
    "rnn = SimpleRNN(3, return_sequences=True, return_state=True)\n",
    "hidden_states, last_state = rnn(train_X)\n",
    "\n",
    "print('hidden states: {}, shape: {}'.format(hidden_states, hidden_states.shape))\n",
    "print('last state: {}, shape: {}'.format(last_state, last_state.shape))"
   ]
  },
  {
   "cell_type": "markdown",
   "id": "e756ac35",
   "metadata": {},
   "source": [
    "* 첫번째 출력은 return_sequences=True로 인한 출력으로 모든 시점의 은닉상태\n",
    "* 두번째 출력은 return_state=True로 인한 출력으로 마지막 시점의 은닉상태. (1, 4, 3)의 마지막 벡터 값과 일치\n",
    "\n",
    "\n",
    "\n",
    "* 그렇다면 return_sequences=False이면서 return_state=True이면???  마지막시점만..."
   ]
  },
  {
   "cell_type": "code",
   "execution_count": 7,
   "id": "ebba4420",
   "metadata": {},
   "outputs": [
    {
     "name": "stdout",
     "output_type": "stream",
     "text": [
      "hidden states: [[0.95848626 0.35654894 0.95581025]], shape: (1, 3)\n",
      "last state: [[0.95848626 0.35654894 0.95581025]], shape: (1, 3)\n"
     ]
    }
   ],
   "source": [
    "rnn = SimpleRNN(3, return_state=True)\n",
    "hidden_states, last_state = rnn(train_X)\n",
    "print('hidden states: {}, shape: {}'.format(hidden_states, hidden_states.shape))\n",
    "print('last state: {}, shape: {}'.format(last_state, last_state.shape))"
   ]
  },
  {
   "cell_type": "markdown",
   "id": "04c50576",
   "metadata": {},
   "source": [
    "두개 출력 모두 마지막 은닉상태만을 출력"
   ]
  },
  {
   "cell_type": "markdown",
   "id": "08bb44a6",
   "metadata": {},
   "source": [
    "### 3. LSTM 이해 \n",
    "* return_sequences = False,  return_state=True인 경우"
   ]
  },
  {
   "cell_type": "code",
   "execution_count": 8,
   "id": "cfc63d96",
   "metadata": {},
   "outputs": [
    {
     "name": "stdout",
     "output_type": "stream",
     "text": [
      "hidden states : [[ 0.27538684  0.27758038 -0.07560135]], shape: (1, 3)\n",
      "last state : [[ 0.27538684  0.27758038 -0.07560135]], shape: (1, 3)\n",
      "last cell : [[ 0.8342783   0.37970793 -0.8554363 ]], shape: (1, 3)\n"
     ]
    }
   ],
   "source": [
    "lstm = LSTM(3, return_sequences=False, return_state=True)\n",
    "hidden_states, last_state, last_cell = lstm(train_X)\n",
    "\n",
    "print('hidden states : {}, shape: {}'.format(hidden_states, hidden_states.shape))\n",
    "print('last state : {}, shape: {}'.format(last_state, last_state.shape))\n",
    "print('last cell : {}, shape: {}'.format(last_cell, last_cell.shape))"
   ]
  },
  {
   "cell_type": "markdown",
   "id": "5ee3ad8b",
   "metadata": {},
   "source": [
    "* SimpleRNN과 달리 cell 상태 정보가 추가되어 3개의 결과가 반환\n",
    "\n",
    "---\n",
    "* return_sequeces=True, return_state=True의 경우"
   ]
  },
  {
   "cell_type": "code",
   "execution_count": 9,
   "id": "091d325f",
   "metadata": {},
   "outputs": [
    {
     "name": "stdout",
     "output_type": "stream",
     "text": [
      "hidden states : [[[-0.06348065  0.46115878 -0.11123452]\n",
      "  [-0.09433387  0.68589354 -0.21839036]\n",
      "  [-0.05105954  0.5660618  -0.3321023 ]\n",
      "  [ 0.0585146   0.7849436  -0.28598303]]], shape: (1, 4, 3)\n",
      "last state : [[ 0.0585146   0.7849436  -0.28598303]], shape: (1, 3)\n",
      "last cell : [[ 0.15670988  1.2803469  -0.5640975 ]], shape: (1, 3)\n"
     ]
    }
   ],
   "source": [
    "lstm = LSTM(3, return_sequences=True, return_state=True)\n",
    "hidden_states, last_state, last_cell = lstm(train_X)\n",
    "\n",
    "print('hidden states : {}, shape: {}'.format(hidden_states, hidden_states.shape))\n",
    "print('last state : {}, shape: {}'.format(last_state, last_state.shape))\n",
    "print('last cell : {}, shape: {}'.format(last_cell, last_cell.shape))"
   ]
  },
  {
   "cell_type": "markdown",
   "id": "5f2026ad",
   "metadata": {},
   "source": [
    "* 마찬가지로 마지막 은닉상태 값은 전체 은닉상태의 마지막 값과 동일"
   ]
  },
  {
   "cell_type": "markdown",
   "id": "ced57d99",
   "metadata": {},
   "source": [
    "### 4. Bidirectional(LSTM) 이해\n",
    "* return_sequences=True와 False의 각 사례에서 은닉상태 값이 어떻게 바뀌는지 비교\n",
    "* 비교를 위해 출력 은닉상태 값 고정"
   ]
  },
  {
   "cell_type": "code",
   "execution_count": 10,
   "id": "070515b6",
   "metadata": {},
   "outputs": [],
   "source": [
    "k_init = tf.keras.initializers.Constant(value=0.1)\n",
    "b_init = tf.keras.initializers.Constant(value=0)\n",
    "r_init = tf.keras.initializers.Constant(value=0.1)"
   ]
  },
  {
   "cell_type": "markdown",
   "id": "e76622be",
   "metadata": {},
   "source": [
    "* return_sequeces=False, return_state=True의 경우"
   ]
  },
  {
   "cell_type": "code",
   "execution_count": 12,
   "id": "fccafb9b",
   "metadata": {},
   "outputs": [
    {
     "name": "stdout",
     "output_type": "stream",
     "text": [
      "hidden states : [[0.6303138 0.6303138 0.6303138 0.7038734 0.7038734 0.7038734]], shape: (1, 6)\n",
      "forward_h : [[0.6303138 0.6303138 0.6303138]], shape: (1, 3)\n",
      "backward_h : [[0.7038734 0.7038734 0.7038734]], shape: (1, 3)\n"
     ]
    }
   ],
   "source": [
    "bilstm = Bidirectional(LSTM(3, return_sequences=False, \n",
    "                            return_state=True, kernel_initializer=k_init, \n",
    "                            bias_initializer=b_init, \n",
    "                            recurrent_initializer=r_init))\n",
    "\n",
    "hidden_states, forward_h, forward_c, backward_h, backward_c = bilstm(train_X)\n",
    "print('hidden states : {}, shape: {}'.format(hidden_states, hidden_states.shape))\n",
    "print('forward state : {}, shape: {}'.format(forward_h, forward_h.shape))\n",
    "print('backward state : {}, shape: {}'.format(backward_h, backward_h.shape))"
   ]
  },
  {
   "cell_type": "markdown",
   "id": "c7fb5d02",
   "metadata": {},
   "source": [
    "* return_state가 True인 경우에는 정방향 LSTM의 은닉 상태와 셀 상태, 역방향 LSTM의 은닉 상태와 셀 상태 4가지를 반환\n",
    "* 첫번째 출력값의 크기가 (1,6)인 것에 주목.. 이는 return_sequences=False인 경우 정방향 LSTM의 마지막 시점의 은닉상태와 역방향 LSTM의 첫번째 시점의 은닉상태가 연결된채 반환되기 때문\n",
    "* 정방향 LSTM의 마지막 시점의 은닉상태값과 역방향 LSTM 첫번째 은닉상태값을 기억\n",
    "    * 정방향 LSTM의 마지막 시점의 은닉 상태값 : [0.6303139 0.6303139 0.6303139]\n",
    "    * 역방향 LSTM의 첫번째 시점의 은닉 상태값 : [0.70387346 0.70387346 0.70387346]\n",
    "    \n",
    "* 현재 은닉상태의 값을 고정시켜두었기 때문에 return_seqeunces=True 경우, 출력이 어떻게 바뀌는 비교 가능"
   ]
  },
  {
   "cell_type": "code",
   "execution_count": 15,
   "id": "8bce152f",
   "metadata": {},
   "outputs": [],
   "source": [
    "bilstm = Bidirectional(LSTM(3, return_sequences=True, return_state=True, \n",
    "                            kernel_initializer=k_init, bias_initializer=b_init, \n",
    "                            recurrent_initializer=r_init))\n",
    "hidden_states, forward_h, forward_c, backward_h, backward_c = bilstm(train_X)"
   ]
  },
  {
   "cell_type": "code",
   "execution_count": 16,
   "id": "3a57c90d",
   "metadata": {},
   "outputs": [
    {
     "name": "stdout",
     "output_type": "stream",
     "text": [
      "hidden states : [[[0.35906473 0.35906473 0.35906473 0.7038734  0.7038734  0.7038734 ]\n",
      "  [0.55111325 0.55111325 0.55111325 0.58863586 0.58863586 0.58863586]\n",
      "  [0.59115744 0.59115744 0.59115744 0.3951699  0.3951699  0.3951699 ]\n",
      "  [0.6303138  0.6303138  0.6303138  0.21942244 0.21942244 0.21942244]]], shape: (1, 4, 6)\n",
      "forward state : [[0.6303138 0.6303138 0.6303138]], shape: (1, 3)\n",
      "backward state : [[0.7038734 0.7038734 0.7038734]], shape: (1, 3)\n"
     ]
    }
   ],
   "source": [
    "print('hidden states : {}, shape: {}'.format(hidden_states, hidden_states.shape))\n",
    "print('forward state : {}, shape: {}'.format(forward_h, forward_h.shape))\n",
    "print('backward state : {}, shape: {}'.format(backward_h, backward_h.shape))"
   ]
  },
  {
   "cell_type": "markdown",
   "id": "dab9cc29",
   "metadata": {},
   "source": [
    "* 모든 시점에서 은닉상태가 출력되는데, 역방향 LSTM의 첫번째 시점의 은닉상태는 더이상 정방향 LSTM의 마지막 은닉상태와 연결되는 것이 아니라, 정방향 LSTM의 첫번째 시점의 은닉상태만 연결"
   ]
  },
  {
   "cell_type": "code",
   "execution_count": null,
   "id": "9bd4232a",
   "metadata": {},
   "outputs": [],
   "source": []
  }
 ],
 "metadata": {
  "kernelspec": {
   "display_name": "Python 3 (ipykernel)",
   "language": "python",
   "name": "python3"
  },
  "language_info": {
   "codemirror_mode": {
    "name": "ipython",
    "version": 3
   },
   "file_extension": ".py",
   "mimetype": "text/x-python",
   "name": "python",
   "nbconvert_exporter": "python",
   "pygments_lexer": "ipython3",
   "version": "3.8.8"
  }
 },
 "nbformat": 4,
 "nbformat_minor": 5
}
