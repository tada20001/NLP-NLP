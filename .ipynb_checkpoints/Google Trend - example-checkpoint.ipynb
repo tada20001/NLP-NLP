{
 "cells": [
  {
   "cell_type": "code",
   "execution_count": 1,
   "id": "613dcc77",
   "metadata": {},
   "outputs": [],
   "source": [
    "import pytrends\n",
    "from pytrends.request import TrendReq"
   ]
  },
  {
   "cell_type": "markdown",
   "id": "0ccad1c7",
   "metadata": {},
   "source": [
    "#### 1. TrendReq 매개변수 설정\n",
    "* host language(hl) = 'ko'\n",
    "* Timezone(tz) = 360\n",
    "\n",
    "#### 2. pytrends.build_payload 매개변수 설정\n",
    "* keyword: 데이터를 가져올 키워드 목록(한번에 5개까지만 가능)\n",
    "* geo : 지리적 위치 설정\n",
    "* timeframe : 관심있는 시간 프레임"
   ]
  },
  {
   "cell_type": "code",
   "execution_count": 18,
   "id": "b5b7d1a5",
   "metadata": {},
   "outputs": [],
   "source": [
    "pytrends = TrendReq(hl='en-US', tz=360)\n",
    "keywords = ['satellite image', \"bigdata\"]\n",
    "geos = ['US-MA','US-TX','US-NY','US-WA']\n",
    "\n",
    "dataset = []\n",
    "for geo_code in geos:\n",
    "    pytrends.build_payload(kw_list=keywords, timeframe='2020-01-01 2020-02-01', geo=geo_code)\n",
    "    data = pytrends.interest_over_time()\n",
    "    if not data.empty:\n",
    "        data = data.drop(labels=['isPartial'], axis='columns')\n",
    "        data['geo'] = geo_code\n",
    "        dataset.append(data)\n",
    "    "
   ]
  },
  {
   "cell_type": "code",
   "execution_count": 21,
   "id": "79c0fb57",
   "metadata": {},
   "outputs": [
    {
     "data": {
      "text/html": [
       "<div>\n",
       "<style scoped>\n",
       "    .dataframe tbody tr th:only-of-type {\n",
       "        vertical-align: middle;\n",
       "    }\n",
       "\n",
       "    .dataframe tbody tr th {\n",
       "        vertical-align: top;\n",
       "    }\n",
       "\n",
       "    .dataframe thead th {\n",
       "        text-align: right;\n",
       "    }\n",
       "</style>\n",
       "<table border=\"1\" class=\"dataframe\">\n",
       "  <thead>\n",
       "    <tr style=\"text-align: right;\">\n",
       "      <th></th>\n",
       "      <th>satellite image</th>\n",
       "      <th>bigdata</th>\n",
       "      <th>geo</th>\n",
       "    </tr>\n",
       "    <tr>\n",
       "      <th>date</th>\n",
       "      <th></th>\n",
       "      <th></th>\n",
       "      <th></th>\n",
       "    </tr>\n",
       "  </thead>\n",
       "  <tbody>\n",
       "    <tr>\n",
       "      <th>2020-01-28</th>\n",
       "      <td>0</td>\n",
       "      <td>0</td>\n",
       "      <td>US-WA</td>\n",
       "    </tr>\n",
       "    <tr>\n",
       "      <th>2020-01-29</th>\n",
       "      <td>0</td>\n",
       "      <td>0</td>\n",
       "      <td>US-WA</td>\n",
       "    </tr>\n",
       "    <tr>\n",
       "      <th>2020-01-30</th>\n",
       "      <td>0</td>\n",
       "      <td>0</td>\n",
       "      <td>US-WA</td>\n",
       "    </tr>\n",
       "    <tr>\n",
       "      <th>2020-01-31</th>\n",
       "      <td>90</td>\n",
       "      <td>0</td>\n",
       "      <td>US-WA</td>\n",
       "    </tr>\n",
       "    <tr>\n",
       "      <th>2020-02-01</th>\n",
       "      <td>0</td>\n",
       "      <td>0</td>\n",
       "      <td>US-WA</td>\n",
       "    </tr>\n",
       "  </tbody>\n",
       "</table>\n",
       "</div>"
      ],
      "text/plain": [
       "            satellite image  bigdata    geo\n",
       "date                                       \n",
       "2020-01-28                0        0  US-WA\n",
       "2020-01-29                0        0  US-WA\n",
       "2020-01-30                0        0  US-WA\n",
       "2020-01-31               90        0  US-WA\n",
       "2020-02-01                0        0  US-WA"
      ]
     },
     "execution_count": 21,
     "metadata": {},
     "output_type": "execute_result"
    }
   ],
   "source": [
    "result = pd.concat(dataset)\n",
    "result.tail()"
   ]
  },
  {
   "cell_type": "raw",
   "id": "e4328461",
   "metadata": {},
   "source": []
  }
 ],
 "metadata": {
  "kernelspec": {
   "display_name": "Python 3 (ipykernel)",
   "language": "python",
   "name": "python3"
  },
  "language_info": {
   "codemirror_mode": {
    "name": "ipython",
    "version": 3
   },
   "file_extension": ".py",
   "mimetype": "text/x-python",
   "name": "python",
   "nbconvert_exporter": "python",
   "pygments_lexer": "ipython3",
   "version": "3.8.8"
  }
 },
 "nbformat": 4,
 "nbformat_minor": 5
}
