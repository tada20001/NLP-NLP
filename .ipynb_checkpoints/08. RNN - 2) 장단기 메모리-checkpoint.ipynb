{
 "cells": [
  {
   "cell_type": "markdown",
   "id": "ec7e9909",
   "metadata": {},
   "source": [
    "#### Long Short-Term Memory, LSTM\n",
    "* 가장 단순한 RNN을 바닐라 RNN이라고 함(keras에서는 SimpleRNN)\n",
    "* 이러한 단순한 RNN의 한계를 극복하기 위해 다양한 RNN 변형이 나왔는데, LSTM이 그 중 하나임\n",
    "\n",
    "\n",
    "### 1. 바닐라 RNN의 한계\n",
    "* 비교적 짧은 시퀀스에 대해서만 효과를 보이는 단점이 있음\n",
    "* 바닐라 RNN의 시점(time step)이 길어질수록 앞의 정보가 뒤로 충분히 전달되지 못하는 현상 발생\n",
    "* 즉, 시점이 지날수록 점차 정보량이 손실되어 감\n",
    "\n",
    "-----\n",
    "* 이를 장기의존성 문제(the problem of Long-Term Dependencies)라고 함\n",
    "\n",
    "### 2. 바닐라 RNN의 내부구조\n",
    "\n",
    "$$h_{t} = tanh(W_{x}x_{t} + W_{h}h_{t−1} + b)$$\n",
    "\n",
    "* 바닐라 RNN은 $x_{t}$와 $h_{t-1}$이라는 두 개의 입력이 각각의 가중치와 곱해져서 메모리 셀의 입력이 됨\n",
    "* 그리고 이를 하이퍼볼릭탄젠트 함수의 입력으로 사용하고 이 값은 은닉층의 출력인 은닉 상태가 됨\n",
    "\n",
    "### 3. LSTM(Long Short-Term Memory)"
   ]
  }
 ],
 "metadata": {
  "kernelspec": {
   "display_name": "Python 3 (ipykernel)",
   "language": "python",
   "name": "python3"
  },
  "language_info": {
   "codemirror_mode": {
    "name": "ipython",
    "version": 3
   },
   "file_extension": ".py",
   "mimetype": "text/x-python",
   "name": "python",
   "nbconvert_exporter": "python",
   "pygments_lexer": "ipython3",
   "version": "3.8.8"
  }
 },
 "nbformat": 4,
 "nbformat_minor": 5
}
