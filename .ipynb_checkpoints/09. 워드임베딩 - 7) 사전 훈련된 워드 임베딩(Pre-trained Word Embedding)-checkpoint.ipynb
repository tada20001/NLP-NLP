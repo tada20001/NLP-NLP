{
 "cells": [
  {
   "cell_type": "markdown",
   "id": "4698c004",
   "metadata": {},
   "source": [
    "* Keras의 embeding layer와 사전 훈련된 워드임베딩(pre-trained word embedding)을 가져와서 사용하는 것을 비교\n",
    "* 자연어 처리시 갖고 있는 훈련데이터의 단어들을 임베딩 층을 구현하여 임베딩 벡터로 학습하는 경우가 있음\n",
    "* Keras에서는 이를 Embedding() 메소드를 사용하여 구현\n",
    "\n",
    "---\n",
    "* 위키피디아 등과 같이 방대한 코퍼스를 갖고 Word2Vec, FastText, GloVe 등을 통해 미리 훈련된 임베딩 벡터를 불러오는 방법을 사용하는 경우가 있음\n",
    "\n",
    "### 1. Keras의 Embedding layer\n",
    "\n",
    "#### 1) 임베딩 층은 룩업 테이블이다.\n",
    "\n",
    "* 임베딩 층의 입력으로 사용하기 위해 입력 시퀀스의 각 단어들은 모두 정수 인코딩이 되어있어야 함\n",
    "    * 특정단어 --> 단어에 부여된 고유 정수값 -> 임베딩 층 통과 -> dense vector\n",
    "* 임베딩 층은 입력 정수에 대해 dense vector로 맵핑하고 이 dense vector는 인공신경망의 학습과정에서 가중치가 학습되는 것과 같은 방식으로 학습됨\n",
    "* 학습과정에서 단어는 모델이 풀고자 하는 작업에 맞는 값으로 업데이트되는데, 이 dense vector를 임베딩 벡터라고 부름\n",
    "\n",
    "\n",
    "---\n",
    "* 정수를 dense vector 또는 embedding vector로 맵핑한다는 것은....\n",
    "* **특정 단어와 맵핑되는 정수를 인덱스로 가지는 테이블로부터 임베딩 벡터값을 가져오는 룩업 테이블**이라고 볼 수 있음\n",
    "* 그리고 이 테이블은 **단어 집합의 크기만큼 행**을 가지므로 모든 단어는 고유한 임베딩 벡터를 가짐\n",
    "* 케라스는 단어를 정수 인덱스로 바꾸고 원-핫 벡터로 변환 후 임베딩 층의 입력으로 사용하는 것이 아니라, **단어를 정수 인코딩까지만 진행 후 임베딩 층의 입력으로 사용**하여 룩업 테이블 결과인 임베딩 벡터를 리턴함\n",
    "\n",
    "##### 임베딩 층 구현 코드\n"
   ]
  },
  {
   "cell_type": "raw",
   "id": "bcea7c83",
   "metadata": {},
   "source": [
    "vocab_size = 20000\n",
    "output_dim = 128\n",
    "input_length = 500\n",
    "\n",
    "v = Embedding(vocab_size, output_dim, input_length=input_length)"
   ]
  },
  {
   "cell_type": "markdown",
   "id": "07bfec62",
   "metadata": {},
   "source": [
    "* vocab_size = 텍스트 데이터의 전체 단어 집합의 크기. 즉 코퍼스의 크기\n",
    "* output_dim = 워드 임베딩 후의 임베딩 벡터의 차원\n",
    "* input_length = 입력 시퀀스의 길이. 만약 갖고있는 각 샘플의 길이가 500개라면 이 값은 500임.\n",
    "\n",
    "----\n",
    "* Embedding()은 (number of samples, input_length)인 2D 정수 텐서를 입력받고, \n",
    "* 이때 각 샘플은 정수 인코딩이 된 결과로 정수 시퀀스가 됨\n",
    "* Embedding()은 워드 임베딩 작업을 수행하고 (number of samples, input_length, embedding word dimentionality) 3D 실수 텐서를 리턴\n",
    "\n",
    "\n",
    "##### embedding layer 사용하기\n",
    "* 문장의 긍, 부정을 판단하는 감성 분류 모델을 만들기. 문장과 레이블 데이터를 만들고 긍정인 문장은 레이블 1, 부정인 문장은 레이블이 0"
   ]
  },
  {
   "cell_type": "code",
   "execution_count": 1,
   "id": "d5424d7f",
   "metadata": {},
   "outputs": [],
   "source": [
    "from tensorflow.keras.preprocessing.text import Tokenizer\n",
    "from tensorflow.keras.preprocessing.sequence import pad_sequences"
   ]
  },
  {
   "cell_type": "code",
   "execution_count": 2,
   "id": "a52aaf7e",
   "metadata": {},
   "outputs": [],
   "source": [
    "sentences = ['nice great best amazing', 'stop lies', 'pitiful nerd', 'excellent work', 'supreme quality', 'bad', 'highly respectable']"
   ]
  },
  {
   "cell_type": "code",
   "execution_count": 3,
   "id": "0fbc3fd4",
   "metadata": {},
   "outputs": [],
   "source": [
    "y_train = [1, 0, 0, 1, 1, 0, 1]"
   ]
  },
  {
   "cell_type": "code",
   "execution_count": 4,
   "id": "c9ca044a",
   "metadata": {},
   "outputs": [
    {
     "name": "stdout",
     "output_type": "stream",
     "text": [
      "단어 집합: 16\n"
     ]
    }
   ],
   "source": [
    "# 1. 코퍼스 만들기\n",
    "tokenizer = Tokenizer()\n",
    "tokenizer.fit_on_texts(sentences)\n",
    "vocab_size = len(tokenizer.word_index) + 1  # 패딩을 고려하여 +1 추가\n",
    "print(\"단어 집합:\", vocab_size)"
   ]
  },
  {
   "cell_type": "code",
   "execution_count": 5,
   "id": "13334042",
   "metadata": {},
   "outputs": [
    {
     "data": {
      "text/plain": [
       "{'nice': 1,\n",
       " 'great': 2,\n",
       " 'best': 3,\n",
       " 'amazing': 4,\n",
       " 'stop': 5,\n",
       " 'lies': 6,\n",
       " 'pitiful': 7,\n",
       " 'nerd': 8,\n",
       " 'excellent': 9,\n",
       " 'work': 10,\n",
       " 'supreme': 11,\n",
       " 'quality': 12,\n",
       " 'bad': 13,\n",
       " 'highly': 14,\n",
       " 'respectable': 15}"
      ]
     },
     "execution_count": 5,
     "metadata": {},
     "output_type": "execute_result"
    }
   ],
   "source": [
    "tokenizer.word_index"
   ]
  },
  {
   "cell_type": "code",
   "execution_count": 6,
   "id": "33d14ffc",
   "metadata": {},
   "outputs": [
    {
     "name": "stdout",
     "output_type": "stream",
     "text": [
      "정수 인코딩한 결과:\n",
      " [[1, 2, 3, 4], [5, 6], [7, 8], [9, 10], [11, 12], [13], [14, 15]]\n"
     ]
    }
   ],
   "source": [
    "# 2. 각 문장에 대해 정수인코딩 수행\n",
    "X_encoded = tokenizer.texts_to_sequences(sentences)\n",
    "print('정수 인코딩한 결과:\\n', X_encoded)"
   ]
  },
  {
   "cell_type": "code",
   "execution_count": 8,
   "id": "faea3d27",
   "metadata": {},
   "outputs": [
    {
     "data": {
      "text/plain": [
       "array([[ 1,  2,  3,  4],\n",
       "       [ 5,  6,  0,  0],\n",
       "       [ 7,  8,  0,  0],\n",
       "       [ 9, 10,  0,  0],\n",
       "       [11, 12,  0,  0],\n",
       "       [13,  0,  0,  0],\n",
       "       [14, 15,  0,  0]])"
      ]
     },
     "execution_count": 8,
     "metadata": {},
     "output_type": "execute_result"
    }
   ],
   "source": [
    "## 3. 최대 길이로 모든 샘플에 대해 패딩 진행\n",
    "max_len = max(len(encoded) for encoded in X_encoded) #가장 문장길이(sequence length)가 긴 것 구하기\n",
    "X_train = pad_sequences(X_encoded, maxlen=max_len, padding='post')\n",
    "y_train = np.array(y_train)\n",
    "X_train"
   ]
  },
  {
   "cell_type": "code",
   "execution_count": 10,
   "id": "2b8e8b3a",
   "metadata": {},
   "outputs": [],
   "source": [
    "### 4. 모델 설계 : 이진분류 모델. 출력층에 1개의 뉴런을 배치하고 활성화함수는 시그모이드함수. \n",
    "## 손실함수는 binary_crossentropy, epoch = 100\n",
    "from tensorflow.keras.models import Sequential\n",
    "from tensorflow.keras.layers import Dense, Embedding, Flatten"
   ]
  },
  {
   "cell_type": "code",
   "execution_count": 12,
   "id": "36b16655",
   "metadata": {},
   "outputs": [
    {
     "name": "stdout",
     "output_type": "stream",
     "text": [
      "Epoch 1/100\n",
      "1/1 - 1s - loss: 0.6935 - accuracy: 0.4286 - 561ms/epoch - 561ms/step\n",
      "Epoch 2/100\n",
      "1/1 - 0s - loss: 0.6925 - accuracy: 0.4286 - 3ms/epoch - 3ms/step\n",
      "Epoch 3/100\n",
      "1/1 - 0s - loss: 0.6914 - accuracy: 0.4286 - 3ms/epoch - 3ms/step\n",
      "Epoch 4/100\n",
      "1/1 - 0s - loss: 0.6903 - accuracy: 0.4286 - 5ms/epoch - 5ms/step\n",
      "Epoch 5/100\n",
      "1/1 - 0s - loss: 0.6893 - accuracy: 0.4286 - 4ms/epoch - 4ms/step\n",
      "Epoch 6/100\n",
      "1/1 - 0s - loss: 0.6882 - accuracy: 0.4286 - 3ms/epoch - 3ms/step\n",
      "Epoch 7/100\n",
      "1/1 - 0s - loss: 0.6871 - accuracy: 0.4286 - 2ms/epoch - 2ms/step\n",
      "Epoch 8/100\n",
      "1/1 - 0s - loss: 0.6861 - accuracy: 0.5714 - 5ms/epoch - 5ms/step\n",
      "Epoch 9/100\n",
      "1/1 - 0s - loss: 0.6850 - accuracy: 0.5714 - 3ms/epoch - 3ms/step\n",
      "Epoch 10/100\n",
      "1/1 - 0s - loss: 0.6839 - accuracy: 0.7143 - 2ms/epoch - 2ms/step\n",
      "Epoch 11/100\n",
      "1/1 - 0s - loss: 0.6829 - accuracy: 0.7143 - 4ms/epoch - 4ms/step\n",
      "Epoch 12/100\n",
      "1/1 - 0s - loss: 0.6818 - accuracy: 0.7143 - 2ms/epoch - 2ms/step\n",
      "Epoch 13/100\n",
      "1/1 - 0s - loss: 0.6807 - accuracy: 1.0000 - 2ms/epoch - 2ms/step\n",
      "Epoch 14/100\n",
      "1/1 - 0s - loss: 0.6796 - accuracy: 1.0000 - 4ms/epoch - 4ms/step\n",
      "Epoch 15/100\n",
      "1/1 - 0s - loss: 0.6785 - accuracy: 1.0000 - 3ms/epoch - 3ms/step\n",
      "Epoch 16/100\n",
      "1/1 - 0s - loss: 0.6775 - accuracy: 1.0000 - 3ms/epoch - 3ms/step\n",
      "Epoch 17/100\n",
      "1/1 - 0s - loss: 0.6764 - accuracy: 1.0000 - 3ms/epoch - 3ms/step\n",
      "Epoch 18/100\n",
      "1/1 - 0s - loss: 0.6752 - accuracy: 1.0000 - 3ms/epoch - 3ms/step\n",
      "Epoch 19/100\n",
      "1/1 - 0s - loss: 0.6741 - accuracy: 1.0000 - 5ms/epoch - 5ms/step\n",
      "Epoch 20/100\n",
      "1/1 - 0s - loss: 0.6730 - accuracy: 1.0000 - 4ms/epoch - 4ms/step\n",
      "Epoch 21/100\n",
      "1/1 - 0s - loss: 0.6719 - accuracy: 1.0000 - 4ms/epoch - 4ms/step\n",
      "Epoch 22/100\n",
      "1/1 - 0s - loss: 0.6707 - accuracy: 1.0000 - 4ms/epoch - 4ms/step\n",
      "Epoch 23/100\n",
      "1/1 - 0s - loss: 0.6696 - accuracy: 1.0000 - 2ms/epoch - 2ms/step\n",
      "Epoch 24/100\n",
      "1/1 - 0s - loss: 0.6684 - accuracy: 1.0000 - 4ms/epoch - 4ms/step\n",
      "Epoch 25/100\n",
      "1/1 - 0s - loss: 0.6673 - accuracy: 1.0000 - 2ms/epoch - 2ms/step\n",
      "Epoch 26/100\n",
      "1/1 - 0s - loss: 0.6661 - accuracy: 1.0000 - 4ms/epoch - 4ms/step\n",
      "Epoch 27/100\n",
      "1/1 - 0s - loss: 0.6649 - accuracy: 1.0000 - 4ms/epoch - 4ms/step\n",
      "Epoch 28/100\n",
      "1/1 - 0s - loss: 0.6637 - accuracy: 1.0000 - 4ms/epoch - 4ms/step\n",
      "Epoch 29/100\n",
      "1/1 - 0s - loss: 0.6625 - accuracy: 1.0000 - 2ms/epoch - 2ms/step\n",
      "Epoch 30/100\n",
      "1/1 - 0s - loss: 0.6613 - accuracy: 1.0000 - 4ms/epoch - 4ms/step\n",
      "Epoch 31/100\n",
      "1/1 - 0s - loss: 0.6601 - accuracy: 1.0000 - 4ms/epoch - 4ms/step\n",
      "Epoch 32/100\n",
      "1/1 - 0s - loss: 0.6589 - accuracy: 1.0000 - 3ms/epoch - 3ms/step\n",
      "Epoch 33/100\n",
      "1/1 - 0s - loss: 0.6576 - accuracy: 1.0000 - 3ms/epoch - 3ms/step\n",
      "Epoch 34/100\n",
      "1/1 - 0s - loss: 0.6564 - accuracy: 1.0000 - 3ms/epoch - 3ms/step\n",
      "Epoch 35/100\n",
      "1/1 - 0s - loss: 0.6551 - accuracy: 1.0000 - 3ms/epoch - 3ms/step\n",
      "Epoch 36/100\n",
      "1/1 - 0s - loss: 0.6538 - accuracy: 1.0000 - 4ms/epoch - 4ms/step\n",
      "Epoch 37/100\n",
      "1/1 - 0s - loss: 0.6525 - accuracy: 1.0000 - 3ms/epoch - 3ms/step\n",
      "Epoch 38/100\n",
      "1/1 - 0s - loss: 0.6512 - accuracy: 1.0000 - 3ms/epoch - 3ms/step\n",
      "Epoch 39/100\n",
      "1/1 - 0s - loss: 0.6499 - accuracy: 1.0000 - 4ms/epoch - 4ms/step\n",
      "Epoch 40/100\n",
      "1/1 - 0s - loss: 0.6486 - accuracy: 1.0000 - 3ms/epoch - 3ms/step\n",
      "Epoch 41/100\n",
      "1/1 - 0s - loss: 0.6472 - accuracy: 1.0000 - 3ms/epoch - 3ms/step\n",
      "Epoch 42/100\n",
      "1/1 - 0s - loss: 0.6459 - accuracy: 1.0000 - 3ms/epoch - 3ms/step\n",
      "Epoch 43/100\n",
      "1/1 - 0s - loss: 0.6445 - accuracy: 1.0000 - 4ms/epoch - 4ms/step\n",
      "Epoch 44/100\n",
      "1/1 - 0s - loss: 0.6432 - accuracy: 1.0000 - 4ms/epoch - 4ms/step\n",
      "Epoch 45/100\n",
      "1/1 - 0s - loss: 0.6418 - accuracy: 1.0000 - 3ms/epoch - 3ms/step\n",
      "Epoch 46/100\n",
      "1/1 - 0s - loss: 0.6404 - accuracy: 1.0000 - 4ms/epoch - 4ms/step\n",
      "Epoch 47/100\n",
      "1/1 - 0s - loss: 0.6390 - accuracy: 1.0000 - 3ms/epoch - 3ms/step\n",
      "Epoch 48/100\n",
      "1/1 - 0s - loss: 0.6375 - accuracy: 1.0000 - 4ms/epoch - 4ms/step\n",
      "Epoch 49/100\n",
      "1/1 - 0s - loss: 0.6361 - accuracy: 1.0000 - 3ms/epoch - 3ms/step\n",
      "Epoch 50/100\n",
      "1/1 - 0s - loss: 0.6347 - accuracy: 1.0000 - 3ms/epoch - 3ms/step\n",
      "Epoch 51/100\n",
      "1/1 - 0s - loss: 0.6332 - accuracy: 1.0000 - 2ms/epoch - 2ms/step\n",
      "Epoch 52/100\n",
      "1/1 - 0s - loss: 0.6317 - accuracy: 1.0000 - 4ms/epoch - 4ms/step\n",
      "Epoch 53/100\n",
      "1/1 - 0s - loss: 0.6302 - accuracy: 1.0000 - 4ms/epoch - 4ms/step\n",
      "Epoch 54/100\n",
      "1/1 - 0s - loss: 0.6287 - accuracy: 1.0000 - 3ms/epoch - 3ms/step\n",
      "Epoch 55/100\n",
      "1/1 - 0s - loss: 0.6272 - accuracy: 1.0000 - 3ms/epoch - 3ms/step\n",
      "Epoch 56/100\n",
      "1/1 - 0s - loss: 0.6257 - accuracy: 1.0000 - 3ms/epoch - 3ms/step\n",
      "Epoch 57/100\n",
      "1/1 - 0s - loss: 0.6242 - accuracy: 1.0000 - 2ms/epoch - 2ms/step\n",
      "Epoch 58/100\n",
      "1/1 - 0s - loss: 0.6226 - accuracy: 1.0000 - 3ms/epoch - 3ms/step\n",
      "Epoch 59/100\n",
      "1/1 - 0s - loss: 0.6211 - accuracy: 1.0000 - 3ms/epoch - 3ms/step\n",
      "Epoch 60/100\n",
      "1/1 - 0s - loss: 0.6195 - accuracy: 1.0000 - 2ms/epoch - 2ms/step\n",
      "Epoch 61/100\n",
      "1/1 - 0s - loss: 0.6179 - accuracy: 1.0000 - 4ms/epoch - 4ms/step\n",
      "Epoch 62/100\n",
      "1/1 - 0s - loss: 0.6163 - accuracy: 1.0000 - 3ms/epoch - 3ms/step\n",
      "Epoch 63/100\n",
      "1/1 - 0s - loss: 0.6147 - accuracy: 1.0000 - 2ms/epoch - 2ms/step\n",
      "Epoch 64/100\n",
      "1/1 - 0s - loss: 0.6131 - accuracy: 1.0000 - 5ms/epoch - 5ms/step\n",
      "Epoch 65/100\n",
      "1/1 - 0s - loss: 0.6115 - accuracy: 1.0000 - 3ms/epoch - 3ms/step\n",
      "Epoch 66/100\n",
      "1/1 - 0s - loss: 0.6098 - accuracy: 1.0000 - 3ms/epoch - 3ms/step\n",
      "Epoch 67/100\n",
      "1/1 - 0s - loss: 0.6082 - accuracy: 1.0000 - 4ms/epoch - 4ms/step\n",
      "Epoch 68/100\n",
      "1/1 - 0s - loss: 0.6065 - accuracy: 1.0000 - 3ms/epoch - 3ms/step\n",
      "Epoch 69/100\n",
      "1/1 - 0s - loss: 0.6048 - accuracy: 1.0000 - 2ms/epoch - 2ms/step\n",
      "Epoch 70/100\n",
      "1/1 - 0s - loss: 0.6031 - accuracy: 1.0000 - 2ms/epoch - 2ms/step\n",
      "Epoch 71/100\n",
      "1/1 - 0s - loss: 0.6014 - accuracy: 1.0000 - 3ms/epoch - 3ms/step\n",
      "Epoch 72/100\n",
      "1/1 - 0s - loss: 0.5997 - accuracy: 1.0000 - 2ms/epoch - 2ms/step\n",
      "Epoch 73/100\n",
      "1/1 - 0s - loss: 0.5980 - accuracy: 1.0000 - 2ms/epoch - 2ms/step\n",
      "Epoch 74/100\n",
      "1/1 - 0s - loss: 0.5962 - accuracy: 1.0000 - 5ms/epoch - 5ms/step\n",
      "Epoch 75/100\n",
      "1/1 - 0s - loss: 0.5945 - accuracy: 1.0000 - 3ms/epoch - 3ms/step\n",
      "Epoch 76/100\n",
      "1/1 - 0s - loss: 0.5927 - accuracy: 1.0000 - 2ms/epoch - 2ms/step\n",
      "Epoch 77/100\n",
      "1/1 - 0s - loss: 0.5909 - accuracy: 1.0000 - 4ms/epoch - 4ms/step\n",
      "Epoch 78/100\n",
      "1/1 - 0s - loss: 0.5892 - accuracy: 1.0000 - 4ms/epoch - 4ms/step\n",
      "Epoch 79/100\n",
      "1/1 - 0s - loss: 0.5874 - accuracy: 1.0000 - 2ms/epoch - 2ms/step\n",
      "Epoch 80/100\n",
      "1/1 - 0s - loss: 0.5856 - accuracy: 1.0000 - 3ms/epoch - 3ms/step\n",
      "Epoch 81/100\n",
      "1/1 - 0s - loss: 0.5837 - accuracy: 1.0000 - 3ms/epoch - 3ms/step\n",
      "Epoch 82/100\n",
      "1/1 - 0s - loss: 0.5819 - accuracy: 1.0000 - 3ms/epoch - 3ms/step\n",
      "Epoch 83/100\n",
      "1/1 - 0s - loss: 0.5801 - accuracy: 1.0000 - 2ms/epoch - 2ms/step\n",
      "Epoch 84/100\n",
      "1/1 - 0s - loss: 0.5782 - accuracy: 1.0000 - 3ms/epoch - 3ms/step\n",
      "Epoch 85/100\n",
      "1/1 - 0s - loss: 0.5764 - accuracy: 1.0000 - 3ms/epoch - 3ms/step\n",
      "Epoch 86/100\n",
      "1/1 - 0s - loss: 0.5745 - accuracy: 1.0000 - 3ms/epoch - 3ms/step\n",
      "Epoch 87/100\n",
      "1/1 - 0s - loss: 0.5726 - accuracy: 1.0000 - 3ms/epoch - 3ms/step\n",
      "Epoch 88/100\n",
      "1/1 - 0s - loss: 0.5708 - accuracy: 1.0000 - 3ms/epoch - 3ms/step\n",
      "Epoch 89/100\n",
      "1/1 - 0s - loss: 0.5689 - accuracy: 1.0000 - 2ms/epoch - 2ms/step\n",
      "Epoch 90/100\n",
      "1/1 - 0s - loss: 0.5669 - accuracy: 1.0000 - 2ms/epoch - 2ms/step\n",
      "Epoch 91/100\n",
      "1/1 - 0s - loss: 0.5650 - accuracy: 1.0000 - 4ms/epoch - 4ms/step\n",
      "Epoch 92/100\n",
      "1/1 - 0s - loss: 0.5631 - accuracy: 1.0000 - 3ms/epoch - 3ms/step\n",
      "Epoch 93/100\n",
      "1/1 - 0s - loss: 0.5612 - accuracy: 1.0000 - 3ms/epoch - 3ms/step\n",
      "Epoch 94/100\n",
      "1/1 - 0s - loss: 0.5592 - accuracy: 1.0000 - 3ms/epoch - 3ms/step\n",
      "Epoch 95/100\n",
      "1/1 - 0s - loss: 0.5573 - accuracy: 1.0000 - 2ms/epoch - 2ms/step\n",
      "Epoch 96/100\n",
      "1/1 - 0s - loss: 0.5553 - accuracy: 1.0000 - 5ms/epoch - 5ms/step\n",
      "Epoch 97/100\n",
      "1/1 - 0s - loss: 0.5534 - accuracy: 1.0000 - 4ms/epoch - 4ms/step\n",
      "Epoch 98/100\n",
      "1/1 - 0s - loss: 0.5514 - accuracy: 1.0000 - 3ms/epoch - 3ms/step\n",
      "Epoch 99/100\n",
      "1/1 - 0s - loss: 0.5494 - accuracy: 1.0000 - 4ms/epoch - 4ms/step\n",
      "Epoch 100/100\n",
      "1/1 - 0s - loss: 0.5474 - accuracy: 1.0000 - 3ms/epoch - 3ms/step\n"
     ]
    },
    {
     "data": {
      "text/plain": [
       "<keras.callbacks.History at 0x19f803060a0>"
      ]
     },
     "execution_count": 12,
     "metadata": {},
     "output_type": "execute_result"
    }
   ],
   "source": [
    "embedding_dim = 4  # 하이퍼모수 행렬의 column 결정\n",
    "\n",
    "model = Sequential()\n",
    "model.add(Embedding(vocab_size, embedding_dim, input_length = max_len))\n",
    "model.add(Flatten())\n",
    "model.add(Dense(1, activation='sigmoid'))\n",
    "\n",
    "model.compile(optimizer='adam', loss='binary_crossentropy', metrics=['accuracy'])\n",
    "model.fit(X_train, y_train, epochs=100, verbose=2)"
   ]
  },
  {
   "cell_type": "markdown",
   "id": "8fa0f370",
   "metadata": {},
   "source": [
    "* 학습과정에서 현재 단어들의 임베딩 값은 출력층의 가중치와 함께 학습됨\n",
    "\n",
    "\n",
    "### 2. 사전 훈련된 워드 임베딩(Pre-trained Word Embedding) 사용하기\n",
    "\n",
    "* 사전 훈련된 GloVe와 Word2Vec 임베딩을 사용해서 모델을 훈련시키는 실습을 진행\n",
    "    * GloVe 다운로드 링크 : http://nlp.stanford.edu/data/glove.6B.zip\n",
    "    * Word2Vec 다운로드 링크 : https://drive.google.com/file/d/0B7XkCwpI5KDYNlNUTTlSS21pQmM"
   ]
  },
  {
   "cell_type": "code",
   "execution_count": 13,
   "id": "a7682231",
   "metadata": {},
   "outputs": [
    {
     "data": {
      "text/plain": [
       "array([[ 1,  2,  3,  4],\n",
       "       [ 5,  6,  0,  0],\n",
       "       [ 7,  8,  0,  0],\n",
       "       [ 9, 10,  0,  0],\n",
       "       [11, 12,  0,  0],\n",
       "       [13,  0,  0,  0],\n",
       "       [14, 15,  0,  0]])"
      ]
     },
     "execution_count": 13,
     "metadata": {},
     "output_type": "execute_result"
    }
   ],
   "source": [
    "X_train"
   ]
  },
  {
   "cell_type": "code",
   "execution_count": 14,
   "id": "69140ad1",
   "metadata": {},
   "outputs": [
    {
     "data": {
      "text/plain": [
       "array([1, 0, 0, 1, 1, 0, 1])"
      ]
     },
     "execution_count": 14,
     "metadata": {},
     "output_type": "execute_result"
    }
   ],
   "source": [
    "y_train"
   ]
  },
  {
   "cell_type": "code",
   "execution_count": 15,
   "id": "7818b7ac",
   "metadata": {},
   "outputs": [],
   "source": [
    "##### 1) 사전 훈련된 GloVe 사용하기\n",
    "from urllib.request import urlretrieve, urlopen\n",
    "import gzip\n",
    "import zipfile"
   ]
  },
  {
   "cell_type": "code",
   "execution_count": 16,
   "id": "ef445a4c",
   "metadata": {},
   "outputs": [
    {
     "data": {
      "text/plain": [
       "('glove.6B.zip', <http.client.HTTPMessage at 0x19f8072c070>)"
      ]
     },
     "execution_count": 16,
     "metadata": {},
     "output_type": "execute_result"
    }
   ],
   "source": [
    "urlretrieve(\"http://nlp.stanford.edu/data/glove.6B.zip\", filename=\"glove.6B.zip\")"
   ]
  },
  {
   "cell_type": "code",
   "execution_count": 18,
   "id": "95eff804",
   "metadata": {},
   "outputs": [],
   "source": [
    "zf = zipfile.ZipFile('glove.6B.zip')\n",
    "zf.extractall()\n",
    "zf.close()"
   ]
  },
  {
   "cell_type": "markdown",
   "id": "df776489",
   "metadata": {},
   "source": [
    "* glove.6B.100d.txt에 있는 모든 임베딩 벡터들을 불러오기. 파이썬의 자료구조 딕셔너리(dictionary)를 사용하며, 로드한 임베딩 벡터의 개수를 확인"
   ]
  },
  {
   "cell_type": "code",
   "execution_count": 26,
   "id": "f36dff14",
   "metadata": {},
   "outputs": [],
   "source": [
    "embedding_dict = dict()\n",
    "\n",
    "f = open('glove.6B.100d.txt', encoding='utf8')\n",
    "\n",
    "i = 0\n",
    "for line in f:\n",
    "    word_vector = line.split()\n",
    "    word = word_vector[0]\n",
    "    \n",
    "    # 100개 값을 가지는 array로 변환\n",
    "    word_vector_arr = np.asarray(word_vector[1:], dtype='float32')\n",
    "    embedding_dict[word] = word_vector_arr\n",
    "    \n",
    "f.close()"
   ]
  },
  {
   "cell_type": "code",
   "execution_count": 27,
   "id": "5ed18349",
   "metadata": {},
   "outputs": [
    {
     "name": "stdout",
     "output_type": "stream",
     "text": [
      "400000 개의 Embedding vector가 있음\n"
     ]
    }
   ],
   "source": [
    "print(\"%s 개의 Embedding vector가 있음\" % len(embedding_dict))"
   ]
  },
  {
   "cell_type": "code",
   "execution_count": 28,
   "id": "6ebc2837",
   "metadata": {},
   "outputs": [
    {
     "name": "stdout",
     "output_type": "stream",
     "text": [
      "[-0.049773   0.19903    0.10585    0.1391    -0.32395    0.44053\n",
      "  0.3947    -0.22805   -0.25793    0.49768    0.15384   -0.08831\n",
      "  0.0782    -0.8299    -0.037788   0.16772   -0.45197   -0.17085\n",
      "  0.74756    0.98256    0.81872    0.28507    0.16178   -0.48626\n",
      " -0.006265  -0.92469   -0.30625   -0.067318  -0.046762  -0.76291\n",
      " -0.0025264 -0.018795   0.12882   -0.52457    0.3586     0.43119\n",
      " -0.89477   -0.057421  -0.53724    0.25587    0.55195    0.44698\n",
      " -0.24252    0.29946    0.25776   -0.8717     0.68426   -0.05688\n",
      " -0.1848    -0.59352   -0.11227   -0.57692   -0.013593   0.18488\n",
      " -0.32507   -0.90171    0.17672    0.075601   0.54896   -0.21488\n",
      " -0.54018   -0.45882   -0.79536    0.26331    0.18879   -0.16363\n",
      "  0.3975     0.1099     0.1164    -0.083499   0.50159    0.35802\n",
      "  0.25677    0.088546   0.42108    0.28674   -0.71285   -0.82915\n",
      "  0.15297   -0.82712    0.022112   1.067     -0.31776    0.1211\n",
      " -0.069755  -0.61327    0.27308   -0.42638   -0.085084  -0.17694\n",
      " -0.0090944  0.1109     0.62543   -0.23682   -0.44928   -0.3667\n",
      " -0.21616   -0.19187   -0.032502   0.38025  ]\n"
     ]
    }
   ],
   "source": [
    "### 임의의 단어 'respectable'의 임베딩 벡터값과 크기를 출력\n",
    "print(embedding_dict['respectable'])"
   ]
  },
  {
   "cell_type": "code",
   "execution_count": 29,
   "id": "37b3275f",
   "metadata": {},
   "outputs": [
    {
     "name": "stdout",
     "output_type": "stream",
     "text": [
      "벡터 차원수 :  100\n"
     ]
    }
   ],
   "source": [
    "print('벡터 차원수 : ', len(embedding_dict['respectable']))"
   ]
  },
  {
   "cell_type": "code",
   "execution_count": 30,
   "id": "33a0089e",
   "metadata": {},
   "outputs": [
    {
     "data": {
      "text/plain": [
       "(16, 100)"
      ]
     },
     "execution_count": 30,
     "metadata": {},
     "output_type": "execute_result"
    }
   ],
   "source": [
    "embedding_matrix = np.zeros((vocab_size, 100))\n",
    "embedding_matrix.shape"
   ]
  },
  {
   "cell_type": "code",
   "execution_count": 31,
   "id": "2a84fed1",
   "metadata": {},
   "outputs": [
    {
     "name": "stdout",
     "output_type": "stream",
     "text": [
      "{'nice': 1, 'great': 2, 'best': 3, 'amazing': 4, 'stop': 5, 'lies': 6, 'pitiful': 7, 'nerd': 8, 'excellent': 9, 'work': 10, 'supreme': 11, 'quality': 12, 'bad': 13, 'highly': 14, 'respectable': 15}\n"
     ]
    }
   ],
   "source": [
    "## 기존 데이터의 각 단어와 맵핑된 정수값 확인\n",
    "print(tokenizer.word_index)"
   ]
  },
  {
   "cell_type": "markdown",
   "id": "95015f44",
   "metadata": {},
   "source": [
    "* 단어 'great'는 2인데, 사전 훈련된 GloVe에서는..."
   ]
  },
  {
   "cell_type": "code",
   "execution_count": 32,
   "id": "065de703",
   "metadata": {},
   "outputs": [
    {
     "name": "stdout",
     "output_type": "stream",
     "text": [
      "[-0.013786   0.38216    0.53236    0.15261   -0.29694   -0.20558\n",
      " -0.41846   -0.58437   -0.77355   -0.87866   -0.37858   -0.18516\n",
      " -0.128     -0.20584   -0.22925   -0.42599    0.3725     0.26077\n",
      " -1.0702     0.62916   -0.091469   0.70348   -0.4973    -0.77691\n",
      "  0.66045    0.09465   -0.44893    0.018917   0.33146   -0.35022\n",
      " -0.35789    0.030313   0.22253   -0.23236   -0.19719   -0.0053125\n",
      " -0.25848    0.58081   -0.10705   -0.17845   -0.16206    0.087086\n",
      "  0.63029   -0.76649    0.51619    0.14073    1.019     -0.43136\n",
      "  0.46138   -0.43585   -0.47568    0.19226    0.36065    0.78987\n",
      "  0.088945  -2.7814    -0.15366    0.01015    1.1798     0.15168\n",
      " -0.050112   1.2626    -0.77527    0.36031    0.95761   -0.11385\n",
      "  0.28035   -0.02591    0.31246   -0.15424    0.3778    -0.13599\n",
      "  0.2946    -0.31579    0.42943    0.086969   0.019169  -0.27242\n",
      " -0.31696    0.37327    0.61997    0.13889    0.17188    0.30363\n",
      " -1.2776     0.044423  -0.52736   -0.88536   -0.19428   -0.61947\n",
      " -0.10146   -0.26301   -0.061707   0.36627   -0.95223   -0.39346\n",
      " -0.69183   -1.0426     0.28855    0.63056  ]\n"
     ]
    }
   ],
   "source": [
    "print(embedding_dict['great'])"
   ]
  },
  {
   "cell_type": "markdown",
   "id": "798e237c",
   "metadata": {},
   "source": [
    "* 단어 집합의 모든 단어에 대해서 사전 훈련된 GloVe의 임베딩 벡터들을 맵핑한 후 'great'의 벡터값이 의도한 인덱스의 위치에 삽입되었는지 확인"
   ]
  },
  {
   "cell_type": "code",
   "execution_count": 33,
   "id": "d53999ad",
   "metadata": {},
   "outputs": [],
   "source": [
    "for word, index in tokenizer.word_index.items():\n",
    "    vector_value = embedding_dict.get(word)\n",
    "    if vector_value is not None:\n",
    "        embedding_matrix[index] = vector_value"
   ]
  },
  {
   "cell_type": "code",
   "execution_count": 35,
   "id": "a2272329",
   "metadata": {},
   "outputs": [
    {
     "data": {
      "text/plain": [
       "array([-0.013786  ,  0.38216001,  0.53236002,  0.15261   , -0.29694   ,\n",
       "       -0.20558   , -0.41846001, -0.58437002, -0.77354997, -0.87866002,\n",
       "       -0.37858   , -0.18516   , -0.12800001, -0.20584001, -0.22925   ,\n",
       "       -0.42598999,  0.3725    ,  0.26076999, -1.07019997,  0.62915999,\n",
       "       -0.091469  ,  0.70348001, -0.4973    , -0.77691001,  0.66044998,\n",
       "        0.09465   , -0.44893   ,  0.018917  ,  0.33146   , -0.35021999,\n",
       "       -0.35789001,  0.030313  ,  0.22253001, -0.23236001, -0.19719   ,\n",
       "       -0.0053125 , -0.25848001,  0.58081001, -0.10705   , -0.17845   ,\n",
       "       -0.16205999,  0.087086  ,  0.63028997, -0.76648998,  0.51618999,\n",
       "        0.14072999,  1.01900005, -0.43136001,  0.46138   , -0.43584999,\n",
       "       -0.47567999,  0.19226   ,  0.36065   ,  0.78987002,  0.088945  ,\n",
       "       -2.78139997, -0.15366   ,  0.01015   ,  1.17980003,  0.15167999,\n",
       "       -0.050112  ,  1.26259995, -0.77526999,  0.36030999,  0.95761001,\n",
       "       -0.11385   ,  0.28035   , -0.02591   ,  0.31246001, -0.15424   ,\n",
       "        0.37779999, -0.13598999,  0.29460001, -0.31579   ,  0.42943001,\n",
       "        0.086969  ,  0.019169  , -0.27241999, -0.31696001,  0.37327   ,\n",
       "        0.61997002,  0.13889   ,  0.17188001,  0.30362999, -1.27760005,\n",
       "        0.044423  , -0.52736002, -0.88536   , -0.19428   , -0.61947   ,\n",
       "       -0.10146   , -0.26301   , -0.061707  ,  0.36627001, -0.95222998,\n",
       "       -0.39346001, -0.69182998, -1.04260004,  0.28854999,  0.63055998])"
      ]
     },
     "execution_count": 35,
     "metadata": {},
     "output_type": "execute_result"
    }
   ],
   "source": [
    "embedding_matrix[2]  # great"
   ]
  },
  {
   "cell_type": "markdown",
   "id": "86db522e",
   "metadata": {},
   "source": [
    "* 이제 Embedding layer에 embedding matrix 초기값 설정\n",
    "* 사전 훈련된 워드 임베딩에서 100차원 값을 사용하고 있으므로 embedding layer의 output_dim의 인자값으로 100을 주어야 함\n",
    "* 그리고 사전 훈련된 워드임베딩을 그대로 사용할 경우, 추가 훈련하지 않는다는 의미에서 trainable의 인자값을 False 선택"
   ]
  },
  {
   "cell_type": "code",
   "execution_count": 36,
   "id": "a6bb5fa5",
   "metadata": {},
   "outputs": [],
   "source": [
    "from tensorflow.keras.models import Sequential\n",
    "from tensorflow.keras.layers import Dense, Embedding, Flatten"
   ]
  },
  {
   "cell_type": "code",
   "execution_count": 37,
   "id": "8dc42477",
   "metadata": {},
   "outputs": [
    {
     "name": "stdout",
     "output_type": "stream",
     "text": [
      "Epoch 1/100\n",
      "1/1 - 0s - loss: 0.7469 - acc: 0.4286 - 349ms/epoch - 349ms/step\n",
      "Epoch 2/100\n",
      "1/1 - 0s - loss: 0.7274 - acc: 0.4286 - 3ms/epoch - 3ms/step\n",
      "Epoch 3/100\n",
      "1/1 - 0s - loss: 0.7085 - acc: 0.4286 - 3ms/epoch - 3ms/step\n",
      "Epoch 4/100\n",
      "1/1 - 0s - loss: 0.6903 - acc: 0.4286 - 3ms/epoch - 3ms/step\n",
      "Epoch 5/100\n",
      "1/1 - 0s - loss: 0.6727 - acc: 0.4286 - 2ms/epoch - 2ms/step\n",
      "Epoch 6/100\n",
      "1/1 - 0s - loss: 0.6557 - acc: 0.4286 - 4ms/epoch - 4ms/step\n",
      "Epoch 7/100\n",
      "1/1 - 0s - loss: 0.6394 - acc: 0.5714 - 3ms/epoch - 3ms/step\n",
      "Epoch 8/100\n",
      "1/1 - 0s - loss: 0.6236 - acc: 0.5714 - 5ms/epoch - 5ms/step\n",
      "Epoch 9/100\n",
      "1/1 - 0s - loss: 0.6084 - acc: 0.5714 - 3ms/epoch - 3ms/step\n",
      "Epoch 10/100\n",
      "1/1 - 0s - loss: 0.5938 - acc: 0.5714 - 3ms/epoch - 3ms/step\n",
      "Epoch 11/100\n",
      "1/1 - 0s - loss: 0.5796 - acc: 0.5714 - 3ms/epoch - 3ms/step\n",
      "Epoch 12/100\n",
      "1/1 - 0s - loss: 0.5658 - acc: 0.5714 - 3ms/epoch - 3ms/step\n",
      "Epoch 13/100\n",
      "1/1 - 0s - loss: 0.5525 - acc: 0.5714 - 6ms/epoch - 6ms/step\n",
      "Epoch 14/100\n",
      "1/1 - 0s - loss: 0.5397 - acc: 0.5714 - 3ms/epoch - 3ms/step\n",
      "Epoch 15/100\n",
      "1/1 - 0s - loss: 0.5272 - acc: 0.7143 - 4ms/epoch - 4ms/step\n",
      "Epoch 16/100\n",
      "1/1 - 0s - loss: 0.5150 - acc: 0.7143 - 3ms/epoch - 3ms/step\n",
      "Epoch 17/100\n",
      "1/1 - 0s - loss: 0.5032 - acc: 0.8571 - 3ms/epoch - 3ms/step\n",
      "Epoch 18/100\n",
      "1/1 - 0s - loss: 0.4918 - acc: 0.8571 - 5ms/epoch - 5ms/step\n",
      "Epoch 19/100\n",
      "1/1 - 0s - loss: 0.4806 - acc: 0.8571 - 4ms/epoch - 4ms/step\n",
      "Epoch 20/100\n",
      "1/1 - 0s - loss: 0.4698 - acc: 0.8571 - 6ms/epoch - 6ms/step\n",
      "Epoch 21/100\n",
      "1/1 - 0s - loss: 0.4592 - acc: 0.8571 - 3ms/epoch - 3ms/step\n",
      "Epoch 22/100\n",
      "1/1 - 0s - loss: 0.4490 - acc: 0.8571 - 3ms/epoch - 3ms/step\n",
      "Epoch 23/100\n",
      "1/1 - 0s - loss: 0.4389 - acc: 0.8571 - 4ms/epoch - 4ms/step\n",
      "Epoch 24/100\n",
      "1/1 - 0s - loss: 0.4292 - acc: 1.0000 - 3ms/epoch - 3ms/step\n",
      "Epoch 25/100\n",
      "1/1 - 0s - loss: 0.4197 - acc: 1.0000 - 3ms/epoch - 3ms/step\n",
      "Epoch 26/100\n",
      "1/1 - 0s - loss: 0.4104 - acc: 1.0000 - 3ms/epoch - 3ms/step\n",
      "Epoch 27/100\n",
      "1/1 - 0s - loss: 0.4014 - acc: 1.0000 - 2ms/epoch - 2ms/step\n",
      "Epoch 28/100\n",
      "1/1 - 0s - loss: 0.3926 - acc: 1.0000 - 4ms/epoch - 4ms/step\n",
      "Epoch 29/100\n",
      "1/1 - 0s - loss: 0.3840 - acc: 1.0000 - 2ms/epoch - 2ms/step\n",
      "Epoch 30/100\n",
      "1/1 - 0s - loss: 0.3757 - acc: 1.0000 - 4ms/epoch - 4ms/step\n",
      "Epoch 31/100\n",
      "1/1 - 0s - loss: 0.3675 - acc: 1.0000 - 2ms/epoch - 2ms/step\n",
      "Epoch 32/100\n",
      "1/1 - 0s - loss: 0.3596 - acc: 1.0000 - 3ms/epoch - 3ms/step\n",
      "Epoch 33/100\n",
      "1/1 - 0s - loss: 0.3519 - acc: 1.0000 - 5ms/epoch - 5ms/step\n",
      "Epoch 34/100\n",
      "1/1 - 0s - loss: 0.3444 - acc: 1.0000 - 3ms/epoch - 3ms/step\n",
      "Epoch 35/100\n",
      "1/1 - 0s - loss: 0.3371 - acc: 1.0000 - 2ms/epoch - 2ms/step\n",
      "Epoch 36/100\n",
      "1/1 - 0s - loss: 0.3299 - acc: 1.0000 - 5ms/epoch - 5ms/step\n",
      "Epoch 37/100\n",
      "1/1 - 0s - loss: 0.3230 - acc: 1.0000 - 3ms/epoch - 3ms/step\n",
      "Epoch 38/100\n",
      "1/1 - 0s - loss: 0.3162 - acc: 1.0000 - 3ms/epoch - 3ms/step\n",
      "Epoch 39/100\n",
      "1/1 - 0s - loss: 0.3097 - acc: 1.0000 - 3ms/epoch - 3ms/step\n",
      "Epoch 40/100\n",
      "1/1 - 0s - loss: 0.3033 - acc: 1.0000 - 3ms/epoch - 3ms/step\n",
      "Epoch 41/100\n",
      "1/1 - 0s - loss: 0.2970 - acc: 1.0000 - 2ms/epoch - 2ms/step\n",
      "Epoch 42/100\n",
      "1/1 - 0s - loss: 0.2910 - acc: 1.0000 - 3ms/epoch - 3ms/step\n",
      "Epoch 43/100\n",
      "1/1 - 0s - loss: 0.2851 - acc: 1.0000 - 4ms/epoch - 4ms/step\n",
      "Epoch 44/100\n",
      "1/1 - 0s - loss: 0.2793 - acc: 1.0000 - 3ms/epoch - 3ms/step\n",
      "Epoch 45/100\n",
      "1/1 - 0s - loss: 0.2737 - acc: 1.0000 - 3ms/epoch - 3ms/step\n",
      "Epoch 46/100\n",
      "1/1 - 0s - loss: 0.2683 - acc: 1.0000 - 3ms/epoch - 3ms/step\n",
      "Epoch 47/100\n",
      "1/1 - 0s - loss: 0.2630 - acc: 1.0000 - 3ms/epoch - 3ms/step\n",
      "Epoch 48/100\n",
      "1/1 - 0s - loss: 0.2579 - acc: 1.0000 - 3ms/epoch - 3ms/step\n",
      "Epoch 49/100\n",
      "1/1 - 0s - loss: 0.2529 - acc: 1.0000 - 4ms/epoch - 4ms/step\n",
      "Epoch 50/100\n",
      "1/1 - 0s - loss: 0.2480 - acc: 1.0000 - 3ms/epoch - 3ms/step\n",
      "Epoch 51/100\n",
      "1/1 - 0s - loss: 0.2433 - acc: 1.0000 - 3ms/epoch - 3ms/step\n",
      "Epoch 52/100\n",
      "1/1 - 0s - loss: 0.2386 - acc: 1.0000 - 2ms/epoch - 2ms/step\n",
      "Epoch 53/100\n",
      "1/1 - 0s - loss: 0.2342 - acc: 1.0000 - 3ms/epoch - 3ms/step\n",
      "Epoch 54/100\n",
      "1/1 - 0s - loss: 0.2298 - acc: 1.0000 - 4ms/epoch - 4ms/step\n",
      "Epoch 55/100\n",
      "1/1 - 0s - loss: 0.2255 - acc: 1.0000 - 3ms/epoch - 3ms/step\n",
      "Epoch 56/100\n",
      "1/1 - 0s - loss: 0.2214 - acc: 1.0000 - 3ms/epoch - 3ms/step\n",
      "Epoch 57/100\n",
      "1/1 - 0s - loss: 0.2173 - acc: 1.0000 - 4ms/epoch - 4ms/step\n",
      "Epoch 58/100\n",
      "1/1 - 0s - loss: 0.2134 - acc: 1.0000 - 3ms/epoch - 3ms/step\n",
      "Epoch 59/100\n",
      "1/1 - 0s - loss: 0.2096 - acc: 1.0000 - 2ms/epoch - 2ms/step\n",
      "Epoch 60/100\n",
      "1/1 - 0s - loss: 0.2059 - acc: 1.0000 - 4ms/epoch - 4ms/step\n",
      "Epoch 61/100\n",
      "1/1 - 0s - loss: 0.2022 - acc: 1.0000 - 3ms/epoch - 3ms/step\n",
      "Epoch 62/100\n",
      "1/1 - 0s - loss: 0.1987 - acc: 1.0000 - 2ms/epoch - 2ms/step\n",
      "Epoch 63/100\n",
      "1/1 - 0s - loss: 0.1953 - acc: 1.0000 - 3ms/epoch - 3ms/step\n",
      "Epoch 64/100\n",
      "1/1 - 0s - loss: 0.1919 - acc: 1.0000 - 3ms/epoch - 3ms/step\n",
      "Epoch 65/100\n",
      "1/1 - 0s - loss: 0.1886 - acc: 1.0000 - 3ms/epoch - 3ms/step\n",
      "Epoch 66/100\n",
      "1/1 - 0s - loss: 0.1854 - acc: 1.0000 - 2ms/epoch - 2ms/step\n",
      "Epoch 67/100\n",
      "1/1 - 0s - loss: 0.1823 - acc: 1.0000 - 3ms/epoch - 3ms/step\n",
      "Epoch 68/100\n",
      "1/1 - 0s - loss: 0.1793 - acc: 1.0000 - 3ms/epoch - 3ms/step\n",
      "Epoch 69/100\n",
      "1/1 - 0s - loss: 0.1763 - acc: 1.0000 - 2ms/epoch - 2ms/step\n",
      "Epoch 70/100\n",
      "1/1 - 0s - loss: 0.1735 - acc: 1.0000 - 3ms/epoch - 3ms/step\n",
      "Epoch 71/100\n",
      "1/1 - 0s - loss: 0.1707 - acc: 1.0000 - 2ms/epoch - 2ms/step\n",
      "Epoch 72/100\n",
      "1/1 - 0s - loss: 0.1679 - acc: 1.0000 - 2ms/epoch - 2ms/step\n",
      "Epoch 73/100\n",
      "1/1 - 0s - loss: 0.1652 - acc: 1.0000 - 2ms/epoch - 2ms/step\n",
      "Epoch 74/100\n",
      "1/1 - 0s - loss: 0.1626 - acc: 1.0000 - 2ms/epoch - 2ms/step\n",
      "Epoch 75/100\n",
      "1/1 - 0s - loss: 0.1601 - acc: 1.0000 - 3ms/epoch - 3ms/step\n",
      "Epoch 76/100\n",
      "1/1 - 0s - loss: 0.1576 - acc: 1.0000 - 2ms/epoch - 2ms/step\n",
      "Epoch 77/100\n",
      "1/1 - 0s - loss: 0.1552 - acc: 1.0000 - 3ms/epoch - 3ms/step\n",
      "Epoch 78/100\n",
      "1/1 - 0s - loss: 0.1528 - acc: 1.0000 - 3ms/epoch - 3ms/step\n",
      "Epoch 79/100\n",
      "1/1 - 0s - loss: 0.1505 - acc: 1.0000 - 2ms/epoch - 2ms/step\n",
      "Epoch 80/100\n",
      "1/1 - 0s - loss: 0.1482 - acc: 1.0000 - 2ms/epoch - 2ms/step\n",
      "Epoch 81/100\n",
      "1/1 - 0s - loss: 0.1460 - acc: 1.0000 - 2ms/epoch - 2ms/step\n",
      "Epoch 82/100\n",
      "1/1 - 0s - loss: 0.1439 - acc: 1.0000 - 2ms/epoch - 2ms/step\n",
      "Epoch 83/100\n",
      "1/1 - 0s - loss: 0.1417 - acc: 1.0000 - 2ms/epoch - 2ms/step\n",
      "Epoch 84/100\n",
      "1/1 - 0s - loss: 0.1397 - acc: 1.0000 - 4ms/epoch - 4ms/step\n",
      "Epoch 85/100\n",
      "1/1 - 0s - loss: 0.1377 - acc: 1.0000 - 2ms/epoch - 2ms/step\n",
      "Epoch 86/100\n",
      "1/1 - 0s - loss: 0.1357 - acc: 1.0000 - 997us/epoch - 997us/step\n",
      "Epoch 87/100\n",
      "1/1 - 0s - loss: 0.1338 - acc: 1.0000 - 2ms/epoch - 2ms/step\n",
      "Epoch 88/100\n",
      "1/1 - 0s - loss: 0.1319 - acc: 1.0000 - 4ms/epoch - 4ms/step\n",
      "Epoch 89/100\n",
      "1/1 - 0s - loss: 0.1301 - acc: 1.0000 - 3ms/epoch - 3ms/step\n",
      "Epoch 90/100\n",
      "1/1 - 0s - loss: 0.1283 - acc: 1.0000 - 3ms/epoch - 3ms/step\n",
      "Epoch 91/100\n",
      "1/1 - 0s - loss: 0.1265 - acc: 1.0000 - 3ms/epoch - 3ms/step\n",
      "Epoch 92/100\n",
      "1/1 - 0s - loss: 0.1248 - acc: 1.0000 - 4ms/epoch - 4ms/step\n",
      "Epoch 93/100\n",
      "1/1 - 0s - loss: 0.1231 - acc: 1.0000 - 2ms/epoch - 2ms/step\n",
      "Epoch 94/100\n",
      "1/1 - 0s - loss: 0.1214 - acc: 1.0000 - 3ms/epoch - 3ms/step\n",
      "Epoch 95/100\n",
      "1/1 - 0s - loss: 0.1198 - acc: 1.0000 - 3ms/epoch - 3ms/step\n",
      "Epoch 96/100\n",
      "1/1 - 0s - loss: 0.1182 - acc: 1.0000 - 3ms/epoch - 3ms/step\n",
      "Epoch 97/100\n",
      "1/1 - 0s - loss: 0.1167 - acc: 1.0000 - 3ms/epoch - 3ms/step\n",
      "Epoch 98/100\n",
      "1/1 - 0s - loss: 0.1152 - acc: 1.0000 - 3ms/epoch - 3ms/step\n",
      "Epoch 99/100\n",
      "1/1 - 0s - loss: 0.1137 - acc: 1.0000 - 3ms/epoch - 3ms/step\n",
      "Epoch 100/100\n",
      "1/1 - 0s - loss: 0.1122 - acc: 1.0000 - 4ms/epoch - 4ms/step\n"
     ]
    },
    {
     "data": {
      "text/plain": [
       "<keras.callbacks.History at 0x19ffe630fa0>"
      ]
     },
     "execution_count": 37,
     "metadata": {},
     "output_type": "execute_result"
    }
   ],
   "source": [
    "output_dim = 100\n",
    "\n",
    "model = Sequential()\n",
    "e = Embedding(vocab_size, output_dim, weights=[embedding_matrix], input_length=max_len, trainable=False)\n",
    "model.add(e)\n",
    "model.add(Flatten())\n",
    "model.add(Dense(1, activation='sigmoid'))\n",
    "model.compile(optimizer='adam', loss='binary_crossentropy', metrics=['acc'])\n",
    "\n",
    "model.fit(X_train, y_train, epochs=100, verbose=2)"
   ]
  },
  {
   "cell_type": "markdown",
   "id": "6036488d",
   "metadata": {},
   "source": [
    "* 정확도가 상당히 높아짐\n",
    "\n",
    "\n",
    "#### 2) 사전 훈련된 Word2Vec 사용하기\n",
    "* 구글 사전 훈련된 Word2Vec 모델 로드하여 사용"
   ]
  },
  {
   "cell_type": "code",
   "execution_count": 39,
   "id": "e05af2e6",
   "metadata": {},
   "outputs": [
    {
     "data": {
      "text/plain": [
       "('GoogleNews-vectors-negative300.bin.gz',\n",
       " <http.client.HTTPMessage at 0x19f942d4250>)"
      ]
     },
     "execution_count": 39,
     "metadata": {},
     "output_type": "execute_result"
    }
   ],
   "source": [
    "import gensim\n",
    "\n",
    "urlretrieve(\"https://s3.amazonaws.com/dl4j-distribution/GoogleNews-vectors-negative300.bin.gz\", \\\n",
    "                           filename=\"GoogleNews-vectors-negative300.bin.gz\")"
   ]
  },
  {
   "cell_type": "code",
   "execution_count": 40,
   "id": "90552846",
   "metadata": {},
   "outputs": [],
   "source": [
    "word2Vec_model = gensim.models.KeyedVectors.load_word2vec_format('GoogleNews-vectors-negative300.bin.gz', binary=True)"
   ]
  },
  {
   "cell_type": "code",
   "execution_count": 41,
   "id": "c9b5a9ae",
   "metadata": {},
   "outputs": [
    {
     "name": "stdout",
     "output_type": "stream",
     "text": [
      "모델의 크기: (3000000, 300)\n"
     ]
    }
   ],
   "source": [
    "print('모델의 크기:', word2Vec_model.vectors.shape)"
   ]
  },
  {
   "cell_type": "markdown",
   "id": "1c2d894d",
   "metadata": {},
   "source": [
    "* 300 차원을 가진 벡터가 총 300만개 있음"
   ]
  }
 ],
 "metadata": {
  "kernelspec": {
   "display_name": "Python 3 (ipykernel)",
   "language": "python",
   "name": "python3"
  },
  "language_info": {
   "codemirror_mode": {
    "name": "ipython",
    "version": 3
   },
   "file_extension": ".py",
   "mimetype": "text/x-python",
   "name": "python",
   "nbconvert_exporter": "python",
   "pygments_lexer": "ipython3",
   "version": "3.8.8"
  }
 },
 "nbformat": 4,
 "nbformat_minor": 5
}
