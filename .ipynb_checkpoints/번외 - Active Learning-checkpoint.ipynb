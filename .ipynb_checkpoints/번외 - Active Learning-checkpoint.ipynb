{
 "cells": [
  {
   "cell_type": "code",
   "execution_count": 1,
   "id": "a706b63a",
   "metadata": {},
   "outputs": [],
   "source": [
    "from sklearn.svm import SVC, LinearSVC\n",
    "from sklearn.model_selection import train_test_split\n",
    "import imageio as io\n",
    "import os"
   ]
  },
  {
   "cell_type": "code",
   "execution_count": 3,
   "id": "14cdc0ce",
   "metadata": {},
   "outputs": [],
   "source": [
    "%matplotlib inline"
   ]
  },
  {
   "cell_type": "code",
   "execution_count": 4,
   "id": "fe9c8a4c",
   "metadata": {},
   "outputs": [
    {
     "data": {
      "text/html": [
       "<div>\n",
       "<style scoped>\n",
       "    .dataframe tbody tr th:only-of-type {\n",
       "        vertical-align: middle;\n",
       "    }\n",
       "\n",
       "    .dataframe tbody tr th {\n",
       "        vertical-align: top;\n",
       "    }\n",
       "\n",
       "    .dataframe thead th {\n",
       "        text-align: right;\n",
       "    }\n",
       "</style>\n",
       "<table border=\"1\" class=\"dataframe\">\n",
       "  <thead>\n",
       "    <tr style=\"text-align: right;\">\n",
       "      <th></th>\n",
       "      <th>Id</th>\n",
       "      <th>SepalLengthCm</th>\n",
       "      <th>SepalWidthCm</th>\n",
       "      <th>PetalLengthCm</th>\n",
       "      <th>PetalWidthCm</th>\n",
       "      <th>Species</th>\n",
       "    </tr>\n",
       "  </thead>\n",
       "  <tbody>\n",
       "    <tr>\n",
       "      <th>145</th>\n",
       "      <td>146</td>\n",
       "      <td>6.7</td>\n",
       "      <td>3.0</td>\n",
       "      <td>5.2</td>\n",
       "      <td>2.3</td>\n",
       "      <td>Iris-virginica</td>\n",
       "    </tr>\n",
       "    <tr>\n",
       "      <th>146</th>\n",
       "      <td>147</td>\n",
       "      <td>6.3</td>\n",
       "      <td>2.5</td>\n",
       "      <td>5.0</td>\n",
       "      <td>1.9</td>\n",
       "      <td>Iris-virginica</td>\n",
       "    </tr>\n",
       "    <tr>\n",
       "      <th>147</th>\n",
       "      <td>148</td>\n",
       "      <td>6.5</td>\n",
       "      <td>3.0</td>\n",
       "      <td>5.2</td>\n",
       "      <td>2.0</td>\n",
       "      <td>Iris-virginica</td>\n",
       "    </tr>\n",
       "    <tr>\n",
       "      <th>148</th>\n",
       "      <td>149</td>\n",
       "      <td>6.2</td>\n",
       "      <td>3.4</td>\n",
       "      <td>5.4</td>\n",
       "      <td>2.3</td>\n",
       "      <td>Iris-virginica</td>\n",
       "    </tr>\n",
       "    <tr>\n",
       "      <th>149</th>\n",
       "      <td>150</td>\n",
       "      <td>5.9</td>\n",
       "      <td>3.0</td>\n",
       "      <td>5.1</td>\n",
       "      <td>1.8</td>\n",
       "      <td>Iris-virginica</td>\n",
       "    </tr>\n",
       "  </tbody>\n",
       "</table>\n",
       "</div>"
      ],
      "text/plain": [
       "      Id  SepalLengthCm  SepalWidthCm  PetalLengthCm  PetalWidthCm  \\\n",
       "145  146            6.7           3.0            5.2           2.3   \n",
       "146  147            6.3           2.5            5.0           1.9   \n",
       "147  148            6.5           3.0            5.2           2.0   \n",
       "148  149            6.2           3.4            5.4           2.3   \n",
       "149  150            5.9           3.0            5.1           1.8   \n",
       "\n",
       "            Species  \n",
       "145  Iris-virginica  \n",
       "146  Iris-virginica  \n",
       "147  Iris-virginica  \n",
       "148  Iris-virginica  \n",
       "149  Iris-virginica  "
      ]
     },
     "execution_count": 4,
     "metadata": {},
     "output_type": "execute_result"
    }
   ],
   "source": [
    "## 1. 데이터 불러오기\n",
    "origdata = pd.read_csv('iris.csv')\n",
    "origdata.tail()"
   ]
  },
  {
   "cell_type": "code",
   "execution_count": 5,
   "id": "13085678",
   "metadata": {},
   "outputs": [
    {
     "data": {
      "text/plain": [
       "Iris-versicolor    50\n",
       "Iris-setosa        50\n",
       "Iris-virginica     50\n",
       "Name: Species, dtype: int64"
      ]
     },
     "execution_count": 5,
     "metadata": {},
     "output_type": "execute_result"
    }
   ],
   "source": [
    "origdata.Species.value_counts()"
   ]
  },
  {
   "cell_type": "code",
   "execution_count": 11,
   "id": "b1efa252",
   "metadata": {},
   "outputs": [],
   "source": [
    "### 2. 전처리\n",
    "X = origdata[['PetalLengthCm', 'PetalWidthCm']]\n",
    "y = origdata['Species']\n",
    "\n",
    "y[y=='Iris-setosa'] = 0\n",
    "y[y=='Iris-versicolor'] = 1\n",
    "y[y=='Iris-virginica'] = 2"
   ]
  },
  {
   "cell_type": "code",
   "execution_count": 12,
   "id": "7023f783",
   "metadata": {},
   "outputs": [
    {
     "data": {
      "text/html": [
       "<div>\n",
       "<style scoped>\n",
       "    .dataframe tbody tr th:only-of-type {\n",
       "        vertical-align: middle;\n",
       "    }\n",
       "\n",
       "    .dataframe tbody tr th {\n",
       "        vertical-align: top;\n",
       "    }\n",
       "\n",
       "    .dataframe thead th {\n",
       "        text-align: right;\n",
       "    }\n",
       "</style>\n",
       "<table border=\"1\" class=\"dataframe\">\n",
       "  <thead>\n",
       "    <tr style=\"text-align: right;\">\n",
       "      <th></th>\n",
       "      <th>PetalLengthCm</th>\n",
       "      <th>PetalWidthCm</th>\n",
       "    </tr>\n",
       "  </thead>\n",
       "  <tbody>\n",
       "    <tr>\n",
       "      <th>145</th>\n",
       "      <td>5.2</td>\n",
       "      <td>2.3</td>\n",
       "    </tr>\n",
       "    <tr>\n",
       "      <th>146</th>\n",
       "      <td>5.0</td>\n",
       "      <td>1.9</td>\n",
       "    </tr>\n",
       "    <tr>\n",
       "      <th>147</th>\n",
       "      <td>5.2</td>\n",
       "      <td>2.0</td>\n",
       "    </tr>\n",
       "    <tr>\n",
       "      <th>148</th>\n",
       "      <td>5.4</td>\n",
       "      <td>2.3</td>\n",
       "    </tr>\n",
       "    <tr>\n",
       "      <th>149</th>\n",
       "      <td>5.1</td>\n",
       "      <td>1.8</td>\n",
       "    </tr>\n",
       "  </tbody>\n",
       "</table>\n",
       "</div>"
      ],
      "text/plain": [
       "     PetalLengthCm  PetalWidthCm\n",
       "145            5.2           2.3\n",
       "146            5.0           1.9\n",
       "147            5.2           2.0\n",
       "148            5.4           2.3\n",
       "149            5.1           1.8"
      ]
     },
     "execution_count": 12,
     "metadata": {},
     "output_type": "execute_result"
    }
   ],
   "source": [
    "X.tail()"
   ]
  },
  {
   "cell_type": "code",
   "execution_count": 13,
   "id": "84b96474",
   "metadata": {},
   "outputs": [
    {
     "data": {
      "text/plain": [
       "145    2\n",
       "146    2\n",
       "147    2\n",
       "148    2\n",
       "149    2\n",
       "Name: Species, dtype: object"
      ]
     },
     "execution_count": 13,
     "metadata": {},
     "output_type": "execute_result"
    }
   ],
   "source": [
    "y.tail()"
   ]
  },
  {
   "cell_type": "code",
   "execution_count": 18,
   "id": "6b462637",
   "metadata": {},
   "outputs": [
    {
     "data": {
      "image/png": "[encoded data removed]",
      "text/plain": [
       "<Figure size 432x288 with 1 Axes>"
      ]
     },
     "metadata": {
      "needs_background": "light"
     },
     "output_type": "display_data"
    }
   ],
   "source": [
    "### 3. 데이터 확인 - 시각화\n",
    "plt.figure()\n",
    "setosa = y == 0\n",
    "versicolor = y == 1\n",
    "virginica = y == 2\n",
    "\n",
    "plt.scatter(X.PetalLengthCm[versicolor], X.PetalWidthCm[versicolor], c='r')\n",
    "plt.scatter(X.PetalLengthCm[virginica], X.PetalWidthCm[virginica], c='c')\n",
    "plt.xlabel('PetalLengthCm')\n",
    "plt.ylabel('PetalWidthCm')\n",
    "plt.grid(False)\n",
    "plt.show()"
   ]
  },
  {
   "cell_type": "code",
   "execution_count": 22,
   "id": "af347a10",
   "metadata": {},
   "outputs": [
    {
     "data": {
      "text/html": [
       "<div>\n",
       "<style scoped>\n",
       "    .dataframe tbody tr th:only-of-type {\n",
       "        vertical-align: middle;\n",
       "    }\n",
       "\n",
       "    .dataframe tbody tr th {\n",
       "        vertical-align: top;\n",
       "    }\n",
       "\n",
       "    .dataframe thead th {\n",
       "        text-align: right;\n",
       "    }\n",
       "</style>\n",
       "<table border=\"1\" class=\"dataframe\">\n",
       "  <thead>\n",
       "    <tr style=\"text-align: right;\">\n",
       "      <th></th>\n",
       "      <th>PetalLengthCm</th>\n",
       "      <th>PetalWidthCm</th>\n",
       "    </tr>\n",
       "  </thead>\n",
       "  <tbody>\n",
       "    <tr>\n",
       "      <th>50</th>\n",
       "      <td>4.7</td>\n",
       "      <td>1.4</td>\n",
       "    </tr>\n",
       "    <tr>\n",
       "      <th>51</th>\n",
       "      <td>4.5</td>\n",
       "      <td>1.5</td>\n",
       "    </tr>\n",
       "    <tr>\n",
       "      <th>52</th>\n",
       "      <td>4.9</td>\n",
       "      <td>1.5</td>\n",
       "    </tr>\n",
       "    <tr>\n",
       "      <th>53</th>\n",
       "      <td>4.0</td>\n",
       "      <td>1.3</td>\n",
       "    </tr>\n",
       "    <tr>\n",
       "      <th>54</th>\n",
       "      <td>4.6</td>\n",
       "      <td>1.5</td>\n",
       "    </tr>\n",
       "  </tbody>\n",
       "</table>\n",
       "</div>"
      ],
      "text/plain": [
       "    PetalLengthCm  PetalWidthCm\n",
       "50            4.7           1.4\n",
       "51            4.5           1.5\n",
       "52            4.9           1.5\n",
       "53            4.0           1.3\n",
       "54            4.6           1.5"
      ]
     },
     "execution_count": 22,
     "metadata": {},
     "output_type": "execute_result"
    }
   ],
   "source": [
    "### setosa 데이터 삭제\n",
    "X1 = X[y != 0]\n",
    "y1 = y[y != 0]\n",
    "\n",
    "X1.head()"
   ]
  },
  {
   "cell_type": "code",
   "execution_count": 23,
   "id": "43282e34",
   "metadata": {},
   "outputs": [
    {
     "data": {
      "text/plain": [
       "((100, 2), (100,))"
      ]
     },
     "execution_count": 23,
     "metadata": {},
     "output_type": "execute_result"
    }
   ],
   "source": [
    "X1.shape, y1.shape"
   ]
  },
  {
   "cell_type": "code",
   "execution_count": 24,
   "id": "bf73365e",
   "metadata": {},
   "outputs": [
    {
     "name": "stdout",
     "output_type": "stream",
     "text": [
      "[0 1]\n"
     ]
    },
    {
     "data": {
      "text/html": [
       "<div>\n",
       "<style scoped>\n",
       "    .dataframe tbody tr th:only-of-type {\n",
       "        vertical-align: middle;\n",
       "    }\n",
       "\n",
       "    .dataframe tbody tr th {\n",
       "        vertical-align: top;\n",
       "    }\n",
       "\n",
       "    .dataframe thead th {\n",
       "        text-align: right;\n",
       "    }\n",
       "</style>\n",
       "<table border=\"1\" class=\"dataframe\">\n",
       "  <thead>\n",
       "    <tr style=\"text-align: right;\">\n",
       "      <th></th>\n",
       "      <th>PetalLengthCm</th>\n",
       "      <th>PetalWidthCm</th>\n",
       "    </tr>\n",
       "  </thead>\n",
       "  <tbody>\n",
       "    <tr>\n",
       "      <th>0</th>\n",
       "      <td>4.7</td>\n",
       "      <td>1.4</td>\n",
       "    </tr>\n",
       "    <tr>\n",
       "      <th>1</th>\n",
       "      <td>4.5</td>\n",
       "      <td>1.5</td>\n",
       "    </tr>\n",
       "    <tr>\n",
       "      <th>2</th>\n",
       "      <td>4.9</td>\n",
       "      <td>1.5</td>\n",
       "    </tr>\n",
       "    <tr>\n",
       "      <th>3</th>\n",
       "      <td>4.0</td>\n",
       "      <td>1.3</td>\n",
       "    </tr>\n",
       "    <tr>\n",
       "      <th>4</th>\n",
       "      <td>4.6</td>\n",
       "      <td>1.5</td>\n",
       "    </tr>\n",
       "  </tbody>\n",
       "</table>\n",
       "</div>"
      ],
      "text/plain": [
       "   PetalLengthCm  PetalWidthCm\n",
       "0            4.7           1.4\n",
       "1            4.5           1.5\n",
       "2            4.9           1.5\n",
       "3            4.0           1.3\n",
       "4            4.6           1.5"
      ]
     },
     "execution_count": 24,
     "metadata": {},
     "output_type": "execute_result"
    }
   ],
   "source": [
    "X1 = X1.reset_index(drop=True)\n",
    "y1 = y1.reset_index(drop=True)\n",
    "y1 -= 1  ## 0, 1로 변환\n",
    "print(y1.unique())\n",
    "X1[:5]"
   ]
  },
  {
   "cell_type": "code",
   "execution_count": 32,
   "id": "da0a16b5",
   "metadata": {},
   "outputs": [
    {
     "data": {
      "image/png": "[encoded data removed]",
      "text/plain": [
       "<Figure size 432x288 with 1 Axes>"
      ]
     },
     "metadata": {
      "needs_background": "light"
     },
     "output_type": "display_data"
    }
   ],
   "source": [
    "## 시각화 및 이미지 저장\n",
    "fig = plt.figure()\n",
    "plt.scatter(X1['PetalLengthCm'][y1==0], X1['PetalWidthCm'][y1==0], c='r')\n",
    "plt.scatter(X1['PetalLengthCm'][y1==1], X1['PetalWidthCm'][y1==1], c='c')\n",
    "plt.xlabel('PetalLengthCm')\n",
    "plt.ylabel('PetalWidthCm')\n",
    "plt.grid(False)\n",
    "fig.savefig('main.jpg', dpi=100)\n",
    "plt.show()"
   ]
  },
  {
   "cell_type": "code",
   "execution_count": 30,
   "id": "54dabdb2",
   "metadata": {},
   "outputs": [
    {
     "data": {
      "text/plain": [
       "0     4.7\n",
       "1     4.5\n",
       "2     4.9\n",
       "3     4.0\n",
       "4     4.6\n",
       "     ... \n",
       "95    5.2\n",
       "96    5.0\n",
       "97    5.2\n",
       "98    5.4\n",
       "99    5.1\n",
       "Name: PetalLengthCm, Length: 100, dtype: float64"
      ]
     },
     "execution_count": 30,
     "metadata": {},
     "output_type": "execute_result"
    }
   ],
   "source": [
    "X1['PetalLengthCm']"
   ]
  },
  {
   "cell_type": "code",
   "execution_count": 35,
   "id": "f715490d",
   "metadata": {},
   "outputs": [
    {
     "name": "stdout",
     "output_type": "stream",
     "text": [
      "[[0.2801541  1.70097649]]\n",
      "[-4.17110962]\n"
     ]
    }
   ],
   "source": [
    "## 4. 데이터를 대상으로 Linear SVM 커널로 학습\n",
    "\n",
    "y1 = y1.astype(dtype=np.uint8)\n",
    "clf0 = LinearSVC()\n",
    "clf0.fit(X1, y1)\n",
    "print(clf0.coef_)\n",
    "print(clf0.intercept_)"
   ]
  },
  {
   "cell_type": "code",
   "execution_count": 37,
   "id": "5ebe104b",
   "metadata": {},
   "outputs": [
    {
     "data": {
      "text/plain": [
       "LinearSVC(tol=0.001)"
      ]
     },
     "execution_count": 37,
     "metadata": {},
     "output_type": "execute_result"
    }
   ],
   "source": [
    "LinearSVC(C=1.0, class_weight=None, dual=True, \n",
    "          fit_intercept=True, intercept_scaling=1, loss='squared_hinge', \n",
    "          max_iter=1000, multi_class='ovr', penalty='l2', random_state=None, tol=0.001, verbose=0)"
   ]
  },
  {
   "cell_type": "markdown",
   "id": "b101f341",
   "metadata": {},
   "source": [
    "* decision boundary = 0.28 $x$ + 1.7 $y$ -4.17"
   ]
  },
  {
   "cell_type": "code",
   "execution_count": 38,
   "id": "6edd2917",
   "metadata": {},
   "outputs": [],
   "source": [
    "xmin, xmax = X1.PetalLengthCm.min(), X1.PetalLengthCm.max()\n",
    "ymin, ymax = X1.PetalWidthCm.min(), X1.PetalWidthCm.max()\n",
    "stepx = (xmax - xmin) / 99\n",
    "stepy = (ymax - ymin) / 99"
   ]
  },
  {
   "cell_type": "code",
   "execution_count": 41,
   "id": "eb6c74df",
   "metadata": {},
   "outputs": [],
   "source": [
    "a0, b0, c0 = clf0.coef_[0, 0], clf0.coef_[0, 1], clf0.intercept_"
   ]
  },
  {
   "cell_type": "code",
   "execution_count": 40,
   "id": "e794cc44",
   "metadata": {},
   "outputs": [
    {
     "data": {
      "text/plain": [
       "0.2801541034324406"
      ]
     },
     "execution_count": 40,
     "metadata": {},
     "output_type": "execute_result"
    }
   ],
   "source": [
    "clf0.coef_[0, 0]"
   ]
  },
  {
   "cell_type": "code",
   "execution_count": 42,
   "id": "7410fa05",
   "metadata": {},
   "outputs": [],
   "source": [
    "# Formula for reference\n",
    "# a*x + b*y + c = 0\n",
    "# y = -(a*x + c)/b\n",
    "\n",
    "lx0 = [xmin + stepx * i for i in range(100)]  # 조금씩 더해지는게 함\n",
    "ly0 = [-(a0 * lx0[i] + c0) / b0 for i in range(100)]"
   ]
  },
  {
   "cell_type": "code",
   "execution_count": 44,
   "id": "de5d587e",
   "metadata": {},
   "outputs": [
    {
     "data": {
      "image/png": "[encoded data removed]",
      "text/plain": [
       "<Figure size 432x288 with 1 Axes>"
      ]
     },
     "metadata": {
      "needs_background": "light"
     },
     "output_type": "display_data"
    }
   ],
   "source": [
    "### decision boundary 표시\n",
    "plt.figure()\n",
    "plt.scatter(X1.PetalLengthCm[y1==0], X1.PetalWidthCm[y1==0], c='r')\n",
    "plt.scatter(X1.PetalLengthCm[y1==1], X1.PetalWidthCm[y1==1], c='c')\n",
    "\n",
    "plt.plot(lx0, ly0, c='m')\n",
    "\n",
    "plt.xlabel('PetalLengthCm')\n",
    "plt.ylabel('PetalWidthCm')\n",
    "plt.grid(False)\n",
    "plt.show()"
   ]
  },
  {
   "cell_type": "code",
   "execution_count": 45,
   "id": "b8a1cc00",
   "metadata": {},
   "outputs": [],
   "source": [
    "### 데이터 분리 \n",
    "X_train, X_test, y_train, y_test = train_test_split(X1, y1, test_size=0.2, random_state=1)\n",
    "X_train, X_test, y_train, y_test = X_train.reset_index(drop=True), X_test.reset_index(drop=True), y_train.reset_index(drop=True), y_test.reset_index(drop=True)"
   ]
  },
  {
   "cell_type": "code",
   "execution_count": 48,
   "id": "e7dbcccd",
   "metadata": {},
   "outputs": [
    {
     "data": {
      "text/plain": [
       "array([ 0.12132092, -0.78319295])"
      ]
     },
     "execution_count": 48,
     "metadata": {},
     "output_type": "execute_result"
    }
   ],
   "source": [
    "# linear SVM 모델에서는 일반적으로 decision function의 크기는 각 데이터간 거리와 동일. \n",
    "# 왜냐하면 한 데이터가 decision boundary와 가까이에 있다면 그때 다른 편의 클래스 입장에서는 아웃라이어가 되기 때문\n",
    "\n",
    "clf0.decision_function(X_train.iloc[7:9])"
   ]
  },
  {
   "cell_type": "code",
   "execution_count": 49,
   "id": "2693957f",
   "metadata": {},
   "outputs": [
    {
     "data": {
      "text/html": [
       "<div>\n",
       "<style scoped>\n",
       "    .dataframe tbody tr th:only-of-type {\n",
       "        vertical-align: middle;\n",
       "    }\n",
       "\n",
       "    .dataframe tbody tr th {\n",
       "        vertical-align: top;\n",
       "    }\n",
       "\n",
       "    .dataframe thead th {\n",
       "        text-align: right;\n",
       "    }\n",
       "</style>\n",
       "<table border=\"1\" class=\"dataframe\">\n",
       "  <thead>\n",
       "    <tr style=\"text-align: right;\">\n",
       "      <th></th>\n",
       "      <th>PetalLengthCm</th>\n",
       "      <th>PetalWidthCm</th>\n",
       "    </tr>\n",
       "  </thead>\n",
       "  <tbody>\n",
       "    <tr>\n",
       "      <th>7</th>\n",
       "      <td>5.0</td>\n",
       "      <td>1.7</td>\n",
       "    </tr>\n",
       "    <tr>\n",
       "      <th>8</th>\n",
       "      <td>4.2</td>\n",
       "      <td>1.3</td>\n",
       "    </tr>\n",
       "  </tbody>\n",
       "</table>\n",
       "</div>"
      ],
      "text/plain": [
       "   PetalLengthCm  PetalWidthCm\n",
       "7            5.0           1.7\n",
       "8            4.2           1.3"
      ]
     },
     "execution_count": 49,
     "metadata": {},
     "output_type": "execute_result"
    }
   ],
   "source": [
    "X_train.iloc[7:9]"
   ]
  },
  {
   "cell_type": "code",
   "execution_count": 50,
   "id": "ceb2e61b",
   "metadata": {},
   "outputs": [],
   "source": [
    "## 애매한 데이터를 뽑아주는 함수 만들기 :  boundary에 가까운 데이터 찾기\n",
    "def find_most_ambiguous(clf, unknown_indexes):\n",
    "    ind = np.argmin(np.abs(\n",
    "        list(clf0.decision_function(X_train.iloc[unknown_indexes]))  # 가장 값이 작은 데이터 찾기\n",
    "    ))\n",
    "    return unknown_indexes[ind]"
   ]
  },
  {
   "cell_type": "code",
   "execution_count": 51,
   "id": "1383280b",
   "metadata": {},
   "outputs": [],
   "source": [
    "### 여기서 unknown_indexes는 레이블링이 안된 데이터"
   ]
  },
  {
   "cell_type": "code",
   "execution_count": 54,
   "id": "9c3d6d17",
   "metadata": {},
   "outputs": [],
   "source": [
    "def plot_svm(clf, train_indexes, unknown_indexes, new_index=False, title=False, name=False):\n",
    "    X_train_new = X_train.iloc[train_indexes]\n",
    "    y_train_new = y_train.iloc[train_indexes]\n",
    "    \n",
    "    X_unk = X_train.iloc[unknown_indexes]\n",
    "    \n",
    "    if new_index:\n",
    "        X_new = X_train.iloc[new_index]\n",
    "        \n",
    "    a, b, c = clf.coef_[0, 0], clf.coef_[0, 1], clf.intercept_\n",
    "    \n",
    "    # stringt Line Formula\n",
    "    # a * x + b * y + c = 0\n",
    "    # y = - (a * x + c) / b\n",
    "    \n",
    "    lx = [xmin + stepx * i for i in range(100)]\n",
    "    ly = [-(a * lx[i] + c) / b for i in range(100)]\n",
    "    \n",
    "    fig = plt.figure(figsize=(9, 6))\n",
    "    \n",
    "    plt.scatter(X_unk['PetalLengthCm'], X_unk['PetalWidthCm'], c='r')\n",
    "    plt.scatter(X_train_new['PetalLengthCm'][y_train_new==0], X_train_new['PetalWidthCm'][y_train_new==0], c='k', marker='.')\n",
    "    plt.scatter(X_train_new['PetalLengthCm'][y_train_new==1], X_train_new['PetalWidthCm'][y_train_new==1], c='c', marker='o')\n",
    "    \n",
    "    plt.plot(lx, ly, c='m')\n",
    "    plt.plot(lx0, ly0, '--', c='g')\n",
    "    \n",
    "    if new_index:\n",
    "        plt.scatter(X_new['PetalLengthCm'], X_new['PetalWidthCm'], c='y', marker='*', s=125)\n",
    "        plt.scatter(X_new['PetalLengthCm'], X_new['PetalWidthCm'], c='y', marker='*', s=125)\n",
    "        plt.scatter(X_new['PetalLengthCm'], X_new['PetalWidthCm'], c='y', marker='*', s=125)\n",
    "        plt.scatter(X_new['PetalLengthCm'], X_new['PetalWidthCm'], c='y', marker='*', s=125)\n",
    "        plt.scatter(X_new['PetalLengthCm'], X_new['PetalWidthCm'], c='y', marker='*', s=125)\n",
    "        \n",
    "    if title:\n",
    "        plt.title(title)\n",
    "    plt.xlabel('PetalLengthCm')\n",
    "    plt.ylabel('PetalWidthCm')\n",
    "    \n",
    "    if name:\n",
    "        fig.set_size_inches((9, 6))\n",
    "        plt.savefig(name, dpi=100)\n",
    "        \n",
    "    plt.show()"
   ]
  },
  {
   "cell_type": "code",
   "execution_count": 55,
   "id": "cc843376",
   "metadata": {},
   "outputs": [
    {
     "data": {
      "image/png": "[encoded data removed]",
      "text/plain": [
       "<Figure size 648x432 with 1 Axes>"
      ]
     },
     "metadata": {
      "needs_background": "light"
     },
     "output_type": "display_data"
    }
   ],
   "source": [
    "train_indexes = list(range(10))  # 첫 10개 데이터 훈련\n",
    "unknown_indexes = list(range(10, 80)) # 나머지 70개 레이블링 안된 데이터로 지정\n",
    "X_train_new = X_train.iloc[train_indexes]\n",
    "y_train_new = y_train.iloc[train_indexes]\n",
    "\n",
    "clf = LinearSVC()\n",
    "clf.fit(X_train_new, y_train_new)\n",
    "\n",
    "folder = 'rs2it20/'\n",
    "\n",
    "try:\n",
    "    os.mkdir(folder)\n",
    "except:\n",
    "    pass\n",
    "\n",
    "filenames = ['ActiveLearningTitleSlide2.jpg'] * 2\n",
    "\n",
    "title = \"Beginning\"\n",
    "name = folder + (\"rs2it20_0a.jpg\")\n",
    "plot_svm(clf, train_indexes, unknown_indexes, False, title, name)\n",
    "\n",
    "filenames.append(name)"
   ]
  },
  {
   "cell_type": "code",
   "execution_count": 56,
   "id": "93a59b26",
   "metadata": {},
   "outputs": [
    {
     "data": {
      "image/png": "[encoded data removed]",
      "text/plain": [
       "<Figure size 648x432 with 1 Axes>"
      ]
     },
     "metadata": {
      "needs_background": "light"
     },
     "output_type": "display_data"
    }
   ],
   "source": [
    "n = find_most_ambiguous(clf, unknown_indexes)\n",
    "unknown_indexes.remove(n)\n",
    "\n",
    "title = \"Iteration 0\"\n",
    "name = folder + (\"rs1it5_0b.jpg\")\n",
    "# name = folder + (\"rs2it20_0b.jpg\")\n",
    "filenames.append(name)\n",
    "plot_svm(clf, train_indexes, unknown_indexes, n, title, name)"
   ]
  },
  {
   "cell_type": "markdown",
   "id": "8347ed03",
   "metadata": {},
   "source": [
    "https://towardsdatascience.com/active-learning-5b9d0955292d"
   ]
  },
  {
   "cell_type": "code",
   "execution_count": null,
   "id": "a1318342",
   "metadata": {},
   "outputs": [],
   "source": []
  }
 ],
 "metadata": {
  "kernelspec": {
   "display_name": "Python 3 (ipykernel)",
   "language": "python",
   "name": "python3"
  },
  "language_info": {
   "codemirror_mode": {
    "name": "ipython",
    "version": 3
   },
   "file_extension": ".py",
   "mimetype": "text/x-python",
   "name": "python",
   "nbconvert_exporter": "python",
   "pygments_lexer": "ipython3",
   "version": "3.8.8"
  }
 },
 "nbformat": 4,
 "nbformat_minor": 5
}
