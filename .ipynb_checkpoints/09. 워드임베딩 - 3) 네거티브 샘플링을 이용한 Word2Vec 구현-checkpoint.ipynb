{
 "cells": [
  {
   "cell_type": "markdown",
   "id": "e54c6628",
   "metadata": {},
   "source": [
    "* 네거티브 샘플링(Negative Sampling)을 사용하는 Word2Vec을 직접 Keras를 통해 구현\n",
    "\n",
    "### 1. Negative Sampling\n",
    "* Word2Vec 출력층에는 소프트맥스 함수를 지난 단어 집합 크기의 벡터와 실제값인 원핫 벡터와의 오차를 구하고 이로부터 임베딩 테이블에 있는 모든 단어에 대한 임베딩 벡터값을 업데이트 함\n",
    "* 만약 단어 집합 크기가 수만 이상에 달한다면 엄청 무거워짐\n",
    "\n",
    "---\n",
    "* Word2Vec은 역전파 과정에서 모든 단어의 임베딩 벡터값의 업데이트를 수행하지만, 네거티브 샘플링 방법으로 전체 단어 집합이 아닌 일부 단어 집합에만 집중할 수 있도록 함\n",
    "* 예를 들어, 중심단어와 주변단어가 '강아지'와 '고양이', '귀여운' 과 같은 단어라면, 여기에 '돈가스', '회의실'과 같은 단어 집합에서 무작위로 선택된 주변 단어가 아닌 단어들을 일부 가져옴\n",
    "* 이렇게 **하나의 중심단어에 대해 전체 단어집합보다 훨씬 작은 단어집합을 만들어 놓고** 마지막 단계를 이진분류 문제로 변환\n",
    "* 이때, 주변단어들을 긍정(positive), 랜덤으로 샘플링 된 단어들을 부정(negative)으로 레이블링한다면 이진분류 문제를 위한 데이터셋이 됨\n",
    "* 이는 기존의 단어집합의 크기만큼 선택지를 두고 다중 클래스 분류를 풀었던 기존 Word2vec보다 연산량이 훨씬 줄어듦\n",
    "\n",
    "### 2. 네거티브 샘플링 Skip-Gram(Skip-Gram with Negative Sampling, SGNS)\n",
    "\n",
    "* Skip-gram은 중심단어로부터 주변단어를 예측하는 모델\n",
    "* 중심단어로부터 주변단어를 예측하는 방법임\n",
    "\n",
    "---\n",
    "* 그러나 네거티브 샘플링을 사용하는 Skip-gram(SGNS)는 다른 접근방법 취함\n",
    "* 중심단어와 주변단어가 모두 입력되고, 입력된 두단어가 실제로 윈도우 크기 내에 존재하는 이웃관계인지 확률을 예측함\n",
    "\n",
    "---\n",
    "* 따라서 입력하는 데이터셋 만드는 방법도 달라짐\n",
    "* Skip-gram은 기본적으로 중심단어를 입력, 주변단어를 레이블로 만드는 반면, SGNS에서는 중심단어와 주변단어 모두 입력단어로, 그리고 랜덤으로 상관없는 단어도 주변단어로 만듦\n",
    "* 참고 : https://wikidocs.net/69141\n",
    "---\n",
    "#### 데이터셋이 준비되면 임베딩 데이블 준비\n",
    "* 2개의 임베딩 테이블을 준비해야 하는데, 이중 하나는 입력1에 해당하는 중심단어의 테이블 룩업을 위한 임베딩 테이블\n",
    "* 다른 하나는 주변단어의 테이블룩업을 위한 임베딩 테이블임\n",
    "* 각 단어들은 임베딩 테이블들을 룩업하여 임베딩 벡터로 변환함. 즉개의 룩업 테이블을 거쳐 임베딩 벡터로 변환함\n",
    "\n",
    "* 중심단어와 주변단어의 내적값을 모델의 예측값으로 하고, 레이블과의 오차로부터 역전파하여 중심단어와 주변단어의 임베딩 벡터값을 업데이트 함\n",
    "\n",
    "* 학습 후에는 좌측의 임베딩 행렬을 임베딩 벡터로 사용할 수도 있고, 두행렬을 더한 후 사용하거나 두행렬을 연결해서 사용할 수도 있음\n",
    "\n",
    "\n",
    "### 3. 20뉴스그룹 데이터 전처리\n"
   ]
  },
  {
   "cell_type": "code",
   "execution_count": 1,
   "id": "f797ed19",
   "metadata": {},
   "outputs": [],
   "source": [
    "import nltk\n",
    "from nltk.corpus import stopwords\n",
    "from sklearn.datasets import fetch_20newsgroups\n",
    "from tensorflow.keras.preprocessing.text import Tokenizer"
   ]
  },
  {
   "cell_type": "code",
   "execution_count": 2,
   "id": "3bd753e8",
   "metadata": {},
   "outputs": [],
   "source": [
    "## 하나의 샘플에 최소 단어 2개는 있어야 함. 왜냐하면 중심단어, 주변단어의 관계를 만들어야 하기 때문\n",
    "## 그렇지 않으면 에러 발생!!\n",
    "## 따라서 전처리 과정에서 이를 만족하지 않는 샘플은 제거"
   ]
  },
  {
   "cell_type": "code",
   "execution_count": 3,
   "id": "3dc31c5b",
   "metadata": {},
   "outputs": [
    {
     "data": {
      "text/plain": [
       "11314"
      ]
     },
     "execution_count": 3,
     "metadata": {},
     "output_type": "execute_result"
    }
   ],
   "source": [
    "dataset = fetch_20newsgroups(shuffle=True, random_state=1, remove=('headers', 'footers', 'quotes'))\n",
    "documents = dataset.data\n",
    "len(documents)"
   ]
  },
  {
   "cell_type": "code",
   "execution_count": 4,
   "id": "10b72654",
   "metadata": {},
   "outputs": [
    {
     "data": {
      "text/plain": [
       "\"Well i'm not sure about the story nad it did seem biased. What\\nI disagree with is your statement that the U.S. Media is out to\\nruin Israels reputation. That is rediculous. The U.S. media is\\nthe most pro-israeli media in the world. Having lived in Europe\\nI realize that incidences such as the one described in the\\nletter have occured. The U.S. media as a whole seem to try to\\nignore them. The U.S. is subsidizing Israels existance and the\\nEuropeans are not (at least not to the same degree). So I think\\nthat might be a reason they report more clearly on the\\natrocities.\\n\\tWhat is a shame is that in Austria, daily reports of\\nthe inhuman acts commited by Israeli soldiers and the blessing\\nreceived from the Government makes some of the Holocaust guilt\\ngo away. After all, look how the Jews are treating other races\\nwhen they got power. It is unfortunate.\\n\""
      ]
     },
     "execution_count": 4,
     "metadata": {},
     "output_type": "execute_result"
    }
   ],
   "source": [
    "documents[0]"
   ]
  },
  {
   "cell_type": "code",
   "execution_count": 7,
   "id": "727760f3",
   "metadata": {},
   "outputs": [],
   "source": [
    "### 각 문서별로 불용단어 제거하고 소문자화로 정규화 처리\n",
    "news_df = pd.DataFrame(documents, columns=['document'])\n",
    "\n",
    "## 특수 문자 제거\n",
    "news_df['clean_doc'] = news_df['document'].str.replace(\"[^a-zA-Z]\", \" \")  # 알파벳이 아닌 것은 공백으로\n",
    "\n",
    "## 길이가 3이하인 단어 제거\n",
    "news_df['clean_doc'] = news_df['clean_doc'].apply(lambda x: ' '.join([w for w in x.split() if len(w) > 3]))\n",
    "\n",
    "\n",
    "## 전체 단어를 소문자로 변환\n",
    "news_df['clean_doc'] = news_df['clean_doc'].apply(lambda x: x.lower())"
   ]
  },
  {
   "cell_type": "markdown",
   "id": "05f7895c",
   "metadata": {},
   "source": [
    "* Null 값 확인"
   ]
  },
  {
   "cell_type": "code",
   "execution_count": 8,
   "id": "8b6e40d6",
   "metadata": {},
   "outputs": [
    {
     "data": {
      "text/plain": [
       "document     0\n",
       "clean_doc    0\n",
       "dtype: int64"
      ]
     },
     "execution_count": 8,
     "metadata": {},
     "output_type": "execute_result"
    }
   ],
   "source": [
    "news_df.isnull().sum()"
   ]
  },
  {
   "cell_type": "markdown",
   "id": "c3de1f58",
   "metadata": {},
   "source": [
    "* Null 값이 없지만 빈값(empty) 유무도 확인해서 Null 값으로 변환"
   ]
  },
  {
   "cell_type": "code",
   "execution_count": 9,
   "id": "fb7e1755",
   "metadata": {},
   "outputs": [
    {
     "data": {
      "text/plain": [
       "document     218\n",
       "clean_doc    319\n",
       "dtype: int64"
      ]
     },
     "execution_count": 9,
     "metadata": {},
     "output_type": "execute_result"
    }
   ],
   "source": [
    "news_df.replace(\"\", float('NaN'), inplace=True)\n",
    "news_df.isnull().sum()"
   ]
  },
  {
   "cell_type": "code",
   "execution_count": 10,
   "id": "542b6eeb",
   "metadata": {},
   "outputs": [
    {
     "name": "stdout",
     "output_type": "stream",
     "text": [
      "총 샘플 수 : 10995\n"
     ]
    }
   ],
   "source": [
    "news_df.dropna(inplace=True)\n",
    "print('총 샘플 수 :', news_df.shape[0])"
   ]
  },
  {
   "cell_type": "code",
   "execution_count": 12,
   "id": "3193c2e6",
   "metadata": {},
   "outputs": [
    {
     "data": {
      "text/plain": [
       "179"
      ]
     },
     "execution_count": 12,
     "metadata": {},
     "output_type": "execute_result"
    }
   ],
   "source": [
    "### 불용어 제거\n",
    "stop_words = stopwords.words('english')\n",
    "len(stop_words)"
   ]
  },
  {
   "cell_type": "code",
   "execution_count": 13,
   "id": "10f7ae7f",
   "metadata": {},
   "outputs": [],
   "source": [
    "tokenized_doc = news_df['clean_doc'].apply(lambda x: x.split())\n",
    "tokenized_doc = tokenized_doc.apply(lambda x: [item for item in x if item not in stop_words])\n",
    "tokenized_doc = tokenized_doc.to_list()"
   ]
  },
  {
   "cell_type": "code",
   "execution_count": 16,
   "id": "9489dea3",
   "metadata": {},
   "outputs": [
    {
     "data": {
      "text/plain": [
       "10995"
      ]
     },
     "execution_count": 16,
     "metadata": {},
     "output_type": "execute_result"
    }
   ],
   "source": [
    "len(tokenized_doc)"
   ]
  },
  {
   "cell_type": "code",
   "execution_count": 17,
   "id": "01068647",
   "metadata": {},
   "outputs": [
    {
     "data": {
      "text/plain": [
       "55"
      ]
     },
     "execution_count": 17,
     "metadata": {},
     "output_type": "execute_result"
    }
   ],
   "source": [
    "### 단어가 1개 이하인 샘플의 인덱스를 찾기\n",
    "drop_train = [index for index, sentence in enumerate(tokenized_doc) if len(sentence) < 2]\n",
    "len(drop_train)"
   ]
  },
  {
   "cell_type": "code",
   "execution_count": 18,
   "id": "12c4d54e",
   "metadata": {},
   "outputs": [
    {
     "data": {
      "text/plain": [
       "10940"
      ]
     },
     "execution_count": 18,
     "metadata": {},
     "output_type": "execute_result"
    }
   ],
   "source": [
    "tokenized_doc = np.delete(tokenized_doc, drop_train, axis=0)\n",
    "len(tokenized_doc)"
   ]
  },
  {
   "cell_type": "code",
   "execution_count": 19,
   "id": "1a1b7453",
   "metadata": {},
   "outputs": [],
   "source": [
    "## 샘플이 정해졌고, 코퍼스를 생성하여 정수인코딩 생성(임베딩)\n",
    "tokenizer = Tokenizer()\n",
    "tokenizer.fit_on_texts(tokenized_doc)"
   ]
  },
  {
   "cell_type": "code",
   "execution_count": 20,
   "id": "37c61ff1",
   "metadata": {},
   "outputs": [
    {
     "data": {
      "text/plain": [
       "{'would': 1,\n",
       " 'people': 2,\n",
       " 'like': 3,\n",
       " 'know': 4,\n",
       " 'also': 5,\n",
       " 'think': 6,\n",
       " 'time': 7,\n",
       " 'could': 8,\n",
       " 'well': 9,\n",
       " 'good': 10,\n",
       " 'even': 11,\n",
       " 'first': 12,\n",
       " 'much': 13,\n",
       " 'many': 14,\n",
       " 'make': 15,\n",
       " 'system': 16,\n",
       " 'used': 17,\n",
       " 'right': 18,\n",
       " 'file': 19,\n",
       " 'want': 20,\n",
       " 'said': 21,\n",
       " 'anyone': 22,\n",
       " 'need': 23,\n",
       " 'work': 24,\n",
       " 'something': 25,\n",
       " 'problem': 26,\n",
       " 'since': 27,\n",
       " 'please': 28,\n",
       " 'information': 29,\n",
       " 'year': 30,\n",
       " 'back': 31,\n",
       " 'using': 32,\n",
       " 'really': 33,\n",
       " 'program': 34,\n",
       " 'going': 35,\n",
       " 'still': 36,\n",
       " 'years': 37,\n",
       " 'find': 38,\n",
       " 'believe': 39,\n",
       " 'must': 40,\n",
       " 'point': 41,\n",
       " 'last': 42,\n",
       " 'available': 43,\n",
       " 'take': 44,\n",
       " 'number': 45,\n",
       " 'space': 46,\n",
       " 'data': 47,\n",
       " 'thanks': 48,\n",
       " 'things': 49,\n",
       " 'windows': 50,\n",
       " 'government': 51,\n",
       " 'might': 52,\n",
       " 'made': 53,\n",
       " 'another': 54,\n",
       " 'mail': 55,\n",
       " 'without': 56,\n",
       " 'help': 57,\n",
       " 'better': 58,\n",
       " 'sure': 59,\n",
       " 'read': 60,\n",
       " 'never': 61,\n",
       " 'drive': 62,\n",
       " 'part': 63,\n",
       " 'long': 64,\n",
       " 'case': 65,\n",
       " 'look': 66,\n",
       " 'however': 67,\n",
       " 'power': 68,\n",
       " 'question': 69,\n",
       " 'world': 70,\n",
       " 'name': 71,\n",
       " 'come': 72,\n",
       " 'around': 73,\n",
       " 'thing': 74,\n",
       " 'probably': 75,\n",
       " 'someone': 76,\n",
       " 'fact': 77,\n",
       " 'list': 78,\n",
       " 'little': 79,\n",
       " 'anything': 80,\n",
       " 'software': 81,\n",
       " 'different': 82,\n",
       " 'true': 83,\n",
       " 'best': 84,\n",
       " 'line': 85,\n",
       " 'every': 86,\n",
       " 'least': 87,\n",
       " 'second': 88,\n",
       " 'course': 89,\n",
       " 'give': 90,\n",
       " 'state': 91,\n",
       " 'seems': 92,\n",
       " 'tell': 93,\n",
       " 'jesus': 94,\n",
       " 'though': 95,\n",
       " 'either': 96,\n",
       " 'high': 97,\n",
       " 'actually': 98,\n",
       " 'public': 99,\n",
       " 'great': 100,\n",
       " 'version': 101,\n",
       " 'enough': 102,\n",
       " 'called': 103,\n",
       " 'based': 104,\n",
       " 'send': 105,\n",
       " 'support': 106,\n",
       " 'hard': 107,\n",
       " 'possible': 108,\n",
       " 'real': 109,\n",
       " 'files': 110,\n",
       " 'game': 111,\n",
       " 'example': 112,\n",
       " 'rather': 113,\n",
       " 'life': 114,\n",
       " 'found': 115,\n",
       " 'group': 116,\n",
       " 'three': 117,\n",
       " 'window': 118,\n",
       " 'card': 119,\n",
       " 'following': 120,\n",
       " 'post': 121,\n",
       " 'call': 122,\n",
       " 'order': 123,\n",
       " 'team': 124,\n",
       " 'several': 125,\n",
       " 'computer': 126,\n",
       " 'done': 127,\n",
       " 'email': 128,\n",
       " 'next': 129,\n",
       " 'less': 130,\n",
       " 'mean': 131,\n",
       " 'problems': 132,\n",
       " 'able': 133,\n",
       " 'general': 134,\n",
       " 'nothing': 135,\n",
       " 'place': 136,\n",
       " 'control': 137,\n",
       " 'subject': 138,\n",
       " 'keep': 139,\n",
       " 'person': 140,\n",
       " 'others': 141,\n",
       " 'image': 142,\n",
       " 'free': 143,\n",
       " 'code': 144,\n",
       " 'note': 145,\n",
       " 'maybe': 146,\n",
       " 'info': 147,\n",
       " 'chip': 148,\n",
       " 'reason': 149,\n",
       " 'left': 150,\n",
       " 'looking': 151,\n",
       " 'thought': 152,\n",
       " 'says': 153,\n",
       " 'times': 154,\n",
       " 'else': 155,\n",
       " 'wrong': 156,\n",
       " 'seen': 157,\n",
       " 'source': 158,\n",
       " 'quite': 159,\n",
       " 'trying': 160,\n",
       " 'always': 161,\n",
       " 'given': 162,\n",
       " 'means': 163,\n",
       " 'disk': 164,\n",
       " 'president': 165,\n",
       " 'book': 166,\n",
       " 'idea': 167,\n",
       " 'scsi': 168,\n",
       " 'systems': 169,\n",
       " 'start': 170,\n",
       " 'current': 171,\n",
       " 'university': 172,\n",
       " 'heard': 173,\n",
       " 'already': 174,\n",
       " 'graphics': 175,\n",
       " 'news': 176,\n",
       " 'whether': 177,\n",
       " 'away': 178,\n",
       " 'address': 179,\n",
       " 'output': 180,\n",
       " 'article': 181,\n",
       " 'getting': 182,\n",
       " 'national': 183,\n",
       " 'armenian': 184,\n",
       " 'change': 185,\n",
       " 'ever': 186,\n",
       " 'local': 187,\n",
       " 'small': 188,\n",
       " 'questions': 189,\n",
       " 'play': 190,\n",
       " 'came': 191,\n",
       " 'open': 192,\n",
       " 'server': 193,\n",
       " 'standard': 194,\n",
       " 'kind': 195,\n",
       " 'large': 196,\n",
       " 'states': 197,\n",
       " 'cannot': 198,\n",
       " 'type': 199,\n",
       " 'home': 200,\n",
       " 'today': 201,\n",
       " 'children': 202,\n",
       " 'remember': 203,\n",
       " 'running': 204,\n",
       " 'works': 205,\n",
       " 'told': 206,\n",
       " 'seem': 207,\n",
       " 'message': 208,\n",
       " 'american': 209,\n",
       " 'price': 210,\n",
       " 'word': 211,\n",
       " 'games': 212,\n",
       " 'check': 213,\n",
       " 'perhaps': 214,\n",
       " 'went': 215,\n",
       " 'money': 216,\n",
       " 'whole': 217,\n",
       " 'research': 218,\n",
       " 'include': 219,\n",
       " 'john': 220,\n",
       " 'full': 221,\n",
       " 'jews': 222,\n",
       " 'israel': 223,\n",
       " 'color': 224,\n",
       " 'including': 225,\n",
       " 'encryption': 226,\n",
       " 'issue': 227,\n",
       " 'makes': 228,\n",
       " 'answer': 229,\n",
       " 'speed': 230,\n",
       " 'access': 231,\n",
       " 'human': 232,\n",
       " 'memory': 233,\n",
       " 'interested': 234,\n",
       " 'bible': 235,\n",
       " 'evidence': 236,\n",
       " 'stuff': 237,\n",
       " 'april': 238,\n",
       " 'later': 239,\n",
       " 'display': 240,\n",
       " 'hand': 241,\n",
       " 'christian': 242,\n",
       " 'important': 243,\n",
       " 'original': 244,\n",
       " 'days': 245,\n",
       " 'hope': 246,\n",
       " 'pretty': 247,\n",
       " 'programs': 248,\n",
       " 'package': 249,\n",
       " 'often': 250,\n",
       " 'saying': 251,\n",
       " 'working': 252,\n",
       " 'side': 253,\n",
       " 'armenians': 254,\n",
       " 'phone': 255,\n",
       " 'machine': 256,\n",
       " 'simply': 257,\n",
       " 'center': 258,\n",
       " 'everything': 259,\n",
       " 'matter': 260,\n",
       " 'posting': 261,\n",
       " 'although': 262,\n",
       " 'contact': 263,\n",
       " 'period': 264,\n",
       " 'show': 265,\n",
       " 'rights': 266,\n",
       " 'feel': 267,\n",
       " 'comes': 268,\n",
       " 'turkish': 269,\n",
       " 'internet': 270,\n",
       " 'area': 271,\n",
       " 'known': 272,\n",
       " 'live': 273,\n",
       " 'nasa': 274,\n",
       " 'size': 275,\n",
       " 'application': 276,\n",
       " 'technology': 277,\n",
       " 'cause': 278,\n",
       " 'cost': 279,\n",
       " 'science': 280,\n",
       " 'similar': 281,\n",
       " 'almost': 282,\n",
       " 'church': 283,\n",
       " 'write': 284,\n",
       " 'instead': 285,\n",
       " 'entry': 286,\n",
       " 'user': 287,\n",
       " 'security': 288,\n",
       " 'video': 289,\n",
       " 'provide': 290,\n",
       " 'started': 291,\n",
       " 'history': 292,\n",
       " 'agree': 293,\n",
       " 'hardware': 294,\n",
       " 'everyone': 295,\n",
       " 'understand': 296,\n",
       " 'making': 297,\n",
       " 'single': 298,\n",
       " 'took': 299,\n",
       " 'david': 300,\n",
       " 'mind': 301,\n",
       " 'tried': 302,\n",
       " 'certainly': 303,\n",
       " 'care': 304,\n",
       " 'season': 305,\n",
       " 'unless': 306,\n",
       " 'service': 307,\n",
       " 'house': 308,\n",
       " 'screen': 309,\n",
       " 'anyway': 310,\n",
       " 'within': 311,\n",
       " 'anonymous': 312,\n",
       " 'claim': 313,\n",
       " 'keys': 314,\n",
       " 'asked': 315,\n",
       " 'certain': 316,\n",
       " 'section': 317,\n",
       " 'third': 318,\n",
       " 'bill': 319,\n",
       " 'likely': 320,\n",
       " 'consider': 321,\n",
       " 'level': 322,\n",
       " 'usually': 323,\n",
       " 'groups': 324,\n",
       " 'religion': 325,\n",
       " 'city': 326,\n",
       " 'earth': 327,\n",
       " 'simple': 328,\n",
       " 'argument': 329,\n",
       " 'uses': 330,\n",
       " 'value': 331,\n",
       " 'return': 332,\n",
       " 'faith': 333,\n",
       " 'major': 334,\n",
       " 'mode': 335,\n",
       " 'guess': 336,\n",
       " 'fast': 337,\n",
       " 'press': 338,\n",
       " 'anybody': 339,\n",
       " 'clipper': 340,\n",
       " 'nice': 341,\n",
       " 'christians': 342,\n",
       " 'common': 343,\n",
       " 'driver': 344,\n",
       " 'sort': 345,\n",
       " 'difference': 346,\n",
       " 'numbers': 347,\n",
       " 'correct': 348,\n",
       " 'board': 349,\n",
       " 'talk': 350,\n",
       " 'build': 351,\n",
       " 'country': 352,\n",
       " 'includes': 353,\n",
       " 'text': 354,\n",
       " 'copy': 355,\n",
       " 'among': 356,\n",
       " 'white': 357,\n",
       " 'force': 358,\n",
       " 'week': 359,\n",
       " 'couple': 360,\n",
       " 'wanted': 361,\n",
       " 'police': 362,\n",
       " 'thus': 363,\n",
       " 'fine': 364,\n",
       " 'christ': 365,\n",
       " 'words': 366,\n",
       " 'body': 367,\n",
       " 'posted': 368,\n",
       " 'truth': 369,\n",
       " 'short': 370,\n",
       " 'lines': 371,\n",
       " 'particular': 372,\n",
       " 'clear': 373,\n",
       " 'model': 374,\n",
       " 'written': 375,\n",
       " 'motif': 376,\n",
       " 'except': 377,\n",
       " 'format': 378,\n",
       " 'deal': 379,\n",
       " 'goes': 380,\n",
       " 'especially': 381,\n",
       " 'exactly': 382,\n",
       " 'military': 383,\n",
       " 'love': 384,\n",
       " 'four': 385,\n",
       " 'killed': 386,\n",
       " 'points': 387,\n",
       " 'apple': 388,\n",
       " 'death': 389,\n",
       " 'experience': 390,\n",
       " 'exist': 391,\n",
       " 'sense': 392,\n",
       " 'hockey': 393,\n",
       " 'form': 394,\n",
       " 'taken': 395,\n",
       " 'health': 396,\n",
       " 'league': 397,\n",
       " 'sound': 398,\n",
       " 'mark': 399,\n",
       " 'test': 400,\n",
       " 'widget': 401,\n",
       " 'rate': 402,\n",
       " 'become': 403,\n",
       " 'dead': 404,\n",
       " 'discussion': 405,\n",
       " 'position': 406,\n",
       " 'players': 407,\n",
       " 'offer': 408,\n",
       " 'stop': 409,\n",
       " 'privacy': 410,\n",
       " 'private': 411,\n",
       " 'self': 412,\n",
       " 'drivers': 413,\n",
       " 'rest': 414,\n",
       " 'reading': 415,\n",
       " 'black': 416,\n",
       " 'drives': 417,\n",
       " 'interesting': 418,\n",
       " 'error': 419,\n",
       " 'advance': 420,\n",
       " 'runs': 421,\n",
       " 'directory': 422,\n",
       " 'users': 423,\n",
       " 'unix': 424,\n",
       " 'head': 425,\n",
       " 'light': 426,\n",
       " 'united': 427,\n",
       " 'talking': 428,\n",
       " 'future': 429,\n",
       " 'sources': 430,\n",
       " 'special': 431,\n",
       " 'view': 432,\n",
       " 'monitor': 433,\n",
       " 'ones': 434,\n",
       " 'jewish': 435,\n",
       " 'books': 436,\n",
       " 'built': 437,\n",
       " 'whatever': 438,\n",
       " 'women': 439,\n",
       " 'turn': 440,\n",
       " 'sell': 441,\n",
       " 'israeli': 442,\n",
       " 'process': 443,\n",
       " 'anti': 444,\n",
       " 'hell': 445,\n",
       " 'easy': 446,\n",
       " 'office': 447,\n",
       " 'bike': 448,\n",
       " 'request': 449,\n",
       " 'strong': 450,\n",
       " 'guns': 451,\n",
       " 'various': 452,\n",
       " 'stephanopoulos': 453,\n",
       " 'soon': 454,\n",
       " 'ground': 455,\n",
       " 'sale': 456,\n",
       " 'happened': 457,\n",
       " 'sorry': 458,\n",
       " 'early': 459,\n",
       " 'lost': 460,\n",
       " 'date': 461,\n",
       " 'images': 462,\n",
       " 'near': 463,\n",
       " 'crime': 464,\n",
       " 'past': 465,\n",
       " 'face': 466,\n",
       " 'needs': 467,\n",
       " 'sent': 468,\n",
       " 'business': 469,\n",
       " 'hear': 470,\n",
       " 'effect': 471,\n",
       " 'situation': 472,\n",
       " 'defense': 473,\n",
       " 'statement': 474,\n",
       " 'sometimes': 475,\n",
       " 'currently': 476,\n",
       " 'water': 477,\n",
       " 'study': 478,\n",
       " 'rules': 479,\n",
       " 'plus': 480,\n",
       " 'personal': 481,\n",
       " 'upon': 482,\n",
       " 'fire': 483,\n",
       " 'laws': 484,\n",
       " 'months': 485,\n",
       " 'washington': 486,\n",
       " 'together': 487,\n",
       " 'company': 488,\n",
       " 'controller': 489,\n",
       " 'included': 490,\n",
       " 'allow': 491,\n",
       " 'gets': 492,\n",
       " 'comp': 493,\n",
       " 'related': 494,\n",
       " 'interface': 495,\n",
       " 'specific': 496,\n",
       " 'needed': 497,\n",
       " 'cases': 498,\n",
       " 'parts': 499,\n",
       " 'assume': 500,\n",
       " 'school': 501,\n",
       " 'coming': 502,\n",
       " 'front': 503,\n",
       " 'society': 504,\n",
       " 'paul': 505,\n",
       " 'main': 506,\n",
       " 'move': 507,\n",
       " 'series': 508,\n",
       " 'kill': 509,\n",
       " 'administration': 510,\n",
       " 'input': 511,\n",
       " 'close': 512,\n",
       " 'therefore': 513,\n",
       " 'night': 514,\n",
       " 'site': 515,\n",
       " 'along': 516,\n",
       " 'recently': 517,\n",
       " 'million': 518,\n",
       " 'considered': 519,\n",
       " 'half': 520,\n",
       " 'network': 521,\n",
       " 'response': 522,\n",
       " 'worth': 523,\n",
       " 'behind': 524,\n",
       " 'result': 525,\n",
       " 'religious': 526,\n",
       " 'building': 527,\n",
       " 'looks': 528,\n",
       " 'purpose': 529,\n",
       " 'father': 530,\n",
       " 'necessary': 531,\n",
       " 'expect': 532,\n",
       " 'comments': 533,\n",
       " 'create': 534,\n",
       " 'young': 535,\n",
       " 'taking': 536,\n",
       " 'russian': 537,\n",
       " 'according': 538,\n",
       " 'legal': 539,\n",
       " 'federal': 540,\n",
       " 'happen': 541,\n",
       " 'involved': 542,\n",
       " 'members': 543,\n",
       " 'manager': 544,\n",
       " 'applications': 545,\n",
       " 'longer': 546,\n",
       " 'reply': 547,\n",
       " 'present': 548,\n",
       " 'otherwise': 549,\n",
       " 'device': 550,\n",
       " 'archive': 551,\n",
       " 'serial': 552,\n",
       " 'road': 553,\n",
       " 'court': 554,\n",
       " 'reference': 555,\n",
       " 'mouse': 556,\n",
       " 'condition': 557,\n",
       " 'details': 558,\n",
       " 'quality': 559,\n",
       " 'mentioned': 560,\n",
       " 'complete': 561,\n",
       " 'appreciated': 562,\n",
       " 'medical': 563,\n",
       " 'international': 564,\n",
       " 'friend': 565,\n",
       " 'opinion': 566,\n",
       " 'congress': 567,\n",
       " 'cards': 568,\n",
       " 'cover': 569,\n",
       " 'family': 570,\n",
       " 'weapons': 571,\n",
       " 'action': 572,\n",
       " 'york': 573,\n",
       " 'outside': 574,\n",
       " 'radio': 575,\n",
       " 'tape': 576,\n",
       " 'command': 577,\n",
       " 'design': 578,\n",
       " 'term': 579,\n",
       " 'launch': 580,\n",
       " 'report': 581,\n",
       " 'accept': 582,\n",
       " 'thinking': 583,\n",
       " 'knows': 584,\n",
       " 'asking': 585,\n",
       " 'total': 586,\n",
       " 'function': 587,\n",
       " 'performance': 588,\n",
       " 'leave': 589,\n",
       " 'knowledge': 590,\n",
       " 'cars': 591,\n",
       " 'food': 592,\n",
       " 'higher': 593,\n",
       " 'language': 594,\n",
       " 'normal': 595,\n",
       " 'library': 596,\n",
       " 'clinton': 597,\n",
       " 'development': 598,\n",
       " 'interest': 599,\n",
       " 'algorithm': 600,\n",
       " 'save': 601,\n",
       " 'market': 602,\n",
       " 'story': 603,\n",
       " 'policy': 604,\n",
       " 'product': 605,\n",
       " 'jpeg': 606,\n",
       " 'political': 607,\n",
       " 'keyboard': 608,\n",
       " 'release': 609,\n",
       " 'willing': 610,\n",
       " 'results': 611,\n",
       " 'population': 612,\n",
       " 'appears': 613,\n",
       " 'commercial': 614,\n",
       " 'required': 615,\n",
       " 'machines': 616,\n",
       " 'greek': 617,\n",
       " 'port': 618,\n",
       " 'weeks': 619,\n",
       " 'technical': 620,\n",
       " 'issues': 621,\n",
       " 'final': 622,\n",
       " 'theory': 623,\n",
       " 'engine': 624,\n",
       " 'turkey': 625,\n",
       " 'individual': 626,\n",
       " 'division': 627,\n",
       " 'indeed': 628,\n",
       " 'bits': 629,\n",
       " 'follow': 630,\n",
       " 'canada': 631,\n",
       " 'title': 632,\n",
       " 'completely': 633,\n",
       " 'received': 634,\n",
       " 'player': 635,\n",
       " 'cable': 636,\n",
       " 'gave': 637,\n",
       " 'unit': 638,\n",
       " 'field': 639,\n",
       " 'none': 640,\n",
       " 'attack': 641,\n",
       " 'newsgroup': 642,\n",
       " 'hold': 643,\n",
       " 'designed': 644,\n",
       " 'goal': 645,\n",
       " 'record': 646,\n",
       " 'useful': 647,\n",
       " 'deleted': 648,\n",
       " 'average': 649,\n",
       " 'finally': 650,\n",
       " 'require': 651,\n",
       " 'ideas': 652,\n",
       " 'looked': 653,\n",
       " 'living': 654,\n",
       " 'answers': 655,\n",
       " 'land': 656,\n",
       " 'organization': 657,\n",
       " 'avoid': 658,\n",
       " 'chips': 659,\n",
       " 'thank': 660,\n",
       " 'clearly': 661,\n",
       " 'author': 662,\n",
       " 'easily': 663,\n",
       " 'wants': 664,\n",
       " 'figure': 665,\n",
       " 'shall': 666,\n",
       " 'bought': 667,\n",
       " 'plan': 668,\n",
       " 'basic': 669,\n",
       " 'excellent': 670,\n",
       " 'shipping': 671,\n",
       " 'base': 672,\n",
       " 'nature': 673,\n",
       " 'generally': 674,\n",
       " 'mine': 675,\n",
       " 'manual': 676,\n",
       " 'doubt': 677,\n",
       " 'room': 678,\n",
       " 'existence': 679,\n",
       " 'serious': 680,\n",
       " 'teams': 681,\n",
       " 'digital': 682,\n",
       " 'modem': 683,\n",
       " 'choice': 684,\n",
       " 'secret': 685,\n",
       " 'belief': 686,\n",
       " 'break': 687,\n",
       " 'scientific': 688,\n",
       " 'mike': 689,\n",
       " 'secure': 690,\n",
       " 'enforcement': 691,\n",
       " 'steve': 692,\n",
       " 'class': 693,\n",
       " 'sounds': 694,\n",
       " 'conference': 695,\n",
       " 'entire': 696,\n",
       " 'department': 697,\n",
       " 'created': 698,\n",
       " 'chance': 699,\n",
       " 'solution': 700,\n",
       " 'carry': 701,\n",
       " 'media': 702,\n",
       " 'places': 703,\n",
       " 'directly': 704,\n",
       " 'letter': 705,\n",
       " 'volume': 706,\n",
       " 'station': 707,\n",
       " 'takes': 708,\n",
       " 'continue': 709,\n",
       " 'shot': 710,\n",
       " 'protect': 711,\n",
       " 'explain': 712,\n",
       " 'page': 713,\n",
       " 'suggest': 714,\n",
       " 'extra': 715,\n",
       " 'five': 716,\n",
       " 'safety': 717,\n",
       " 'voice': 718,\n",
       " 'reasons': 719,\n",
       " 'changed': 720,\n",
       " 'floppy': 721,\n",
       " 'street': 722,\n",
       " 'export': 723,\n",
       " 'citizens': 724,\n",
       " 'inside': 725,\n",
       " 'event': 726,\n",
       " 'installed': 727,\n",
       " 'firearms': 728,\n",
       " 'unfortunately': 729,\n",
       " 'knew': 730,\n",
       " 'wish': 731,\n",
       " 'america': 732,\n",
       " 'limited': 733,\n",
       " 'faster': 734,\n",
       " 'difficult': 735,\n",
       " 'south': 736,\n",
       " 'internal': 737,\n",
       " 'obviously': 738,\n",
       " 'context': 739,\n",
       " 'moral': 740,\n",
       " 'peace': 741,\n",
       " 'lots': 742,\n",
       " 'events': 743,\n",
       " 'meaning': 744,\n",
       " 'claims': 745,\n",
       " 'paper': 746,\n",
       " 'addition': 747,\n",
       " 'recent': 748,\n",
       " 'pick': 749,\n",
       " 'amount': 750,\n",
       " 'blood': 751,\n",
       " 'electronic': 752,\n",
       " 'chicago': 753,\n",
       " 'jobs': 754,\n",
       " 'reports': 755,\n",
       " 'usenet': 756,\n",
       " 'christianity': 757,\n",
       " 'ways': 758,\n",
       " 'decided': 759,\n",
       " 'gives': 760,\n",
       " 'published': 761,\n",
       " 'california': 762,\n",
       " 'analysis': 763,\n",
       " 'appropriate': 764,\n",
       " 'printer': 765,\n",
       " 'wide': 766,\n",
       " 'opinions': 767,\n",
       " 'apparently': 768,\n",
       " 'party': 769,\n",
       " 'define': 770,\n",
       " 'bring': 771,\n",
       " 'reasonable': 772,\n",
       " 'values': 773,\n",
       " 'official': 774,\n",
       " 'sites': 775,\n",
       " 'project': 776,\n",
       " 'child': 777,\n",
       " 'supposed': 778,\n",
       " 'exists': 779,\n",
       " 'community': 780,\n",
       " 'tools': 781,\n",
       " 'devices': 782,\n",
       " 'lord': 783,\n",
       " 'terms': 784,\n",
       " 'supports': 785,\n",
       " 'trade': 786,\n",
       " 'contains': 787,\n",
       " 'across': 788,\n",
       " 'approach': 789,\n",
       " 'transfer': 790,\n",
       " 'drug': 791,\n",
       " 'authority': 792,\n",
       " 'soviet': 793,\n",
       " 'allowed': 794,\n",
       " 'dave': 795,\n",
       " 'wire': 796,\n",
       " 'multiple': 797,\n",
       " 'freedom': 798,\n",
       " 'basis': 799,\n",
       " 'atheism': 800,\n",
       " 'month': 801,\n",
       " 'switch': 802,\n",
       " 'satellite': 803,\n",
       " 'learn': 804,\n",
       " 'held': 805,\n",
       " 'range': 806,\n",
       " 'communications': 807,\n",
       " 'wait': 808,\n",
       " 'imagine': 809,\n",
       " 'material': 810,\n",
       " 'east': 811,\n",
       " 'army': 812,\n",
       " 'possibly': 813,\n",
       " 'whose': 814,\n",
       " 'supply': 815,\n",
       " 'folks': 816,\n",
       " 'physical': 817,\n",
       " 'previous': 818,\n",
       " 'armenia': 819,\n",
       " 'writing': 820,\n",
       " 'distribution': 821,\n",
       " 'late': 822,\n",
       " 'functions': 823,\n",
       " 'requires': 824,\n",
       " 'lower': 825,\n",
       " 'mass': 826,\n",
       " 'environment': 827,\n",
       " 'escrow': 828,\n",
       " 'articles': 829,\n",
       " 'mention': 830,\n",
       " 'perfect': 831,\n",
       " 'changes': 832,\n",
       " 'provided': 833,\n",
       " 'hours': 834,\n",
       " 'picture': 835,\n",
       " 'object': 836,\n",
       " 'block': 837,\n",
       " 'pittsburgh': 838,\n",
       " 'lives': 839,\n",
       " 'insurance': 840,\n",
       " 'alone': 841,\n",
       " 'north': 842,\n",
       " 'arms': 843,\n",
       " 'turks': 844,\n",
       " 'shuttle': 845,\n",
       " 'neither': 846,\n",
       " 'worked': 847,\n",
       " 'reported': 848,\n",
       " 'wrote': 849,\n",
       " 'cross': 850,\n",
       " 'calls': 851,\n",
       " 'happy': 852,\n",
       " 'happens': 853,\n",
       " 'rule': 854,\n",
       " 'orbit': 855,\n",
       " 'appreciate': 856,\n",
       " 'prove': 857,\n",
       " 'search': 858,\n",
       " 'trouble': 859,\n",
       " 'provides': 860,\n",
       " 'products': 861,\n",
       " 'obvious': 862,\n",
       " 'brought': 863,\n",
       " 'logic': 864,\n",
       " 'basically': 865,\n",
       " 'method': 866,\n",
       " 'giving': 867,\n",
       " 'count': 868,\n",
       " 'false': 869,\n",
       " 'americans': 870,\n",
       " 'pass': 871,\n",
       " 'regular': 872,\n",
       " 'areas': 873,\n",
       " 'pain': 874,\n",
       " 'toronto': 875,\n",
       " 'door': 876,\n",
       " 'appear': 877,\n",
       " 'member': 878,\n",
       " 'shows': 879,\n",
       " 'miles': 880,\n",
       " 'middle': 881,\n",
       " 'west': 882,\n",
       " 'services': 883,\n",
       " 'played': 884,\n",
       " 'ability': 885,\n",
       " 'stand': 886,\n",
       " 'trust': 887,\n",
       " 'round': 888,\n",
       " 'watch': 889,\n",
       " 'lead': 890,\n",
       " 'bios': 891,\n",
       " 'resources': 892,\n",
       " 'added': 893,\n",
       " 'features': 894,\n",
       " 'majority': 895,\n",
       " 'equipment': 896,\n",
       " 'attempt': 897,\n",
       " 'woman': 898,\n",
       " 'education': 899,\n",
       " 'spirit': 900,\n",
       " 'arab': 901,\n",
       " 'baseball': 902,\n",
       " 'turned': 903,\n",
       " 'mother': 904,\n",
       " 'atheists': 905,\n",
       " 'option': 906,\n",
       " 'clock': 907,\n",
       " 'moon': 908,\n",
       " 'genocide': 909,\n",
       " 'types': 910,\n",
       " 'programming': 911,\n",
       " 'regarding': 912,\n",
       " 'effective': 913,\n",
       " 'comment': 914,\n",
       " 'apply': 915,\n",
       " 'gone': 916,\n",
       " 'options': 917,\n",
       " 'resource': 918,\n",
       " 'double': 919,\n",
       " 'committee': 920,\n",
       " 'names': 921,\n",
       " 'table': 922,\n",
       " 'kept': 923,\n",
       " 'account': 924,\n",
       " 'understanding': 925,\n",
       " 'developed': 926,\n",
       " 'increase': 927,\n",
       " 'died': 928,\n",
       " 'disease': 929,\n",
       " 'smith': 930,\n",
       " 'wonder': 931,\n",
       " 'mailing': 932,\n",
       " 'standards': 933,\n",
       " 'earlier': 934,\n",
       " 'amendment': 935,\n",
       " 'stated': 936,\n",
       " 'lack': 937,\n",
       " 'minutes': 938,\n",
       " 'prevent': 939,\n",
       " 'doctor': 940,\n",
       " 'companies': 941,\n",
       " 'worse': 942,\n",
       " 'posts': 943,\n",
       " 'countries': 944,\n",
       " 'reality': 945,\n",
       " 'peter': 946,\n",
       " 'allows': 947,\n",
       " 'march': 948,\n",
       " 'somewhere': 949,\n",
       " 'references': 950,\n",
       " 'costs': 951,\n",
       " 'operation': 952,\n",
       " 'holy': 953,\n",
       " 'disks': 954,\n",
       " 'stream': 955,\n",
       " 'western': 956,\n",
       " 'soldiers': 957,\n",
       " 'suspect': 958,\n",
       " 'wondering': 959,\n",
       " 'surface': 960,\n",
       " 'modern': 961,\n",
       " 'quote': 962,\n",
       " 'mission': 963,\n",
       " 'wife': 964,\n",
       " 'master': 965,\n",
       " 'arguments': 966,\n",
       " 'civil': 967,\n",
       " 'somebody': 968,\n",
       " 'expected': 969,\n",
       " 'font': 970,\n",
       " 'colors': 971,\n",
       " 'agencies': 972,\n",
       " 'intended': 973,\n",
       " 'null': 974,\n",
       " 'step': 975,\n",
       " 'blue': 976,\n",
       " 'friends': 977,\n",
       " 'stay': 978,\n",
       " 'models': 979,\n",
       " 'particularly': 980,\n",
       " 'magazine': 981,\n",
       " 'xterm': 982,\n",
       " 'natural': 983,\n",
       " 'described': 984,\n",
       " 'forget': 985,\n",
       " 'robert': 986,\n",
       " 'beyond': 987,\n",
       " 'mostly': 988,\n",
       " 'lunar': 989,\n",
       " 'poor': 990,\n",
       " 'suppose': 991,\n",
       " 'fairly': 992,\n",
       " 'james': 993,\n",
       " 'actions': 994,\n",
       " 'advice': 995,\n",
       " 'processing': 996,\n",
       " 'receive': 997,\n",
       " 'boston': 998,\n",
       " 'offers': 999,\n",
       " 'versions': 1000,\n",
       " ...}"
      ]
     },
     "execution_count": 20,
     "metadata": {},
     "output_type": "execute_result"
    }
   ],
   "source": [
    "word2idx = tokenizer.word_index\n",
    "word2idx"
   ]
  },
  {
   "cell_type": "code",
   "execution_count": 21,
   "id": "ffa2f4d7",
   "metadata": {},
   "outputs": [],
   "source": [
    "idx2word = {value: key for key, value in word2idx.items()}\n",
    "encoded = tokenizer.texts_to_sequences(tokenized_doc)"
   ]
  },
  {
   "cell_type": "code",
   "execution_count": 22,
   "id": "0e7fdd1e",
   "metadata": {},
   "outputs": [
    {
     "name": "stdout",
     "output_type": "stream",
     "text": [
      "[[9, 59, 603, 207, 3278, 1495, 474, 702, 9470, 13686, 5533, 15227, 702, 442, 702, 70, 1148, 1095, 1036, 20294, 984, 705, 4294, 702, 217, 207, 1979, 15228, 13686, 4865, 4520, 87, 1530, 6, 52, 149, 581, 661, 4406, 4988, 4866, 1920, 755, 10668, 1102, 7837, 442, 957, 10669, 634, 51, 228, 2669, 4989, 178, 66, 222, 4521, 6066, 68, 4295], [1026, 532, 2, 60, 98, 582, 107, 800, 23, 79, 4522, 333, 7838, 864, 421, 3825, 458, 6488, 458, 2700, 4730, 333, 23, 9, 4731, 7262, 186, 310, 146, 170, 642, 1260, 107, 33568, 13, 985, 33569, 33570, 9471, 11491]]\n"
     ]
    }
   ],
   "source": [
    "print(encoded[:2])"
   ]
  },
  {
   "cell_type": "code",
   "execution_count": 23,
   "id": "52c4228b",
   "metadata": {},
   "outputs": [
    {
     "name": "stdout",
     "output_type": "stream",
     "text": [
      "단어 집합의 크기 : 64277\n"
     ]
    }
   ],
   "source": [
    "vocab_size = len(word2idx) + 1\n",
    "print('단어 집합의 크기 :', vocab_size)"
   ]
  },
  {
   "cell_type": "markdown",
   "id": "41e53336",
   "metadata": {},
   "source": [
    "### 4. 네거티브 샘플링을 통한 데이터셋 구성\n",
    "* 네거티브 샘플링을 통한 데이터겟 구성\n",
    "* 이를 위해 네거티브 샘플링을 위해 Keras의 skipgrams 사용"
   ]
  },
  {
   "cell_type": "code",
   "execution_count": 24,
   "id": "1ef1d435",
   "metadata": {},
   "outputs": [],
   "source": [
    "from tensorflow.keras.preprocessing.sequence import skipgrams"
   ]
  },
  {
   "cell_type": "code",
   "execution_count": 25,
   "id": "2d688ff6",
   "metadata": {},
   "outputs": [],
   "source": [
    "## 상위 10개 뉴스그룹 샘플만 수행\n",
    "skip_gram = [skipgrams(sample, vocabulary_size=vocab_size, window_size=10) for sample in encoded[:10]]"
   ]
  },
  {
   "cell_type": "markdown",
   "id": "976bc731",
   "metadata": {},
   "source": [
    "* 결과 확인.."
   ]
  },
  {
   "cell_type": "code",
   "execution_count": 26,
   "id": "a8579c9b",
   "metadata": {},
   "outputs": [
    {
     "data": {
      "text/plain": [
       "list"
      ]
     },
     "execution_count": 26,
     "metadata": {},
     "output_type": "execute_result"
    }
   ],
   "source": [
    "type(skip_gram)"
   ]
  },
  {
   "cell_type": "code",
   "execution_count": 32,
   "id": "d58ce020",
   "metadata": {},
   "outputs": [
    {
     "data": {
      "text/plain": [
       "(2, 2220)"
      ]
     },
     "execution_count": 32,
     "metadata": {},
     "output_type": "execute_result"
    }
   ],
   "source": [
    "np.array(skip_gram[0]).shape"
   ]
  },
  {
   "cell_type": "code",
   "execution_count": 30,
   "id": "3171dcfc",
   "metadata": {},
   "outputs": [],
   "source": [
    "### 첫번째 샘플 확인\n",
    "pairs, labels = skip_gram[0][0], skip_gram[0][1]"
   ]
  },
  {
   "cell_type": "code",
   "execution_count": 36,
   "id": "4890d99c",
   "metadata": {},
   "outputs": [
    {
     "name": "stdout",
     "output_type": "stream",
     "text": [
      "(least (87)), mumath (26757)) -> 0\n",
      "(letter (705)), swii (33102)) -> 0\n",
      "(power (68)), sulfurous (36229)) -> 0\n",
      "(ruin (9470)), media (702)) -> 1\n",
      "(reason (149)), shame (4988)) -> 1\n"
     ]
    }
   ],
   "source": [
    "for i in range(5):\n",
    "    print(\"({:s} ({:d})), {:s} ({:d})) -> {:d}\".format(\n",
    "        idx2word[pairs[i][0]], pairs[i][0],\n",
    "        idx2word[pairs[i][1]], pairs[i][1],\n",
    "        labels[i]))"
   ]
  },
  {
   "cell_type": "markdown",
   "id": "da3b4df0",
   "metadata": {},
   "source": [
    "* 첫번째 뉴스그룹 샘플이 가지고 있는 pairs와 labels의 개수 출력"
   ]
  },
  {
   "cell_type": "code",
   "execution_count": 37,
   "id": "7ac53486",
   "metadata": {},
   "outputs": [
    {
     "name": "stdout",
     "output_type": "stream",
     "text": [
      "2220\n",
      "2220\n"
     ]
    }
   ],
   "source": [
    "print(len(pairs))\n",
    "print(len(labels))"
   ]
  },
  {
   "cell_type": "code",
   "execution_count": 38,
   "id": "68c021ed",
   "metadata": {},
   "outputs": [],
   "source": [
    "### 모든 샘플에 대해 네거티브 샘플링 수행\n",
    "skip_grams = [skipgrams(sample, vocabulary_size=vocab_size, window_size=10) for sample in encoded]"
   ]
  },
  {
   "cell_type": "markdown",
   "id": "d2349803",
   "metadata": {},
   "source": [
    "### 5. Skip-Gram with Negative Sampling(SGNS) 구현"
   ]
  },
  {
   "cell_type": "code",
   "execution_count": 39,
   "id": "f4ece65a",
   "metadata": {},
   "outputs": [],
   "source": [
    "from tensorflow.keras.models import Sequential, Model\n",
    "from tensorflow.keras.layers import Embedding, Reshape, Activation, Input\n",
    "from tensorflow.keras.layers import Dot\n",
    "from tensorflow.keras.utils import plot_model\n",
    "from IPython.display import SVG"
   ]
  },
  {
   "cell_type": "code",
   "execution_count": 41,
   "id": "4b6f9829",
   "metadata": {},
   "outputs": [],
   "source": [
    "embedding_dim = 100\n",
    "\n",
    "# 중심단어를 위한 임베딩 테이블\n",
    "w_inputs = Input(shape=(1, ), dtype='int32')\n",
    "word_embedding = Embedding(vocab_size, embedding_dim)(w_inputs)\n",
    "\n",
    "# 주변단어를 위한 임베딩 테이블\n",
    "c_inputs = Input(shape=(1, ), dtype='int32')\n",
    "contenxt_embedding = Embedding(vocab_size, embedding_dim)(c_inputs)"
   ]
  },
  {
   "cell_type": "markdown",
   "id": "caf50f96",
   "metadata": {},
   "source": [
    "* 각 임베딩 테이블은 중심 단어와 주변 단어 각각을 위한 임베딩 테이블이며 각 단어는 임베딩 테이블을 거쳐서 내적을 수행하고, 내적의 결과는 1 또는 0을 예측하기 위해서 시그모이드 함수를 활성화 함수로 거쳐 최종 예측값을 얻음"
   ]
  },
  {
   "cell_type": "code",
   "execution_count": 42,
   "id": "c47cbbf9",
   "metadata": {},
   "outputs": [],
   "source": [
    "dot_product = Dot(axes=2)([word_embedding, contenxt_embedding])\n",
    "dot_product = Reshape((1,), input_shape=(1, 1))(dot_product)\n",
    "output = Activation('sigmoid')(dot_product)"
   ]
  },
  {
   "cell_type": "code",
   "execution_count": 43,
   "id": "2164a553",
   "metadata": {},
   "outputs": [
    {
     "name": "stdout",
     "output_type": "stream",
     "text": [
      "Model: \"model\"\n",
      "__________________________________________________________________________________________________\n",
      " Layer (type)                   Output Shape         Param #     Connected to                     \n",
      "==================================================================================================\n",
      " input_2 (InputLayer)           [(None, 1)]          0           []                               \n",
      "                                                                                                  \n",
      " input_3 (InputLayer)           [(None, 1)]          0           []                               \n",
      "                                                                                                  \n",
      " embedding_1 (Embedding)        (None, 1, 100)       6427700     ['input_2[0][0]']                \n",
      "                                                                                                  \n",
      " embedding_2 (Embedding)        (None, 1, 100)       6427700     ['input_3[0][0]']                \n",
      "                                                                                                  \n",
      " dot (Dot)                      (None, 1, 1)         0           ['embedding_1[0][0]',            \n",
      "                                                                  'embedding_2[0][0]']            \n",
      "                                                                                                  \n",
      " reshape (Reshape)              (None, 1)            0           ['dot[0][0]']                    \n",
      "                                                                                                  \n",
      " activation (Activation)        (None, 1)            0           ['reshape[0][0]']                \n",
      "                                                                                                  \n",
      "==================================================================================================\n",
      "Total params: 12,855,400\n",
      "Trainable params: 12,855,400\n",
      "Non-trainable params: 0\n",
      "__________________________________________________________________________________________________\n"
     ]
    }
   ],
   "source": [
    "model = Model(inputs=[w_inputs, c_inputs], outputs=output)\n",
    "model.summary()"
   ]
  },
  {
   "cell_type": "code",
   "execution_count": 45,
   "id": "25f02dd6",
   "metadata": {},
   "outputs": [
    {
     "data": {
      "image/png": "[encoded data removed]",
      "text/plain": [
       "<IPython.core.display.Image object>"
      ]
     },
     "execution_count": 45,
     "metadata": {},
     "output_type": "execute_result"
    }
   ],
   "source": [
    "model.compile(loss='binary_crossentropy', optimizer='adam')\n",
    "plot_model(model, to_file='model3.png', show_shapes=True, show_layer_names=True, rankdir='TB')"
   ]
  },
  {
   "cell_type": "code",
   "execution_count": 47,
   "id": "2fefb0cd",
   "metadata": {},
   "outputs": [
    {
     "name": "stdout",
     "output_type": "stream",
     "text": [
      "Epoch:  1 Loss:  4634.834931157529\n",
      "Epoch:  2 Loss:  3671.420468274504\n",
      "Epoch:  3 Loss:  3498.741569634527\n",
      "Epoch:  4 Loss:  3298.7198454272\n",
      "Epoch:  5 Loss:  3077.201889858581\n"
     ]
    }
   ],
   "source": [
    "### 5 epoch 수행\n",
    "for epoch in range(1, 6):\n",
    "    loss = 0\n",
    "    \n",
    "    for _, elem in enumerate(skip_grams):\n",
    "        first_elem = np.array(list(zip(*elem[0]))[0], dtype='int32')\n",
    "        second_elem = np.array(list(zip(*elem[0]))[1], dtype='int32')\n",
    "        labels = np.array(elem[1], dtype='int32')\n",
    "        X = [first_elem, second_elem]\n",
    "        Y = labels\n",
    "        \n",
    "        loss += model.train_on_batch(X, Y)\n",
    "        \n",
    "    print('Epoch: ', epoch, 'Loss: ', loss)"
   ]
  },
  {
   "cell_type": "markdown",
   "id": "6a3235b2",
   "metadata": {},
   "source": [
    "### 6. 결과 확인하기\n",
    "* 학습된 임베딩 벡터들을 vector.txt에 저장\n",
    "* 그후 이를 gensim의 models.KeyedVectors.load_word2vec_format()으로 로드하면 쉽게 단어 벡터간 유사도 구할 수 있음"
   ]
  },
  {
   "cell_type": "code",
   "execution_count": 49,
   "id": "30f4d555",
   "metadata": {},
   "outputs": [],
   "source": [
    "import gensim\n",
    "\n",
    "f = open('vector.txt', 'w')\n",
    "f.write('{} {}\\n'.format(vocab_size-1, embedding_dim))\n",
    "vectors = model.get_weights()[0]\n",
    "for word, i in tokenizer.word_index.items():\n",
    "    f.write('{} {}\\n'.format(word, ' '.join(map(str, list(vectors[i, :])))))\n",
    "    \n",
    "f.close()"
   ]
  },
  {
   "cell_type": "code",
   "execution_count": 52,
   "id": "9301f57b",
   "metadata": {},
   "outputs": [],
   "source": [
    "# 모델 로드\n",
    "w2v = gensim.models.KeyedVectors.load_word2vec_format('vector.txt', binary=False)"
   ]
  },
  {
   "cell_type": "code",
   "execution_count": 53,
   "id": "76f9b5ef",
   "metadata": {},
   "outputs": [
    {
     "data": {
      "text/plain": [
       "[('wounded', 0.8571816682815552),\n",
       " ('inhabitants', 0.8244555592536926),\n",
       " ('shelling', 0.8190792202949524),\n",
       " ('villages', 0.8075593113899231),\n",
       " ('attackers', 0.8058263659477234),\n",
       " ('massacred', 0.7968713045120239),\n",
       " ('troops', 0.7967088222503662),\n",
       " ('systematic', 0.795072078704834),\n",
       " ('azeri', 0.7945154309272766),\n",
       " ('slaughtered', 0.7913991808891296)]"
      ]
     },
     "execution_count": 53,
     "metadata": {},
     "output_type": "execute_result"
    }
   ],
   "source": [
    "w2v.most_similar(positive=['soldiers'])"
   ]
  },
  {
   "cell_type": "code",
   "execution_count": 54,
   "id": "67455a85",
   "metadata": {},
   "outputs": [
    {
     "data": {
      "text/plain": [
       "[('pain', 0.6464951038360596),\n",
       " ('disease', 0.5776191353797913),\n",
       " ('albicans', 0.5742226839065552),\n",
       " ('patient', 0.552721381187439),\n",
       " ('breast', 0.5519615411758423),\n",
       " ('discourse', 0.5514885783195496),\n",
       " ('glutamate', 0.5434617400169373),\n",
       " ('medicine', 0.5330187082290649),\n",
       " ('dreams', 0.5317123532295227),\n",
       " ('motives', 0.5304092764854431)]"
      ]
     },
     "execution_count": 54,
     "metadata": {},
     "output_type": "execute_result"
    }
   ],
   "source": [
    "w2v.most_similar(positive=['doctor'])"
   ]
  },
  {
   "cell_type": "code",
   "execution_count": 55,
   "id": "6dfb66c0",
   "metadata": {},
   "outputs": [
    {
     "data": {
      "text/plain": [
       "[('filed', 0.5845722556114197),\n",
       " ('overwhelmingly', 0.5744795799255371),\n",
       " ('possession', 0.5570927262306213),\n",
       " ('crimes', 0.5551474690437317),\n",
       " ('denied', 0.5525658130645752),\n",
       " ('delighted', 0.5500600934028625),\n",
       " ('faced', 0.5475631356239319),\n",
       " ('homicides', 0.5444666147232056),\n",
       " ('refusal', 0.5373928546905518),\n",
       " ('violation', 0.5370625853538513)]"
      ]
     },
     "execution_count": 55,
     "metadata": {},
     "output_type": "execute_result"
    }
   ],
   "source": [
    "w2v.most_similar(positive=['police'])"
   ]
  },
  {
   "cell_type": "code",
   "execution_count": 56,
   "id": "114c40ec",
   "metadata": {},
   "outputs": [
    {
     "data": {
      "text/plain": [
       "[('amid', 0.7481485605239868),\n",
       " ('scattered', 0.7456890344619751),\n",
       " ('grave', 0.739753782749176),\n",
       " ('agdam', 0.7343363165855408),\n",
       " ('withdrawal', 0.731659471988678),\n",
       " ('axes', 0.7281705141067505),\n",
       " ('neighboring', 0.727035641670227),\n",
       " ('biased', 0.7227190136909485),\n",
       " ('baku', 0.7224056720733643),\n",
       " ('prison', 0.7208222150802612)]"
      ]
     },
     "execution_count": 56,
     "metadata": {},
     "output_type": "execute_result"
    }
   ],
   "source": [
    "w2v.most_similar(positive=['knife'])"
   ]
  },
  {
   "cell_type": "code",
   "execution_count": 57,
   "id": "1c36b81c",
   "metadata": {},
   "outputs": [
    {
     "data": {
      "text/plain": [
       "[('tires', 0.6581382155418396),\n",
       " ('cylinder', 0.6282305121421814),\n",
       " ('brakes', 0.6235031485557556),\n",
       " ('miles', 0.6233139038085938),\n",
       " ('honda', 0.6188914179801941),\n",
       " ('carb', 0.6066622734069824),\n",
       " ('rear', 0.5999491810798645),\n",
       " ('brake', 0.5802274942398071),\n",
       " ('toyota', 0.5785928964614868),\n",
       " ('pathfinder', 0.5732489824295044)]"
      ]
     },
     "execution_count": 57,
     "metadata": {},
     "output_type": "execute_result"
    }
   ],
   "source": [
    "w2v.most_similar(positive=['engine'])"
   ]
  },
  {
   "cell_type": "markdown",
   "id": "7b97e46d",
   "metadata": {},
   "source": [
    "참고\n",
    "http://jalammar.github.io/illustrated-word2vec/\n",
    "https://medium.com/towards-datascience/word2vec-negative-sampling-made-easy-7a1a647e07a4"
   ]
  },
  {
   "cell_type": "code",
   "execution_count": null,
   "id": "7ae46d32",
   "metadata": {},
   "outputs": [],
   "source": []
  }
 ],
 "metadata": {
  "kernelspec": {
   "display_name": "Python 3 (ipykernel)",
   "language": "python",
   "name": "python3"
  },
  "language_info": {
   "codemirror_mode": {
    "name": "ipython",
    "version": 3
   },
   "file_extension": ".py",
   "mimetype": "text/x-python",
   "name": "python",
   "nbconvert_exporter": "python",
   "pygments_lexer": "ipython3",
   "version": "3.8.8"
  }
 },
 "nbformat": 4,
 "nbformat_minor": 5
}
