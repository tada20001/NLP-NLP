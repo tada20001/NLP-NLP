{
 "cells": [
  {
   "cell_type": "markdown",
   "id": "888a1eb9",
   "metadata": {},
   "source": [
    "### 1. 유클리드 거리(Euclidean distance)\n",
    "\n",
    "* 단어의 갯수만큼의 차원 공간에 문서를 배치\n",
    "* 해당 차원의 공간에서 문서쌍간 거리를 구한다 "
   ]
  },
  {
   "cell_type": "code",
   "execution_count": 1,
   "id": "d04f0c88",
   "metadata": {},
   "outputs": [],
   "source": [
    "import numpy as np"
   ]
  },
  {
   "cell_type": "code",
   "execution_count": 2,
   "id": "8a287f7a",
   "metadata": {},
   "outputs": [],
   "source": [
    "def dist(x, y):\n",
    "    return np.sqrt(np.sum((x-y)**2))"
   ]
  },
  {
   "cell_type": "code",
   "execution_count": 3,
   "id": "78613035",
   "metadata": {},
   "outputs": [],
   "source": [
    "doc1 = np.array([2, 3, 0, 1]) # 바나나 바나나 사과 사과 사과 좋아요\n",
    "doc2 = np.array([1, 2, 3, 1]) # 저는 저는 저는 바나나 사과 사과 좋아요\n",
    "doc3 = np.array([2, 1, 2, 2]) # 저는 바나나 좋아요 저는 사과 좋아요\n",
    "docQ = np.array([1, 1, 0, 1])  # 바나나 사과 좋아요"
   ]
  },
  {
   "cell_type": "code",
   "execution_count": 4,
   "id": "1807307b",
   "metadata": {},
   "outputs": [
    {
     "name": "stdout",
     "output_type": "stream",
     "text": [
      "문서1과 문서Q와의 거리, 2.23606797749979\n",
      "문서2과 문서Q와의 거리, 3.1622776601683795\n",
      "문서3과 문서Q와의 거리, 2.449489742783178\n"
     ]
    }
   ],
   "source": [
    "print('문서1과 문서Q와의 거리,', dist(doc1, docQ))\n",
    "print('문서2과 문서Q와의 거리,', dist(doc2, docQ))\n",
    "print('문서3과 문서Q와의 거리,', dist(doc3, docQ))"
   ]
  },
  {
   "cell_type": "markdown",
   "id": "437f7501",
   "metadata": {},
   "source": [
    "* 유클리드 거리가 잛다는 것은 문서간 거리가 가깝다는 것임. 따라서 문서 1과 가장 유사한 것으로 결과 도출... 둘다 \"저는\" 단어가 없음\n",
    "\n",
    "\n",
    "### 2. 자카드 유사도(Jaccard similarity)\n",
    "\n",
    "* A와 B 두개의 집합 중, 합집합 대비 교집합 비율\n",
    "\n",
    "$$J(A,B)=\\frac{|A∩B|}{|A∪B|}=\\frac{|A∩B|}{|A|+|B|-|A∩B|}$$\n"
   ]
  },
  {
   "cell_type": "code",
   "execution_count": 5,
   "id": "cdd8c28b",
   "metadata": {},
   "outputs": [],
   "source": [
    "doc1 = \"apple banana everyone like likey watch card holder\"\n",
    "doc2 = \"apple banana coupon passport love you\""
   ]
  },
  {
   "cell_type": "code",
   "execution_count": 6,
   "id": "6b41cc72",
   "metadata": {},
   "outputs": [],
   "source": [
    "## 토큰화\n",
    "tokenized_doc1 = doc1.split()\n",
    "tokenized_doc2 = doc2.split()"
   ]
  },
  {
   "cell_type": "code",
   "execution_count": 7,
   "id": "1931bc87",
   "metadata": {},
   "outputs": [
    {
     "name": "stdout",
     "output_type": "stream",
     "text": [
      "['apple', 'banana', 'everyone', 'like', 'likey', 'watch', 'card', 'holder']\n",
      "====================================================================================================\n",
      "['apple', 'banana', 'coupon', 'passport', 'love', 'you']\n"
     ]
    }
   ],
   "source": [
    "print(tokenized_doc1)\n",
    "print(\"=\"*100)\n",
    "print(tokenized_doc2)"
   ]
  },
  {
   "cell_type": "code",
   "execution_count": 10,
   "id": "956b42fd",
   "metadata": {},
   "outputs": [
    {
     "data": {
      "text/plain": [
       "{'apple',\n",
       " 'banana',\n",
       " 'card',\n",
       " 'coupon',\n",
       " 'everyone',\n",
       " 'holder',\n",
       " 'like',\n",
       " 'likey',\n",
       " 'love',\n",
       " 'passport',\n",
       " 'watch',\n",
       " 'you'}"
      ]
     },
     "execution_count": 10,
     "metadata": {},
     "output_type": "execute_result"
    }
   ],
   "source": [
    "union = set(tokenized_doc1).union(set(tokenized_doc2))\n",
    "union"
   ]
  },
  {
   "cell_type": "code",
   "execution_count": 11,
   "id": "6e841a5d",
   "metadata": {},
   "outputs": [
    {
     "data": {
      "text/plain": [
       "{'apple', 'banana'}"
      ]
     },
     "execution_count": 11,
     "metadata": {},
     "output_type": "execute_result"
    }
   ],
   "source": [
    "intersection = set(tokenized_doc1).intersection(set(tokenized_doc2))\n",
    "intersection"
   ]
  },
  {
   "cell_type": "code",
   "execution_count": 12,
   "id": "2a3ac043",
   "metadata": {},
   "outputs": [],
   "source": [
    "jaccard_sim = len(intersection) / len(union)"
   ]
  },
  {
   "cell_type": "code",
   "execution_count": 13,
   "id": "8c152c68",
   "metadata": {},
   "outputs": [
    {
     "data": {
      "text/plain": [
       "0.16666666666666666"
      ]
     },
     "execution_count": 13,
     "metadata": {},
     "output_type": "execute_result"
    }
   ],
   "source": [
    "jaccard_sim"
   ]
  },
  {
   "cell_type": "code",
   "execution_count": null,
   "id": "2a707269",
   "metadata": {},
   "outputs": [],
   "source": []
  }
 ],
 "metadata": {
  "kernelspec": {
   "display_name": "Python 3 (ipykernel)",
   "language": "python",
   "name": "python3"
  },
  "language_info": {
   "codemirror_mode": {
    "name": "ipython",
    "version": 3
   },
   "file_extension": ".py",
   "mimetype": "text/x-python",
   "name": "python",
   "nbconvert_exporter": "python",
   "pygments_lexer": "ipython3",
   "version": "3.8.8"
  }
 },
 "nbformat": 4,
 "nbformat_minor": 5
}
