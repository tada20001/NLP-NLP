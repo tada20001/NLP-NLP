{
 "cells": [
  {
   "cell_type": "markdown",
   "id": "81fd5250",
   "metadata": {},
   "source": [
    "* n-gram과 NNLM은 고정된 갯수의 단어만을 입력으로 받아야 하는 단점이 있음\n",
    "* 그러나 시점(timestep)이라는 개념이 도입된 RNN으로 언어모델을 만든다면 입력의 길이를 고정 안해도 됨\n",
    "\n",
    "\n",
    "### 1. RNN 언어모델\n",
    "* RNNLM은 기본적으로 예측과정에서 이전 시점의 출력을 현재 시점의 입력\n",
    "* 훈련과정에서는 이전 시점의 예측 결과를 다음 시점의 입력으로 넣으면서 예측하는 것이 아니라(테스트 과정에만 적용), 'what will the fact cat sit on' 이라는 학습샘플이 있다면, 'what will the fact cat sit' 시퀀스를 모델의 입력으로 넣으면, 'will the fact cat sit on'을 예측하도록 훈련함\n",
    "* 이러한 방법을 **teacher forcing**이라고 하는데, 학습시 이 방법을 사용할 경우 모델이 t 시점에서 예측한 값을 t+1 시점에 입력으로 사용하지 않고, t 시점의 레이블, 즉 실제 알고 있는 정답을 t+1 시점의 입력으로 사용함\n",
    "* 이렇게 하는 이유는 이전 시점의 출력 예측이 잘 못되면 뒤의 예측까지 영향을 미치기 때문임\n",
    "----\n",
    "* 학습 과정 동안 출력층에서 사용하는 활성화 함수는 **softmax** 함수임\n",
    "* 손실함수는 'cross entropy' 함수 사용\n",
    "\n",
    "----\n",
    "#### RNNLM 구조 정리\n",
    "* 총 4개의 층으로 구성\n",
    "    * input layer : 현 시점의 입력 단어의 원-핫 벡터\n",
    "    * Embedding layer(linear) : 단어 집합 크기가 V이고 임베딩 벡터의 크기를 M으로 설정하면 각 입력단어의 임베딩 층은 V x M 크기의 행렬 곱이 됨\n",
    "    * Hidden layer(non-linear) : $h_{t} = tanh(W_{x} e_{t} + W_{h}h_{t−1} + b)$ 계산\n",
    "    * Output layer : $\\hat{y_{t}} = softmax(W_{y}h_{t} + b)$ 계산\n",
    "    \n",
    "    \n",
    "* 룩업 테이블의 대상이 되는 테이블인 임베딩 행렬을 $E$라고 하였을 때, 결과적으로 RNNLM에서 학습 과정에서 학습되는 가중치 행렬은 다음의 $E$, $W_x$, $W_h$, $W_y$ 4개임"
   ]
  },
  {
   "cell_type": "markdown",
   "id": "d72e1f78",
   "metadata": {},
   "source": [
    "### 2. RNN을 이용한 텍스트 생성(Text Generation using RNN)\n",
    "\n",
    "* 다대일 구조(many-to-one)의 RNN을 사용하여 텍스트 생성기 모델 만들기\n",
    "\n",
    "#### 1) 데이터 이해 및 전처리"
   ]
  },
  {
   "cell_type": "code",
   "execution_count": 1,
   "id": "4b22776f",
   "metadata": {},
   "outputs": [],
   "source": [
    "from tensorflow.keras.preprocessing.text import Tokenizer\n",
    "from tensorflow.keras.preprocessing.sequence import pad_sequences\n",
    "from tensorflow.keras.utils import to_categorical"
   ]
  },
  {
   "cell_type": "code",
   "execution_count": 2,
   "id": "1ef6bd57",
   "metadata": {},
   "outputs": [],
   "source": [
    "text = \"\"\"경마장에 있는 말이 뛰고 있다\\n\n",
    "그의 말이 법이다\\n\n",
    "가는 말이 고와야 오는 말이 곱다\\n\"\"\""
   ]
  },
  {
   "cell_type": "code",
   "execution_count": 31,
   "id": "8a5f43a9",
   "metadata": {},
   "outputs": [],
   "source": [
    "## 토큰 만들기\n",
    "tokenizer = Tokenizer()\n",
    "tokenizer.fit_on_texts([text])\n",
    "vocab_size = len(tokenizer.word_index) + 1  # 패딩을 위한 0을 고려하여 +1 추가"
   ]
  },
  {
   "cell_type": "code",
   "execution_count": 32,
   "id": "51ade707",
   "metadata": {},
   "outputs": [
    {
     "data": {
      "text/plain": [
       "12"
      ]
     },
     "execution_count": 32,
     "metadata": {},
     "output_type": "execute_result"
    }
   ],
   "source": [
    "vocab_size"
   ]
  },
  {
   "cell_type": "code",
   "execution_count": 33,
   "id": "10edf20f",
   "metadata": {},
   "outputs": [
    {
     "name": "stdout",
     "output_type": "stream",
     "text": [
      "{'말이': 1, '경마장에': 2, '있는': 3, '뛰고': 4, '있다': 5, '그의': 6, '법이다': 7, '가는': 8, '고와야': 9, '오는': 10, '곱다': 11}\n"
     ]
    }
   ],
   "source": [
    "## 인텍스 출력\n",
    "print(tokenizer.word_index)"
   ]
  },
  {
   "cell_type": "code",
   "execution_count": 34,
   "id": "6bc868a5",
   "metadata": {},
   "outputs": [
    {
     "name": "stdout",
     "output_type": "stream",
     "text": [
      "학습에 사용할 샘플의 갯수: 11\n"
     ]
    }
   ],
   "source": [
    "### 훈련 데이터 만들기\n",
    "sequences = list()\n",
    "\n",
    "for line in text.split('\\n'):\n",
    "    encoded = tokenizer.texts_to_sequences([line])[0]\n",
    "    for i in range(1, len(encoded)):\n",
    "        sequence = encoded[:i+1]  # 2개 단어부터...\n",
    "        sequences.append(sequence)\n",
    "        \n",
    "print('학습에 사용할 샘플의 갯수: %d' % len(sequences))"
   ]
  },
  {
   "cell_type": "code",
   "execution_count": 35,
   "id": "7e6cbb31",
   "metadata": {},
   "outputs": [
    {
     "name": "stdout",
     "output_type": "stream",
     "text": [
      "[[2, 3], [2, 3, 1], [2, 3, 1, 4], [2, 3, 1, 4, 5], [6, 1], [6, 1, 7], [8, 1], [8, 1, 9], [8, 1, 9, 10], [8, 1, 9, 10, 1], [8, 1, 9, 10, 1, 11]]\n"
     ]
    }
   ],
   "source": [
    "print(sequences)"
   ]
  },
  {
   "cell_type": "markdown",
   "id": "c9fc9817",
   "metadata": {},
   "source": [
    "* 위의 데이터는 아직 레이블로 사용될 단어를 분리하지 않은 훈련 데이터임\n",
    "* 예를 들어, [2, 3]은 [경마장에, 있는]에 해당되며 [2, 3, 1]은 [경마장에, 있는, 말이]에 해당됨. \n",
    "* 전체 훈련 데이터에 대해서 맨 우측에 있는 단어에 대해서만 레이블로 분리해야 함\n",
    "\n",
    "---\n",
    "* 우선 전체 샘플에 대해 길이 일치시켜야 함. 가장 긴 샘플의 길이를 기준으로 함\n",
    "* 여기서 가장 긴 샘플은 [8, 1, 9, 10, 1, 11]이고 길이가 6임"
   ]
  },
  {
   "cell_type": "code",
   "execution_count": 36,
   "id": "28bf4ffb",
   "metadata": {},
   "outputs": [
    {
     "name": "stdout",
     "output_type": "stream",
     "text": [
      "샘플의 최대 길이 : 6\n"
     ]
    }
   ],
   "source": [
    "max_len = max(len(l) for l in sequences)\n",
    "print('샘플의 최대 길이 : {}'.format(max_len))"
   ]
  },
  {
   "cell_type": "code",
   "execution_count": 37,
   "id": "c8eee879",
   "metadata": {},
   "outputs": [],
   "source": [
    "### 6으로 전체 샘플의 길이를 패딩.. 앞 부분에 0 추가\n",
    "sequences = pad_sequences(sequences, maxlen=max_len, padding='pre')"
   ]
  },
  {
   "cell_type": "code",
   "execution_count": 38,
   "id": "20a7f73b",
   "metadata": {},
   "outputs": [
    {
     "name": "stdout",
     "output_type": "stream",
     "text": [
      "[[ 0  0  0  0  2  3]\n",
      " [ 0  0  0  2  3  1]\n",
      " [ 0  0  2  3  1  4]\n",
      " [ 0  2  3  1  4  5]\n",
      " [ 0  0  0  0  6  1]\n",
      " [ 0  0  0  6  1  7]\n",
      " [ 0  0  0  0  8  1]\n",
      " [ 0  0  0  8  1  9]\n",
      " [ 0  0  8  1  9 10]\n",
      " [ 0  8  1  9 10  1]\n",
      " [ 8  1  9 10  1 11]]\n"
     ]
    }
   ],
   "source": [
    "print(sequences)"
   ]
  },
  {
   "cell_type": "code",
   "execution_count": 44,
   "id": "5d482eec",
   "metadata": {},
   "outputs": [],
   "source": [
    "### 각 샘플의 마지막 단어를 레이블로 분리\n",
    "sequences = np.array(sequences)\n",
    "X = sequences[:, :-1]\n",
    "y = sequences[:, -1]"
   ]
  },
  {
   "cell_type": "code",
   "execution_count": 45,
   "id": "4aa12daa",
   "metadata": {},
   "outputs": [
    {
     "name": "stdout",
     "output_type": "stream",
     "text": [
      "[[ 0  0  0  0  2]\n",
      " [ 0  0  0  2  3]\n",
      " [ 0  0  2  3  1]\n",
      " [ 0  2  3  1  4]\n",
      " [ 0  0  0  0  6]\n",
      " [ 0  0  0  6  1]\n",
      " [ 0  0  0  0  8]\n",
      " [ 0  0  0  8  1]\n",
      " [ 0  0  8  1  9]\n",
      " [ 0  8  1  9 10]\n",
      " [ 8  1  9 10  1]]\n"
     ]
    }
   ],
   "source": [
    "print(X)"
   ]
  },
  {
   "cell_type": "code",
   "execution_count": 46,
   "id": "43610262",
   "metadata": {},
   "outputs": [
    {
     "name": "stdout",
     "output_type": "stream",
     "text": [
      "[ 3  1  4  5  1  7  1  9 10  1 11]\n"
     ]
    }
   ],
   "source": [
    "print(y)"
   ]
  },
  {
   "cell_type": "code",
   "execution_count": 47,
   "id": "ba28e989",
   "metadata": {},
   "outputs": [
    {
     "name": "stdout",
     "output_type": "stream",
     "text": [
      "[[0. 0. 0. 1. 0. 0. 0. 0. 0. 0. 0. 0.]\n",
      " [0. 1. 0. 0. 0. 0. 0. 0. 0. 0. 0. 0.]\n",
      " [0. 0. 0. 0. 1. 0. 0. 0. 0. 0. 0. 0.]\n",
      " [0. 0. 0. 0. 0. 1. 0. 0. 0. 0. 0. 0.]\n",
      " [0. 1. 0. 0. 0. 0. 0. 0. 0. 0. 0. 0.]\n",
      " [0. 0. 0. 0. 0. 0. 0. 1. 0. 0. 0. 0.]\n",
      " [0. 1. 0. 0. 0. 0. 0. 0. 0. 0. 0. 0.]\n",
      " [0. 0. 0. 0. 0. 0. 0. 0. 0. 1. 0. 0.]\n",
      " [0. 0. 0. 0. 0. 0. 0. 0. 0. 0. 1. 0.]\n",
      " [0. 1. 0. 0. 0. 0. 0. 0. 0. 0. 0. 0.]\n",
      " [0. 0. 0. 0. 0. 0. 0. 0. 0. 0. 0. 1.]]\n"
     ]
    }
   ],
   "source": [
    "### one-hot encoding\n",
    "y = to_categorical(y, num_classes=vocab_size)\n",
    "print(y)"
   ]
  },
  {
   "cell_type": "markdown",
   "id": "4a63b1fc",
   "metadata": {},
   "source": [
    "#### 2) 모델 설계 및 학습"
   ]
  },
  {
   "cell_type": "code",
   "execution_count": 48,
   "id": "65975d9d",
   "metadata": {},
   "outputs": [],
   "source": [
    "from tensorflow.keras.models import Sequential\n",
    "from tensorflow.keras.layers import Embedding, Dense, SimpleRNN"
   ]
  },
  {
   "cell_type": "code",
   "execution_count": 49,
   "id": "e4536045",
   "metadata": {},
   "outputs": [
    {
     "data": {
      "text/plain": [
       "(11, 6)"
      ]
     },
     "execution_count": 49,
     "metadata": {},
     "output_type": "execute_result"
    }
   ],
   "source": [
    "sequences.shape"
   ]
  },
  {
   "cell_type": "code",
   "execution_count": 50,
   "id": "f45b4061",
   "metadata": {},
   "outputs": [
    {
     "name": "stdout",
     "output_type": "stream",
     "text": [
      "Epoch 1/200\n",
      "1/1 - 1s - loss: 2.4942 - accuracy: 0.0000e+00 - 1s/epoch - 1s/step\n",
      "Epoch 2/200\n",
      "1/1 - 0s - loss: 2.4825 - accuracy: 0.0909 - 5ms/epoch - 5ms/step\n",
      "Epoch 3/200\n",
      "1/1 - 0s - loss: 2.4707 - accuracy: 0.0909 - 6ms/epoch - 6ms/step\n",
      "Epoch 4/200\n",
      "1/1 - 0s - loss: 2.4589 - accuracy: 0.0909 - 4ms/epoch - 4ms/step\n",
      "Epoch 5/200\n",
      "1/1 - 0s - loss: 2.4468 - accuracy: 0.2727 - 4ms/epoch - 4ms/step\n",
      "Epoch 6/200\n",
      "1/1 - 0s - loss: 2.4344 - accuracy: 0.2727 - 5ms/epoch - 5ms/step\n",
      "Epoch 7/200\n",
      "1/1 - 0s - loss: 2.4216 - accuracy: 0.2727 - 5ms/epoch - 5ms/step\n",
      "Epoch 8/200\n",
      "1/1 - 0s - loss: 2.4083 - accuracy: 0.2727 - 4ms/epoch - 4ms/step\n",
      "Epoch 9/200\n",
      "1/1 - 0s - loss: 2.3944 - accuracy: 0.3636 - 5ms/epoch - 5ms/step\n",
      "Epoch 10/200\n",
      "1/1 - 0s - loss: 2.3799 - accuracy: 0.3636 - 5ms/epoch - 5ms/step\n",
      "Epoch 11/200\n",
      "1/1 - 0s - loss: 2.3647 - accuracy: 0.3636 - 4ms/epoch - 4ms/step\n",
      "Epoch 12/200\n",
      "1/1 - 0s - loss: 2.3487 - accuracy: 0.3636 - 3ms/epoch - 3ms/step\n",
      "Epoch 13/200\n",
      "1/1 - 0s - loss: 2.3317 - accuracy: 0.3636 - 5ms/epoch - 5ms/step\n",
      "Epoch 14/200\n",
      "1/1 - 0s - loss: 2.3139 - accuracy: 0.3636 - 4ms/epoch - 4ms/step\n",
      "Epoch 15/200\n",
      "1/1 - 0s - loss: 2.2951 - accuracy: 0.3636 - 3ms/epoch - 3ms/step\n",
      "Epoch 16/200\n",
      "1/1 - 0s - loss: 2.2753 - accuracy: 0.3636 - 4ms/epoch - 4ms/step\n",
      "Epoch 17/200\n",
      "1/1 - 0s - loss: 2.2545 - accuracy: 0.3636 - 4ms/epoch - 4ms/step\n",
      "Epoch 18/200\n",
      "1/1 - 0s - loss: 2.2327 - accuracy: 0.3636 - 5ms/epoch - 5ms/step\n",
      "Epoch 19/200\n",
      "1/1 - 0s - loss: 2.2100 - accuracy: 0.3636 - 4ms/epoch - 4ms/step\n",
      "Epoch 20/200\n",
      "1/1 - 0s - loss: 2.1864 - accuracy: 0.3636 - 4ms/epoch - 4ms/step\n",
      "Epoch 21/200\n",
      "1/1 - 0s - loss: 2.1622 - accuracy: 0.3636 - 4ms/epoch - 4ms/step\n",
      "Epoch 22/200\n",
      "1/1 - 0s - loss: 2.1374 - accuracy: 0.3636 - 4ms/epoch - 4ms/step\n",
      "Epoch 23/200\n",
      "1/1 - 0s - loss: 2.1123 - accuracy: 0.3636 - 4ms/epoch - 4ms/step\n",
      "Epoch 24/200\n",
      "1/1 - 0s - loss: 2.0871 - accuracy: 0.3636 - 4ms/epoch - 4ms/step\n",
      "Epoch 25/200\n",
      "1/1 - 0s - loss: 2.0623 - accuracy: 0.3636 - 2ms/epoch - 2ms/step\n",
      "Epoch 26/200\n",
      "1/1 - 0s - loss: 2.0381 - accuracy: 0.3636 - 6ms/epoch - 6ms/step\n",
      "Epoch 27/200\n",
      "1/1 - 0s - loss: 2.0149 - accuracy: 0.3636 - 5ms/epoch - 5ms/step\n",
      "Epoch 28/200\n",
      "1/1 - 0s - loss: 1.9932 - accuracy: 0.3636 - 4ms/epoch - 4ms/step\n",
      "Epoch 29/200\n",
      "1/1 - 0s - loss: 1.9731 - accuracy: 0.3636 - 4ms/epoch - 4ms/step\n",
      "Epoch 30/200\n",
      "1/1 - 0s - loss: 1.9550 - accuracy: 0.3636 - 4ms/epoch - 4ms/step\n",
      "Epoch 31/200\n",
      "1/1 - 0s - loss: 1.9388 - accuracy: 0.3636 - 4ms/epoch - 4ms/step\n",
      "Epoch 32/200\n",
      "1/1 - 0s - loss: 1.9245 - accuracy: 0.3636 - 5ms/epoch - 5ms/step\n",
      "Epoch 33/200\n",
      "1/1 - 0s - loss: 1.9116 - accuracy: 0.3636 - 2ms/epoch - 2ms/step\n",
      "Epoch 34/200\n",
      "1/1 - 0s - loss: 1.8998 - accuracy: 0.3636 - 3ms/epoch - 3ms/step\n",
      "Epoch 35/200\n",
      "1/1 - 0s - loss: 1.8886 - accuracy: 0.3636 - 3ms/epoch - 3ms/step\n",
      "Epoch 36/200\n",
      "1/1 - 0s - loss: 1.8775 - accuracy: 0.3636 - 5ms/epoch - 5ms/step\n",
      "Epoch 37/200\n",
      "1/1 - 0s - loss: 1.8663 - accuracy: 0.3636 - 4ms/epoch - 4ms/step\n",
      "Epoch 38/200\n",
      "1/1 - 0s - loss: 1.8547 - accuracy: 0.3636 - 5ms/epoch - 5ms/step\n",
      "Epoch 39/200\n",
      "1/1 - 0s - loss: 1.8426 - accuracy: 0.3636 - 4ms/epoch - 4ms/step\n",
      "Epoch 40/200\n",
      "1/1 - 0s - loss: 1.8302 - accuracy: 0.3636 - 5ms/epoch - 5ms/step\n",
      "Epoch 41/200\n",
      "1/1 - 0s - loss: 1.8175 - accuracy: 0.3636 - 5ms/epoch - 5ms/step\n",
      "Epoch 42/200\n",
      "1/1 - 0s - loss: 1.8047 - accuracy: 0.3636 - 3ms/epoch - 3ms/step\n",
      "Epoch 43/200\n",
      "1/1 - 0s - loss: 1.7920 - accuracy: 0.3636 - 3ms/epoch - 3ms/step\n",
      "Epoch 44/200\n",
      "1/1 - 0s - loss: 1.7793 - accuracy: 0.3636 - 3ms/epoch - 3ms/step\n",
      "Epoch 45/200\n",
      "1/1 - 0s - loss: 1.7669 - accuracy: 0.3636 - 4ms/epoch - 4ms/step\n",
      "Epoch 46/200\n",
      "1/1 - 0s - loss: 1.7546 - accuracy: 0.3636 - 4ms/epoch - 4ms/step\n",
      "Epoch 47/200\n",
      "1/1 - 0s - loss: 1.7422 - accuracy: 0.3636 - 4ms/epoch - 4ms/step\n",
      "Epoch 48/200\n",
      "1/1 - 0s - loss: 1.7298 - accuracy: 0.3636 - 4ms/epoch - 4ms/step\n",
      "Epoch 49/200\n",
      "1/1 - 0s - loss: 1.7170 - accuracy: 0.3636 - 4ms/epoch - 4ms/step\n",
      "Epoch 50/200\n",
      "1/1 - 0s - loss: 1.7038 - accuracy: 0.4545 - 3ms/epoch - 3ms/step\n",
      "Epoch 51/200\n",
      "1/1 - 0s - loss: 1.6901 - accuracy: 0.4545 - 5ms/epoch - 5ms/step\n",
      "Epoch 52/200\n",
      "1/1 - 0s - loss: 1.6757 - accuracy: 0.4545 - 4ms/epoch - 4ms/step\n",
      "Epoch 53/200\n",
      "1/1 - 0s - loss: 1.6606 - accuracy: 0.4545 - 3ms/epoch - 3ms/step\n",
      "Epoch 54/200\n",
      "1/1 - 0s - loss: 1.6449 - accuracy: 0.4545 - 5ms/epoch - 5ms/step\n",
      "Epoch 55/200\n",
      "1/1 - 0s - loss: 1.6286 - accuracy: 0.4545 - 3ms/epoch - 3ms/step\n",
      "Epoch 56/200\n",
      "1/1 - 0s - loss: 1.6117 - accuracy: 0.4545 - 4ms/epoch - 4ms/step\n",
      "Epoch 57/200\n",
      "1/1 - 0s - loss: 1.5943 - accuracy: 0.4545 - 4ms/epoch - 4ms/step\n",
      "Epoch 58/200\n",
      "1/1 - 0s - loss: 1.5765 - accuracy: 0.4545 - 4ms/epoch - 4ms/step\n",
      "Epoch 59/200\n",
      "1/1 - 0s - loss: 1.5583 - accuracy: 0.4545 - 4ms/epoch - 4ms/step\n",
      "Epoch 60/200\n",
      "1/1 - 0s - loss: 1.5399 - accuracy: 0.4545 - 6ms/epoch - 6ms/step\n",
      "Epoch 61/200\n",
      "1/1 - 0s - loss: 1.5213 - accuracy: 0.4545 - 3ms/epoch - 3ms/step\n",
      "Epoch 62/200\n",
      "1/1 - 0s - loss: 1.5025 - accuracy: 0.4545 - 4ms/epoch - 4ms/step\n",
      "Epoch 63/200\n",
      "1/1 - 0s - loss: 1.4836 - accuracy: 0.5455 - 4ms/epoch - 4ms/step\n",
      "Epoch 64/200\n",
      "1/1 - 0s - loss: 1.4646 - accuracy: 0.5455 - 3ms/epoch - 3ms/step\n",
      "Epoch 65/200\n",
      "1/1 - 0s - loss: 1.4455 - accuracy: 0.5455 - 3ms/epoch - 3ms/step\n",
      "Epoch 66/200\n",
      "1/1 - 0s - loss: 1.4264 - accuracy: 0.5455 - 3ms/epoch - 3ms/step\n",
      "Epoch 67/200\n",
      "1/1 - 0s - loss: 1.4073 - accuracy: 0.5455 - 3ms/epoch - 3ms/step\n",
      "Epoch 68/200\n",
      "1/1 - 0s - loss: 1.3883 - accuracy: 0.5455 - 2ms/epoch - 2ms/step\n",
      "Epoch 69/200\n",
      "1/1 - 0s - loss: 1.3693 - accuracy: 0.5455 - 4ms/epoch - 4ms/step\n",
      "Epoch 70/200\n",
      "1/1 - 0s - loss: 1.3504 - accuracy: 0.5455 - 3ms/epoch - 3ms/step\n",
      "Epoch 71/200\n",
      "1/1 - 0s - loss: 1.3317 - accuracy: 0.5455 - 4ms/epoch - 4ms/step\n",
      "Epoch 72/200\n",
      "1/1 - 0s - loss: 1.3131 - accuracy: 0.5455 - 4ms/epoch - 4ms/step\n",
      "Epoch 73/200\n",
      "1/1 - 0s - loss: 1.2948 - accuracy: 0.5455 - 3ms/epoch - 3ms/step\n",
      "Epoch 74/200\n",
      "1/1 - 0s - loss: 1.2767 - accuracy: 0.6364 - 4ms/epoch - 4ms/step\n",
      "Epoch 75/200\n",
      "1/1 - 0s - loss: 1.2587 - accuracy: 0.6364 - 4ms/epoch - 4ms/step\n",
      "Epoch 76/200\n",
      "1/1 - 0s - loss: 1.2411 - accuracy: 0.6364 - 2ms/epoch - 2ms/step\n",
      "Epoch 77/200\n",
      "1/1 - 0s - loss: 1.2237 - accuracy: 0.7273 - 3ms/epoch - 3ms/step\n",
      "Epoch 78/200\n",
      "1/1 - 0s - loss: 1.2065 - accuracy: 0.7273 - 3ms/epoch - 3ms/step\n",
      "Epoch 79/200\n",
      "1/1 - 0s - loss: 1.1895 - accuracy: 0.7273 - 4ms/epoch - 4ms/step\n",
      "Epoch 80/200\n",
      "1/1 - 0s - loss: 1.1728 - accuracy: 0.7273 - 4ms/epoch - 4ms/step\n",
      "Epoch 81/200\n",
      "1/1 - 0s - loss: 1.1563 - accuracy: 0.7273 - 4ms/epoch - 4ms/step\n",
      "Epoch 82/200\n",
      "1/1 - 0s - loss: 1.1400 - accuracy: 0.7273 - 4ms/epoch - 4ms/step\n",
      "Epoch 83/200\n",
      "1/1 - 0s - loss: 1.1239 - accuracy: 0.7273 - 4ms/epoch - 4ms/step\n",
      "Epoch 84/200\n",
      "1/1 - 0s - loss: 1.1080 - accuracy: 0.7273 - 3ms/epoch - 3ms/step\n",
      "Epoch 85/200\n",
      "1/1 - 0s - loss: 1.0924 - accuracy: 0.7273 - 3ms/epoch - 3ms/step\n",
      "Epoch 86/200\n",
      "1/1 - 0s - loss: 1.0769 - accuracy: 0.7273 - 4ms/epoch - 4ms/step\n",
      "Epoch 87/200\n",
      "1/1 - 0s - loss: 1.0618 - accuracy: 0.7273 - 4ms/epoch - 4ms/step\n",
      "Epoch 88/200\n",
      "1/1 - 0s - loss: 1.0468 - accuracy: 0.7273 - 3ms/epoch - 3ms/step\n",
      "Epoch 89/200\n",
      "1/1 - 0s - loss: 1.0321 - accuracy: 0.7273 - 5ms/epoch - 5ms/step\n",
      "Epoch 90/200\n",
      "1/1 - 0s - loss: 1.0176 - accuracy: 0.7273 - 4ms/epoch - 4ms/step\n",
      "Epoch 91/200\n",
      "1/1 - 0s - loss: 1.0033 - accuracy: 0.7273 - 4ms/epoch - 4ms/step\n",
      "Epoch 92/200\n",
      "1/1 - 0s - loss: 0.9892 - accuracy: 0.7273 - 5ms/epoch - 5ms/step\n",
      "Epoch 93/200\n",
      "1/1 - 0s - loss: 0.9754 - accuracy: 0.7273 - 4ms/epoch - 4ms/step\n",
      "Epoch 94/200\n",
      "1/1 - 0s - loss: 0.9617 - accuracy: 0.7273 - 4ms/epoch - 4ms/step\n",
      "Epoch 95/200\n",
      "1/1 - 0s - loss: 0.9483 - accuracy: 0.7273 - 4ms/epoch - 4ms/step\n",
      "Epoch 96/200\n",
      "1/1 - 0s - loss: 0.9350 - accuracy: 0.7273 - 3ms/epoch - 3ms/step\n",
      "Epoch 97/200\n",
      "1/1 - 0s - loss: 0.9219 - accuracy: 0.7273 - 3ms/epoch - 3ms/step\n",
      "Epoch 98/200\n",
      "1/1 - 0s - loss: 0.9090 - accuracy: 0.7273 - 4ms/epoch - 4ms/step\n",
      "Epoch 99/200\n",
      "1/1 - 0s - loss: 0.8962 - accuracy: 0.7273 - 5ms/epoch - 5ms/step\n",
      "Epoch 100/200\n",
      "1/1 - 0s - loss: 0.8837 - accuracy: 0.7273 - 4ms/epoch - 4ms/step\n",
      "Epoch 101/200\n",
      "1/1 - 0s - loss: 0.8713 - accuracy: 0.7273 - 3ms/epoch - 3ms/step\n",
      "Epoch 102/200\n",
      "1/1 - 0s - loss: 0.8591 - accuracy: 0.7273 - 3ms/epoch - 3ms/step\n",
      "Epoch 103/200\n",
      "1/1 - 0s - loss: 0.8471 - accuracy: 0.7273 - 4ms/epoch - 4ms/step\n",
      "Epoch 104/200\n",
      "1/1 - 0s - loss: 0.8352 - accuracy: 0.7273 - 4ms/epoch - 4ms/step\n"
     ]
    },
    {
     "name": "stdout",
     "output_type": "stream",
     "text": [
      "Epoch 105/200\n",
      "1/1 - 0s - loss: 0.8235 - accuracy: 0.7273 - 4ms/epoch - 4ms/step\n",
      "Epoch 106/200\n",
      "1/1 - 0s - loss: 0.8119 - accuracy: 0.7273 - 4ms/epoch - 4ms/step\n",
      "Epoch 107/200\n",
      "1/1 - 0s - loss: 0.8004 - accuracy: 0.7273 - 4ms/epoch - 4ms/step\n",
      "Epoch 108/200\n",
      "1/1 - 0s - loss: 0.7891 - accuracy: 0.7273 - 3ms/epoch - 3ms/step\n",
      "Epoch 109/200\n",
      "1/1 - 0s - loss: 0.7779 - accuracy: 0.7273 - 4ms/epoch - 4ms/step\n",
      "Epoch 110/200\n",
      "1/1 - 0s - loss: 0.7669 - accuracy: 0.7273 - 3ms/epoch - 3ms/step\n",
      "Epoch 111/200\n",
      "1/1 - 0s - loss: 0.7560 - accuracy: 0.7273 - 2ms/epoch - 2ms/step\n",
      "Epoch 112/200\n",
      "1/1 - 0s - loss: 0.7452 - accuracy: 0.7273 - 3ms/epoch - 3ms/step\n",
      "Epoch 113/200\n",
      "1/1 - 0s - loss: 0.7345 - accuracy: 0.7273 - 4ms/epoch - 4ms/step\n",
      "Epoch 114/200\n",
      "1/1 - 0s - loss: 0.7240 - accuracy: 0.7273 - 4ms/epoch - 4ms/step\n",
      "Epoch 115/200\n",
      "1/1 - 0s - loss: 0.7136 - accuracy: 0.8182 - 4ms/epoch - 4ms/step\n",
      "Epoch 116/200\n",
      "1/1 - 0s - loss: 0.7033 - accuracy: 0.8182 - 3ms/epoch - 3ms/step\n",
      "Epoch 117/200\n",
      "1/1 - 0s - loss: 0.6931 - accuracy: 0.8182 - 3ms/epoch - 3ms/step\n",
      "Epoch 118/200\n",
      "1/1 - 0s - loss: 0.6830 - accuracy: 0.8182 - 4ms/epoch - 4ms/step\n",
      "Epoch 119/200\n",
      "1/1 - 0s - loss: 0.6731 - accuracy: 0.8182 - 3ms/epoch - 3ms/step\n",
      "Epoch 120/200\n",
      "1/1 - 0s - loss: 0.6632 - accuracy: 0.8182 - 3ms/epoch - 3ms/step\n",
      "Epoch 121/200\n",
      "1/1 - 0s - loss: 0.6535 - accuracy: 0.8182 - 3ms/epoch - 3ms/step\n",
      "Epoch 122/200\n",
      "1/1 - 0s - loss: 0.6439 - accuracy: 0.8182 - 3ms/epoch - 3ms/step\n",
      "Epoch 123/200\n",
      "1/1 - 0s - loss: 0.6344 - accuracy: 0.8182 - 3ms/epoch - 3ms/step\n",
      "Epoch 124/200\n",
      "1/1 - 0s - loss: 0.6250 - accuracy: 0.8182 - 3ms/epoch - 3ms/step\n",
      "Epoch 125/200\n",
      "1/1 - 0s - loss: 0.6157 - accuracy: 0.8182 - 3ms/epoch - 3ms/step\n",
      "Epoch 126/200\n",
      "1/1 - 0s - loss: 0.6065 - accuracy: 0.8182 - 5ms/epoch - 5ms/step\n",
      "Epoch 127/200\n",
      "1/1 - 0s - loss: 0.5974 - accuracy: 0.8182 - 4ms/epoch - 4ms/step\n",
      "Epoch 128/200\n",
      "1/1 - 0s - loss: 0.5884 - accuracy: 0.8182 - 4ms/epoch - 4ms/step\n",
      "Epoch 129/200\n",
      "1/1 - 0s - loss: 0.5795 - accuracy: 0.8182 - 6ms/epoch - 6ms/step\n",
      "Epoch 130/200\n",
      "1/1 - 0s - loss: 0.5708 - accuracy: 0.8182 - 3ms/epoch - 3ms/step\n",
      "Epoch 131/200\n",
      "1/1 - 0s - loss: 0.5621 - accuracy: 0.8182 - 3ms/epoch - 3ms/step\n",
      "Epoch 132/200\n",
      "1/1 - 0s - loss: 0.5535 - accuracy: 0.8182 - 4ms/epoch - 4ms/step\n",
      "Epoch 133/200\n",
      "1/1 - 0s - loss: 0.5450 - accuracy: 0.8182 - 3ms/epoch - 3ms/step\n",
      "Epoch 134/200\n",
      "1/1 - 0s - loss: 0.5367 - accuracy: 0.8182 - 3ms/epoch - 3ms/step\n",
      "Epoch 135/200\n",
      "1/1 - 0s - loss: 0.5284 - accuracy: 0.8182 - 4ms/epoch - 4ms/step\n",
      "Epoch 136/200\n",
      "1/1 - 0s - loss: 0.5202 - accuracy: 0.8182 - 3ms/epoch - 3ms/step\n",
      "Epoch 137/200\n",
      "1/1 - 0s - loss: 0.5121 - accuracy: 0.9091 - 5ms/epoch - 5ms/step\n",
      "Epoch 138/200\n",
      "1/1 - 0s - loss: 0.5041 - accuracy: 0.9091 - 4ms/epoch - 4ms/step\n",
      "Epoch 139/200\n",
      "1/1 - 0s - loss: 0.4962 - accuracy: 0.9091 - 3ms/epoch - 3ms/step\n",
      "Epoch 140/200\n",
      "1/1 - 0s - loss: 0.4885 - accuracy: 0.9091 - 3ms/epoch - 3ms/step\n",
      "Epoch 141/200\n",
      "1/1 - 0s - loss: 0.4808 - accuracy: 0.9091 - 3ms/epoch - 3ms/step\n",
      "Epoch 142/200\n",
      "1/1 - 0s - loss: 0.4732 - accuracy: 0.9091 - 3ms/epoch - 3ms/step\n",
      "Epoch 143/200\n",
      "1/1 - 0s - loss: 0.4657 - accuracy: 0.9091 - 3ms/epoch - 3ms/step\n",
      "Epoch 144/200\n",
      "1/1 - 0s - loss: 0.4583 - accuracy: 0.9091 - 4ms/epoch - 4ms/step\n",
      "Epoch 145/200\n",
      "1/1 - 0s - loss: 0.4510 - accuracy: 0.9091 - 4ms/epoch - 4ms/step\n",
      "Epoch 146/200\n",
      "1/1 - 0s - loss: 0.4438 - accuracy: 0.9091 - 4ms/epoch - 4ms/step\n",
      "Epoch 147/200\n",
      "1/1 - 0s - loss: 0.4367 - accuracy: 0.9091 - 4ms/epoch - 4ms/step\n",
      "Epoch 148/200\n",
      "1/1 - 0s - loss: 0.4297 - accuracy: 0.9091 - 4ms/epoch - 4ms/step\n",
      "Epoch 149/200\n",
      "1/1 - 0s - loss: 0.4229 - accuracy: 0.9091 - 4ms/epoch - 4ms/step\n",
      "Epoch 150/200\n",
      "1/1 - 0s - loss: 0.4161 - accuracy: 0.9091 - 3ms/epoch - 3ms/step\n",
      "Epoch 151/200\n",
      "1/1 - 0s - loss: 0.4094 - accuracy: 0.9091 - 4ms/epoch - 4ms/step\n",
      "Epoch 152/200\n",
      "1/1 - 0s - loss: 0.4028 - accuracy: 0.9091 - 3ms/epoch - 3ms/step\n",
      "Epoch 153/200\n",
      "1/1 - 0s - loss: 0.3963 - accuracy: 0.9091 - 3ms/epoch - 3ms/step\n",
      "Epoch 154/200\n",
      "1/1 - 0s - loss: 0.3899 - accuracy: 0.9091 - 3ms/epoch - 3ms/step\n",
      "Epoch 155/200\n",
      "1/1 - 0s - loss: 0.3837 - accuracy: 0.9091 - 4ms/epoch - 4ms/step\n",
      "Epoch 156/200\n",
      "1/1 - 0s - loss: 0.3775 - accuracy: 0.9091 - 3ms/epoch - 3ms/step\n",
      "Epoch 157/200\n",
      "1/1 - 0s - loss: 0.3714 - accuracy: 0.9091 - 3ms/epoch - 3ms/step\n",
      "Epoch 158/200\n",
      "1/1 - 0s - loss: 0.3654 - accuracy: 0.9091 - 3ms/epoch - 3ms/step\n",
      "Epoch 159/200\n",
      "1/1 - 0s - loss: 0.3596 - accuracy: 0.9091 - 3ms/epoch - 3ms/step\n",
      "Epoch 160/200\n",
      "1/1 - 0s - loss: 0.3538 - accuracy: 0.9091 - 3ms/epoch - 3ms/step\n",
      "Epoch 161/200\n",
      "1/1 - 0s - loss: 0.3481 - accuracy: 0.9091 - 4ms/epoch - 4ms/step\n",
      "Epoch 162/200\n",
      "1/1 - 0s - loss: 0.3425 - accuracy: 0.9091 - 4ms/epoch - 4ms/step\n",
      "Epoch 163/200\n",
      "1/1 - 0s - loss: 0.3370 - accuracy: 0.9091 - 3ms/epoch - 3ms/step\n",
      "Epoch 164/200\n",
      "1/1 - 0s - loss: 0.3317 - accuracy: 0.9091 - 3ms/epoch - 3ms/step\n",
      "Epoch 165/200\n",
      "1/1 - 0s - loss: 0.3264 - accuracy: 0.9091 - 3ms/epoch - 3ms/step\n",
      "Epoch 166/200\n",
      "1/1 - 0s - loss: 0.3212 - accuracy: 0.9091 - 3ms/epoch - 3ms/step\n",
      "Epoch 167/200\n",
      "1/1 - 0s - loss: 0.3161 - accuracy: 0.9091 - 3ms/epoch - 3ms/step\n",
      "Epoch 168/200\n",
      "1/1 - 0s - loss: 0.3111 - accuracy: 0.9091 - 3ms/epoch - 3ms/step\n",
      "Epoch 169/200\n",
      "1/1 - 0s - loss: 0.3062 - accuracy: 0.9091 - 4ms/epoch - 4ms/step\n",
      "Epoch 170/200\n",
      "1/1 - 0s - loss: 0.3014 - accuracy: 0.9091 - 4ms/epoch - 4ms/step\n",
      "Epoch 171/200\n",
      "1/1 - 0s - loss: 0.2967 - accuracy: 0.9091 - 3ms/epoch - 3ms/step\n",
      "Epoch 172/200\n",
      "1/1 - 0s - loss: 0.2920 - accuracy: 0.9091 - 5ms/epoch - 5ms/step\n",
      "Epoch 173/200\n",
      "1/1 - 0s - loss: 0.2875 - accuracy: 0.9091 - 4ms/epoch - 4ms/step\n",
      "Epoch 174/200\n",
      "1/1 - 0s - loss: 0.2830 - accuracy: 0.9091 - 3ms/epoch - 3ms/step\n",
      "Epoch 175/200\n",
      "1/1 - 0s - loss: 0.2786 - accuracy: 0.9091 - 5ms/epoch - 5ms/step\n",
      "Epoch 176/200\n",
      "1/1 - 0s - loss: 0.2743 - accuracy: 0.9091 - 5ms/epoch - 5ms/step\n",
      "Epoch 177/200\n",
      "1/1 - 0s - loss: 0.2701 - accuracy: 0.9091 - 3ms/epoch - 3ms/step\n",
      "Epoch 178/200\n",
      "1/1 - 0s - loss: 0.2660 - accuracy: 0.9091 - 6ms/epoch - 6ms/step\n",
      "Epoch 179/200\n",
      "1/1 - 0s - loss: 0.2619 - accuracy: 0.9091 - 4ms/epoch - 4ms/step\n",
      "Epoch 180/200\n",
      "1/1 - 0s - loss: 0.2580 - accuracy: 0.9091 - 4ms/epoch - 4ms/step\n",
      "Epoch 181/200\n",
      "1/1 - 0s - loss: 0.2541 - accuracy: 0.9091 - 4ms/epoch - 4ms/step\n",
      "Epoch 182/200\n",
      "1/1 - 0s - loss: 0.2502 - accuracy: 0.9091 - 4ms/epoch - 4ms/step\n",
      "Epoch 183/200\n",
      "1/1 - 0s - loss: 0.2465 - accuracy: 0.9091 - 5ms/epoch - 5ms/step\n",
      "Epoch 184/200\n",
      "1/1 - 0s - loss: 0.2428 - accuracy: 0.9091 - 3ms/epoch - 3ms/step\n",
      "Epoch 185/200\n",
      "1/1 - 0s - loss: 0.2392 - accuracy: 0.9091 - 3ms/epoch - 3ms/step\n",
      "Epoch 186/200\n",
      "1/1 - 0s - loss: 0.2357 - accuracy: 0.9091 - 4ms/epoch - 4ms/step\n",
      "Epoch 187/200\n",
      "1/1 - 0s - loss: 0.2322 - accuracy: 0.9091 - 3ms/epoch - 3ms/step\n",
      "Epoch 188/200\n",
      "1/1 - 0s - loss: 0.2288 - accuracy: 0.9091 - 5ms/epoch - 5ms/step\n",
      "Epoch 189/200\n",
      "1/1 - 0s - loss: 0.2254 - accuracy: 0.9091 - 4ms/epoch - 4ms/step\n",
      "Epoch 190/200\n",
      "1/1 - 0s - loss: 0.2221 - accuracy: 0.9091 - 4ms/epoch - 4ms/step\n",
      "Epoch 191/200\n",
      "1/1 - 0s - loss: 0.2189 - accuracy: 0.9091 - 4ms/epoch - 4ms/step\n",
      "Epoch 192/200\n",
      "1/1 - 0s - loss: 0.2157 - accuracy: 0.9091 - 4ms/epoch - 4ms/step\n",
      "Epoch 193/200\n",
      "1/1 - 0s - loss: 0.2126 - accuracy: 0.9091 - 4ms/epoch - 4ms/step\n",
      "Epoch 194/200\n",
      "1/1 - 0s - loss: 0.2096 - accuracy: 1.0000 - 4ms/epoch - 4ms/step\n",
      "Epoch 195/200\n",
      "1/1 - 0s - loss: 0.2066 - accuracy: 1.0000 - 3ms/epoch - 3ms/step\n",
      "Epoch 196/200\n",
      "1/1 - 0s - loss: 0.2036 - accuracy: 1.0000 - 5ms/epoch - 5ms/step\n",
      "Epoch 197/200\n",
      "1/1 - 0s - loss: 0.2007 - accuracy: 1.0000 - 3ms/epoch - 3ms/step\n",
      "Epoch 198/200\n",
      "1/1 - 0s - loss: 0.1979 - accuracy: 1.0000 - 4ms/epoch - 4ms/step\n",
      "Epoch 199/200\n",
      "1/1 - 0s - loss: 0.1951 - accuracy: 1.0000 - 5ms/epoch - 5ms/step\n",
      "Epoch 200/200\n",
      "1/1 - 0s - loss: 0.1923 - accuracy: 1.0000 - 3ms/epoch - 3ms/step\n"
     ]
    },
    {
     "data": {
      "text/plain": [
       "<keras.callbacks.History at 0x189a1a54d00>"
      ]
     },
     "execution_count": 50,
     "metadata": {},
     "output_type": "execute_result"
    }
   ],
   "source": [
    "embedding_dim = 10  \n",
    "hidden_units = 32 ## 은닉상태 크기 지정\n",
    "\n",
    "model = Sequential()\n",
    "model.add(Embedding(vocab_size+1, embedding_dim))\n",
    "model.add(SimpleRNN(hidden_units))\n",
    "model.add(Dense(vocab_size, activation='softmax'))\n",
    "model.compile(loss='categorical_crossentropy', optimizer='adam', metrics=['accuracy'])\n",
    "model.fit(X, y, epochs=200, verbose=2)"
   ]
  },
  {
   "cell_type": "code",
   "execution_count": 51,
   "id": "efe4f69a",
   "metadata": {},
   "outputs": [
    {
     "data": {
      "text/plain": [
       "((11, 5), (11, 12))"
      ]
     },
     "execution_count": 51,
     "metadata": {},
     "output_type": "execute_result"
    }
   ],
   "source": [
    "X.shape, y.shape"
   ]
  },
  {
   "cell_type": "code",
   "execution_count": 52,
   "id": "31b3d2ec",
   "metadata": {},
   "outputs": [],
   "source": [
    "#### 모델이 정확하게 예측하고 있는지 문장을 생성하는 함수를 만들어서 출력\n",
    "\n",
    "def sentence_generation(model, tokenizer, current_word, n):\n",
    "    init_word = current_word\n",
    "    sentence = ''\n",
    "    \n",
    "    # n번 반복\n",
    "    for _ in range(n):\n",
    "        encoded = tokenizer.texts_to_sequences([current_word])[0]\n",
    "        encoded = pad_sequences([encoded], maxlen=5, padding='pre')\n",
    "        # 입력한 X(현재 단어)에 대해 Y를 예측하고 Y(예측단어)를 result에 저장\n",
    "        \n",
    "        result = model.predict(encoded, verbose=0)\n",
    "        result = np.argmax(result, axis=1)\n",
    "        \n",
    "        for word, index in tokenizer.word_index.items():  \n",
    "            if index == result:  ### 결과 값과 동일하다면 stop\n",
    "                break\n",
    "                \n",
    "        current_word = current_word + ' ' + word # 현재 단어 + ' ' + 예측 단어를 현재 단어로 변경\n",
    "        \n",
    "        # 예측단어를 문장에 저장\n",
    "        sentence = sentence + ' ' + word\n",
    "        \n",
    "    sentence = init_word + sentence\n",
    "    return sentence            "
   ]
  },
  {
   "cell_type": "markdown",
   "id": "bb305cba",
   "metadata": {},
   "source": [
    "* 입력된 단어로부터 다음 단어를 예측해서 문장을 생성하는 함수"
   ]
  },
  {
   "cell_type": "code",
   "execution_count": 53,
   "id": "49c2f872",
   "metadata": {},
   "outputs": [
    {
     "name": "stdout",
     "output_type": "stream",
     "text": [
      "경마장에 있는 말이 뛰고 있다\n"
     ]
    }
   ],
   "source": [
    "print(sentence_generation(model, tokenizer, '경마장에', 4))"
   ]
  },
  {
   "cell_type": "code",
   "execution_count": 54,
   "id": "a53e405b",
   "metadata": {},
   "outputs": [
    {
     "name": "stdout",
     "output_type": "stream",
     "text": [
      "그의 말이 법이다\n"
     ]
    }
   ],
   "source": [
    "print(sentence_generation(model, tokenizer, '그의', 2))"
   ]
  },
  {
   "cell_type": "code",
   "execution_count": 55,
   "id": "aea92f3d",
   "metadata": {},
   "outputs": [
    {
     "name": "stdout",
     "output_type": "stream",
     "text": [
      "가는 말이 고와야 오는 말이 곱다\n"
     ]
    }
   ],
   "source": [
    "print(sentence_generation(model, tokenizer, '가는', 5))"
   ]
  },
  {
   "cell_type": "markdown",
   "id": "c174a0a2",
   "metadata": {},
   "source": [
    "### 3. LSTM을 이용하여 텍스트 생성하기\n",
    "\n",
    "#### 1) 데이터에 대한 이해와 전처리\n",
    "\n",
    "* 뉴욕타임즈 기사 제목 \n",
    "https://www.kaggle.com/aashita/nyt-comments"
   ]
  },
  {
   "cell_type": "code",
   "execution_count": 56,
   "id": "9533a274",
   "metadata": {},
   "outputs": [],
   "source": [
    "from string import punctuation\n",
    "from tensorflow.keras.preprocessing.text import Tokenizer\n",
    "from tensorflow.keras.preprocessing.sequence import pad_sequences\n",
    "from tensorflow.keras.utils import to_categorical"
   ]
  },
  {
   "cell_type": "code",
   "execution_count": 57,
   "id": "b6dfed67",
   "metadata": {},
   "outputs": [
    {
     "data": {
      "text/html": [
       "<div>\n",
       "<style scoped>\n",
       "    .dataframe tbody tr th:only-of-type {\n",
       "        vertical-align: middle;\n",
       "    }\n",
       "\n",
       "    .dataframe tbody tr th {\n",
       "        vertical-align: top;\n",
       "    }\n",
       "\n",
       "    .dataframe thead th {\n",
       "        text-align: right;\n",
       "    }\n",
       "</style>\n",
       "<table border=\"1\" class=\"dataframe\">\n",
       "  <thead>\n",
       "    <tr style=\"text-align: right;\">\n",
       "      <th></th>\n",
       "      <th>articleID</th>\n",
       "      <th>articleWordCount</th>\n",
       "      <th>byline</th>\n",
       "      <th>documentType</th>\n",
       "      <th>headline</th>\n",
       "      <th>keywords</th>\n",
       "      <th>multimedia</th>\n",
       "      <th>newDesk</th>\n",
       "      <th>printPage</th>\n",
       "      <th>pubDate</th>\n",
       "      <th>sectionName</th>\n",
       "      <th>snippet</th>\n",
       "      <th>source</th>\n",
       "      <th>typeOfMaterial</th>\n",
       "      <th>webURL</th>\n",
       "    </tr>\n",
       "  </thead>\n",
       "  <tbody>\n",
       "    <tr>\n",
       "      <th>0</th>\n",
       "      <td>5adf6684068401528a2aa69b</td>\n",
       "      <td>781</td>\n",
       "      <td>By JOHN BRANCH</td>\n",
       "      <td>article</td>\n",
       "      <td>Former N.F.L. Cheerleaders’ Settlement Offer: ...</td>\n",
       "      <td>['Workplace Hazards and Violations', 'Football...</td>\n",
       "      <td>68</td>\n",
       "      <td>Sports</td>\n",
       "      <td>0</td>\n",
       "      <td>2018-04-24 17:16:49</td>\n",
       "      <td>Pro Football</td>\n",
       "      <td>“I understand that they could meet with us, pa...</td>\n",
       "      <td>The New York Times</td>\n",
       "      <td>News</td>\n",
       "      <td>https://www.nytimes.com/2018/04/24/sports/foot...</td>\n",
       "    </tr>\n",
       "    <tr>\n",
       "      <th>1</th>\n",
       "      <td>5adf653f068401528a2aa697</td>\n",
       "      <td>656</td>\n",
       "      <td>By LISA FRIEDMAN</td>\n",
       "      <td>article</td>\n",
       "      <td>E.P.A. to Unveil a New Rule. Its Effect: Less ...</td>\n",
       "      <td>['Environmental Protection Agency', 'Pruitt, S...</td>\n",
       "      <td>68</td>\n",
       "      <td>Climate</td>\n",
       "      <td>0</td>\n",
       "      <td>2018-04-24 17:11:21</td>\n",
       "      <td>Unknown</td>\n",
       "      <td>The agency plans to publish a new regulation T...</td>\n",
       "      <td>The New York Times</td>\n",
       "      <td>News</td>\n",
       "      <td>https://www.nytimes.com/2018/04/24/climate/epa...</td>\n",
       "    </tr>\n",
       "    <tr>\n",
       "      <th>2</th>\n",
       "      <td>5adf4626068401528a2aa628</td>\n",
       "      <td>2427</td>\n",
       "      <td>By PETE WELLS</td>\n",
       "      <td>article</td>\n",
       "      <td>The New Noma, Explained</td>\n",
       "      <td>['Restaurants', 'Noma (Copenhagen, Restaurant)...</td>\n",
       "      <td>66</td>\n",
       "      <td>Dining</td>\n",
       "      <td>0</td>\n",
       "      <td>2018-04-24 14:58:44</td>\n",
       "      <td>Unknown</td>\n",
       "      <td>What’s it like to eat at the second incarnatio...</td>\n",
       "      <td>The New York Times</td>\n",
       "      <td>News</td>\n",
       "      <td>https://www.nytimes.com/2018/04/24/dining/noma...</td>\n",
       "    </tr>\n",
       "    <tr>\n",
       "      <th>3</th>\n",
       "      <td>5adf40d2068401528a2aa619</td>\n",
       "      <td>626</td>\n",
       "      <td>By JULIE HIRSCHFELD DAVIS and PETER BAKER</td>\n",
       "      <td>article</td>\n",
       "      <td>Unknown</td>\n",
       "      <td>['Macron, Emmanuel (1977- )', 'Trump, Donald J...</td>\n",
       "      <td>68</td>\n",
       "      <td>Washington</td>\n",
       "      <td>0</td>\n",
       "      <td>2018-04-24 14:35:57</td>\n",
       "      <td>Europe</td>\n",
       "      <td>President Trump welcomed President Emmanuel Ma...</td>\n",
       "      <td>The New York Times</td>\n",
       "      <td>News</td>\n",
       "      <td>https://www.nytimes.com/2018/04/24/world/europ...</td>\n",
       "    </tr>\n",
       "    <tr>\n",
       "      <th>4</th>\n",
       "      <td>5adf3d64068401528a2aa60f</td>\n",
       "      <td>815</td>\n",
       "      <td>By IAN AUSTEN and DAN BILEFSKY</td>\n",
       "      <td>article</td>\n",
       "      <td>Unknown</td>\n",
       "      <td>['Toronto, Ontario, Attack (April, 2018)', 'Mu...</td>\n",
       "      <td>68</td>\n",
       "      <td>Foreign</td>\n",
       "      <td>0</td>\n",
       "      <td>2018-04-24 14:21:21</td>\n",
       "      <td>Canada</td>\n",
       "      <td>Alek Minassian, 25, a resident of Toronto’s Ri...</td>\n",
       "      <td>The New York Times</td>\n",
       "      <td>News</td>\n",
       "      <td>https://www.nytimes.com/2018/04/24/world/canad...</td>\n",
       "    </tr>\n",
       "  </tbody>\n",
       "</table>\n",
       "</div>"
      ],
      "text/plain": [
       "                  articleID  articleWordCount  \\\n",
       "0  5adf6684068401528a2aa69b               781   \n",
       "1  5adf653f068401528a2aa697               656   \n",
       "2  5adf4626068401528a2aa628              2427   \n",
       "3  5adf40d2068401528a2aa619               626   \n",
       "4  5adf3d64068401528a2aa60f               815   \n",
       "\n",
       "                                      byline documentType  \\\n",
       "0                             By JOHN BRANCH      article   \n",
       "1                           By LISA FRIEDMAN      article   \n",
       "2                              By PETE WELLS      article   \n",
       "3  By JULIE HIRSCHFELD DAVIS and PETER BAKER      article   \n",
       "4             By IAN AUSTEN and DAN BILEFSKY      article   \n",
       "\n",
       "                                            headline  \\\n",
       "0  Former N.F.L. Cheerleaders’ Settlement Offer: ...   \n",
       "1  E.P.A. to Unveil a New Rule. Its Effect: Less ...   \n",
       "2                            The New Noma, Explained   \n",
       "3                                            Unknown   \n",
       "4                                            Unknown   \n",
       "\n",
       "                                            keywords  multimedia     newDesk  \\\n",
       "0  ['Workplace Hazards and Violations', 'Football...          68      Sports   \n",
       "1  ['Environmental Protection Agency', 'Pruitt, S...          68     Climate   \n",
       "2  ['Restaurants', 'Noma (Copenhagen, Restaurant)...          66      Dining   \n",
       "3  ['Macron, Emmanuel (1977- )', 'Trump, Donald J...          68  Washington   \n",
       "4  ['Toronto, Ontario, Attack (April, 2018)', 'Mu...          68     Foreign   \n",
       "\n",
       "   printPage              pubDate   sectionName  \\\n",
       "0          0  2018-04-24 17:16:49  Pro Football   \n",
       "1          0  2018-04-24 17:11:21       Unknown   \n",
       "2          0  2018-04-24 14:58:44       Unknown   \n",
       "3          0  2018-04-24 14:35:57        Europe   \n",
       "4          0  2018-04-24 14:21:21        Canada   \n",
       "\n",
       "                                             snippet              source  \\\n",
       "0  “I understand that they could meet with us, pa...  The New York Times   \n",
       "1  The agency plans to publish a new regulation T...  The New York Times   \n",
       "2  What’s it like to eat at the second incarnatio...  The New York Times   \n",
       "3  President Trump welcomed President Emmanuel Ma...  The New York Times   \n",
       "4  Alek Minassian, 25, a resident of Toronto’s Ri...  The New York Times   \n",
       "\n",
       "  typeOfMaterial                                             webURL  \n",
       "0           News  https://www.nytimes.com/2018/04/24/sports/foot...  \n",
       "1           News  https://www.nytimes.com/2018/04/24/climate/epa...  \n",
       "2           News  https://www.nytimes.com/2018/04/24/dining/noma...  \n",
       "3           News  https://www.nytimes.com/2018/04/24/world/europ...  \n",
       "4           News  https://www.nytimes.com/2018/04/24/world/canad...  "
      ]
     },
     "execution_count": 57,
     "metadata": {},
     "output_type": "execute_result"
    }
   ],
   "source": [
    "df = pd.read_csv('ArticlesApril2018.csv')\n",
    "df.head()"
   ]
  },
  {
   "cell_type": "code",
   "execution_count": 58,
   "id": "6fad047e",
   "metadata": {},
   "outputs": [
    {
     "data": {
      "text/plain": [
       "(1324, 15)"
      ]
     },
     "execution_count": 58,
     "metadata": {},
     "output_type": "execute_result"
    }
   ],
   "source": [
    "df.shape"
   ]
  },
  {
   "cell_type": "code",
   "execution_count": 59,
   "id": "c7df273c",
   "metadata": {},
   "outputs": [
    {
     "data": {
      "text/plain": [
       "Index(['articleID', 'articleWordCount', 'byline', 'documentType', 'headline',\n",
       "       'keywords', 'multimedia', 'newDesk', 'printPage', 'pubDate',\n",
       "       'sectionName', 'snippet', 'source', 'typeOfMaterial', 'webURL'],\n",
       "      dtype='object')"
      ]
     },
     "execution_count": 59,
     "metadata": {},
     "output_type": "execute_result"
    }
   ],
   "source": [
    "df.columns"
   ]
  },
  {
   "cell_type": "code",
   "execution_count": 60,
   "id": "b49173f6",
   "metadata": {},
   "outputs": [
    {
     "name": "stdout",
     "output_type": "stream",
     "text": [
      "0\n"
     ]
    }
   ],
   "source": [
    "## NUll 값 확인\n",
    "print(df['headline'].isnull().sum())"
   ]
  },
  {
   "cell_type": "code",
   "execution_count": 61,
   "id": "e0ab85c2",
   "metadata": {},
   "outputs": [
    {
     "data": {
      "text/plain": [
       "['Former N.F.L. Cheerleaders’ Settlement Offer: $1 and a Meeting With Goodell',\n",
       " 'E.P.A. to Unveil a New Rule. Its Effect: Less Science in Policymaking.',\n",
       " 'The New Noma, Explained',\n",
       " 'Unknown',\n",
       " 'Unknown']"
      ]
     },
     "execution_count": 61,
     "metadata": {},
     "output_type": "execute_result"
    }
   ],
   "source": [
    "## headline 리스트 만들기\n",
    "headlines = []\n",
    "headlines.extend(list(df.headline.values))\n",
    "headlines[:5]"
   ]
  },
  {
   "cell_type": "code",
   "execution_count": 62,
   "id": "7aafd7d2",
   "metadata": {},
   "outputs": [
    {
     "name": "stdout",
     "output_type": "stream",
     "text": [
      "노이즈 값 제거 후 샘플의 갯수: 1214\n"
     ]
    }
   ],
   "source": [
    "### UnKnown 값 제거\n",
    "headlines = [line for line in headlines if line != 'Unknown']\n",
    "print('노이즈 값 제거 후 샘플의 갯수: {}'.format(len(headlines)))"
   ]
  },
  {
   "cell_type": "code",
   "execution_count": 63,
   "id": "9d0e2d26",
   "metadata": {},
   "outputs": [
    {
     "data": {
      "text/plain": [
       "['Former N.F.L. Cheerleaders’ Settlement Offer: $1 and a Meeting With Goodell',\n",
       " 'E.P.A. to Unveil a New Rule. Its Effect: Less Science in Policymaking.',\n",
       " 'The New Noma, Explained',\n",
       " 'How a Bag of Texas Dirt  Became a Times Tradition',\n",
       " 'Is School a Place for Self-Expression?']"
      ]
     },
     "execution_count": 63,
     "metadata": {},
     "output_type": "execute_result"
    }
   ],
   "source": [
    "headlines[:5]"
   ]
  },
  {
   "cell_type": "code",
   "execution_count": 64,
   "id": "a8f91829",
   "metadata": {},
   "outputs": [
    {
     "data": {
      "text/plain": [
       "['former nfl cheerleaders settlement offer 1 and a meeting with goodell',\n",
       " 'epa to unveil a new rule its effect less science in policymaking',\n",
       " 'the new noma explained',\n",
       " 'how a bag of texas dirt  became a times tradition',\n",
       " 'is school a place for selfexpression']"
      ]
     },
     "execution_count": 64,
     "metadata": {},
     "output_type": "execute_result"
    }
   ],
   "source": [
    "### 데이터 전처리 : 마침표 제거, 소문자 변환\n",
    "def repreprocessing(raw_sentence):\n",
    "    preprocessed_sentence = raw_sentence.encode('utf-8').decode('ascii', 'ignore')\n",
    "    return ''.join(word for word in preprocessed_sentence if word not in punctuation).lower()\n",
    "\n",
    "preprocessed_headline = [repreprocessing(line) for line in headlines]\n",
    "preprocessed_headline[:5]"
   ]
  },
  {
   "cell_type": "code",
   "execution_count": null,
   "id": "32ce1b0d",
   "metadata": {},
   "outputs": [],
   "source": []
  }
 ],
 "metadata": {
  "kernelspec": {
   "display_name": "Python 3 (ipykernel)",
   "language": "python",
   "name": "python3"
  },
  "language_info": {
   "codemirror_mode": {
    "name": "ipython",
    "version": 3
   },
   "file_extension": ".py",
   "mimetype": "text/x-python",
   "name": "python",
   "nbconvert_exporter": "python",
   "pygments_lexer": "ipython3",
   "version": "3.8.8"
  }
 },
 "nbformat": 4,
 "nbformat_minor": 5
}
